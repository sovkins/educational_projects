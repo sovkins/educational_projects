{
 "cells": [
  {
   "cell_type": "markdown",
   "metadata": {},
   "source": [
    "# Выбор локации для скважины"
   ]
  },
  {
   "cell_type": "markdown",
   "metadata": {},
   "source": [
    "Необходимо решить, где бурить новую скважину.По данным проб нефти из 3х регионов, в каждом из которых 10 000 местораждений. Для каждого месторождения представлены данные о качестве нефти и объёме запасов. Для определения региона , где добыча принесет наибольшую прибыль, построить модель машинного обучения, и оценить возмужную прибыль и риски.\n",
    "\n"
   ]
  },
  {
   "cell_type": "markdown",
   "metadata": {},
   "source": [
    "## Загрузка и подготовка данных"
   ]
  },
  {
   "cell_type": "code",
   "execution_count": 35,
   "metadata": {},
   "outputs": [],
   "source": [
    "import pandas as pd\n",
    "from sklearn.model_selection import train_test_split\n",
    "from sklearn.linear_model import LinearRegression\n",
    "from sklearn.metrics import mean_squared_error\n",
    "from numpy.random import RandomState\n",
    "from scipy import stats as st"
   ]
  },
  {
   "cell_type": "code",
   "execution_count": 36,
   "metadata": {},
   "outputs": [
    {
     "name": "stdout",
     "output_type": "stream",
     "text": [
      "<class 'pandas.core.frame.DataFrame'>\n",
      "RangeIndex: 100000 entries, 0 to 99999\n",
      "Data columns (total 5 columns):\n",
      "id         100000 non-null object\n",
      "f0         100000 non-null float64\n",
      "f1         100000 non-null float64\n",
      "f2         100000 non-null float64\n",
      "product    100000 non-null float64\n",
      "dtypes: float64(4), object(1)\n",
      "memory usage: 3.8+ MB\n"
     ]
    }
   ],
   "source": [
    "df = pd.read_csv('/datasets/geo_data_0.csv')\n",
    "df.info()"
   ]
  },
  {
   "cell_type": "code",
   "execution_count": 37,
   "metadata": {},
   "outputs": [
    {
     "name": "stdout",
     "output_type": "stream",
     "text": [
      "<class 'pandas.core.frame.DataFrame'>\n",
      "RangeIndex: 100000 entries, 0 to 99999\n",
      "Data columns (total 5 columns):\n",
      "id         100000 non-null object\n",
      "f0         100000 non-null float64\n",
      "f1         100000 non-null float64\n",
      "f2         100000 non-null float64\n",
      "product    100000 non-null float64\n",
      "dtypes: float64(4), object(1)\n",
      "memory usage: 3.8+ MB\n"
     ]
    }
   ],
   "source": [
    "df_1 = pd.read_csv('/datasets/geo_data_1.csv')\n",
    "df_1.info()"
   ]
  },
  {
   "cell_type": "code",
   "execution_count": 38,
   "metadata": {},
   "outputs": [
    {
     "name": "stdout",
     "output_type": "stream",
     "text": [
      "<class 'pandas.core.frame.DataFrame'>\n",
      "RangeIndex: 100000 entries, 0 to 99999\n",
      "Data columns (total 5 columns):\n",
      "id         100000 non-null object\n",
      "f0         100000 non-null float64\n",
      "f1         100000 non-null float64\n",
      "f2         100000 non-null float64\n",
      "product    100000 non-null float64\n",
      "dtypes: float64(4), object(1)\n",
      "memory usage: 3.8+ MB\n"
     ]
    }
   ],
   "source": [
    "df_2 = pd.read_csv('/datasets/geo_data_2.csv')\n",
    "df_2.info()"
   ]
  },
  {
   "cell_type": "code",
   "execution_count": 39,
   "metadata": {},
   "outputs": [
    {
     "data": {
      "text/html": [
       "<div>\n",
       "<style scoped>\n",
       "    .dataframe tbody tr th:only-of-type {\n",
       "        vertical-align: middle;\n",
       "    }\n",
       "\n",
       "    .dataframe tbody tr th {\n",
       "        vertical-align: top;\n",
       "    }\n",
       "\n",
       "    .dataframe thead th {\n",
       "        text-align: right;\n",
       "    }\n",
       "</style>\n",
       "<table border=\"1\" class=\"dataframe\">\n",
       "  <thead>\n",
       "    <tr style=\"text-align: right;\">\n",
       "      <th></th>\n",
       "      <th>id</th>\n",
       "      <th>f0</th>\n",
       "      <th>f1</th>\n",
       "      <th>f2</th>\n",
       "      <th>product</th>\n",
       "    </tr>\n",
       "  </thead>\n",
       "  <tbody>\n",
       "    <tr>\n",
       "      <td>0</td>\n",
       "      <td>txEyH</td>\n",
       "      <td>0.705745</td>\n",
       "      <td>-0.497823</td>\n",
       "      <td>1.221170</td>\n",
       "      <td>105.280062</td>\n",
       "    </tr>\n",
       "    <tr>\n",
       "      <td>1</td>\n",
       "      <td>2acmU</td>\n",
       "      <td>1.334711</td>\n",
       "      <td>-0.340164</td>\n",
       "      <td>4.365080</td>\n",
       "      <td>73.037750</td>\n",
       "    </tr>\n",
       "    <tr>\n",
       "      <td>2</td>\n",
       "      <td>409Wp</td>\n",
       "      <td>1.022732</td>\n",
       "      <td>0.151990</td>\n",
       "      <td>1.419926</td>\n",
       "      <td>85.265647</td>\n",
       "    </tr>\n",
       "    <tr>\n",
       "      <td>3</td>\n",
       "      <td>iJLyR</td>\n",
       "      <td>-0.032172</td>\n",
       "      <td>0.139033</td>\n",
       "      <td>2.978566</td>\n",
       "      <td>168.620776</td>\n",
       "    </tr>\n",
       "    <tr>\n",
       "      <td>4</td>\n",
       "      <td>Xdl7t</td>\n",
       "      <td>1.988431</td>\n",
       "      <td>0.155413</td>\n",
       "      <td>4.751769</td>\n",
       "      <td>154.036647</td>\n",
       "    </tr>\n",
       "  </tbody>\n",
       "</table>\n",
       "</div>"
      ],
      "text/plain": [
       "      id        f0        f1        f2     product\n",
       "0  txEyH  0.705745 -0.497823  1.221170  105.280062\n",
       "1  2acmU  1.334711 -0.340164  4.365080   73.037750\n",
       "2  409Wp  1.022732  0.151990  1.419926   85.265647\n",
       "3  iJLyR -0.032172  0.139033  2.978566  168.620776\n",
       "4  Xdl7t  1.988431  0.155413  4.751769  154.036647"
      ]
     },
     "execution_count": 39,
     "metadata": {},
     "output_type": "execute_result"
    }
   ],
   "source": [
    "df.head()"
   ]
  },
  {
   "cell_type": "code",
   "execution_count": 40,
   "metadata": {},
   "outputs": [
    {
     "data": {
      "text/html": [
       "<div>\n",
       "<style scoped>\n",
       "    .dataframe tbody tr th:only-of-type {\n",
       "        vertical-align: middle;\n",
       "    }\n",
       "\n",
       "    .dataframe tbody tr th {\n",
       "        vertical-align: top;\n",
       "    }\n",
       "\n",
       "    .dataframe thead th {\n",
       "        text-align: right;\n",
       "    }\n",
       "</style>\n",
       "<table border=\"1\" class=\"dataframe\">\n",
       "  <thead>\n",
       "    <tr style=\"text-align: right;\">\n",
       "      <th></th>\n",
       "      <th>id</th>\n",
       "      <th>f0</th>\n",
       "      <th>f1</th>\n",
       "      <th>f2</th>\n",
       "      <th>product</th>\n",
       "    </tr>\n",
       "  </thead>\n",
       "  <tbody>\n",
       "    <tr>\n",
       "      <td>0</td>\n",
       "      <td>kBEdx</td>\n",
       "      <td>-15.001348</td>\n",
       "      <td>-8.276000</td>\n",
       "      <td>-0.005876</td>\n",
       "      <td>3.179103</td>\n",
       "    </tr>\n",
       "    <tr>\n",
       "      <td>1</td>\n",
       "      <td>62mP7</td>\n",
       "      <td>14.272088</td>\n",
       "      <td>-3.475083</td>\n",
       "      <td>0.999183</td>\n",
       "      <td>26.953261</td>\n",
       "    </tr>\n",
       "    <tr>\n",
       "      <td>2</td>\n",
       "      <td>vyE1P</td>\n",
       "      <td>6.263187</td>\n",
       "      <td>-5.948386</td>\n",
       "      <td>5.001160</td>\n",
       "      <td>134.766305</td>\n",
       "    </tr>\n",
       "    <tr>\n",
       "      <td>3</td>\n",
       "      <td>KcrkZ</td>\n",
       "      <td>-13.081196</td>\n",
       "      <td>-11.506057</td>\n",
       "      <td>4.999415</td>\n",
       "      <td>137.945408</td>\n",
       "    </tr>\n",
       "    <tr>\n",
       "      <td>4</td>\n",
       "      <td>AHL4O</td>\n",
       "      <td>12.702195</td>\n",
       "      <td>-8.147433</td>\n",
       "      <td>5.004363</td>\n",
       "      <td>134.766305</td>\n",
       "    </tr>\n",
       "  </tbody>\n",
       "</table>\n",
       "</div>"
      ],
      "text/plain": [
       "      id         f0         f1        f2     product\n",
       "0  kBEdx -15.001348  -8.276000 -0.005876    3.179103\n",
       "1  62mP7  14.272088  -3.475083  0.999183   26.953261\n",
       "2  vyE1P   6.263187  -5.948386  5.001160  134.766305\n",
       "3  KcrkZ -13.081196 -11.506057  4.999415  137.945408\n",
       "4  AHL4O  12.702195  -8.147433  5.004363  134.766305"
      ]
     },
     "execution_count": 40,
     "metadata": {},
     "output_type": "execute_result"
    }
   ],
   "source": [
    "df_1.head()"
   ]
  },
  {
   "cell_type": "code",
   "execution_count": 41,
   "metadata": {},
   "outputs": [
    {
     "data": {
      "text/html": [
       "<div>\n",
       "<style scoped>\n",
       "    .dataframe tbody tr th:only-of-type {\n",
       "        vertical-align: middle;\n",
       "    }\n",
       "\n",
       "    .dataframe tbody tr th {\n",
       "        vertical-align: top;\n",
       "    }\n",
       "\n",
       "    .dataframe thead th {\n",
       "        text-align: right;\n",
       "    }\n",
       "</style>\n",
       "<table border=\"1\" class=\"dataframe\">\n",
       "  <thead>\n",
       "    <tr style=\"text-align: right;\">\n",
       "      <th></th>\n",
       "      <th>id</th>\n",
       "      <th>f0</th>\n",
       "      <th>f1</th>\n",
       "      <th>f2</th>\n",
       "      <th>product</th>\n",
       "    </tr>\n",
       "  </thead>\n",
       "  <tbody>\n",
       "    <tr>\n",
       "      <td>0</td>\n",
       "      <td>fwXo0</td>\n",
       "      <td>-1.146987</td>\n",
       "      <td>0.963328</td>\n",
       "      <td>-0.828965</td>\n",
       "      <td>27.758673</td>\n",
       "    </tr>\n",
       "    <tr>\n",
       "      <td>1</td>\n",
       "      <td>WJtFt</td>\n",
       "      <td>0.262778</td>\n",
       "      <td>0.269839</td>\n",
       "      <td>-2.530187</td>\n",
       "      <td>56.069697</td>\n",
       "    </tr>\n",
       "    <tr>\n",
       "      <td>2</td>\n",
       "      <td>ovLUW</td>\n",
       "      <td>0.194587</td>\n",
       "      <td>0.289035</td>\n",
       "      <td>-5.586433</td>\n",
       "      <td>62.871910</td>\n",
       "    </tr>\n",
       "    <tr>\n",
       "      <td>3</td>\n",
       "      <td>q6cA6</td>\n",
       "      <td>2.236060</td>\n",
       "      <td>-0.553760</td>\n",
       "      <td>0.930038</td>\n",
       "      <td>114.572842</td>\n",
       "    </tr>\n",
       "    <tr>\n",
       "      <td>4</td>\n",
       "      <td>WPMUX</td>\n",
       "      <td>-0.515993</td>\n",
       "      <td>1.716266</td>\n",
       "      <td>5.899011</td>\n",
       "      <td>149.600746</td>\n",
       "    </tr>\n",
       "  </tbody>\n",
       "</table>\n",
       "</div>"
      ],
      "text/plain": [
       "      id        f0        f1        f2     product\n",
       "0  fwXo0 -1.146987  0.963328 -0.828965   27.758673\n",
       "1  WJtFt  0.262778  0.269839 -2.530187   56.069697\n",
       "2  ovLUW  0.194587  0.289035 -5.586433   62.871910\n",
       "3  q6cA6  2.236060 -0.553760  0.930038  114.572842\n",
       "4  WPMUX -0.515993  1.716266  5.899011  149.600746"
      ]
     },
     "execution_count": 41,
     "metadata": {},
     "output_type": "execute_result"
    }
   ],
   "source": [
    "df_2.head()"
   ]
  },
  {
   "cell_type": "markdown",
   "metadata": {},
   "source": [
    "Провели ознакомительный осмотр представленных датасетов, прочитали файлы, вывели информацию методом info, посмотрели пару строк таблиц."
   ]
  },
  {
   "cell_type": "code",
   "execution_count": 42,
   "metadata": {},
   "outputs": [
    {
     "data": {
      "text/html": [
       "<div>\n",
       "<style scoped>\n",
       "    .dataframe tbody tr th:only-of-type {\n",
       "        vertical-align: middle;\n",
       "    }\n",
       "\n",
       "    .dataframe tbody tr th {\n",
       "        vertical-align: top;\n",
       "    }\n",
       "\n",
       "    .dataframe thead th {\n",
       "        text-align: right;\n",
       "    }\n",
       "</style>\n",
       "<table border=\"1\" class=\"dataframe\">\n",
       "  <thead>\n",
       "    <tr style=\"text-align: right;\">\n",
       "      <th></th>\n",
       "      <th>f0</th>\n",
       "      <th>f1</th>\n",
       "      <th>f2</th>\n",
       "      <th>product</th>\n",
       "    </tr>\n",
       "  </thead>\n",
       "  <tbody>\n",
       "    <tr>\n",
       "      <td>count</td>\n",
       "      <td>100000.000000</td>\n",
       "      <td>100000.000000</td>\n",
       "      <td>100000.000000</td>\n",
       "      <td>100000.000000</td>\n",
       "    </tr>\n",
       "    <tr>\n",
       "      <td>mean</td>\n",
       "      <td>0.500419</td>\n",
       "      <td>0.250143</td>\n",
       "      <td>2.502647</td>\n",
       "      <td>92.500000</td>\n",
       "    </tr>\n",
       "    <tr>\n",
       "      <td>std</td>\n",
       "      <td>0.871832</td>\n",
       "      <td>0.504433</td>\n",
       "      <td>3.248248</td>\n",
       "      <td>44.288691</td>\n",
       "    </tr>\n",
       "    <tr>\n",
       "      <td>min</td>\n",
       "      <td>-1.408605</td>\n",
       "      <td>-0.848218</td>\n",
       "      <td>-12.088328</td>\n",
       "      <td>0.000000</td>\n",
       "    </tr>\n",
       "    <tr>\n",
       "      <td>25%</td>\n",
       "      <td>-0.072580</td>\n",
       "      <td>-0.200881</td>\n",
       "      <td>0.287748</td>\n",
       "      <td>56.497507</td>\n",
       "    </tr>\n",
       "    <tr>\n",
       "      <td>50%</td>\n",
       "      <td>0.502360</td>\n",
       "      <td>0.250252</td>\n",
       "      <td>2.515969</td>\n",
       "      <td>91.849972</td>\n",
       "    </tr>\n",
       "    <tr>\n",
       "      <td>75%</td>\n",
       "      <td>1.073581</td>\n",
       "      <td>0.700646</td>\n",
       "      <td>4.715088</td>\n",
       "      <td>128.564089</td>\n",
       "    </tr>\n",
       "    <tr>\n",
       "      <td>max</td>\n",
       "      <td>2.362331</td>\n",
       "      <td>1.343769</td>\n",
       "      <td>16.003790</td>\n",
       "      <td>185.364347</td>\n",
       "    </tr>\n",
       "  </tbody>\n",
       "</table>\n",
       "</div>"
      ],
      "text/plain": [
       "                  f0             f1             f2        product\n",
       "count  100000.000000  100000.000000  100000.000000  100000.000000\n",
       "mean        0.500419       0.250143       2.502647      92.500000\n",
       "std         0.871832       0.504433       3.248248      44.288691\n",
       "min        -1.408605      -0.848218     -12.088328       0.000000\n",
       "25%        -0.072580      -0.200881       0.287748      56.497507\n",
       "50%         0.502360       0.250252       2.515969      91.849972\n",
       "75%         1.073581       0.700646       4.715088     128.564089\n",
       "max         2.362331       1.343769      16.003790     185.364347"
      ]
     },
     "execution_count": 42,
     "metadata": {},
     "output_type": "execute_result"
    }
   ],
   "source": [
    "df.describe()"
   ]
  },
  {
   "cell_type": "code",
   "execution_count": 43,
   "metadata": {},
   "outputs": [
    {
     "data": {
      "text/html": [
       "<div>\n",
       "<style scoped>\n",
       "    .dataframe tbody tr th:only-of-type {\n",
       "        vertical-align: middle;\n",
       "    }\n",
       "\n",
       "    .dataframe tbody tr th {\n",
       "        vertical-align: top;\n",
       "    }\n",
       "\n",
       "    .dataframe thead th {\n",
       "        text-align: right;\n",
       "    }\n",
       "</style>\n",
       "<table border=\"1\" class=\"dataframe\">\n",
       "  <thead>\n",
       "    <tr style=\"text-align: right;\">\n",
       "      <th></th>\n",
       "      <th>f0</th>\n",
       "      <th>f1</th>\n",
       "      <th>f2</th>\n",
       "      <th>product</th>\n",
       "    </tr>\n",
       "  </thead>\n",
       "  <tbody>\n",
       "    <tr>\n",
       "      <td>count</td>\n",
       "      <td>100000.000000</td>\n",
       "      <td>100000.000000</td>\n",
       "      <td>100000.000000</td>\n",
       "      <td>100000.000000</td>\n",
       "    </tr>\n",
       "    <tr>\n",
       "      <td>mean</td>\n",
       "      <td>1.141296</td>\n",
       "      <td>-4.796579</td>\n",
       "      <td>2.494541</td>\n",
       "      <td>68.825000</td>\n",
       "    </tr>\n",
       "    <tr>\n",
       "      <td>std</td>\n",
       "      <td>8.965932</td>\n",
       "      <td>5.119872</td>\n",
       "      <td>1.703572</td>\n",
       "      <td>45.944423</td>\n",
       "    </tr>\n",
       "    <tr>\n",
       "      <td>min</td>\n",
       "      <td>-31.609576</td>\n",
       "      <td>-26.358598</td>\n",
       "      <td>-0.018144</td>\n",
       "      <td>0.000000</td>\n",
       "    </tr>\n",
       "    <tr>\n",
       "      <td>25%</td>\n",
       "      <td>-6.298551</td>\n",
       "      <td>-8.267985</td>\n",
       "      <td>1.000021</td>\n",
       "      <td>26.953261</td>\n",
       "    </tr>\n",
       "    <tr>\n",
       "      <td>50%</td>\n",
       "      <td>1.153055</td>\n",
       "      <td>-4.813172</td>\n",
       "      <td>2.011479</td>\n",
       "      <td>57.085625</td>\n",
       "    </tr>\n",
       "    <tr>\n",
       "      <td>75%</td>\n",
       "      <td>8.621015</td>\n",
       "      <td>-1.332816</td>\n",
       "      <td>3.999904</td>\n",
       "      <td>107.813044</td>\n",
       "    </tr>\n",
       "    <tr>\n",
       "      <td>max</td>\n",
       "      <td>29.421755</td>\n",
       "      <td>18.734063</td>\n",
       "      <td>5.019721</td>\n",
       "      <td>137.945408</td>\n",
       "    </tr>\n",
       "  </tbody>\n",
       "</table>\n",
       "</div>"
      ],
      "text/plain": [
       "                  f0             f1             f2        product\n",
       "count  100000.000000  100000.000000  100000.000000  100000.000000\n",
       "mean        1.141296      -4.796579       2.494541      68.825000\n",
       "std         8.965932       5.119872       1.703572      45.944423\n",
       "min       -31.609576     -26.358598      -0.018144       0.000000\n",
       "25%        -6.298551      -8.267985       1.000021      26.953261\n",
       "50%         1.153055      -4.813172       2.011479      57.085625\n",
       "75%         8.621015      -1.332816       3.999904     107.813044\n",
       "max        29.421755      18.734063       5.019721     137.945408"
      ]
     },
     "execution_count": 43,
     "metadata": {},
     "output_type": "execute_result"
    }
   ],
   "source": [
    "df_1.describe()"
   ]
  },
  {
   "cell_type": "code",
   "execution_count": 44,
   "metadata": {},
   "outputs": [
    {
     "data": {
      "text/html": [
       "<div>\n",
       "<style scoped>\n",
       "    .dataframe tbody tr th:only-of-type {\n",
       "        vertical-align: middle;\n",
       "    }\n",
       "\n",
       "    .dataframe tbody tr th {\n",
       "        vertical-align: top;\n",
       "    }\n",
       "\n",
       "    .dataframe thead th {\n",
       "        text-align: right;\n",
       "    }\n",
       "</style>\n",
       "<table border=\"1\" class=\"dataframe\">\n",
       "  <thead>\n",
       "    <tr style=\"text-align: right;\">\n",
       "      <th></th>\n",
       "      <th>f0</th>\n",
       "      <th>f1</th>\n",
       "      <th>f2</th>\n",
       "      <th>product</th>\n",
       "    </tr>\n",
       "  </thead>\n",
       "  <tbody>\n",
       "    <tr>\n",
       "      <td>count</td>\n",
       "      <td>100000.000000</td>\n",
       "      <td>100000.000000</td>\n",
       "      <td>100000.000000</td>\n",
       "      <td>100000.000000</td>\n",
       "    </tr>\n",
       "    <tr>\n",
       "      <td>mean</td>\n",
       "      <td>0.002023</td>\n",
       "      <td>-0.002081</td>\n",
       "      <td>2.495128</td>\n",
       "      <td>95.000000</td>\n",
       "    </tr>\n",
       "    <tr>\n",
       "      <td>std</td>\n",
       "      <td>1.732045</td>\n",
       "      <td>1.730417</td>\n",
       "      <td>3.473445</td>\n",
       "      <td>44.749921</td>\n",
       "    </tr>\n",
       "    <tr>\n",
       "      <td>min</td>\n",
       "      <td>-8.760004</td>\n",
       "      <td>-7.084020</td>\n",
       "      <td>-11.970335</td>\n",
       "      <td>0.000000</td>\n",
       "    </tr>\n",
       "    <tr>\n",
       "      <td>25%</td>\n",
       "      <td>-1.162288</td>\n",
       "      <td>-1.174820</td>\n",
       "      <td>0.130359</td>\n",
       "      <td>59.450441</td>\n",
       "    </tr>\n",
       "    <tr>\n",
       "      <td>50%</td>\n",
       "      <td>0.009424</td>\n",
       "      <td>-0.009482</td>\n",
       "      <td>2.484236</td>\n",
       "      <td>94.925613</td>\n",
       "    </tr>\n",
       "    <tr>\n",
       "      <td>75%</td>\n",
       "      <td>1.158535</td>\n",
       "      <td>1.163678</td>\n",
       "      <td>4.858794</td>\n",
       "      <td>130.595027</td>\n",
       "    </tr>\n",
       "    <tr>\n",
       "      <td>max</td>\n",
       "      <td>7.238262</td>\n",
       "      <td>7.844801</td>\n",
       "      <td>16.739402</td>\n",
       "      <td>190.029838</td>\n",
       "    </tr>\n",
       "  </tbody>\n",
       "</table>\n",
       "</div>"
      ],
      "text/plain": [
       "                  f0             f1             f2        product\n",
       "count  100000.000000  100000.000000  100000.000000  100000.000000\n",
       "mean        0.002023      -0.002081       2.495128      95.000000\n",
       "std         1.732045       1.730417       3.473445      44.749921\n",
       "min        -8.760004      -7.084020     -11.970335       0.000000\n",
       "25%        -1.162288      -1.174820       0.130359      59.450441\n",
       "50%         0.009424      -0.009482       2.484236      94.925613\n",
       "75%         1.158535       1.163678       4.858794     130.595027\n",
       "max         7.238262       7.844801      16.739402     190.029838"
      ]
     },
     "execution_count": 44,
     "metadata": {},
     "output_type": "execute_result"
    }
   ],
   "source": [
    "df_2.describe()"
   ]
  },
  {
   "cell_type": "code",
   "execution_count": 45,
   "metadata": {},
   "outputs": [
    {
     "data": {
      "text/html": [
       "<div>\n",
       "<style scoped>\n",
       "    .dataframe tbody tr th:only-of-type {\n",
       "        vertical-align: middle;\n",
       "    }\n",
       "\n",
       "    .dataframe tbody tr th {\n",
       "        vertical-align: top;\n",
       "    }\n",
       "\n",
       "    .dataframe thead th {\n",
       "        text-align: right;\n",
       "    }\n",
       "</style>\n",
       "<table border=\"1\" class=\"dataframe\">\n",
       "  <thead>\n",
       "    <tr style=\"text-align: right;\">\n",
       "      <th></th>\n",
       "      <th>f0</th>\n",
       "      <th>f1</th>\n",
       "      <th>f2</th>\n",
       "      <th>product</th>\n",
       "    </tr>\n",
       "  </thead>\n",
       "  <tbody>\n",
       "    <tr>\n",
       "      <td>f0</td>\n",
       "      <td>1.000000</td>\n",
       "      <td>-0.440723</td>\n",
       "      <td>-0.003153</td>\n",
       "      <td>0.143536</td>\n",
       "    </tr>\n",
       "    <tr>\n",
       "      <td>f1</td>\n",
       "      <td>-0.440723</td>\n",
       "      <td>1.000000</td>\n",
       "      <td>0.001724</td>\n",
       "      <td>-0.192356</td>\n",
       "    </tr>\n",
       "    <tr>\n",
       "      <td>f2</td>\n",
       "      <td>-0.003153</td>\n",
       "      <td>0.001724</td>\n",
       "      <td>1.000000</td>\n",
       "      <td>0.483663</td>\n",
       "    </tr>\n",
       "    <tr>\n",
       "      <td>product</td>\n",
       "      <td>0.143536</td>\n",
       "      <td>-0.192356</td>\n",
       "      <td>0.483663</td>\n",
       "      <td>1.000000</td>\n",
       "    </tr>\n",
       "  </tbody>\n",
       "</table>\n",
       "</div>"
      ],
      "text/plain": [
       "               f0        f1        f2   product\n",
       "f0       1.000000 -0.440723 -0.003153  0.143536\n",
       "f1      -0.440723  1.000000  0.001724 -0.192356\n",
       "f2      -0.003153  0.001724  1.000000  0.483663\n",
       "product  0.143536 -0.192356  0.483663  1.000000"
      ]
     },
     "execution_count": 45,
     "metadata": {},
     "output_type": "execute_result"
    }
   ],
   "source": [
    "df.corr()"
   ]
  },
  {
   "cell_type": "code",
   "execution_count": 46,
   "metadata": {},
   "outputs": [
    {
     "data": {
      "text/html": [
       "<div>\n",
       "<style scoped>\n",
       "    .dataframe tbody tr th:only-of-type {\n",
       "        vertical-align: middle;\n",
       "    }\n",
       "\n",
       "    .dataframe tbody tr th {\n",
       "        vertical-align: top;\n",
       "    }\n",
       "\n",
       "    .dataframe thead th {\n",
       "        text-align: right;\n",
       "    }\n",
       "</style>\n",
       "<table border=\"1\" class=\"dataframe\">\n",
       "  <thead>\n",
       "    <tr style=\"text-align: right;\">\n",
       "      <th></th>\n",
       "      <th>f0</th>\n",
       "      <th>f1</th>\n",
       "      <th>f2</th>\n",
       "      <th>product</th>\n",
       "    </tr>\n",
       "  </thead>\n",
       "  <tbody>\n",
       "    <tr>\n",
       "      <td>f0</td>\n",
       "      <td>1.000000</td>\n",
       "      <td>0.182287</td>\n",
       "      <td>-0.001777</td>\n",
       "      <td>-0.030491</td>\n",
       "    </tr>\n",
       "    <tr>\n",
       "      <td>f1</td>\n",
       "      <td>0.182287</td>\n",
       "      <td>1.000000</td>\n",
       "      <td>-0.002595</td>\n",
       "      <td>-0.010155</td>\n",
       "    </tr>\n",
       "    <tr>\n",
       "      <td>f2</td>\n",
       "      <td>-0.001777</td>\n",
       "      <td>-0.002595</td>\n",
       "      <td>1.000000</td>\n",
       "      <td>0.999397</td>\n",
       "    </tr>\n",
       "    <tr>\n",
       "      <td>product</td>\n",
       "      <td>-0.030491</td>\n",
       "      <td>-0.010155</td>\n",
       "      <td>0.999397</td>\n",
       "      <td>1.000000</td>\n",
       "    </tr>\n",
       "  </tbody>\n",
       "</table>\n",
       "</div>"
      ],
      "text/plain": [
       "               f0        f1        f2   product\n",
       "f0       1.000000  0.182287 -0.001777 -0.030491\n",
       "f1       0.182287  1.000000 -0.002595 -0.010155\n",
       "f2      -0.001777 -0.002595  1.000000  0.999397\n",
       "product -0.030491 -0.010155  0.999397  1.000000"
      ]
     },
     "execution_count": 46,
     "metadata": {},
     "output_type": "execute_result"
    }
   ],
   "source": [
    "df_1.corr()"
   ]
  },
  {
   "cell_type": "code",
   "execution_count": 47,
   "metadata": {},
   "outputs": [
    {
     "data": {
      "text/html": [
       "<div>\n",
       "<style scoped>\n",
       "    .dataframe tbody tr th:only-of-type {\n",
       "        vertical-align: middle;\n",
       "    }\n",
       "\n",
       "    .dataframe tbody tr th {\n",
       "        vertical-align: top;\n",
       "    }\n",
       "\n",
       "    .dataframe thead th {\n",
       "        text-align: right;\n",
       "    }\n",
       "</style>\n",
       "<table border=\"1\" class=\"dataframe\">\n",
       "  <thead>\n",
       "    <tr style=\"text-align: right;\">\n",
       "      <th></th>\n",
       "      <th>f0</th>\n",
       "      <th>f1</th>\n",
       "      <th>f2</th>\n",
       "      <th>product</th>\n",
       "    </tr>\n",
       "  </thead>\n",
       "  <tbody>\n",
       "    <tr>\n",
       "      <td>f0</td>\n",
       "      <td>1.000000</td>\n",
       "      <td>0.000528</td>\n",
       "      <td>-0.000448</td>\n",
       "      <td>-0.001987</td>\n",
       "    </tr>\n",
       "    <tr>\n",
       "      <td>f1</td>\n",
       "      <td>0.000528</td>\n",
       "      <td>1.000000</td>\n",
       "      <td>0.000779</td>\n",
       "      <td>-0.001012</td>\n",
       "    </tr>\n",
       "    <tr>\n",
       "      <td>f2</td>\n",
       "      <td>-0.000448</td>\n",
       "      <td>0.000779</td>\n",
       "      <td>1.000000</td>\n",
       "      <td>0.445871</td>\n",
       "    </tr>\n",
       "    <tr>\n",
       "      <td>product</td>\n",
       "      <td>-0.001987</td>\n",
       "      <td>-0.001012</td>\n",
       "      <td>0.445871</td>\n",
       "      <td>1.000000</td>\n",
       "    </tr>\n",
       "  </tbody>\n",
       "</table>\n",
       "</div>"
      ],
      "text/plain": [
       "               f0        f1        f2   product\n",
       "f0       1.000000  0.000528 -0.000448 -0.001987\n",
       "f1       0.000528  1.000000  0.000779 -0.001012\n",
       "f2      -0.000448  0.000779  1.000000  0.445871\n",
       "product -0.001987 -0.001012  0.445871  1.000000"
      ]
     },
     "execution_count": 47,
     "metadata": {},
     "output_type": "execute_result"
    }
   ],
   "source": [
    "df_2.corr()"
   ]
  },
  {
   "cell_type": "markdown",
   "metadata": {},
   "source": [
    "Познакомились с данными получше, посмотрели зависимость между параметрами, получше узнали о распределении данных, можем приступать к построению модели."
   ]
  },
  {
   "cell_type": "markdown",
   "metadata": {},
   "source": [
    "## Обучение и проверка модели"
   ]
  },
  {
   "cell_type": "code",
   "execution_count": 48,
   "metadata": {},
   "outputs": [],
   "source": [
    "features = df.drop(['product','id'], axis=1)\n",
    "target = df['product'] "
   ]
  },
  {
   "cell_type": "code",
   "execution_count": 49,
   "metadata": {},
   "outputs": [],
   "source": [
    "features_train, features_valid, target_train, target_valid = train_test_split(\n",
    "    features, target, test_size=0.25, random_state=12345) "
   ]
  },
  {
   "cell_type": "code",
   "execution_count": 50,
   "metadata": {},
   "outputs": [],
   "source": [
    "model = LinearRegression() \n",
    "model.fit(features_train,target_train)\n",
    "predictions_valid = model.predict(features_valid) "
   ]
  },
  {
   "cell_type": "code",
   "execution_count": 51,
   "metadata": {},
   "outputs": [
    {
     "name": "stdout",
     "output_type": "stream",
     "text": [
      "RMSE модели линейной регрессии первого региона на валидационной выборке: 37.5794217150813\n"
     ]
    }
   ],
   "source": [
    "result = mean_squared_error(target_valid, predictions_valid)**0.5\n",
    "print(\"RMSE модели линейной регрессии первого региона на валидационной выборке:\", result)"
   ]
  },
  {
   "cell_type": "code",
   "execution_count": 52,
   "metadata": {},
   "outputs": [],
   "source": [
    "features_1 = df_1.drop(['product','id'], axis=1)\n",
    "target_1 = df_1['product'] "
   ]
  },
  {
   "cell_type": "code",
   "execution_count": 53,
   "metadata": {},
   "outputs": [],
   "source": [
    "features_train_1, features_valid_1, target_train_1, target_valid_1= train_test_split(\n",
    "    features_1, target_1, test_size=0.25, random_state=12345) "
   ]
  },
  {
   "cell_type": "code",
   "execution_count": 54,
   "metadata": {},
   "outputs": [],
   "source": [
    "model_1 = LinearRegression() \n",
    "model_1.fit(features_train_1,target_train_1)\n",
    "predictions_valid_1 = model_1.predict(features_valid_1) "
   ]
  },
  {
   "cell_type": "code",
   "execution_count": 55,
   "metadata": {},
   "outputs": [
    {
     "name": "stdout",
     "output_type": "stream",
     "text": [
      "RMSE модели линейной регрессии второго региона на валидационной выборке: 0.893099286775616\n"
     ]
    }
   ],
   "source": [
    "result_1 = mean_squared_error(target_valid_1, predictions_valid_1)**0.5\n",
    "print(\"RMSE модели линейной регрессии второго региона на валидационной выборке:\", result_1)"
   ]
  },
  {
   "cell_type": "code",
   "execution_count": 56,
   "metadata": {},
   "outputs": [],
   "source": [
    "features_2 = df_2.drop(['product','id'], axis=1)\n",
    "target_2 = df_2['product'] "
   ]
  },
  {
   "cell_type": "code",
   "execution_count": 57,
   "metadata": {},
   "outputs": [],
   "source": [
    "features_train_2, features_valid_2, target_train_2, target_valid_2 = train_test_split(\n",
    "    features_2, target_2, test_size=0.25, random_state=12345)"
   ]
  },
  {
   "cell_type": "code",
   "execution_count": 58,
   "metadata": {},
   "outputs": [],
   "source": [
    "model_2 = LinearRegression() \n",
    "model_2.fit(features_train_2,target_train_2)\n",
    "predictions_valid_2 = model_2.predict(features_valid_2) "
   ]
  },
  {
   "cell_type": "code",
   "execution_count": 59,
   "metadata": {},
   "outputs": [
    {
     "name": "stdout",
     "output_type": "stream",
     "text": [
      "RMSE модели линейной регрессии третьего региона на валидационной выборке: 40.02970873393434\n"
     ]
    }
   ],
   "source": [
    "result_2 = mean_squared_error(target_valid_2, predictions_valid_2)**0.5\n",
    "print(\"RMSE модели линейной регрессии третьего региона на валидационной выборке:\", result_2)"
   ]
  },
  {
   "cell_type": "markdown",
   "metadata": {},
   "source": [
    "Построили модели для трех регионов, по метрике *RMSE*, можно сделать вывод, что хорошая модель вышла для второго региона."
   ]
  },
  {
   "cell_type": "markdown",
   "metadata": {},
   "source": [
    "## Подготовка к расчёту прибыли"
   ]
  },
  {
   "cell_type": "code",
   "execution_count": 60,
   "metadata": {},
   "outputs": [],
   "source": [
    "state = RandomState(12345)"
   ]
  },
  {
   "cell_type": "code",
   "execution_count": 61,
   "metadata": {},
   "outputs": [],
   "source": [
    "coast_product = 450000\n",
    "budget =  10000000000"
   ]
  },
  {
   "cell_type": "code",
   "execution_count": 62,
   "metadata": {},
   "outputs": [
    {
     "name": "stdout",
     "output_type": "stream",
     "text": [
      "Срелний достаточный объем сырья для прибыльной добычи 111.11111111111111\n"
     ]
    }
   ],
   "source": [
    "volume_product = budget/(coast_product*200)\n",
    "print('Срелний достаточный объем сырья для прибыльной добычи',volume_product)"
   ]
  },
  {
   "cell_type": "code",
   "execution_count": 63,
   "metadata": {},
   "outputs": [
    {
     "name": "stdout",
     "output_type": "stream",
     "text": [
      "Средний объём сырья первого региона 92.50000000000001\n",
      "Средний объём сырья второго региона 68.82500000000002\n",
      "Средний объём сырья третьего региона 95.00000000000004\n"
     ]
    }
   ],
   "source": [
    "print('Средний объём сырья первого региона',df['product'].mean())\n",
    "print('Средний объём сырья второго региона',df_1['product'].mean())\n",
    "print('Средний объём сырья третьего региона',df_2['product'].mean())"
   ]
  },
  {
   "cell_type": "markdown",
   "metadata": {},
   "source": [
    "Средний объем сырья всех трех регионов меньше вычисленного среднего достаточного объёма сырья."
   ]
  },
  {
   "cell_type": "markdown",
   "metadata": {},
   "source": [
    "## Расчёт прибыли и рисков "
   ]
  },
  {
   "cell_type": "code",
   "execution_count": 64,
   "metadata": {},
   "outputs": [],
   "source": [
    "def revenue(target, probabilities):\n",
    "    probs_sorted = probabilities.sort_values(ascending=False)\n",
    "    selected = target[probs_sorted.index].head(200)\n",
    "    return (coast_product * selected.sum())-budget"
   ]
  },
  {
   "cell_type": "code",
   "execution_count": 65,
   "metadata": {},
   "outputs": [],
   "source": [
    "values = []\n",
    "values_1 = []\n",
    "values_2 = []\n",
    "series_predict = pd.Series(predictions_valid)\n",
    "series_predict_1 = pd.Series(predictions_valid_1)\n",
    "series_predict_2= pd.Series(predictions_valid_2)"
   ]
  },
  {
   "cell_type": "code",
   "execution_count": 66,
   "metadata": {},
   "outputs": [],
   "source": [
    "target_valid = target_valid.reset_index(drop = True)\n",
    "for i in range(1000):\n",
    "    \n",
    "    target_subsample = target_valid.sample(n=500, replace = False, random_state = state)\n",
    "    pred_subsample = series_predict[target_subsample.index]\n",
    "    values.append(revenue(target_subsample, pred_subsample))"
   ]
  },
  {
   "cell_type": "code",
   "execution_count": 67,
   "metadata": {},
   "outputs": [
    {
     "name": "stdout",
     "output_type": "stream",
     "text": [
      "Средняя выручка первого региона: 380710890.70907485\n",
      "Доверительный интервал выручки региона (-126947638.03180212, 879613967.8477958)\n",
      "95%-ый доверительный интервал средней выручки 1го региона: (364624702.9511889, 396797078.4669608)\n",
      "Вероятность убытков первого региона:7.20%\n"
     ]
    }
   ],
   "source": [
    "values = pd.Series(values)\n",
    "confidence_interval_mean = st.t.interval(0.95, len(values)-1, values.mean(),values.sem())\n",
    "mean = values.mean()\n",
    "confidence_interval = (values.quantile(0.025), values.quantile(0.975))\n",
    "print(\"Средняя выручка первого региона:\", mean)\n",
    "print(\"Доверительный интервал выручки региона\",confidence_interval)\n",
    "print(\"95%-ый доверительный интервал средней выручки 1го региона:\", confidence_interval_mean)\n",
    "print('Вероятность убытков первого региона:{:.2%}'.format((values<0).mean()))"
   ]
  },
  {
   "cell_type": "code",
   "execution_count": 68,
   "metadata": {},
   "outputs": [
    {
     "name": "stdout",
     "output_type": "stream",
     "text": [
      "Средняя выручка второго региона: 454785434.76571304\n",
      "Доверительный интервал выручки второго региона (46730084.76920634, 840213356.26002)\n",
      "95%-ый доверительный интервал средней выручки 2го региона: (441979241.37927634, 467591628.15214974)\n",
      "Вероятность убытков второго региона:1.30%\n"
     ]
    }
   ],
   "source": [
    "target_valid_1 = target_valid_1.reset_index(drop = True)\n",
    "for i in range(1000):\n",
    "    \n",
    "    target_subsample_1 = target_valid_1.sample(n=500, replace = False, random_state = state)\n",
    "    pred_subsample_1 = series_predict_1[target_subsample_1.index]\n",
    "    values_1.append(revenue(target_subsample_1, pred_subsample_1))\n",
    "values_1 = pd.Series(values_1)\n",
    "confidence_interval_1 = (values_1.quantile(0.025), values_1.quantile(0.975))\n",
    "confidence_interval_mean_1 = st.t.interval(0.95, len(values_1)-1, values_1.mean(),values_1.sem())\n",
    "mean_1 = values_1.mean()\n",
    "print(\"Средняя выручка второго региона:\", mean_1)\n",
    "print(\"Доверительный интервал выручки второго региона\",confidence_interval_1)\n",
    "print(\"95%-ый доверительный интервал средней выручки 2го региона:\", confidence_interval_mean_1)\n",
    "print('Вероятность убытков второго региона:{:.2%}'.format((values_1<0).mean()))"
   ]
  },
  {
   "cell_type": "code",
   "execution_count": 69,
   "metadata": {},
   "outputs": [
    {
     "name": "stdout",
     "output_type": "stream",
     "text": [
      "Средняя выручка третьего региона: 389217073.68557006\n",
      "Доверительный интервал выручки третьего региона (-115609565.77767344, 906512590.1730094)\n",
      "95%-ый доверительный интервал средней выручки 3го региона: (-115609565.77767344, 906512590.1730094)\n",
      "Вероятность убытков третьего региона:7.30%\n"
     ]
    }
   ],
   "source": [
    "target_valid_2 = target_valid_2.reset_index(drop = True)\n",
    "for i in range(1000):\n",
    "    \n",
    "    target_subsample_2 = target_valid_2.sample(n=500, replace = False, random_state = state)\n",
    "    pred_subsample_2 = series_predict_2[target_subsample_2.index]\n",
    "    values_2.append(revenue(target_subsample_2, pred_subsample_2))\n",
    "values_2 = pd.Series(values_2)\n",
    "confidence_interval_2 = (values_2.quantile(0.025), values_2.quantile(0.975))\n",
    "confidence_interval_mean_2 = st.t.interval(0.95, len(values_2)-1, values_2.mean(),values_2.sem())\n",
    "mean_2 = values_2.mean()\n",
    "print(\"Средняя выручка третьего региона:\", mean_2)\n",
    "print(\"Доверительный интервал выручки третьего региона\",confidence_interval_2)\n",
    "print(\"95%-ый доверительный интервал средней выручки 3го региона:\", confidence_interval_2)\n",
    "print('Вероятность убытков третьего региона:{:.2%}'.format((values_2<0).mean()))"
   ]
  },
  {
   "cell_type": "markdown",
   "metadata": {},
   "source": [
    "Проведя анализ средней выручки, и убытков, можно сделать вывод, что скважины необходимо брать во втором регионе, во втором регионе по расчитаным прогнозам нас ожидает большая выручка и меньшая вероятность убытков, идеальное сочетание."
   ]
  },
  {
   "cell_type": "markdown",
   "metadata": {},
   "source": [
    "## Вывод"
   ]
  },
  {
   "cell_type": "markdown",
   "metadata": {},
   "source": [
    "Для полученя результатов была проделана работа :\n",
    "- проведен анализ представленных данных, на их взаимосвязь и познакомлись с типами и форматами данных,\n",
    "- разбили выборки на обучающаю и валидационную(в нашем случае она и тестовая),\n",
    "- построили модели для каждого региона  и оценили модель при помощи метрики *RMSE*, точнее всех оказалась модель второго региона,\n",
    "- произвели оценочный расчет средних объемов запасов, для достижения требуемой прибыли,\n",
    "- процедурой bootstrap оценили выручку с каждого региона и доверительный интервал, а также вероятность убытков, при разработке скважин в конкретном регионе.\n",
    "\n",
    "В ходе работы можно сделать вывод о доходности разработки скважин во втором регионе, выручка выше, а вероятность убытков ниже, чем в двух других представленных к оценки регионах."
   ]
  }
 ],
 "metadata": {
  "ExecuteTimeLog": [
   {
    "duration": 1026,
    "start_time": "2021-12-01T22:02:52.778Z"
   },
   {
    "duration": 125,
    "start_time": "2021-12-01T22:03:43.277Z"
   },
   {
    "duration": 119,
    "start_time": "2021-12-01T22:05:05.125Z"
   },
   {
    "duration": 115,
    "start_time": "2021-12-01T22:07:27.107Z"
   },
   {
    "duration": 13,
    "start_time": "2021-12-01T22:19:42.873Z"
   },
   {
    "duration": 8,
    "start_time": "2021-12-01T22:19:59.190Z"
   },
   {
    "duration": 8,
    "start_time": "2021-12-01T22:20:17.465Z"
   },
   {
    "duration": 34,
    "start_time": "2021-12-01T22:24:07.699Z"
   },
   {
    "duration": 33,
    "start_time": "2021-12-01T22:24:12.975Z"
   },
   {
    "duration": 33,
    "start_time": "2021-12-01T22:24:38.644Z"
   },
   {
    "duration": 32,
    "start_time": "2021-12-01T22:24:51.693Z"
   },
   {
    "duration": 12,
    "start_time": "2021-12-01T22:26:29.736Z"
   },
   {
    "duration": 12,
    "start_time": "2021-12-01T22:26:49.696Z"
   },
   {
    "duration": 16,
    "start_time": "2021-12-01T22:27:08.684Z"
   },
   {
    "duration": 162,
    "start_time": "2021-12-03T21:33:13.180Z"
   },
   {
    "duration": 404,
    "start_time": "2021-12-03T21:33:23.352Z"
   },
   {
    "duration": 346,
    "start_time": "2021-12-03T21:33:26.982Z"
   },
   {
    "duration": 1549,
    "start_time": "2021-12-03T21:33:30.535Z"
   },
   {
    "duration": 194,
    "start_time": "2021-12-03T21:33:32.087Z"
   },
   {
    "duration": 207,
    "start_time": "2021-12-03T21:33:32.285Z"
   },
   {
    "duration": 210,
    "start_time": "2021-12-03T21:33:32.495Z"
   },
   {
    "duration": 22,
    "start_time": "2021-12-03T21:33:32.708Z"
   },
   {
    "duration": 38,
    "start_time": "2021-12-03T21:33:32.732Z"
   },
   {
    "duration": 22,
    "start_time": "2021-12-03T21:33:32.773Z"
   },
   {
    "duration": 81,
    "start_time": "2021-12-03T21:33:32.798Z"
   },
   {
    "duration": 81,
    "start_time": "2021-12-03T21:33:32.884Z"
   },
   {
    "duration": 48,
    "start_time": "2021-12-03T21:33:32.968Z"
   },
   {
    "duration": 43,
    "start_time": "2021-12-03T21:33:33.019Z"
   },
   {
    "duration": 19,
    "start_time": "2021-12-03T21:33:33.065Z"
   },
   {
    "duration": 19,
    "start_time": "2021-12-03T21:33:33.087Z"
   },
   {
    "duration": 7,
    "start_time": "2021-12-03T21:33:33.108Z"
   },
   {
    "duration": 65,
    "start_time": "2021-12-03T21:33:33.117Z"
   },
   {
    "duration": 564,
    "start_time": "2021-12-03T21:33:33.185Z"
   },
   {
    "duration": -754,
    "start_time": "2021-12-03T21:33:34.506Z"
   },
   {
    "duration": 4,
    "start_time": "2021-12-03T21:34:05.435Z"
   },
   {
    "duration": 172,
    "start_time": "2021-12-03T21:34:05.441Z"
   },
   {
    "duration": 170,
    "start_time": "2021-12-03T21:34:05.617Z"
   },
   {
    "duration": 174,
    "start_time": "2021-12-03T21:34:05.791Z"
   },
   {
    "duration": 14,
    "start_time": "2021-12-03T21:34:05.968Z"
   },
   {
    "duration": 18,
    "start_time": "2021-12-03T21:34:05.985Z"
   },
   {
    "duration": 26,
    "start_time": "2021-12-03T21:34:06.006Z"
   },
   {
    "duration": 70,
    "start_time": "2021-12-03T21:34:06.036Z"
   },
   {
    "duration": 70,
    "start_time": "2021-12-03T21:34:06.108Z"
   },
   {
    "duration": 52,
    "start_time": "2021-12-03T21:34:06.180Z"
   },
   {
    "duration": 35,
    "start_time": "2021-12-03T21:34:06.235Z"
   },
   {
    "duration": 19,
    "start_time": "2021-12-03T21:34:06.272Z"
   },
   {
    "duration": 18,
    "start_time": "2021-12-03T21:34:06.294Z"
   },
   {
    "duration": 50,
    "start_time": "2021-12-03T21:34:06.315Z"
   },
   {
    "duration": 26,
    "start_time": "2021-12-03T21:34:06.368Z"
   },
   {
    "duration": 384,
    "start_time": "2021-12-03T21:34:06.396Z"
   },
   {
    "duration": -670,
    "start_time": "2021-12-03T21:34:07.453Z"
   },
   {
    "duration": 7,
    "start_time": "2021-12-03T21:34:56.760Z"
   },
   {
    "duration": 18,
    "start_time": "2021-12-03T21:34:58.099Z"
   },
   {
    "duration": 21,
    "start_time": "2021-12-03T21:35:00.164Z"
   },
   {
    "duration": 6,
    "start_time": "2021-12-03T21:35:22.726Z"
   },
   {
    "duration": 6,
    "start_time": "2021-12-03T21:35:30.261Z"
   },
   {
    "duration": 385,
    "start_time": "2021-12-04T21:28:29.506Z"
   },
   {
    "duration": 1176,
    "start_time": "2021-12-04T21:28:33.578Z"
   },
   {
    "duration": 139,
    "start_time": "2021-12-04T21:28:34.755Z"
   },
   {
    "duration": 126,
    "start_time": "2021-12-04T21:28:34.896Z"
   },
   {
    "duration": 130,
    "start_time": "2021-12-04T21:28:35.024Z"
   },
   {
    "duration": 19,
    "start_time": "2021-12-04T21:28:35.155Z"
   },
   {
    "duration": 8,
    "start_time": "2021-12-04T21:28:35.176Z"
   },
   {
    "duration": 29,
    "start_time": "2021-12-04T21:28:35.185Z"
   },
   {
    "duration": 42,
    "start_time": "2021-12-04T21:28:35.216Z"
   },
   {
    "duration": 54,
    "start_time": "2021-12-04T21:28:35.261Z"
   },
   {
    "duration": 34,
    "start_time": "2021-12-04T21:28:35.317Z"
   },
   {
    "duration": 18,
    "start_time": "2021-12-04T21:28:35.353Z"
   },
   {
    "duration": 42,
    "start_time": "2021-12-04T21:28:35.373Z"
   },
   {
    "duration": 13,
    "start_time": "2021-12-04T21:28:35.417Z"
   },
   {
    "duration": 5,
    "start_time": "2021-12-04T21:28:35.432Z"
   },
   {
    "duration": 20,
    "start_time": "2021-12-04T21:28:35.439Z"
   },
   {
    "duration": 57,
    "start_time": "2021-12-04T21:28:35.461Z"
   },
   {
    "duration": 6,
    "start_time": "2021-12-04T21:28:35.607Z"
   },
   {
    "duration": 7,
    "start_time": "2021-12-04T21:28:35.614Z"
   },
   {
    "duration": 14,
    "start_time": "2021-12-04T21:28:35.623Z"
   },
   {
    "duration": 80,
    "start_time": "2021-12-04T21:28:35.639Z"
   },
   {
    "duration": 6,
    "start_time": "2021-12-04T21:28:35.807Z"
   },
   {
    "duration": 4,
    "start_time": "2021-12-04T21:29:30.827Z"
   },
   {
    "duration": 4,
    "start_time": "2021-12-04T21:35:06.089Z"
   },
   {
    "duration": 14,
    "start_time": "2021-12-04T21:35:19.519Z"
   },
   {
    "duration": 11,
    "start_time": "2021-12-04T21:35:32.900Z"
   },
   {
    "duration": 5,
    "start_time": "2021-12-04T21:35:57.053Z"
   },
   {
    "duration": 469,
    "start_time": "2021-12-04T21:46:07.396Z"
   },
   {
    "duration": 3,
    "start_time": "2021-12-04T21:46:12.043Z"
   },
   {
    "duration": 137,
    "start_time": "2021-12-04T21:46:12.048Z"
   },
   {
    "duration": 134,
    "start_time": "2021-12-04T21:46:12.188Z"
   },
   {
    "duration": 135,
    "start_time": "2021-12-04T21:46:12.324Z"
   },
   {
    "duration": 8,
    "start_time": "2021-12-04T21:46:12.462Z"
   },
   {
    "duration": 10,
    "start_time": "2021-12-04T21:46:12.472Z"
   },
   {
    "duration": 36,
    "start_time": "2021-12-04T21:46:12.485Z"
   },
   {
    "duration": 38,
    "start_time": "2021-12-04T21:46:12.523Z"
   },
   {
    "duration": 55,
    "start_time": "2021-12-04T21:46:12.565Z"
   },
   {
    "duration": 34,
    "start_time": "2021-12-04T21:46:12.623Z"
   },
   {
    "duration": 13,
    "start_time": "2021-12-04T21:46:12.659Z"
   },
   {
    "duration": 33,
    "start_time": "2021-12-04T21:46:12.674Z"
   },
   {
    "duration": 14,
    "start_time": "2021-12-04T21:46:12.709Z"
   },
   {
    "duration": 6,
    "start_time": "2021-12-04T21:46:12.724Z"
   },
   {
    "duration": 14,
    "start_time": "2021-12-04T21:46:12.732Z"
   },
   {
    "duration": 67,
    "start_time": "2021-12-04T21:46:12.748Z"
   },
   {
    "duration": 5,
    "start_time": "2021-12-04T21:46:12.907Z"
   },
   {
    "duration": 7,
    "start_time": "2021-12-04T21:46:12.914Z"
   },
   {
    "duration": 12,
    "start_time": "2021-12-04T21:46:12.923Z"
   },
   {
    "duration": 9,
    "start_time": "2021-12-04T21:46:12.937Z"
   },
   {
    "duration": 63,
    "start_time": "2021-12-04T21:46:12.948Z"
   },
   {
    "duration": 94,
    "start_time": "2021-12-04T21:46:13.013Z"
   },
   {
    "duration": 14,
    "start_time": "2021-12-04T21:46:13.109Z"
   },
   {
    "duration": 9,
    "start_time": "2021-12-04T21:46:13.124Z"
   },
   {
    "duration": 4,
    "start_time": "2021-12-04T21:46:13.135Z"
   },
   {
    "duration": 7,
    "start_time": "2021-12-04T21:46:13.207Z"
   },
   {
    "duration": 1380,
    "start_time": "2021-12-06T21:07:45.540Z"
   },
   {
    "duration": 198,
    "start_time": "2021-12-06T21:07:46.923Z"
   },
   {
    "duration": 202,
    "start_time": "2021-12-06T21:07:47.124Z"
   },
   {
    "duration": 206,
    "start_time": "2021-12-06T21:07:47.329Z"
   },
   {
    "duration": 41,
    "start_time": "2021-12-06T21:07:47.538Z"
   },
   {
    "duration": 32,
    "start_time": "2021-12-06T21:07:47.582Z"
   },
   {
    "duration": 30,
    "start_time": "2021-12-06T21:07:47.616Z"
   },
   {
    "duration": 80,
    "start_time": "2021-12-06T21:07:47.648Z"
   },
   {
    "duration": 67,
    "start_time": "2021-12-06T21:07:47.732Z"
   },
   {
    "duration": 76,
    "start_time": "2021-12-06T21:07:47.803Z"
   },
   {
    "duration": 19,
    "start_time": "2021-12-06T21:07:47.882Z"
   },
   {
    "duration": 20,
    "start_time": "2021-12-06T21:07:47.904Z"
   },
   {
    "duration": 53,
    "start_time": "2021-12-06T21:07:47.926Z"
   },
   {
    "duration": 7,
    "start_time": "2021-12-06T21:07:47.984Z"
   },
   {
    "duration": 20,
    "start_time": "2021-12-06T21:07:47.994Z"
   },
   {
    "duration": 70,
    "start_time": "2021-12-06T21:07:48.017Z"
   },
   {
    "duration": 9,
    "start_time": "2021-12-06T21:07:48.167Z"
   },
   {
    "duration": 8,
    "start_time": "2021-12-06T21:07:48.269Z"
   },
   {
    "duration": 24,
    "start_time": "2021-12-06T21:07:48.281Z"
   },
   {
    "duration": 66,
    "start_time": "2021-12-06T21:07:48.308Z"
   },
   {
    "duration": 89,
    "start_time": "2021-12-06T21:07:48.377Z"
   },
   {
    "duration": 6,
    "start_time": "2021-12-06T21:07:48.469Z"
   },
   {
    "duration": 25,
    "start_time": "2021-12-06T21:07:48.478Z"
   },
   {
    "duration": 74,
    "start_time": "2021-12-06T21:07:48.506Z"
   },
   {
    "duration": 85,
    "start_time": "2021-12-06T21:07:48.584Z"
   },
   {
    "duration": 13,
    "start_time": "2021-12-06T21:07:48.672Z"
   },
   {
    "duration": 4,
    "start_time": "2021-12-06T21:30:09.540Z"
   },
   {
    "duration": 196,
    "start_time": "2021-12-06T21:30:09.546Z"
   },
   {
    "duration": 172,
    "start_time": "2021-12-06T21:30:09.745Z"
   },
   {
    "duration": 183,
    "start_time": "2021-12-06T21:30:09.920Z"
   },
   {
    "duration": 13,
    "start_time": "2021-12-06T21:30:10.106Z"
   },
   {
    "duration": 35,
    "start_time": "2021-12-06T21:30:10.122Z"
   },
   {
    "duration": 17,
    "start_time": "2021-12-06T21:30:10.168Z"
   },
   {
    "duration": 69,
    "start_time": "2021-12-06T21:30:10.188Z"
   },
   {
    "duration": 51,
    "start_time": "2021-12-06T21:30:10.269Z"
   },
   {
    "duration": 65,
    "start_time": "2021-12-06T21:30:10.324Z"
   },
   {
    "duration": 18,
    "start_time": "2021-12-06T21:30:10.392Z"
   },
   {
    "duration": 25,
    "start_time": "2021-12-06T21:30:10.412Z"
   },
   {
    "duration": 41,
    "start_time": "2021-12-06T21:30:10.440Z"
   },
   {
    "duration": 7,
    "start_time": "2021-12-06T21:30:10.484Z"
   },
   {
    "duration": 20,
    "start_time": "2021-12-06T21:30:10.494Z"
   },
   {
    "duration": 54,
    "start_time": "2021-12-06T21:30:10.517Z"
   },
   {
    "duration": 96,
    "start_time": "2021-12-06T21:30:10.574Z"
   },
   {
    "duration": 8,
    "start_time": "2021-12-06T21:30:10.672Z"
   },
   {
    "duration": 22,
    "start_time": "2021-12-06T21:30:10.682Z"
   },
   {
    "duration": 20,
    "start_time": "2021-12-06T21:30:10.768Z"
   },
   {
    "duration": 79,
    "start_time": "2021-12-06T21:30:10.790Z"
   },
   {
    "duration": 99,
    "start_time": "2021-12-06T21:30:10.873Z"
   },
   {
    "duration": 21,
    "start_time": "2021-12-06T21:30:10.974Z"
   },
   {
    "duration": 69,
    "start_time": "2021-12-06T21:30:10.998Z"
   },
   {
    "duration": 97,
    "start_time": "2021-12-06T21:30:11.070Z"
   },
   {
    "duration": 4,
    "start_time": "2021-12-06T21:30:11.171Z"
   },
   {
    "duration": 5,
    "start_time": "2021-12-06T21:31:25.706Z"
   },
   {
    "duration": 184,
    "start_time": "2021-12-06T21:31:25.715Z"
   },
   {
    "duration": 180,
    "start_time": "2021-12-06T21:31:25.903Z"
   },
   {
    "duration": 183,
    "start_time": "2021-12-06T21:31:26.087Z"
   },
   {
    "duration": 14,
    "start_time": "2021-12-06T21:31:26.273Z"
   },
   {
    "duration": 13,
    "start_time": "2021-12-06T21:31:26.290Z"
   },
   {
    "duration": 14,
    "start_time": "2021-12-06T21:31:26.306Z"
   },
   {
    "duration": 89,
    "start_time": "2021-12-06T21:31:26.322Z"
   },
   {
    "duration": 64,
    "start_time": "2021-12-06T21:31:26.415Z"
   },
   {
    "duration": 49,
    "start_time": "2021-12-06T21:31:26.482Z"
   },
   {
    "duration": 42,
    "start_time": "2021-12-06T21:31:26.533Z"
   },
   {
    "duration": 18,
    "start_time": "2021-12-06T21:31:26.578Z"
   },
   {
    "duration": 18,
    "start_time": "2021-12-06T21:31:26.598Z"
   },
   {
    "duration": 6,
    "start_time": "2021-12-06T21:31:26.618Z"
   },
   {
    "duration": 54,
    "start_time": "2021-12-06T21:31:26.627Z"
   },
   {
    "duration": 83,
    "start_time": "2021-12-06T21:31:26.684Z"
   },
   {
    "duration": 99,
    "start_time": "2021-12-06T21:31:26.771Z"
   },
   {
    "duration": 27,
    "start_time": "2021-12-06T21:31:26.872Z"
   },
   {
    "duration": 24,
    "start_time": "2021-12-06T21:31:26.901Z"
   },
   {
    "duration": 40,
    "start_time": "2021-12-06T21:31:26.927Z"
   },
   {
    "duration": 97,
    "start_time": "2021-12-06T21:31:26.971Z"
   },
   {
    "duration": 8,
    "start_time": "2021-12-06T21:31:27.072Z"
   },
   {
    "duration": 22,
    "start_time": "2021-12-06T21:31:27.083Z"
   },
   {
    "duration": 412,
    "start_time": "2021-12-06T21:31:27.167Z"
   },
   {
    "duration": -361,
    "start_time": "2021-12-06T21:31:27.942Z"
   },
   {
    "duration": -361,
    "start_time": "2021-12-06T21:31:27.944Z"
   },
   {
    "duration": 4,
    "start_time": "2021-12-06T21:31:59.988Z"
   },
   {
    "duration": 197,
    "start_time": "2021-12-06T21:31:59.995Z"
   },
   {
    "duration": 172,
    "start_time": "2021-12-06T21:32:00.195Z"
   },
   {
    "duration": 179,
    "start_time": "2021-12-06T21:32:00.370Z"
   },
   {
    "duration": 17,
    "start_time": "2021-12-06T21:32:00.552Z"
   },
   {
    "duration": 19,
    "start_time": "2021-12-06T21:32:00.571Z"
   },
   {
    "duration": 23,
    "start_time": "2021-12-06T21:32:00.593Z"
   },
   {
    "duration": 69,
    "start_time": "2021-12-06T21:32:00.618Z"
   },
   {
    "duration": 51,
    "start_time": "2021-12-06T21:32:00.691Z"
   },
   {
    "duration": 65,
    "start_time": "2021-12-06T21:32:00.746Z"
   },
   {
    "duration": 16,
    "start_time": "2021-12-06T21:32:00.813Z"
   },
   {
    "duration": 43,
    "start_time": "2021-12-06T21:32:00.832Z"
   },
   {
    "duration": 16,
    "start_time": "2021-12-06T21:32:00.878Z"
   },
   {
    "duration": 6,
    "start_time": "2021-12-06T21:32:00.896Z"
   },
   {
    "duration": 31,
    "start_time": "2021-12-06T21:32:00.904Z"
   },
   {
    "duration": 43,
    "start_time": "2021-12-06T21:32:00.937Z"
   },
   {
    "duration": 99,
    "start_time": "2021-12-06T21:32:01.069Z"
   },
   {
    "duration": 7,
    "start_time": "2021-12-06T21:32:01.170Z"
   },
   {
    "duration": 23,
    "start_time": "2021-12-06T21:32:01.180Z"
   },
   {
    "duration": 65,
    "start_time": "2021-12-06T21:32:01.205Z"
   },
   {
    "duration": 97,
    "start_time": "2021-12-06T21:32:01.274Z"
   },
   {
    "duration": 24,
    "start_time": "2021-12-06T21:32:01.373Z"
   },
   {
    "duration": 34,
    "start_time": "2021-12-06T21:32:01.400Z"
   },
   {
    "duration": 33,
    "start_time": "2021-12-06T21:32:01.437Z"
   },
   {
    "duration": 94,
    "start_time": "2021-12-06T21:32:01.473Z"
   },
   {
    "duration": 103,
    "start_time": "2021-12-06T21:32:01.571Z"
   },
   {
    "duration": 18,
    "start_time": "2021-12-06T21:32:16.015Z"
   },
   {
    "duration": 6,
    "start_time": "2021-12-06T21:32:16.706Z"
   },
   {
    "duration": 5,
    "start_time": "2021-12-06T21:32:20.672Z"
   },
   {
    "duration": 181,
    "start_time": "2021-12-06T21:32:20.679Z"
   },
   {
    "duration": 178,
    "start_time": "2021-12-06T21:32:20.863Z"
   },
   {
    "duration": 175,
    "start_time": "2021-12-06T21:32:21.044Z"
   },
   {
    "duration": 14,
    "start_time": "2021-12-06T21:32:21.221Z"
   },
   {
    "duration": 34,
    "start_time": "2021-12-06T21:32:21.238Z"
   },
   {
    "duration": 13,
    "start_time": "2021-12-06T21:32:21.275Z"
   },
   {
    "duration": 54,
    "start_time": "2021-12-06T21:32:21.292Z"
   },
   {
    "duration": 65,
    "start_time": "2021-12-06T21:32:21.349Z"
   },
   {
    "duration": 74,
    "start_time": "2021-12-06T21:32:21.417Z"
   },
   {
    "duration": 17,
    "start_time": "2021-12-06T21:32:21.494Z"
   },
   {
    "duration": 17,
    "start_time": "2021-12-06T21:32:21.513Z"
   },
   {
    "duration": 45,
    "start_time": "2021-12-06T21:32:21.533Z"
   },
   {
    "duration": 6,
    "start_time": "2021-12-06T21:32:21.581Z"
   },
   {
    "duration": 22,
    "start_time": "2021-12-06T21:32:21.590Z"
   },
   {
    "duration": 154,
    "start_time": "2021-12-06T21:32:21.614Z"
   },
   {
    "duration": 7,
    "start_time": "2021-12-06T21:32:21.771Z"
   },
   {
    "duration": 8,
    "start_time": "2021-12-06T21:32:21.781Z"
   },
   {
    "duration": 83,
    "start_time": "2021-12-06T21:32:21.792Z"
   },
   {
    "duration": 15,
    "start_time": "2021-12-06T21:32:21.877Z"
   },
   {
    "duration": 95,
    "start_time": "2021-12-06T21:32:21.972Z"
   },
   {
    "duration": 7,
    "start_time": "2021-12-06T21:32:22.070Z"
   },
   {
    "duration": 19,
    "start_time": "2021-12-06T21:32:22.081Z"
   },
   {
    "duration": 69,
    "start_time": "2021-12-06T21:32:22.102Z"
   },
   {
    "duration": 94,
    "start_time": "2021-12-06T21:32:22.175Z"
   },
   {
    "duration": 11,
    "start_time": "2021-12-06T21:32:22.272Z"
   },
   {
    "duration": 4,
    "start_time": "2021-12-06T21:33:58.180Z"
   },
   {
    "duration": 305,
    "start_time": "2021-12-06T21:39:30.631Z"
   },
   {
    "duration": 3,
    "start_time": "2021-12-06T21:39:35.669Z"
   },
   {
    "duration": 4,
    "start_time": "2021-12-06T21:39:36.093Z"
   },
   {
    "duration": 7,
    "start_time": "2021-12-06T21:41:43.706Z"
   },
   {
    "duration": 5,
    "start_time": "2021-12-06T21:42:05.232Z"
   },
   {
    "duration": 9,
    "start_time": "2021-12-06T21:43:12.140Z"
   },
   {
    "duration": 4,
    "start_time": "2021-12-06T21:48:14.716Z"
   },
   {
    "duration": 3,
    "start_time": "2021-12-06T21:48:25.444Z"
   },
   {
    "duration": 224,
    "start_time": "2021-12-07T19:46:31.191Z"
   },
   {
    "duration": 1039,
    "start_time": "2021-12-07T19:46:35.074Z"
   },
   {
    "duration": 134,
    "start_time": "2021-12-07T19:46:36.115Z"
   },
   {
    "duration": 127,
    "start_time": "2021-12-07T19:46:36.251Z"
   },
   {
    "duration": 124,
    "start_time": "2021-12-07T19:46:36.380Z"
   },
   {
    "duration": 15,
    "start_time": "2021-12-07T19:46:36.506Z"
   },
   {
    "duration": 8,
    "start_time": "2021-12-07T19:46:36.523Z"
   },
   {
    "duration": 9,
    "start_time": "2021-12-07T19:46:36.533Z"
   },
   {
    "duration": 63,
    "start_time": "2021-12-07T19:46:36.544Z"
   },
   {
    "duration": 37,
    "start_time": "2021-12-07T19:46:36.611Z"
   },
   {
    "duration": 51,
    "start_time": "2021-12-07T19:46:36.650Z"
   },
   {
    "duration": 12,
    "start_time": "2021-12-07T19:46:36.703Z"
   },
   {
    "duration": 12,
    "start_time": "2021-12-07T19:46:36.716Z"
   },
   {
    "duration": 12,
    "start_time": "2021-12-07T19:46:36.729Z"
   },
   {
    "duration": 4,
    "start_time": "2021-12-07T19:46:36.743Z"
   },
   {
    "duration": 45,
    "start_time": "2021-12-07T19:46:36.748Z"
   },
   {
    "duration": 12,
    "start_time": "2021-12-07T19:46:36.795Z"
   },
   {
    "duration": 6,
    "start_time": "2021-12-07T19:46:36.809Z"
   },
   {
    "duration": 99,
    "start_time": "2021-12-07T19:46:36.892Z"
   },
   {
    "duration": 15,
    "start_time": "2021-12-07T19:46:36.993Z"
   },
   {
    "duration": 9,
    "start_time": "2021-12-07T19:46:37.009Z"
   },
   {
    "duration": 77,
    "start_time": "2021-12-07T19:46:37.020Z"
   },
   {
    "duration": 95,
    "start_time": "2021-12-07T19:46:37.100Z"
   },
   {
    "duration": 17,
    "start_time": "2021-12-07T19:46:37.197Z"
   },
   {
    "duration": 10,
    "start_time": "2021-12-07T19:46:37.215Z"
   },
   {
    "duration": 163,
    "start_time": "2021-12-07T19:46:37.227Z"
   },
   {
    "duration": 7,
    "start_time": "2021-12-07T19:46:37.392Z"
   },
   {
    "duration": 5,
    "start_time": "2021-12-07T19:46:37.402Z"
   },
   {
    "duration": 7,
    "start_time": "2021-12-07T19:46:37.408Z"
   },
   {
    "duration": 9,
    "start_time": "2021-12-07T19:46:37.416Z"
   },
   {
    "duration": 2,
    "start_time": "2021-12-07T19:46:37.427Z"
   },
   {
    "duration": 5,
    "start_time": "2021-12-07T19:46:37.431Z"
   },
   {
    "duration": 216,
    "start_time": "2021-12-07T20:12:59.479Z"
   },
   {
    "duration": 179,
    "start_time": "2021-12-07T20:13:11.054Z"
   },
   {
    "duration": 2957,
    "start_time": "2021-12-07T20:14:33.491Z"
   },
   {
    "duration": 4,
    "start_time": "2021-12-07T20:14:37.349Z"
   },
   {
    "duration": 3,
    "start_time": "2021-12-07T20:15:47.102Z"
   },
   {
    "duration": 4,
    "start_time": "2021-12-07T20:15:47.744Z"
   },
   {
    "duration": 250,
    "start_time": "2021-12-07T20:15:48.107Z"
   },
   {
    "duration": 3,
    "start_time": "2021-12-07T20:19:13.733Z"
   },
   {
    "duration": 376,
    "start_time": "2021-12-07T20:19:14.685Z"
   },
   {
    "duration": 354,
    "start_time": "2021-12-07T20:19:26.321Z"
   },
   {
    "duration": 3,
    "start_time": "2021-12-07T20:19:33.570Z"
   },
   {
    "duration": 3,
    "start_time": "2021-12-07T20:19:34.838Z"
   },
   {
    "duration": 2981,
    "start_time": "2021-12-07T20:19:35.557Z"
   },
   {
    "duration": 3,
    "start_time": "2021-12-07T20:19:38.540Z"
   },
   {
    "duration": 4,
    "start_time": "2021-12-07T20:35:34.106Z"
   },
   {
    "duration": 147,
    "start_time": "2021-12-07T20:35:34.112Z"
   },
   {
    "duration": 160,
    "start_time": "2021-12-07T20:35:34.262Z"
   },
   {
    "duration": 138,
    "start_time": "2021-12-07T20:35:34.424Z"
   },
   {
    "duration": 8,
    "start_time": "2021-12-07T20:35:34.564Z"
   },
   {
    "duration": 21,
    "start_time": "2021-12-07T20:35:34.573Z"
   },
   {
    "duration": 8,
    "start_time": "2021-12-07T20:35:34.595Z"
   },
   {
    "duration": 40,
    "start_time": "2021-12-07T20:35:34.606Z"
   },
   {
    "duration": 60,
    "start_time": "2021-12-07T20:35:34.649Z"
   },
   {
    "duration": 34,
    "start_time": "2021-12-07T20:35:34.711Z"
   },
   {
    "duration": 13,
    "start_time": "2021-12-07T20:35:34.747Z"
   },
   {
    "duration": 38,
    "start_time": "2021-12-07T20:35:34.762Z"
   },
   {
    "duration": 13,
    "start_time": "2021-12-07T20:35:34.802Z"
   },
   {
    "duration": 6,
    "start_time": "2021-12-07T20:35:34.817Z"
   },
   {
    "duration": 14,
    "start_time": "2021-12-07T20:35:34.825Z"
   },
   {
    "duration": 51,
    "start_time": "2021-12-07T20:35:34.841Z"
   },
   {
    "duration": 98,
    "start_time": "2021-12-07T20:35:34.894Z"
   },
   {
    "duration": 7,
    "start_time": "2021-12-07T20:35:34.994Z"
   },
   {
    "duration": 15,
    "start_time": "2021-12-07T20:35:35.002Z"
   },
   {
    "duration": 72,
    "start_time": "2021-12-07T20:35:35.019Z"
   },
   {
    "duration": 6,
    "start_time": "2021-12-07T20:35:35.094Z"
   },
   {
    "duration": 7,
    "start_time": "2021-12-07T20:35:35.190Z"
   },
   {
    "duration": 15,
    "start_time": "2021-12-07T20:35:35.200Z"
   },
   {
    "duration": 77,
    "start_time": "2021-12-07T20:35:35.217Z"
   },
   {
    "duration": 94,
    "start_time": "2021-12-07T20:35:35.297Z"
   },
   {
    "duration": 3,
    "start_time": "2021-12-07T20:35:35.393Z"
   },
   {
    "duration": 8,
    "start_time": "2021-12-07T20:35:35.398Z"
   },
   {
    "duration": 4,
    "start_time": "2021-12-07T20:35:35.408Z"
   },
   {
    "duration": 7,
    "start_time": "2021-12-07T20:35:35.414Z"
   },
   {
    "duration": 7,
    "start_time": "2021-12-07T20:35:35.423Z"
   },
   {
    "duration": 9,
    "start_time": "2021-12-07T20:35:35.432Z"
   },
   {
    "duration": 3136,
    "start_time": "2021-12-07T20:35:35.443Z"
   },
   {
    "duration": 4,
    "start_time": "2021-12-07T20:35:38.581Z"
   },
   {
    "duration": 3,
    "start_time": "2021-12-07T20:37:30.656Z"
   },
   {
    "duration": 143,
    "start_time": "2021-12-07T20:37:30.661Z"
   },
   {
    "duration": 134,
    "start_time": "2021-12-07T20:37:30.806Z"
   },
   {
    "duration": 137,
    "start_time": "2021-12-07T20:37:30.942Z"
   },
   {
    "duration": 12,
    "start_time": "2021-12-07T20:37:31.080Z"
   },
   {
    "duration": 11,
    "start_time": "2021-12-07T20:37:31.094Z"
   },
   {
    "duration": 11,
    "start_time": "2021-12-07T20:37:31.107Z"
   },
   {
    "duration": 46,
    "start_time": "2021-12-07T20:37:31.119Z"
   },
   {
    "duration": 48,
    "start_time": "2021-12-07T20:37:31.167Z"
   },
   {
    "duration": 35,
    "start_time": "2021-12-07T20:37:31.217Z"
   },
   {
    "duration": 11,
    "start_time": "2021-12-07T20:37:31.254Z"
   },
   {
    "duration": 35,
    "start_time": "2021-12-07T20:37:31.267Z"
   },
   {
    "duration": 16,
    "start_time": "2021-12-07T20:37:31.304Z"
   },
   {
    "duration": 4,
    "start_time": "2021-12-07T20:37:31.322Z"
   },
   {
    "duration": 23,
    "start_time": "2021-12-07T20:37:31.327Z"
   },
   {
    "duration": 45,
    "start_time": "2021-12-07T20:37:31.352Z"
   },
   {
    "duration": 93,
    "start_time": "2021-12-07T20:37:31.399Z"
   },
   {
    "duration": 8,
    "start_time": "2021-12-07T20:37:31.494Z"
   },
   {
    "duration": 16,
    "start_time": "2021-12-07T20:37:31.504Z"
   },
   {
    "duration": 70,
    "start_time": "2021-12-07T20:37:31.522Z"
   },
   {
    "duration": 6,
    "start_time": "2021-12-07T20:37:31.595Z"
   },
   {
    "duration": 6,
    "start_time": "2021-12-07T20:37:31.692Z"
   },
   {
    "duration": 14,
    "start_time": "2021-12-07T20:37:31.700Z"
   },
   {
    "duration": 9,
    "start_time": "2021-12-07T20:37:31.716Z"
   },
   {
    "duration": 6,
    "start_time": "2021-12-07T20:37:31.792Z"
   },
   {
    "duration": 93,
    "start_time": "2021-12-07T20:37:31.801Z"
   },
   {
    "duration": 7,
    "start_time": "2021-12-07T20:37:31.897Z"
   },
   {
    "duration": 6,
    "start_time": "2021-12-07T20:37:31.906Z"
   },
   {
    "duration": 7,
    "start_time": "2021-12-07T20:37:31.914Z"
   },
   {
    "duration": 2,
    "start_time": "2021-12-07T20:37:31.923Z"
   },
   {
    "duration": 8,
    "start_time": "2021-12-07T20:37:31.927Z"
   },
   {
    "duration": 3079,
    "start_time": "2021-12-07T20:37:31.936Z"
   },
   {
    "duration": 4,
    "start_time": "2021-12-07T20:37:35.016Z"
   },
   {
    "duration": 4,
    "start_time": "2021-12-07T21:35:56.405Z"
   },
   {
    "duration": 7,
    "start_time": "2021-12-07T21:37:58.735Z"
   },
   {
    "duration": 198,
    "start_time": "2021-12-07T21:46:03.067Z"
   },
   {
    "duration": 3,
    "start_time": "2021-12-07T21:47:22.829Z"
   },
   {
    "duration": 139,
    "start_time": "2021-12-07T21:47:22.834Z"
   },
   {
    "duration": 145,
    "start_time": "2021-12-07T21:47:22.976Z"
   },
   {
    "duration": 139,
    "start_time": "2021-12-07T21:47:23.123Z"
   },
   {
    "duration": 9,
    "start_time": "2021-12-07T21:47:23.263Z"
   },
   {
    "duration": 20,
    "start_time": "2021-12-07T21:47:23.274Z"
   },
   {
    "duration": 10,
    "start_time": "2021-12-07T21:47:23.296Z"
   },
   {
    "duration": 37,
    "start_time": "2021-12-07T21:47:23.308Z"
   },
   {
    "duration": 54,
    "start_time": "2021-12-07T21:47:23.347Z"
   },
   {
    "duration": 35,
    "start_time": "2021-12-07T21:47:23.402Z"
   },
   {
    "duration": 12,
    "start_time": "2021-12-07T21:47:23.439Z"
   },
   {
    "duration": 12,
    "start_time": "2021-12-07T21:47:23.452Z"
   },
   {
    "duration": 38,
    "start_time": "2021-12-07T21:47:23.466Z"
   },
   {
    "duration": 5,
    "start_time": "2021-12-07T21:47:23.505Z"
   },
   {
    "duration": 16,
    "start_time": "2021-12-07T21:47:23.511Z"
   },
   {
    "duration": 11,
    "start_time": "2021-12-07T21:47:23.529Z"
   },
   {
    "duration": 97,
    "start_time": "2021-12-07T21:47:23.593Z"
   },
   {
    "duration": 5,
    "start_time": "2021-12-07T21:47:23.693Z"
   },
   {
    "duration": 16,
    "start_time": "2021-12-07T21:47:23.699Z"
   },
   {
    "duration": 10,
    "start_time": "2021-12-07T21:47:23.716Z"
   },
   {
    "duration": 67,
    "start_time": "2021-12-07T21:47:23.728Z"
   },
   {
    "duration": 94,
    "start_time": "2021-12-07T21:47:23.797Z"
   },
   {
    "duration": 13,
    "start_time": "2021-12-07T21:47:23.895Z"
   },
   {
    "duration": 10,
    "start_time": "2021-12-07T21:47:23.909Z"
   },
   {
    "duration": 75,
    "start_time": "2021-12-07T21:47:23.924Z"
   },
   {
    "duration": 91,
    "start_time": "2021-12-07T21:47:24.001Z"
   },
   {
    "duration": 5,
    "start_time": "2021-12-07T21:47:24.094Z"
   },
   {
    "duration": 9,
    "start_time": "2021-12-07T21:47:24.101Z"
   },
   {
    "duration": 9,
    "start_time": "2021-12-07T21:47:24.112Z"
   },
   {
    "duration": 3,
    "start_time": "2021-12-07T21:47:24.123Z"
   },
   {
    "duration": 6,
    "start_time": "2021-12-07T21:47:24.128Z"
   },
   {
    "duration": 3169,
    "start_time": "2021-12-07T21:47:24.135Z"
   },
   {
    "duration": 6,
    "start_time": "2021-12-07T21:47:27.305Z"
   },
   {
    "duration": 200,
    "start_time": "2021-12-07T21:47:27.313Z"
   },
   {
    "duration": 3,
    "start_time": "2021-12-07T21:48:47.472Z"
   },
   {
    "duration": 3058,
    "start_time": "2021-12-07T21:48:48.709Z"
   },
   {
    "duration": 7,
    "start_time": "2021-12-07T21:48:51.769Z"
   },
   {
    "duration": 189,
    "start_time": "2021-12-07T21:48:51.778Z"
   },
   {
    "duration": 3049,
    "start_time": "2021-12-07T21:49:54.309Z"
   },
   {
    "duration": 234,
    "start_time": "2021-12-07T21:50:24.423Z"
   },
   {
    "duration": 184,
    "start_time": "2021-12-07T21:50:31.448Z"
   },
   {
    "duration": 3,
    "start_time": "2021-12-07T21:50:34.612Z"
   },
   {
    "duration": 145,
    "start_time": "2021-12-07T21:50:34.617Z"
   },
   {
    "duration": 134,
    "start_time": "2021-12-07T21:50:34.764Z"
   },
   {
    "duration": 133,
    "start_time": "2021-12-07T21:50:34.900Z"
   },
   {
    "duration": 8,
    "start_time": "2021-12-07T21:50:35.035Z"
   },
   {
    "duration": 11,
    "start_time": "2021-12-07T21:50:35.044Z"
   },
   {
    "duration": 13,
    "start_time": "2021-12-07T21:50:35.056Z"
   },
   {
    "duration": 54,
    "start_time": "2021-12-07T21:50:35.070Z"
   },
   {
    "duration": 35,
    "start_time": "2021-12-07T21:50:35.126Z"
   },
   {
    "duration": 50,
    "start_time": "2021-12-07T21:50:35.163Z"
   },
   {
    "duration": 12,
    "start_time": "2021-12-07T21:50:35.214Z"
   },
   {
    "duration": 27,
    "start_time": "2021-12-07T21:50:35.228Z"
   },
   {
    "duration": 31,
    "start_time": "2021-12-07T21:50:35.257Z"
   },
   {
    "duration": 11,
    "start_time": "2021-12-07T21:50:35.290Z"
   },
   {
    "duration": 43,
    "start_time": "2021-12-07T21:50:35.302Z"
   },
   {
    "duration": 28,
    "start_time": "2021-12-07T21:50:35.346Z"
   },
   {
    "duration": 120,
    "start_time": "2021-12-07T21:50:35.376Z"
   },
   {
    "duration": 31,
    "start_time": "2021-12-07T21:50:35.498Z"
   },
   {
    "duration": 64,
    "start_time": "2021-12-07T21:50:35.530Z"
   },
   {
    "duration": 10,
    "start_time": "2021-12-07T21:50:35.595Z"
   },
   {
    "duration": 92,
    "start_time": "2021-12-07T21:50:35.608Z"
   },
   {
    "duration": 15,
    "start_time": "2021-12-07T21:50:35.792Z"
   },
   {
    "duration": 22,
    "start_time": "2021-12-07T21:50:35.809Z"
   },
   {
    "duration": 16,
    "start_time": "2021-12-07T21:50:35.833Z"
   },
   {
    "duration": 47,
    "start_time": "2021-12-07T21:50:35.852Z"
   },
   {
    "duration": 94,
    "start_time": "2021-12-07T21:50:35.901Z"
   },
   {
    "duration": 11,
    "start_time": "2021-12-07T21:50:35.998Z"
   },
   {
    "duration": 19,
    "start_time": "2021-12-07T21:50:36.011Z"
   },
   {
    "duration": 27,
    "start_time": "2021-12-07T21:50:36.031Z"
   },
   {
    "duration": 5,
    "start_time": "2021-12-07T21:50:36.059Z"
   },
   {
    "duration": 14,
    "start_time": "2021-12-07T21:50:36.066Z"
   },
   {
    "duration": 3014,
    "start_time": "2021-12-07T21:50:36.081Z"
   },
   {
    "duration": 6,
    "start_time": "2021-12-07T21:50:39.097Z"
   },
   {
    "duration": 3063,
    "start_time": "2021-12-07T21:50:39.104Z"
   },
   {
    "duration": 3160,
    "start_time": "2021-12-07T21:52:35.793Z"
   },
   {
    "duration": 3,
    "start_time": "2021-12-07T21:53:01.214Z"
   },
   {
    "duration": 147,
    "start_time": "2021-12-07T21:53:01.218Z"
   },
   {
    "duration": 140,
    "start_time": "2021-12-07T21:53:01.367Z"
   },
   {
    "duration": 140,
    "start_time": "2021-12-07T21:53:01.509Z"
   },
   {
    "duration": 8,
    "start_time": "2021-12-07T21:53:01.650Z"
   },
   {
    "duration": 17,
    "start_time": "2021-12-07T21:53:01.660Z"
   },
   {
    "duration": 17,
    "start_time": "2021-12-07T21:53:01.679Z"
   },
   {
    "duration": 44,
    "start_time": "2021-12-07T21:53:01.699Z"
   },
   {
    "duration": 49,
    "start_time": "2021-12-07T21:53:01.745Z"
   },
   {
    "duration": 36,
    "start_time": "2021-12-07T21:53:01.797Z"
   },
   {
    "duration": 13,
    "start_time": "2021-12-07T21:53:01.835Z"
   },
   {
    "duration": 14,
    "start_time": "2021-12-07T21:53:01.850Z"
   },
   {
    "duration": 14,
    "start_time": "2021-12-07T21:53:01.892Z"
   },
   {
    "duration": 5,
    "start_time": "2021-12-07T21:53:01.908Z"
   },
   {
    "duration": 21,
    "start_time": "2021-12-07T21:53:01.914Z"
   },
   {
    "duration": 9,
    "start_time": "2021-12-07T21:53:01.937Z"
   },
   {
    "duration": 8,
    "start_time": "2021-12-07T21:53:01.992Z"
   },
   {
    "duration": 5,
    "start_time": "2021-12-07T21:53:02.092Z"
   },
   {
    "duration": 16,
    "start_time": "2021-12-07T21:53:02.099Z"
   },
   {
    "duration": 13,
    "start_time": "2021-12-07T21:53:02.116Z"
   },
   {
    "duration": 6,
    "start_time": "2021-12-07T21:53:02.194Z"
   },
   {
    "duration": 5,
    "start_time": "2021-12-07T21:53:02.292Z"
   },
   {
    "duration": 15,
    "start_time": "2021-12-07T21:53:02.300Z"
   },
   {
    "duration": 10,
    "start_time": "2021-12-07T21:53:02.317Z"
   },
   {
    "duration": 68,
    "start_time": "2021-12-07T21:53:02.329Z"
   },
   {
    "duration": 93,
    "start_time": "2021-12-07T21:53:02.400Z"
   },
   {
    "duration": 6,
    "start_time": "2021-12-07T21:53:02.495Z"
   },
   {
    "duration": 6,
    "start_time": "2021-12-07T21:53:02.503Z"
   },
   {
    "duration": 14,
    "start_time": "2021-12-07T21:53:02.511Z"
   },
   {
    "duration": 10,
    "start_time": "2021-12-07T21:53:02.527Z"
   },
   {
    "duration": 7,
    "start_time": "2021-12-07T21:53:02.538Z"
   },
   {
    "duration": 3047,
    "start_time": "2021-12-07T21:53:02.546Z"
   },
   {
    "duration": 6,
    "start_time": "2021-12-07T21:53:05.595Z"
   },
   {
    "duration": 3058,
    "start_time": "2021-12-07T21:53:05.602Z"
   },
   {
    "duration": 3069,
    "start_time": "2021-12-07T21:53:08.662Z"
   },
   {
    "duration": 3,
    "start_time": "2021-12-07T21:53:43.814Z"
   },
   {
    "duration": 139,
    "start_time": "2021-12-07T21:53:43.819Z"
   },
   {
    "duration": 131,
    "start_time": "2021-12-07T21:53:43.960Z"
   },
   {
    "duration": 132,
    "start_time": "2021-12-07T21:53:44.093Z"
   },
   {
    "duration": 8,
    "start_time": "2021-12-07T21:53:44.227Z"
   },
   {
    "duration": 11,
    "start_time": "2021-12-07T21:53:44.236Z"
   },
   {
    "duration": 10,
    "start_time": "2021-12-07T21:53:44.248Z"
   },
   {
    "duration": 55,
    "start_time": "2021-12-07T21:53:44.260Z"
   },
   {
    "duration": 32,
    "start_time": "2021-12-07T21:53:44.317Z"
   },
   {
    "duration": 48,
    "start_time": "2021-12-07T21:53:44.352Z"
   },
   {
    "duration": 11,
    "start_time": "2021-12-07T21:53:44.402Z"
   },
   {
    "duration": 11,
    "start_time": "2021-12-07T21:53:44.415Z"
   },
   {
    "duration": 11,
    "start_time": "2021-12-07T21:53:44.428Z"
   },
   {
    "duration": 4,
    "start_time": "2021-12-07T21:53:44.441Z"
   },
   {
    "duration": 45,
    "start_time": "2021-12-07T21:53:44.446Z"
   },
   {
    "duration": 15,
    "start_time": "2021-12-07T21:53:44.493Z"
   },
   {
    "duration": 82,
    "start_time": "2021-12-07T21:53:44.510Z"
   },
   {
    "duration": 97,
    "start_time": "2021-12-07T21:53:44.595Z"
   },
   {
    "duration": 14,
    "start_time": "2021-12-07T21:53:44.694Z"
   },
   {
    "duration": 9,
    "start_time": "2021-12-07T21:53:44.710Z"
   },
   {
    "duration": 73,
    "start_time": "2021-12-07T21:53:44.721Z"
   },
   {
    "duration": 6,
    "start_time": "2021-12-07T21:53:44.797Z"
   },
   {
    "duration": 100,
    "start_time": "2021-12-07T21:53:44.805Z"
   },
   {
    "duration": 9,
    "start_time": "2021-12-07T21:53:44.907Z"
   },
   {
    "duration": 79,
    "start_time": "2021-12-07T21:53:44.918Z"
   },
   {
    "duration": 3,
    "start_time": "2021-12-07T21:53:45.091Z"
   },
   {
    "duration": 14,
    "start_time": "2021-12-07T21:53:45.098Z"
   },
   {
    "duration": 22,
    "start_time": "2021-12-07T21:53:45.113Z"
   },
   {
    "duration": 23,
    "start_time": "2021-12-07T21:53:45.136Z"
   },
   {
    "duration": 16,
    "start_time": "2021-12-07T21:53:45.161Z"
   },
   {
    "duration": 16,
    "start_time": "2021-12-07T21:53:45.178Z"
   },
   {
    "duration": 3072,
    "start_time": "2021-12-07T21:53:45.196Z"
   },
   {
    "duration": 7,
    "start_time": "2021-12-07T21:53:48.270Z"
   },
   {
    "duration": 3073,
    "start_time": "2021-12-07T21:53:48.278Z"
   },
   {
    "duration": 3066,
    "start_time": "2021-12-07T21:53:51.353Z"
   },
   {
    "duration": 3,
    "start_time": "2021-12-07T22:39:13.358Z"
   },
   {
    "duration": 137,
    "start_time": "2021-12-07T22:39:13.363Z"
   },
   {
    "duration": 136,
    "start_time": "2021-12-07T22:39:13.502Z"
   },
   {
    "duration": 139,
    "start_time": "2021-12-07T22:39:13.641Z"
   },
   {
    "duration": 13,
    "start_time": "2021-12-07T22:39:13.781Z"
   },
   {
    "duration": 10,
    "start_time": "2021-12-07T22:39:13.796Z"
   },
   {
    "duration": 10,
    "start_time": "2021-12-07T22:39:13.808Z"
   },
   {
    "duration": 39,
    "start_time": "2021-12-07T22:39:13.819Z"
   },
   {
    "duration": 61,
    "start_time": "2021-12-07T22:39:13.861Z"
   },
   {
    "duration": 33,
    "start_time": "2021-12-07T22:39:13.925Z"
   },
   {
    "duration": 36,
    "start_time": "2021-12-07T22:39:13.960Z"
   },
   {
    "duration": 11,
    "start_time": "2021-12-07T22:39:13.998Z"
   },
   {
    "duration": 11,
    "start_time": "2021-12-07T22:39:14.010Z"
   },
   {
    "duration": 4,
    "start_time": "2021-12-07T22:39:14.022Z"
   },
   {
    "duration": 14,
    "start_time": "2021-12-07T22:39:14.027Z"
   },
   {
    "duration": 49,
    "start_time": "2021-12-07T22:39:14.042Z"
   },
   {
    "duration": 6,
    "start_time": "2021-12-07T22:39:14.094Z"
   },
   {
    "duration": 4,
    "start_time": "2021-12-07T22:39:14.192Z"
   },
   {
    "duration": 15,
    "start_time": "2021-12-07T22:39:14.198Z"
   },
   {
    "duration": 10,
    "start_time": "2021-12-07T22:39:14.214Z"
   },
   {
    "duration": 69,
    "start_time": "2021-12-07T22:39:14.226Z"
   },
   {
    "duration": 95,
    "start_time": "2021-12-07T22:39:14.297Z"
   },
   {
    "duration": 15,
    "start_time": "2021-12-07T22:39:14.394Z"
   },
   {
    "duration": 10,
    "start_time": "2021-12-07T22:39:14.410Z"
   },
   {
    "duration": 74,
    "start_time": "2021-12-07T22:39:14.422Z"
   },
   {
    "duration": 92,
    "start_time": "2021-12-07T22:39:14.500Z"
   },
   {
    "duration": 3,
    "start_time": "2021-12-07T22:39:14.596Z"
   },
   {
    "duration": 8,
    "start_time": "2021-12-07T22:39:14.601Z"
   },
   {
    "duration": 9,
    "start_time": "2021-12-07T22:39:14.611Z"
   },
   {
    "duration": 3,
    "start_time": "2021-12-07T22:39:14.622Z"
   },
   {
    "duration": 6,
    "start_time": "2021-12-07T22:39:14.627Z"
   },
   {
    "duration": 3090,
    "start_time": "2021-12-07T22:39:14.635Z"
   },
   {
    "duration": 6,
    "start_time": "2021-12-07T22:39:17.727Z"
   },
   {
    "duration": 3049,
    "start_time": "2021-12-07T22:39:17.734Z"
   },
   {
    "duration": 3119,
    "start_time": "2021-12-07T22:39:20.785Z"
   },
   {
    "duration": 3,
    "start_time": "2021-12-07T22:40:37.353Z"
   },
   {
    "duration": 137,
    "start_time": "2021-12-07T22:40:37.358Z"
   },
   {
    "duration": 133,
    "start_time": "2021-12-07T22:40:37.497Z"
   },
   {
    "duration": 130,
    "start_time": "2021-12-07T22:40:37.632Z"
   },
   {
    "duration": 9,
    "start_time": "2021-12-07T22:40:37.764Z"
   },
   {
    "duration": 18,
    "start_time": "2021-12-07T22:40:37.774Z"
   },
   {
    "duration": 8,
    "start_time": "2021-12-07T22:40:37.794Z"
   },
   {
    "duration": 40,
    "start_time": "2021-12-07T22:40:37.803Z"
   },
   {
    "duration": 47,
    "start_time": "2021-12-07T22:40:37.845Z"
   },
   {
    "duration": 32,
    "start_time": "2021-12-07T22:40:37.894Z"
   },
   {
    "duration": 11,
    "start_time": "2021-12-07T22:40:37.928Z"
   },
   {
    "duration": 12,
    "start_time": "2021-12-07T22:40:37.941Z"
   },
   {
    "duration": 40,
    "start_time": "2021-12-07T22:40:37.955Z"
   },
   {
    "duration": 3,
    "start_time": "2021-12-07T22:40:37.997Z"
   },
   {
    "duration": 14,
    "start_time": "2021-12-07T22:40:38.002Z"
   },
   {
    "duration": 11,
    "start_time": "2021-12-07T22:40:38.017Z"
   },
   {
    "duration": 71,
    "start_time": "2021-12-07T22:40:38.029Z"
   },
   {
    "duration": 90,
    "start_time": "2021-12-07T22:40:38.102Z"
   },
   {
    "duration": 14,
    "start_time": "2021-12-07T22:40:38.194Z"
   },
   {
    "duration": 82,
    "start_time": "2021-12-07T22:40:38.210Z"
   },
   {
    "duration": 6,
    "start_time": "2021-12-07T22:40:38.294Z"
   },
   {
    "duration": 11,
    "start_time": "2021-12-07T22:40:38.392Z"
   },
   {
    "duration": 21,
    "start_time": "2021-12-07T22:40:38.405Z"
   },
   {
    "duration": 14,
    "start_time": "2021-12-07T22:40:38.428Z"
   },
   {
    "duration": 147,
    "start_time": "2021-12-07T22:40:38.445Z"
   },
   {
    "duration": 11,
    "start_time": "2021-12-07T22:40:38.594Z"
   },
   {
    "duration": 21,
    "start_time": "2021-12-07T22:40:38.608Z"
   },
   {
    "duration": 15,
    "start_time": "2021-12-07T22:40:38.631Z"
   },
   {
    "duration": 26,
    "start_time": "2021-12-07T22:40:38.648Z"
   },
   {
    "duration": 18,
    "start_time": "2021-12-07T22:40:38.676Z"
   },
   {
    "duration": 19,
    "start_time": "2021-12-07T22:40:38.696Z"
   },
   {
    "duration": 3207,
    "start_time": "2021-12-07T22:40:38.716Z"
   },
   {
    "duration": 8,
    "start_time": "2021-12-07T22:40:41.925Z"
   },
   {
    "duration": 3092,
    "start_time": "2021-12-07T22:40:41.935Z"
   },
   {
    "duration": 3050,
    "start_time": "2021-12-07T22:40:45.029Z"
   },
   {
    "duration": 3,
    "start_time": "2021-12-07T22:41:49.684Z"
   },
   {
    "duration": 138,
    "start_time": "2021-12-07T22:41:49.689Z"
   },
   {
    "duration": 132,
    "start_time": "2021-12-07T22:41:49.830Z"
   },
   {
    "duration": 137,
    "start_time": "2021-12-07T22:41:49.963Z"
   },
   {
    "duration": 9,
    "start_time": "2021-12-07T22:41:50.101Z"
   },
   {
    "duration": 11,
    "start_time": "2021-12-07T22:41:50.112Z"
   },
   {
    "duration": 10,
    "start_time": "2021-12-07T22:41:50.125Z"
   },
   {
    "duration": 62,
    "start_time": "2021-12-07T22:41:50.136Z"
   },
   {
    "duration": 34,
    "start_time": "2021-12-07T22:41:50.201Z"
   },
   {
    "duration": 33,
    "start_time": "2021-12-07T22:41:50.237Z"
   },
   {
    "duration": 31,
    "start_time": "2021-12-07T22:41:50.272Z"
   },
   {
    "duration": 12,
    "start_time": "2021-12-07T22:41:50.304Z"
   },
   {
    "duration": 13,
    "start_time": "2021-12-07T22:41:50.318Z"
   },
   {
    "duration": 4,
    "start_time": "2021-12-07T22:41:50.333Z"
   },
   {
    "duration": 14,
    "start_time": "2021-12-07T22:41:50.339Z"
   },
   {
    "duration": 46,
    "start_time": "2021-12-07T22:41:50.354Z"
   },
   {
    "duration": 4,
    "start_time": "2021-12-07T22:41:50.402Z"
   },
   {
    "duration": 90,
    "start_time": "2021-12-07T22:41:50.408Z"
   },
   {
    "duration": 102,
    "start_time": "2021-12-07T22:41:50.502Z"
   },
   {
    "duration": 9,
    "start_time": "2021-12-07T22:41:50.606Z"
   },
   {
    "duration": 76,
    "start_time": "2021-12-07T22:41:50.617Z"
   },
   {
    "duration": 95,
    "start_time": "2021-12-07T22:41:50.697Z"
   },
   {
    "duration": 13,
    "start_time": "2021-12-07T22:41:50.794Z"
   },
   {
    "duration": 9,
    "start_time": "2021-12-07T22:41:50.809Z"
   },
   {
    "duration": 73,
    "start_time": "2021-12-07T22:41:50.820Z"
   },
   {
    "duration": 98,
    "start_time": "2021-12-07T22:41:50.895Z"
   },
   {
    "duration": 18,
    "start_time": "2021-12-07T22:41:50.996Z"
   },
   {
    "duration": 20,
    "start_time": "2021-12-07T22:41:51.016Z"
   },
   {
    "duration": 25,
    "start_time": "2021-12-07T22:41:51.038Z"
   },
   {
    "duration": 14,
    "start_time": "2021-12-07T22:41:51.064Z"
   },
   {
    "duration": 28,
    "start_time": "2021-12-07T22:41:51.079Z"
   },
   {
    "duration": 3036,
    "start_time": "2021-12-07T22:41:51.109Z"
   },
   {
    "duration": 8,
    "start_time": "2021-12-07T22:41:54.146Z"
   },
   {
    "duration": 3066,
    "start_time": "2021-12-07T22:41:54.156Z"
   },
   {
    "duration": 3100,
    "start_time": "2021-12-07T22:41:57.223Z"
   },
   {
    "duration": 4,
    "start_time": "2021-12-07T22:45:35.067Z"
   },
   {
    "duration": 147,
    "start_time": "2021-12-07T22:45:35.073Z"
   },
   {
    "duration": 136,
    "start_time": "2021-12-07T22:45:35.222Z"
   },
   {
    "duration": 131,
    "start_time": "2021-12-07T22:45:35.360Z"
   },
   {
    "duration": 8,
    "start_time": "2021-12-07T22:45:35.493Z"
   },
   {
    "duration": 11,
    "start_time": "2021-12-07T22:45:35.503Z"
   },
   {
    "duration": 9,
    "start_time": "2021-12-07T22:45:35.516Z"
   },
   {
    "duration": 67,
    "start_time": "2021-12-07T22:45:35.527Z"
   },
   {
    "duration": 36,
    "start_time": "2021-12-07T22:45:35.597Z"
   },
   {
    "duration": 56,
    "start_time": "2021-12-07T22:45:35.636Z"
   },
   {
    "duration": 13,
    "start_time": "2021-12-07T22:45:35.694Z"
   },
   {
    "duration": 13,
    "start_time": "2021-12-07T22:45:35.709Z"
   },
   {
    "duration": 13,
    "start_time": "2021-12-07T22:45:35.724Z"
   },
   {
    "duration": 5,
    "start_time": "2021-12-07T22:45:35.739Z"
   },
   {
    "duration": 51,
    "start_time": "2021-12-07T22:45:35.746Z"
   },
   {
    "duration": 13,
    "start_time": "2021-12-07T22:45:35.799Z"
   },
   {
    "duration": 77,
    "start_time": "2021-12-07T22:45:35.814Z"
   },
   {
    "duration": 98,
    "start_time": "2021-12-07T22:45:35.894Z"
   },
   {
    "duration": 14,
    "start_time": "2021-12-07T22:45:35.994Z"
   },
   {
    "duration": 11,
    "start_time": "2021-12-07T22:45:36.009Z"
   },
   {
    "duration": 71,
    "start_time": "2021-12-07T22:45:36.022Z"
   },
   {
    "duration": 97,
    "start_time": "2021-12-07T22:45:36.095Z"
   },
   {
    "duration": 15,
    "start_time": "2021-12-07T22:45:36.194Z"
   },
   {
    "duration": 9,
    "start_time": "2021-12-07T22:45:36.211Z"
   },
   {
    "duration": 73,
    "start_time": "2021-12-07T22:45:36.222Z"
   },
   {
    "duration": 94,
    "start_time": "2021-12-07T22:45:36.298Z"
   },
   {
    "duration": 2,
    "start_time": "2021-12-07T22:45:36.396Z"
   },
   {
    "duration": 5,
    "start_time": "2021-12-07T22:45:36.400Z"
   },
   {
    "duration": 6,
    "start_time": "2021-12-07T22:45:36.406Z"
   },
   {
    "duration": 4,
    "start_time": "2021-12-07T22:45:36.413Z"
   },
   {
    "duration": 5,
    "start_time": "2021-12-07T22:45:36.418Z"
   },
   {
    "duration": 3059,
    "start_time": "2021-12-07T22:45:36.425Z"
   },
   {
    "duration": 10,
    "start_time": "2021-12-07T22:45:39.486Z"
   },
   {
    "duration": 3050,
    "start_time": "2021-12-07T22:45:39.497Z"
   },
   {
    "duration": 3027,
    "start_time": "2021-12-07T22:45:42.549Z"
   },
   {
    "duration": 3,
    "start_time": "2021-12-07T22:45:57.051Z"
   },
   {
    "duration": 136,
    "start_time": "2021-12-07T22:45:57.056Z"
   },
   {
    "duration": 139,
    "start_time": "2021-12-07T22:45:57.194Z"
   },
   {
    "duration": 138,
    "start_time": "2021-12-07T22:45:57.335Z"
   },
   {
    "duration": 17,
    "start_time": "2021-12-07T22:45:57.475Z"
   },
   {
    "duration": 9,
    "start_time": "2021-12-07T22:45:57.494Z"
   },
   {
    "duration": 10,
    "start_time": "2021-12-07T22:45:57.504Z"
   },
   {
    "duration": 37,
    "start_time": "2021-12-07T22:45:57.516Z"
   },
   {
    "duration": 59,
    "start_time": "2021-12-07T22:45:57.556Z"
   },
   {
    "duration": 32,
    "start_time": "2021-12-07T22:45:57.617Z"
   },
   {
    "duration": 11,
    "start_time": "2021-12-07T22:45:57.651Z"
   },
   {
    "duration": 34,
    "start_time": "2021-12-07T22:45:57.664Z"
   },
   {
    "duration": 11,
    "start_time": "2021-12-07T22:45:57.699Z"
   },
   {
    "duration": 5,
    "start_time": "2021-12-07T22:45:57.712Z"
   },
   {
    "duration": 14,
    "start_time": "2021-12-07T22:45:57.718Z"
   },
   {
    "duration": 9,
    "start_time": "2021-12-07T22:45:57.734Z"
   },
   {
    "duration": 6,
    "start_time": "2021-12-07T22:45:57.793Z"
   },
   {
    "duration": 95,
    "start_time": "2021-12-07T22:45:57.802Z"
   },
   {
    "duration": 14,
    "start_time": "2021-12-07T22:45:57.899Z"
   },
   {
    "duration": 9,
    "start_time": "2021-12-07T22:45:57.915Z"
   },
   {
    "duration": 66,
    "start_time": "2021-12-07T22:45:57.927Z"
   },
   {
    "duration": 97,
    "start_time": "2021-12-07T22:45:57.995Z"
   },
   {
    "duration": 15,
    "start_time": "2021-12-07T22:45:58.093Z"
   },
   {
    "duration": 12,
    "start_time": "2021-12-07T22:45:58.109Z"
   },
   {
    "duration": 7,
    "start_time": "2021-12-07T22:45:58.192Z"
   },
   {
    "duration": 94,
    "start_time": "2021-12-07T22:45:58.201Z"
   },
   {
    "duration": 3,
    "start_time": "2021-12-07T22:45:58.298Z"
   },
   {
    "duration": 7,
    "start_time": "2021-12-07T22:45:58.303Z"
   },
   {
    "duration": 7,
    "start_time": "2021-12-07T22:45:58.311Z"
   },
   {
    "duration": 3,
    "start_time": "2021-12-07T22:45:58.320Z"
   },
   {
    "duration": 5,
    "start_time": "2021-12-07T22:45:58.324Z"
   },
   {
    "duration": 3065,
    "start_time": "2021-12-07T22:45:58.331Z"
   },
   {
    "duration": 9,
    "start_time": "2021-12-07T22:46:01.398Z"
   },
   {
    "duration": 3066,
    "start_time": "2021-12-07T22:46:01.409Z"
   },
   {
    "duration": 3070,
    "start_time": "2021-12-07T22:46:04.476Z"
   },
   {
    "duration": 3,
    "start_time": "2021-12-07T22:51:32.371Z"
   },
   {
    "duration": 134,
    "start_time": "2021-12-07T22:51:32.376Z"
   },
   {
    "duration": 134,
    "start_time": "2021-12-07T22:51:32.512Z"
   },
   {
    "duration": 138,
    "start_time": "2021-12-07T22:51:32.647Z"
   },
   {
    "duration": 8,
    "start_time": "2021-12-07T22:51:32.786Z"
   },
   {
    "duration": 10,
    "start_time": "2021-12-07T22:51:32.795Z"
   },
   {
    "duration": 9,
    "start_time": "2021-12-07T22:51:32.806Z"
   },
   {
    "duration": 36,
    "start_time": "2021-12-07T22:51:32.816Z"
   },
   {
    "duration": 56,
    "start_time": "2021-12-07T22:51:32.855Z"
   },
   {
    "duration": 32,
    "start_time": "2021-12-07T22:51:32.913Z"
   },
   {
    "duration": 11,
    "start_time": "2021-12-07T22:51:32.947Z"
   },
   {
    "duration": 32,
    "start_time": "2021-12-07T22:51:32.960Z"
   },
   {
    "duration": 12,
    "start_time": "2021-12-07T22:51:32.994Z"
   },
   {
    "duration": 5,
    "start_time": "2021-12-07T22:51:33.007Z"
   },
   {
    "duration": 16,
    "start_time": "2021-12-07T22:51:33.013Z"
   },
   {
    "duration": 66,
    "start_time": "2021-12-07T22:51:33.030Z"
   },
   {
    "duration": 96,
    "start_time": "2021-12-07T22:51:33.098Z"
   },
   {
    "duration": 5,
    "start_time": "2021-12-07T22:51:33.196Z"
   },
   {
    "duration": 13,
    "start_time": "2021-12-07T22:51:33.203Z"
   },
   {
    "duration": 10,
    "start_time": "2021-12-07T22:51:33.218Z"
   },
   {
    "duration": 62,
    "start_time": "2021-12-07T22:51:33.230Z"
   },
   {
    "duration": 98,
    "start_time": "2021-12-07T22:51:33.294Z"
   },
   {
    "duration": 15,
    "start_time": "2021-12-07T22:51:33.394Z"
   },
   {
    "duration": 14,
    "start_time": "2021-12-07T22:51:33.410Z"
   },
   {
    "duration": 9,
    "start_time": "2021-12-07T22:51:33.494Z"
   },
   {
    "duration": 4,
    "start_time": "2021-12-07T22:51:33.592Z"
   },
   {
    "duration": 2,
    "start_time": "2021-12-07T22:51:33.599Z"
   },
   {
    "duration": 5,
    "start_time": "2021-12-07T22:51:33.603Z"
   },
   {
    "duration": 7,
    "start_time": "2021-12-07T22:51:33.610Z"
   },
   {
    "duration": 3,
    "start_time": "2021-12-07T22:51:33.618Z"
   },
   {
    "duration": 5,
    "start_time": "2021-12-07T22:51:33.623Z"
   },
   {
    "duration": 3040,
    "start_time": "2021-12-07T22:51:33.630Z"
   },
   {
    "duration": 8,
    "start_time": "2021-12-07T22:51:36.672Z"
   },
   {
    "duration": 71,
    "start_time": "2021-12-07T22:51:36.682Z"
   },
   {
    "duration": -1192,
    "start_time": "2021-12-07T22:51:37.947Z"
   },
   {
    "duration": 3030,
    "start_time": "2021-12-07T22:51:51.471Z"
   },
   {
    "duration": 3072,
    "start_time": "2021-12-07T22:51:54.502Z"
   },
   {
    "duration": 2,
    "start_time": "2021-12-07T23:05:07.026Z"
   },
   {
    "duration": 154,
    "start_time": "2021-12-07T23:05:07.030Z"
   },
   {
    "duration": 134,
    "start_time": "2021-12-07T23:05:07.186Z"
   },
   {
    "duration": 136,
    "start_time": "2021-12-07T23:05:07.321Z"
   },
   {
    "duration": 9,
    "start_time": "2021-12-07T23:05:07.459Z"
   },
   {
    "duration": 10,
    "start_time": "2021-12-07T23:05:07.469Z"
   },
   {
    "duration": 8,
    "start_time": "2021-12-07T23:05:07.492Z"
   },
   {
    "duration": 41,
    "start_time": "2021-12-07T23:05:07.502Z"
   },
   {
    "duration": 47,
    "start_time": "2021-12-07T23:05:07.545Z"
   },
   {
    "duration": 33,
    "start_time": "2021-12-07T23:05:07.594Z"
   },
   {
    "duration": 11,
    "start_time": "2021-12-07T23:05:07.629Z"
   },
   {
    "duration": 11,
    "start_time": "2021-12-07T23:05:07.641Z"
   },
   {
    "duration": 11,
    "start_time": "2021-12-07T23:05:07.653Z"
   },
   {
    "duration": 4,
    "start_time": "2021-12-07T23:05:07.691Z"
   },
   {
    "duration": 14,
    "start_time": "2021-12-07T23:05:07.697Z"
   },
   {
    "duration": 9,
    "start_time": "2021-12-07T23:05:07.712Z"
   },
   {
    "duration": 8,
    "start_time": "2021-12-07T23:05:07.723Z"
   },
   {
    "duration": 10,
    "start_time": "2021-12-07T23:05:07.793Z"
   },
   {
    "duration": 99,
    "start_time": "2021-12-07T23:05:07.805Z"
   },
   {
    "duration": 9,
    "start_time": "2021-12-07T23:05:07.906Z"
   },
   {
    "duration": 76,
    "start_time": "2021-12-07T23:05:07.917Z"
   },
   {
    "duration": 97,
    "start_time": "2021-12-07T23:05:07.995Z"
   },
   {
    "duration": 13,
    "start_time": "2021-12-07T23:05:08.094Z"
   },
   {
    "duration": 84,
    "start_time": "2021-12-07T23:05:08.108Z"
   },
   {
    "duration": 6,
    "start_time": "2021-12-07T23:05:08.195Z"
   },
   {
    "duration": 3,
    "start_time": "2021-12-07T23:05:08.292Z"
   },
   {
    "duration": 5,
    "start_time": "2021-12-07T23:05:08.298Z"
   },
   {
    "duration": 6,
    "start_time": "2021-12-07T23:05:08.304Z"
   },
   {
    "duration": 10,
    "start_time": "2021-12-07T23:05:08.311Z"
   },
   {
    "duration": 3,
    "start_time": "2021-12-07T23:05:08.322Z"
   },
   {
    "duration": 6,
    "start_time": "2021-12-07T23:05:08.326Z"
   },
   {
    "duration": 3038,
    "start_time": "2021-12-07T23:05:08.333Z"
   },
   {
    "duration": 9,
    "start_time": "2021-12-07T23:05:11.372Z"
   },
   {
    "duration": 3014,
    "start_time": "2021-12-07T23:05:11.382Z"
   },
   {
    "duration": 2998,
    "start_time": "2021-12-07T23:05:14.398Z"
   },
   {
    "duration": 942,
    "start_time": "2021-12-08T04:46:10.437Z"
   },
   {
    "duration": 125,
    "start_time": "2021-12-08T04:46:11.381Z"
   },
   {
    "duration": 143,
    "start_time": "2021-12-08T04:46:11.508Z"
   },
   {
    "duration": 117,
    "start_time": "2021-12-08T04:46:11.653Z"
   },
   {
    "duration": 14,
    "start_time": "2021-12-08T04:46:11.779Z"
   },
   {
    "duration": 8,
    "start_time": "2021-12-08T04:46:12.258Z"
   },
   {
    "duration": 8,
    "start_time": "2021-12-08T04:46:12.446Z"
   },
   {
    "duration": 34,
    "start_time": "2021-12-08T04:46:12.969Z"
   },
   {
    "duration": 32,
    "start_time": "2021-12-08T04:46:13.163Z"
   },
   {
    "duration": 30,
    "start_time": "2021-12-08T04:46:13.375Z"
   },
   {
    "duration": 11,
    "start_time": "2021-12-08T04:46:13.627Z"
   },
   {
    "duration": 10,
    "start_time": "2021-12-08T04:46:13.855Z"
   },
   {
    "duration": 11,
    "start_time": "2021-12-08T04:46:14.148Z"
   },
   {
    "duration": 4,
    "start_time": "2021-12-08T04:48:34.751Z"
   },
   {
    "duration": 11,
    "start_time": "2021-12-08T04:48:35.230Z"
   },
   {
    "duration": 17,
    "start_time": "2021-12-08T04:48:35.403Z"
   },
   {
    "duration": 4,
    "start_time": "2021-12-08T04:48:35.588Z"
   },
   {
    "duration": 4,
    "start_time": "2021-12-08T04:48:35.756Z"
   },
   {
    "duration": 15,
    "start_time": "2021-12-08T04:48:35.929Z"
   },
   {
    "duration": 11,
    "start_time": "2021-12-08T04:48:36.089Z"
   },
   {
    "duration": 5,
    "start_time": "2021-12-08T04:48:36.288Z"
   },
   {
    "duration": 4,
    "start_time": "2021-12-08T04:48:36.441Z"
   },
   {
    "duration": 14,
    "start_time": "2021-12-08T04:48:36.631Z"
   },
   {
    "duration": 11,
    "start_time": "2021-12-08T04:48:37.135Z"
   },
   {
    "duration": 4,
    "start_time": "2021-12-08T04:48:37.309Z"
   },
   {
    "duration": 3,
    "start_time": "2021-12-08T04:51:06.581Z"
   },
   {
    "duration": 2,
    "start_time": "2021-12-08T04:51:07.755Z"
   },
   {
    "duration": 3,
    "start_time": "2021-12-08T04:51:07.936Z"
   },
   {
    "duration": 6,
    "start_time": "2021-12-08T04:51:08.575Z"
   },
   {
    "duration": 4,
    "start_time": "2021-12-08T04:51:56.784Z"
   },
   {
    "duration": 4,
    "start_time": "2021-12-08T04:51:58.188Z"
   },
   {
    "duration": 2863,
    "start_time": "2021-12-08T04:51:59.944Z"
   },
   {
    "duration": 7,
    "start_time": "2021-12-08T04:52:02.809Z"
   },
   {
    "duration": 2842,
    "start_time": "2021-12-08T04:52:02.818Z"
   },
   {
    "duration": 2828,
    "start_time": "2021-12-08T04:52:05.662Z"
   },
   {
    "duration": 1440,
    "start_time": "2021-12-08T10:34:53.975Z"
   },
   {
    "duration": 191,
    "start_time": "2021-12-08T10:34:55.418Z"
   },
   {
    "duration": 187,
    "start_time": "2021-12-08T10:34:55.612Z"
   },
   {
    "duration": 186,
    "start_time": "2021-12-08T10:34:55.801Z"
   },
   {
    "duration": 27,
    "start_time": "2021-12-08T10:34:55.990Z"
   },
   {
    "duration": 14,
    "start_time": "2021-12-08T10:34:56.019Z"
   },
   {
    "duration": 48,
    "start_time": "2021-12-08T10:34:56.035Z"
   },
   {
    "duration": 56,
    "start_time": "2021-12-08T10:34:56.086Z"
   },
   {
    "duration": 55,
    "start_time": "2021-12-08T10:34:56.171Z"
   },
   {
    "duration": 77,
    "start_time": "2021-12-08T10:34:56.229Z"
   },
   {
    "duration": 17,
    "start_time": "2021-12-08T10:34:56.308Z"
   },
   {
    "duration": 16,
    "start_time": "2021-12-08T10:34:56.327Z"
   },
   {
    "duration": 23,
    "start_time": "2021-12-08T10:34:56.367Z"
   },
   {
    "duration": 6,
    "start_time": "2021-12-08T10:34:56.393Z"
   },
   {
    "duration": 19,
    "start_time": "2021-12-08T10:34:56.401Z"
   },
   {
    "duration": 64,
    "start_time": "2021-12-08T10:34:56.422Z"
   },
   {
    "duration": 104,
    "start_time": "2021-12-08T10:34:56.568Z"
   },
   {
    "duration": 6,
    "start_time": "2021-12-08T10:34:56.676Z"
   },
   {
    "duration": 19,
    "start_time": "2021-12-08T10:34:56.686Z"
   },
   {
    "duration": 68,
    "start_time": "2021-12-08T10:34:56.707Z"
   },
   {
    "duration": 9,
    "start_time": "2021-12-08T10:34:56.778Z"
   },
   {
    "duration": 12,
    "start_time": "2021-12-08T10:34:56.870Z"
   },
   {
    "duration": 27,
    "start_time": "2021-12-08T10:34:56.885Z"
   },
   {
    "duration": 74,
    "start_time": "2021-12-08T10:34:56.914Z"
   },
   {
    "duration": 12,
    "start_time": "2021-12-08T10:34:57.069Z"
   },
   {
    "duration": 21,
    "start_time": "2021-12-08T10:34:57.084Z"
   },
   {
    "duration": 8,
    "start_time": "2021-12-08T10:34:57.112Z"
   },
   {
    "duration": 49,
    "start_time": "2021-12-08T10:34:57.123Z"
   },
   {
    "duration": 14,
    "start_time": "2021-12-08T10:34:57.176Z"
   },
   {
    "duration": 8,
    "start_time": "2021-12-08T10:34:57.193Z"
   },
   {
    "duration": 22,
    "start_time": "2021-12-08T10:34:57.204Z"
   },
   {
    "duration": 5940,
    "start_time": "2021-12-08T10:34:57.228Z"
   },
   {
    "duration": 22,
    "start_time": "2021-12-08T10:35:03.171Z"
   },
   {
    "duration": 6036,
    "start_time": "2021-12-08T10:35:03.196Z"
   },
   {
    "duration": 5956,
    "start_time": "2021-12-08T10:35:09.234Z"
   },
   {
    "duration": 25,
    "start_time": "2021-12-08T10:35:49.149Z"
   },
   {
    "duration": 5,
    "start_time": "2021-12-08T10:35:57.447Z"
   },
   {
    "duration": 597,
    "start_time": "2021-12-08T10:35:57.455Z"
   },
   {
    "duration": 192,
    "start_time": "2021-12-08T10:35:58.055Z"
   },
   {
    "duration": 226,
    "start_time": "2021-12-08T10:35:58.250Z"
   },
   {
    "duration": 18,
    "start_time": "2021-12-08T10:35:58.479Z"
   },
   {
    "duration": 14,
    "start_time": "2021-12-08T10:35:58.500Z"
   },
   {
    "duration": 19,
    "start_time": "2021-12-08T10:35:58.516Z"
   },
   {
    "duration": 78,
    "start_time": "2021-12-08T10:35:58.567Z"
   },
   {
    "duration": 54,
    "start_time": "2021-12-08T10:35:58.669Z"
   },
   {
    "duration": 73,
    "start_time": "2021-12-08T10:35:58.726Z"
   },
   {
    "duration": 17,
    "start_time": "2021-12-08T10:35:58.801Z"
   },
   {
    "duration": 17,
    "start_time": "2021-12-08T10:35:58.820Z"
   },
   {
    "duration": 51,
    "start_time": "2021-12-08T10:35:58.840Z"
   },
   {
    "duration": 6,
    "start_time": "2021-12-08T10:35:58.893Z"
   },
   {
    "duration": 23,
    "start_time": "2021-12-08T10:35:58.902Z"
   },
   {
    "duration": 66,
    "start_time": "2021-12-08T10:35:58.927Z"
   },
   {
    "duration": 87,
    "start_time": "2021-12-08T10:35:58.996Z"
   },
   {
    "duration": 85,
    "start_time": "2021-12-08T10:35:59.086Z"
   },
   {
    "duration": 47,
    "start_time": "2021-12-08T10:35:59.174Z"
   },
   {
    "duration": 56,
    "start_time": "2021-12-08T10:35:59.224Z"
   },
   {
    "duration": 91,
    "start_time": "2021-12-08T10:35:59.283Z"
   },
   {
    "duration": 11,
    "start_time": "2021-12-08T10:35:59.379Z"
   },
   {
    "duration": 82,
    "start_time": "2021-12-08T10:35:59.393Z"
   },
   {
    "duration": 100,
    "start_time": "2021-12-08T10:35:59.479Z"
   },
   {
    "duration": 8,
    "start_time": "2021-12-08T10:35:59.583Z"
   },
   {
    "duration": 80,
    "start_time": "2021-12-08T10:35:59.594Z"
   },
   {
    "duration": 5,
    "start_time": "2021-12-08T10:35:59.683Z"
   },
   {
    "duration": 87,
    "start_time": "2021-12-08T10:35:59.693Z"
   },
   {
    "duration": 21,
    "start_time": "2021-12-08T10:35:59.783Z"
   },
   {
    "duration": 16,
    "start_time": "2021-12-08T10:35:59.807Z"
   },
   {
    "duration": 12,
    "start_time": "2021-12-08T10:35:59.826Z"
   },
   {
    "duration": 6066,
    "start_time": "2021-12-08T10:35:59.840Z"
   },
   {
    "duration": 17,
    "start_time": "2021-12-08T10:36:05.909Z"
   },
   {
    "duration": 6031,
    "start_time": "2021-12-08T10:36:05.928Z"
   },
   {
    "duration": 6051,
    "start_time": "2021-12-08T10:36:11.967Z"
   },
   {
    "duration": 13,
    "start_time": "2021-12-08T10:54:06.018Z"
   },
   {
    "duration": 5,
    "start_time": "2021-12-08T10:54:15.283Z"
   },
   {
    "duration": 176,
    "start_time": "2021-12-08T10:54:15.291Z"
   },
   {
    "duration": 170,
    "start_time": "2021-12-08T10:54:15.471Z"
   },
   {
    "duration": 173,
    "start_time": "2021-12-08T10:54:15.644Z"
   },
   {
    "duration": 12,
    "start_time": "2021-12-08T10:54:15.819Z"
   },
   {
    "duration": 36,
    "start_time": "2021-12-08T10:54:15.834Z"
   },
   {
    "duration": 18,
    "start_time": "2021-12-08T10:54:15.873Z"
   },
   {
    "duration": 56,
    "start_time": "2021-12-08T10:54:15.893Z"
   },
   {
    "duration": 49,
    "start_time": "2021-12-08T10:54:15.968Z"
   },
   {
    "duration": 71,
    "start_time": "2021-12-08T10:54:16.020Z"
   },
   {
    "duration": 18,
    "start_time": "2021-12-08T10:54:16.093Z"
   },
   {
    "duration": 16,
    "start_time": "2021-12-08T10:54:16.113Z"
   },
   {
    "duration": 44,
    "start_time": "2021-12-08T10:54:16.132Z"
   },
   {
    "duration": 5,
    "start_time": "2021-12-08T10:54:16.179Z"
   },
   {
    "duration": 19,
    "start_time": "2021-12-08T10:54:16.186Z"
   },
   {
    "duration": 12,
    "start_time": "2021-12-08T10:54:16.207Z"
   },
   {
    "duration": 99,
    "start_time": "2021-12-08T10:54:16.269Z"
   },
   {
    "duration": 7,
    "start_time": "2021-12-08T10:54:16.370Z"
   },
   {
    "duration": 20,
    "start_time": "2021-12-08T10:54:16.380Z"
   },
   {
    "duration": 14,
    "start_time": "2021-12-08T10:54:16.402Z"
   },
   {
    "duration": 9,
    "start_time": "2021-12-08T10:54:16.469Z"
   },
   {
    "duration": 6,
    "start_time": "2021-12-08T10:54:16.568Z"
   },
   {
    "duration": 29,
    "start_time": "2021-12-08T10:54:16.577Z"
   },
   {
    "duration": 60,
    "start_time": "2021-12-08T10:54:16.608Z"
   },
   {
    "duration": 97,
    "start_time": "2021-12-08T10:54:16.671Z"
   },
   {
    "duration": 5,
    "start_time": "2021-12-08T10:54:16.771Z"
   },
   {
    "duration": 5,
    "start_time": "2021-12-08T10:54:16.781Z"
   },
   {
    "duration": 8,
    "start_time": "2021-12-08T10:54:16.789Z"
   },
   {
    "duration": 12,
    "start_time": "2021-12-08T10:54:16.800Z"
   },
   {
    "duration": 4,
    "start_time": "2021-12-08T10:54:16.815Z"
   },
   {
    "duration": 51,
    "start_time": "2021-12-08T10:54:16.821Z"
   },
   {
    "duration": 5581,
    "start_time": "2021-12-08T10:54:16.874Z"
   },
   {
    "duration": 17,
    "start_time": "2021-12-08T10:54:22.458Z"
   },
   {
    "duration": 5511,
    "start_time": "2021-12-08T10:54:22.478Z"
   },
   {
    "duration": 5527,
    "start_time": "2021-12-08T10:54:27.991Z"
   },
   {
    "duration": 4,
    "start_time": "2021-12-08T10:58:21.878Z"
   },
   {
    "duration": 192,
    "start_time": "2021-12-08T10:58:21.885Z"
   },
   {
    "duration": 183,
    "start_time": "2021-12-08T10:58:22.082Z"
   },
   {
    "duration": 173,
    "start_time": "2021-12-08T10:58:22.268Z"
   },
   {
    "duration": 13,
    "start_time": "2021-12-08T10:58:22.443Z"
   },
   {
    "duration": 12,
    "start_time": "2021-12-08T10:58:22.467Z"
   },
   {
    "duration": 13,
    "start_time": "2021-12-08T10:58:22.482Z"
   },
   {
    "duration": 79,
    "start_time": "2021-12-08T10:58:22.497Z"
   },
   {
    "duration": 48,
    "start_time": "2021-12-08T10:58:22.580Z"
   },
   {
    "duration": 74,
    "start_time": "2021-12-08T10:58:22.631Z"
   },
   {
    "duration": 20,
    "start_time": "2021-12-08T10:58:22.708Z"
   },
   {
    "duration": 47,
    "start_time": "2021-12-08T10:58:22.731Z"
   },
   {
    "duration": 17,
    "start_time": "2021-12-08T10:58:22.781Z"
   },
   {
    "duration": 6,
    "start_time": "2021-12-08T10:58:22.800Z"
   },
   {
    "duration": 19,
    "start_time": "2021-12-08T10:58:22.809Z"
   },
   {
    "duration": 53,
    "start_time": "2021-12-08T10:58:22.831Z"
   },
   {
    "duration": 98,
    "start_time": "2021-12-08T10:58:22.968Z"
   },
   {
    "duration": 7,
    "start_time": "2021-12-08T10:58:23.069Z"
   },
   {
    "duration": 28,
    "start_time": "2021-12-08T10:58:23.078Z"
   },
   {
    "duration": 61,
    "start_time": "2021-12-08T10:58:23.108Z"
   },
   {
    "duration": 97,
    "start_time": "2021-12-08T10:58:23.173Z"
   },
   {
    "duration": 8,
    "start_time": "2021-12-08T10:58:23.273Z"
   },
   {
    "duration": 26,
    "start_time": "2021-12-08T10:58:23.283Z"
   },
   {
    "duration": 17,
    "start_time": "2021-12-08T10:58:23.368Z"
   },
   {
    "duration": 83,
    "start_time": "2021-12-08T10:58:23.389Z"
   },
   {
    "duration": 94,
    "start_time": "2021-12-08T10:58:23.475Z"
   },
   {
    "duration": 4,
    "start_time": "2021-12-08T10:58:23.574Z"
   },
   {
    "duration": 9,
    "start_time": "2021-12-08T10:58:23.580Z"
   },
   {
    "duration": 14,
    "start_time": "2021-12-08T10:58:23.591Z"
   },
   {
    "duration": 5,
    "start_time": "2021-12-08T10:58:23.607Z"
   },
   {
    "duration": 16,
    "start_time": "2021-12-08T10:58:23.614Z"
   },
   {
    "duration": 7591,
    "start_time": "2021-12-08T10:58:23.633Z"
   },
   {
    "duration": 20,
    "start_time": "2021-12-08T10:58:31.227Z"
   },
   {
    "duration": 9014,
    "start_time": "2021-12-08T10:58:31.267Z"
   },
   {
    "duration": 8990,
    "start_time": "2021-12-08T10:58:40.284Z"
   },
   {
    "duration": 5,
    "start_time": "2021-12-08T10:59:08.103Z"
   },
   {
    "duration": 248,
    "start_time": "2021-12-08T10:59:08.111Z"
   },
   {
    "duration": 173,
    "start_time": "2021-12-08T10:59:08.368Z"
   },
   {
    "duration": 174,
    "start_time": "2021-12-08T10:59:08.545Z"
   },
   {
    "duration": 15,
    "start_time": "2021-12-08T10:59:08.722Z"
   },
   {
    "duration": 36,
    "start_time": "2021-12-08T10:59:08.740Z"
   },
   {
    "duration": 23,
    "start_time": "2021-12-08T10:59:08.779Z"
   },
   {
    "duration": 79,
    "start_time": "2021-12-08T10:59:08.804Z"
   },
   {
    "duration": 53,
    "start_time": "2021-12-08T10:59:08.887Z"
   },
   {
    "duration": 71,
    "start_time": "2021-12-08T10:59:08.943Z"
   },
   {
    "duration": 18,
    "start_time": "2021-12-08T10:59:09.016Z"
   },
   {
    "duration": 44,
    "start_time": "2021-12-08T10:59:09.036Z"
   },
   {
    "duration": 18,
    "start_time": "2021-12-08T10:59:09.083Z"
   },
   {
    "duration": 6,
    "start_time": "2021-12-08T10:59:09.103Z"
   },
   {
    "duration": 55,
    "start_time": "2021-12-08T10:59:09.112Z"
   },
   {
    "duration": 19,
    "start_time": "2021-12-08T10:59:09.170Z"
   },
   {
    "duration": 76,
    "start_time": "2021-12-08T10:59:09.193Z"
   },
   {
    "duration": 99,
    "start_time": "2021-12-08T10:59:09.272Z"
   },
   {
    "duration": 22,
    "start_time": "2021-12-08T10:59:09.374Z"
   },
   {
    "duration": 72,
    "start_time": "2021-12-08T10:59:09.399Z"
   },
   {
    "duration": 93,
    "start_time": "2021-12-08T10:59:09.474Z"
   },
   {
    "duration": 7,
    "start_time": "2021-12-08T10:59:09.571Z"
   },
   {
    "duration": 21,
    "start_time": "2021-12-08T10:59:09.581Z"
   },
   {
    "duration": 64,
    "start_time": "2021-12-08T10:59:09.604Z"
   },
   {
    "duration": 8,
    "start_time": "2021-12-08T10:59:09.671Z"
   },
   {
    "duration": 10,
    "start_time": "2021-12-08T10:59:09.766Z"
   },
   {
    "duration": 11,
    "start_time": "2021-12-08T10:59:09.780Z"
   },
   {
    "duration": 11,
    "start_time": "2021-12-08T10:59:09.793Z"
   },
   {
    "duration": 8,
    "start_time": "2021-12-08T10:59:09.807Z"
   },
   {
    "duration": 4,
    "start_time": "2021-12-08T10:59:09.818Z"
   },
   {
    "duration": 5,
    "start_time": "2021-12-08T10:59:09.867Z"
   },
   {
    "duration": 5587,
    "start_time": "2021-12-08T10:59:09.875Z"
   },
   {
    "duration": 14,
    "start_time": "2021-12-08T10:59:15.466Z"
   },
   {
    "duration": 5650,
    "start_time": "2021-12-08T10:59:15.483Z"
   },
   {
    "duration": 5668,
    "start_time": "2021-12-08T10:59:21.136Z"
   },
   {
    "duration": 5,
    "start_time": "2021-12-08T11:01:21.288Z"
   },
   {
    "duration": 182,
    "start_time": "2021-12-08T11:01:21.295Z"
   },
   {
    "duration": 176,
    "start_time": "2021-12-08T11:01:21.480Z"
   },
   {
    "duration": 177,
    "start_time": "2021-12-08T11:01:21.660Z"
   },
   {
    "duration": 14,
    "start_time": "2021-12-08T11:01:21.840Z"
   },
   {
    "duration": 14,
    "start_time": "2021-12-08T11:01:21.868Z"
   },
   {
    "duration": 34,
    "start_time": "2021-12-08T11:01:21.885Z"
   },
   {
    "duration": 62,
    "start_time": "2021-12-08T11:01:21.923Z"
   },
   {
    "duration": 48,
    "start_time": "2021-12-08T11:01:21.989Z"
   },
   {
    "duration": 65,
    "start_time": "2021-12-08T11:01:22.039Z"
   },
   {
    "duration": 16,
    "start_time": "2021-12-08T11:01:22.107Z"
   },
   {
    "duration": 43,
    "start_time": "2021-12-08T11:01:22.125Z"
   },
   {
    "duration": 16,
    "start_time": "2021-12-08T11:01:22.171Z"
   },
   {
    "duration": 6,
    "start_time": "2021-12-08T11:01:22.190Z"
   },
   {
    "duration": 29,
    "start_time": "2021-12-08T11:01:22.199Z"
   },
   {
    "duration": 46,
    "start_time": "2021-12-08T11:01:22.230Z"
   },
   {
    "duration": 94,
    "start_time": "2021-12-08T11:01:22.279Z"
   },
   {
    "duration": 18,
    "start_time": "2021-12-08T11:01:22.376Z"
   },
   {
    "duration": 83,
    "start_time": "2021-12-08T11:01:22.396Z"
   },
   {
    "duration": 13,
    "start_time": "2021-12-08T11:01:22.481Z"
   },
   {
    "duration": 80,
    "start_time": "2021-12-08T11:01:22.498Z"
   },
   {
    "duration": 102,
    "start_time": "2021-12-08T11:01:22.581Z"
   },
   {
    "duration": 35,
    "start_time": "2021-12-08T11:01:22.688Z"
   },
   {
    "duration": 44,
    "start_time": "2021-12-08T11:01:22.726Z"
   },
   {
    "duration": 96,
    "start_time": "2021-12-08T11:01:22.773Z"
   },
   {
    "duration": 99,
    "start_time": "2021-12-08T11:01:22.872Z"
   },
   {
    "duration": 6,
    "start_time": "2021-12-08T11:01:22.974Z"
   },
   {
    "duration": 6,
    "start_time": "2021-12-08T11:01:22.983Z"
   },
   {
    "duration": 10,
    "start_time": "2021-12-08T11:01:22.992Z"
   },
   {
    "duration": 5,
    "start_time": "2021-12-08T11:01:23.005Z"
   },
   {
    "duration": 9,
    "start_time": "2021-12-08T11:01:23.013Z"
   },
   {
    "duration": 5712,
    "start_time": "2021-12-08T11:01:23.024Z"
   },
   {
    "duration": 13,
    "start_time": "2021-12-08T11:01:28.739Z"
   },
   {
    "duration": 5477,
    "start_time": "2021-12-08T11:01:28.755Z"
   },
   {
    "duration": 5520,
    "start_time": "2021-12-08T11:01:34.234Z"
   },
   {
    "duration": 96,
    "start_time": "2021-12-08T11:06:27.915Z"
   },
   {
    "duration": 4,
    "start_time": "2021-12-08T11:06:41.078Z"
   },
   {
    "duration": 183,
    "start_time": "2021-12-08T11:06:41.084Z"
   },
   {
    "duration": 180,
    "start_time": "2021-12-08T11:06:41.270Z"
   },
   {
    "duration": 180,
    "start_time": "2021-12-08T11:06:41.452Z"
   },
   {
    "duration": 13,
    "start_time": "2021-12-08T11:06:41.634Z"
   },
   {
    "duration": 26,
    "start_time": "2021-12-08T11:06:41.650Z"
   },
   {
    "duration": 13,
    "start_time": "2021-12-08T11:06:41.679Z"
   },
   {
    "duration": 81,
    "start_time": "2021-12-08T11:06:41.694Z"
   },
   {
    "duration": 51,
    "start_time": "2021-12-08T11:06:41.779Z"
   },
   {
    "duration": 70,
    "start_time": "2021-12-08T11:06:41.834Z"
   },
   {
    "duration": 17,
    "start_time": "2021-12-08T11:06:41.906Z"
   },
   {
    "duration": 46,
    "start_time": "2021-12-08T11:06:41.925Z"
   },
   {
    "duration": 18,
    "start_time": "2021-12-08T11:06:41.973Z"
   },
   {
    "duration": 6,
    "start_time": "2021-12-08T11:06:41.993Z"
   },
   {
    "duration": 22,
    "start_time": "2021-12-08T11:06:42.001Z"
   },
   {
    "duration": 43,
    "start_time": "2021-12-08T11:06:42.025Z"
   },
   {
    "duration": 95,
    "start_time": "2021-12-08T11:06:42.072Z"
   },
   {
    "duration": 8,
    "start_time": "2021-12-08T11:06:42.171Z"
   },
   {
    "duration": 89,
    "start_time": "2021-12-08T11:06:42.181Z"
   },
   {
    "duration": 13,
    "start_time": "2021-12-08T11:06:42.272Z"
   },
   {
    "duration": 85,
    "start_time": "2021-12-08T11:06:42.289Z"
   },
   {
    "duration": 96,
    "start_time": "2021-12-08T11:06:42.376Z"
   },
   {
    "duration": 21,
    "start_time": "2021-12-08T11:06:42.475Z"
   },
   {
    "duration": 70,
    "start_time": "2021-12-08T11:06:42.498Z"
   },
   {
    "duration": 95,
    "start_time": "2021-12-08T11:06:42.572Z"
   },
   {
    "duration": 4,
    "start_time": "2021-12-08T11:06:42.669Z"
   },
   {
    "duration": 9,
    "start_time": "2021-12-08T11:06:42.677Z"
   },
   {
    "duration": 10,
    "start_time": "2021-12-08T11:06:42.689Z"
   },
   {
    "duration": 9,
    "start_time": "2021-12-08T11:06:42.702Z"
   },
   {
    "duration": 5,
    "start_time": "2021-12-08T11:06:42.714Z"
   },
   {
    "duration": 50,
    "start_time": "2021-12-08T11:06:42.721Z"
   },
   {
    "duration": 5951,
    "start_time": "2021-12-08T11:06:42.773Z"
   },
   {
    "duration": 13,
    "start_time": "2021-12-08T11:06:48.726Z"
   },
   {
    "duration": 5598,
    "start_time": "2021-12-08T11:06:48.742Z"
   },
   {
    "duration": 5516,
    "start_time": "2021-12-08T11:06:54.342Z"
   },
   {
    "duration": 1104,
    "start_time": "2021-12-08T12:56:31.008Z"
   },
   {
    "duration": 152,
    "start_time": "2021-12-08T12:56:32.114Z"
   },
   {
    "duration": 144,
    "start_time": "2021-12-08T12:56:32.268Z"
   },
   {
    "duration": 144,
    "start_time": "2021-12-08T12:56:32.414Z"
   },
   {
    "duration": 16,
    "start_time": "2021-12-08T12:56:32.561Z"
   },
   {
    "duration": 45,
    "start_time": "2021-12-08T12:56:32.578Z"
   },
   {
    "duration": 52,
    "start_time": "2021-12-08T12:56:32.625Z"
   },
   {
    "duration": 39,
    "start_time": "2021-12-08T12:56:33.129Z"
   },
   {
    "duration": 36,
    "start_time": "2021-12-08T12:56:33.315Z"
   },
   {
    "duration": 35,
    "start_time": "2021-12-08T12:56:33.472Z"
   },
   {
    "duration": 13,
    "start_time": "2021-12-08T12:56:33.638Z"
   },
   {
    "duration": 13,
    "start_time": "2021-12-08T12:56:33.819Z"
   },
   {
    "duration": 13,
    "start_time": "2021-12-08T12:56:33.984Z"
   },
   {
    "duration": 5,
    "start_time": "2021-12-08T12:56:34.655Z"
   },
   {
    "duration": 15,
    "start_time": "2021-12-08T12:56:34.796Z"
   },
   {
    "duration": 13,
    "start_time": "2021-12-08T12:56:34.984Z"
   },
   {
    "duration": 5,
    "start_time": "2021-12-08T12:56:35.164Z"
   },
   {
    "duration": 4,
    "start_time": "2021-12-08T12:56:35.308Z"
   },
   {
    "duration": 17,
    "start_time": "2021-12-08T12:56:35.479Z"
   },
   {
    "duration": 12,
    "start_time": "2021-12-08T12:56:35.691Z"
   },
   {
    "duration": 5,
    "start_time": "2021-12-08T12:56:35.874Z"
   },
   {
    "duration": 5,
    "start_time": "2021-12-08T12:56:36.046Z"
   },
   {
    "duration": 16,
    "start_time": "2021-12-08T12:56:36.219Z"
   },
   {
    "duration": 14,
    "start_time": "2021-12-08T12:56:36.400Z"
   },
   {
    "duration": 5,
    "start_time": "2021-12-08T12:56:36.564Z"
   },
   {
    "duration": 4,
    "start_time": "2021-12-08T12:56:37.430Z"
   },
   {
    "duration": 3,
    "start_time": "2021-12-08T12:56:37.588Z"
   },
   {
    "duration": 3,
    "start_time": "2021-12-08T12:56:37.937Z"
   },
   {
    "duration": 7,
    "start_time": "2021-12-08T12:56:38.107Z"
   },
   {
    "duration": 3,
    "start_time": "2021-12-08T12:56:38.792Z"
   },
   {
    "duration": 4,
    "start_time": "2021-12-08T12:56:38.981Z"
   },
   {
    "duration": 3404,
    "start_time": "2021-12-08T12:56:39.170Z"
   },
   {
    "duration": 11,
    "start_time": "2021-12-08T12:56:42.576Z"
   },
   {
    "duration": 3454,
    "start_time": "2021-12-08T12:56:42.589Z"
   },
   {
    "duration": 3284,
    "start_time": "2021-12-08T12:56:46.044Z"
   },
   {
    "duration": 10,
    "start_time": "2021-12-08T13:00:47.423Z"
   },
   {
    "duration": 355,
    "start_time": "2021-12-08T13:00:48.772Z"
   },
   {
    "duration": 542,
    "start_time": "2021-12-08T13:00:49.199Z"
   },
   {
    "duration": 84,
    "start_time": "2021-12-08T13:01:25.233Z"
   },
   {
    "duration": 243,
    "start_time": "2021-12-08T13:01:38.128Z"
   },
   {
    "duration": 301,
    "start_time": "2021-12-08T13:02:53.057Z"
   },
   {
    "duration": 139,
    "start_time": "2021-12-08T13:02:59.836Z"
   },
   {
    "duration": 138,
    "start_time": "2021-12-08T13:03:00.229Z"
   },
   {
    "duration": 143,
    "start_time": "2021-12-08T13:03:00.425Z"
   },
   {
    "duration": 9,
    "start_time": "2021-12-08T13:03:00.604Z"
   },
   {
    "duration": 10,
    "start_time": "2021-12-08T13:03:00.779Z"
   },
   {
    "duration": 10,
    "start_time": "2021-12-08T13:03:00.944Z"
   },
   {
    "duration": 40,
    "start_time": "2021-12-08T13:03:01.520Z"
   },
   {
    "duration": 39,
    "start_time": "2021-12-08T13:03:01.709Z"
   },
   {
    "duration": 38,
    "start_time": "2021-12-08T13:03:01.874Z"
   },
   {
    "duration": 12,
    "start_time": "2021-12-08T13:03:02.055Z"
   },
   {
    "duration": 13,
    "start_time": "2021-12-08T13:03:02.229Z"
   },
   {
    "duration": 13,
    "start_time": "2021-12-08T13:03:02.394Z"
   },
   {
    "duration": 6,
    "start_time": "2021-12-08T13:03:03.236Z"
   },
   {
    "duration": 19,
    "start_time": "2021-12-08T13:03:03.395Z"
   },
   {
    "duration": 19,
    "start_time": "2021-12-08T13:03:03.567Z"
   },
   {
    "duration": 5,
    "start_time": "2021-12-08T13:03:03.763Z"
   },
   {
    "duration": 5,
    "start_time": "2021-12-08T13:03:03.875Z"
   },
   {
    "duration": 15,
    "start_time": "2021-12-08T13:03:04.057Z"
   },
   {
    "duration": 10,
    "start_time": "2021-12-08T13:03:04.224Z"
   },
   {
    "duration": 5,
    "start_time": "2021-12-08T13:03:04.380Z"
   },
   {
    "duration": 4,
    "start_time": "2021-12-08T13:03:04.545Z"
   },
   {
    "duration": 14,
    "start_time": "2021-12-08T13:03:04.717Z"
   },
   {
    "duration": 10,
    "start_time": "2021-12-08T13:03:04.874Z"
   },
   {
    "duration": 5,
    "start_time": "2021-12-08T13:03:05.064Z"
   },
   {
    "duration": 3,
    "start_time": "2021-12-08T13:03:05.947Z"
   },
   {
    "duration": 3,
    "start_time": "2021-12-08T13:03:06.160Z"
   },
   {
    "duration": 4,
    "start_time": "2021-12-08T13:03:06.353Z"
   },
   {
    "duration": 7,
    "start_time": "2021-12-08T13:03:06.522Z"
   },
   {
    "duration": 3,
    "start_time": "2021-12-08T13:03:07.239Z"
   },
   {
    "duration": 4,
    "start_time": "2021-12-08T13:03:07.428Z"
   },
   {
    "duration": 3124,
    "start_time": "2021-12-08T13:03:07.602Z"
   },
   {
    "duration": 10,
    "start_time": "2021-12-08T13:03:10.727Z"
   },
   {
    "duration": 3517,
    "start_time": "2021-12-08T13:03:10.739Z"
   },
   {
    "duration": 3635,
    "start_time": "2021-12-08T13:03:14.263Z"
   },
   {
    "duration": 5,
    "start_time": "2021-12-08T13:07:30.198Z"
   },
   {
    "duration": 211,
    "start_time": "2021-12-08T13:07:30.207Z"
   },
   {
    "duration": 174,
    "start_time": "2021-12-08T13:07:30.421Z"
   },
   {
    "duration": 174,
    "start_time": "2021-12-08T13:07:30.598Z"
   },
   {
    "duration": 12,
    "start_time": "2021-12-08T13:07:30.775Z"
   },
   {
    "duration": 31,
    "start_time": "2021-12-08T13:07:30.790Z"
   },
   {
    "duration": 23,
    "start_time": "2021-12-08T13:07:30.824Z"
   },
   {
    "duration": 63,
    "start_time": "2021-12-08T13:07:30.849Z"
   },
   {
    "duration": 61,
    "start_time": "2021-12-08T13:07:30.917Z"
   },
   {
    "duration": 50,
    "start_time": "2021-12-08T13:07:30.981Z"
   },
   {
    "duration": 45,
    "start_time": "2021-12-08T13:07:31.033Z"
   },
   {
    "duration": 16,
    "start_time": "2021-12-08T13:07:31.080Z"
   },
   {
    "duration": 24,
    "start_time": "2021-12-08T13:07:31.098Z"
   },
   {
    "duration": 6,
    "start_time": "2021-12-08T13:07:31.124Z"
   },
   {
    "duration": 49,
    "start_time": "2021-12-08T13:07:31.132Z"
   },
   {
    "duration": 84,
    "start_time": "2021-12-08T13:07:31.183Z"
   },
   {
    "duration": 97,
    "start_time": "2021-12-08T13:07:31.271Z"
   },
   {
    "duration": 20,
    "start_time": "2021-12-08T13:07:31.371Z"
   },
   {
    "duration": 24,
    "start_time": "2021-12-08T13:07:31.394Z"
   },
   {
    "duration": 19,
    "start_time": "2021-12-08T13:07:31.420Z"
   },
   {
    "duration": 7,
    "start_time": "2021-12-08T13:07:31.469Z"
   },
   {
    "duration": 99,
    "start_time": "2021-12-08T13:07:31.479Z"
   },
   {
    "duration": 25,
    "start_time": "2021-12-08T13:07:31.581Z"
   },
   {
    "duration": 74,
    "start_time": "2021-12-08T13:07:31.609Z"
   },
   {
    "duration": 9,
    "start_time": "2021-12-08T13:07:31.769Z"
   },
   {
    "duration": 10,
    "start_time": "2021-12-08T13:07:31.868Z"
   },
   {
    "duration": 15,
    "start_time": "2021-12-08T13:07:31.882Z"
   },
   {
    "duration": 11,
    "start_time": "2021-12-08T13:07:31.900Z"
   },
   {
    "duration": 13,
    "start_time": "2021-12-08T13:07:31.914Z"
   },
   {
    "duration": 7,
    "start_time": "2021-12-08T13:07:31.930Z"
   },
   {
    "duration": 27,
    "start_time": "2021-12-08T13:07:31.940Z"
   },
   {
    "duration": 5807,
    "start_time": "2021-12-08T13:07:31.970Z"
   },
   {
    "duration": 16,
    "start_time": "2021-12-08T13:07:37.779Z"
   },
   {
    "duration": 144,
    "start_time": "2021-12-08T13:07:37.798Z"
   },
   {
    "duration": -677,
    "start_time": "2021-12-08T13:07:38.621Z"
   },
   {
    "duration": 4,
    "start_time": "2021-12-08T13:07:57.696Z"
   },
   {
    "duration": 177,
    "start_time": "2021-12-08T13:07:57.702Z"
   },
   {
    "duration": 174,
    "start_time": "2021-12-08T13:07:57.882Z"
   },
   {
    "duration": 172,
    "start_time": "2021-12-08T13:07:58.058Z"
   },
   {
    "duration": 12,
    "start_time": "2021-12-08T13:07:58.233Z"
   },
   {
    "duration": 30,
    "start_time": "2021-12-08T13:07:58.247Z"
   },
   {
    "duration": 21,
    "start_time": "2021-12-08T13:07:58.280Z"
   },
   {
    "duration": 71,
    "start_time": "2021-12-08T13:07:58.305Z"
   },
   {
    "duration": 50,
    "start_time": "2021-12-08T13:07:58.378Z"
   },
   {
    "duration": 71,
    "start_time": "2021-12-08T13:07:58.430Z"
   },
   {
    "duration": 17,
    "start_time": "2021-12-08T13:07:58.503Z"
   },
   {
    "duration": 17,
    "start_time": "2021-12-08T13:07:58.522Z"
   },
   {
    "duration": 17,
    "start_time": "2021-12-08T13:07:58.567Z"
   },
   {
    "duration": 6,
    "start_time": "2021-12-08T13:07:58.586Z"
   },
   {
    "duration": 19,
    "start_time": "2021-12-08T13:07:58.595Z"
   },
   {
    "duration": 60,
    "start_time": "2021-12-08T13:07:58.616Z"
   },
   {
    "duration": 91,
    "start_time": "2021-12-08T13:07:58.680Z"
   },
   {
    "duration": 9,
    "start_time": "2021-12-08T13:07:58.774Z"
   },
   {
    "duration": 22,
    "start_time": "2021-12-08T13:07:58.786Z"
   },
   {
    "duration": 58,
    "start_time": "2021-12-08T13:07:58.811Z"
   },
   {
    "duration": 96,
    "start_time": "2021-12-08T13:07:58.873Z"
   },
   {
    "duration": 8,
    "start_time": "2021-12-08T13:07:58.972Z"
   },
   {
    "duration": 19,
    "start_time": "2021-12-08T13:07:58.986Z"
   },
   {
    "duration": 60,
    "start_time": "2021-12-08T13:07:59.008Z"
   },
   {
    "duration": 95,
    "start_time": "2021-12-08T13:07:59.072Z"
   },
   {
    "duration": 4,
    "start_time": "2021-12-08T13:07:59.170Z"
   },
   {
    "duration": 6,
    "start_time": "2021-12-08T13:07:59.176Z"
   },
   {
    "duration": 11,
    "start_time": "2021-12-08T13:07:59.185Z"
   },
   {
    "duration": 9,
    "start_time": "2021-12-08T13:07:59.198Z"
   },
   {
    "duration": 4,
    "start_time": "2021-12-08T13:07:59.210Z"
   },
   {
    "duration": 8,
    "start_time": "2021-12-08T13:07:59.216Z"
   },
   {
    "duration": 957,
    "start_time": "2022-01-21T10:45:21.591Z"
   },
   {
    "duration": 122,
    "start_time": "2022-01-21T10:45:22.549Z"
   },
   {
    "duration": 119,
    "start_time": "2022-01-21T10:45:22.673Z"
   },
   {
    "duration": 118,
    "start_time": "2022-01-21T10:45:22.794Z"
   },
   {
    "duration": 14,
    "start_time": "2022-01-21T10:45:22.913Z"
   },
   {
    "duration": 13,
    "start_time": "2022-01-21T10:45:22.928Z"
   },
   {
    "duration": 7,
    "start_time": "2022-01-21T10:45:22.942Z"
   },
   {
    "duration": 32,
    "start_time": "2022-01-21T10:45:22.951Z"
   },
   {
    "duration": 31,
    "start_time": "2022-01-21T10:45:22.985Z"
   },
   {
    "duration": 52,
    "start_time": "2022-01-21T10:45:23.017Z"
   },
   {
    "duration": 10,
    "start_time": "2022-01-21T10:45:23.071Z"
   },
   {
    "duration": 15,
    "start_time": "2022-01-21T10:45:23.083Z"
   },
   {
    "duration": 12,
    "start_time": "2022-01-21T10:45:23.099Z"
   },
   {
    "duration": 11,
    "start_time": "2022-01-21T10:45:23.112Z"
   },
   {
    "duration": 30,
    "start_time": "2022-01-21T10:45:23.124Z"
   },
   {
    "duration": 29,
    "start_time": "2022-01-21T10:45:23.156Z"
   },
   {
    "duration": 98,
    "start_time": "2022-01-21T10:45:23.243Z"
   },
   {
    "duration": 4,
    "start_time": "2022-01-21T10:45:23.343Z"
   },
   {
    "duration": 16,
    "start_time": "2022-01-21T10:45:23.348Z"
   },
   {
    "duration": 11,
    "start_time": "2022-01-21T10:45:23.365Z"
   },
   {
    "duration": 67,
    "start_time": "2022-01-21T10:45:23.378Z"
   },
   {
    "duration": 107,
    "start_time": "2022-01-21T10:45:23.448Z"
   },
   {
    "duration": 20,
    "start_time": "2022-01-21T10:45:23.558Z"
   },
   {
    "duration": 12,
    "start_time": "2022-01-21T10:45:23.580Z"
   },
   {
    "duration": 51,
    "start_time": "2022-01-21T10:45:23.594Z"
   },
   {
    "duration": 96,
    "start_time": "2022-01-21T10:45:23.646Z"
   },
   {
    "duration": 5,
    "start_time": "2022-01-21T10:45:23.744Z"
   },
   {
    "duration": 5,
    "start_time": "2022-01-21T10:45:23.750Z"
   },
   {
    "duration": 10,
    "start_time": "2022-01-21T10:45:23.757Z"
   },
   {
    "duration": 3,
    "start_time": "2022-01-21T10:45:23.768Z"
   },
   {
    "duration": 6,
    "start_time": "2022-01-21T10:45:23.773Z"
   },
   {
    "duration": 2883,
    "start_time": "2022-01-21T10:45:23.780Z"
   },
   {
    "duration": 9,
    "start_time": "2022-01-21T10:45:26.665Z"
   },
   {
    "duration": 101,
    "start_time": "2022-01-21T10:45:26.675Z"
   },
   {
    "duration": 273,
    "start_time": "2022-01-21T10:45:26.504Z"
   },
   {
    "duration": 3,
    "start_time": "2022-01-21T10:46:05.652Z"
   },
   {
    "duration": 161,
    "start_time": "2022-01-21T10:46:05.658Z"
   },
   {
    "duration": 132,
    "start_time": "2022-01-21T10:46:05.822Z"
   },
   {
    "duration": 134,
    "start_time": "2022-01-21T10:46:05.956Z"
   },
   {
    "duration": 9,
    "start_time": "2022-01-21T10:46:06.092Z"
   },
   {
    "duration": 23,
    "start_time": "2022-01-21T10:46:06.103Z"
   },
   {
    "duration": 43,
    "start_time": "2022-01-21T10:46:06.128Z"
   },
   {
    "duration": 58,
    "start_time": "2022-01-21T10:46:06.175Z"
   },
   {
    "duration": 41,
    "start_time": "2022-01-21T10:46:06.236Z"
   },
   {
    "duration": 36,
    "start_time": "2022-01-21T10:46:06.279Z"
   },
   {
    "duration": 25,
    "start_time": "2022-01-21T10:46:06.317Z"
   },
   {
    "duration": 15,
    "start_time": "2022-01-21T10:46:06.343Z"
   },
   {
    "duration": 30,
    "start_time": "2022-01-21T10:46:06.360Z"
   },
   {
    "duration": 19,
    "start_time": "2022-01-21T10:46:06.392Z"
   },
   {
    "duration": 38,
    "start_time": "2022-01-21T10:46:06.412Z"
   },
   {
    "duration": 36,
    "start_time": "2022-01-21T10:46:06.451Z"
   },
   {
    "duration": 155,
    "start_time": "2022-01-21T10:46:06.489Z"
   },
   {
    "duration": 35,
    "start_time": "2022-01-21T10:46:06.645Z"
   },
   {
    "duration": 33,
    "start_time": "2022-01-21T10:46:06.682Z"
   },
   {
    "duration": 32,
    "start_time": "2022-01-21T10:46:06.717Z"
   },
   {
    "duration": 191,
    "start_time": "2022-01-21T10:46:06.751Z"
   },
   {
    "duration": 28,
    "start_time": "2022-01-21T10:46:06.944Z"
   },
   {
    "duration": 38,
    "start_time": "2022-01-21T10:46:06.975Z"
   },
   {
    "duration": 22,
    "start_time": "2022-01-21T10:46:07.015Z"
   },
   {
    "duration": 208,
    "start_time": "2022-01-21T10:46:07.043Z"
   },
   {
    "duration": 35,
    "start_time": "2022-01-21T10:46:07.253Z"
   },
   {
    "duration": 20,
    "start_time": "2022-01-21T10:46:07.289Z"
   },
   {
    "duration": 37,
    "start_time": "2022-01-21T10:46:07.310Z"
   },
   {
    "duration": 48,
    "start_time": "2022-01-21T10:46:07.349Z"
   },
   {
    "duration": 39,
    "start_time": "2022-01-21T10:46:07.398Z"
   },
   {
    "duration": 36,
    "start_time": "2022-01-21T10:46:07.439Z"
   },
   {
    "duration": 3080,
    "start_time": "2022-01-21T10:46:07.476Z"
   },
   {
    "duration": 9,
    "start_time": "2022-01-21T10:46:10.558Z"
   },
   {
    "duration": 3104,
    "start_time": "2022-01-21T10:46:10.568Z"
   },
   {
    "duration": 3057,
    "start_time": "2022-01-21T10:46:13.674Z"
   }
  ],
  "kernelspec": {
   "display_name": "Python 3",
   "language": "python",
   "name": "python3"
  },
  "language_info": {
   "codemirror_mode": {
    "name": "ipython",
    "version": 3
   },
   "file_extension": ".py",
   "mimetype": "text/x-python",
   "name": "python",
   "nbconvert_exporter": "python",
   "pygments_lexer": "ipython3",
   "version": "3.8.5"
  },
  "toc": {
   "base_numbering": 1,
   "nav_menu": {},
   "number_sections": true,
   "sideBar": true,
   "skip_h1_title": true,
   "title_cell": "Table of Contents",
   "title_sidebar": "Contents",
   "toc_cell": false,
   "toc_position": {},
   "toc_section_display": true,
   "toc_window_display": false
  }
 },
 "nbformat": 4,
 "nbformat_minor": 2
}
