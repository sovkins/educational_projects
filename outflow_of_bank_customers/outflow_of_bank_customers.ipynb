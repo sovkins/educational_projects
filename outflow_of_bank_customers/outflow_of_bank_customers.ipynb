{
 "cells": [
  {
   "cell_type": "markdown",
   "metadata": {},
   "source": [
    "# Отток клиентов"
   ]
  },
  {
   "cell_type": "markdown",
   "metadata": {},
   "source": [
    "Нужно спрогнозировать, уйдёт клиент из банка в ближайшее время или нет по предоставленым историческим данным о поведении клиентов и расторжении договоров с банком. \n",
    "\n",
    "Нужно довести метрику *F1*-меру до 0.59. \n",
    "\n",
    "\n",
    "Источник данных: [https://www.kaggle.com/barelydedicated/bank-customer-churn-modeling](https://www.kaggle.com/barelydedicated/bank-customer-churn-modeling)"
   ]
  },
  {
   "cell_type": "markdown",
   "metadata": {},
   "source": [
    "## Подготовка данных"
   ]
  },
  {
   "cell_type": "code",
   "execution_count": 36,
   "metadata": {},
   "outputs": [],
   "source": [
    "import pandas as pd\n",
    "from sklearn.model_selection import train_test_split\n",
    "from sklearn.preprocessing import StandardScaler\n",
    "from sklearn.metrics import f1_score\n",
    "from sklearn.tree import DecisionTreeClassifier\n",
    "from sklearn.metrics import roc_auc_score\n",
    "from sklearn.linear_model import LogisticRegression\n",
    "from sklearn.utils import shuffle\n",
    "from sklearn.metrics import accuracy_score\n",
    "from sklearn.ensemble import RandomForestClassifier"
   ]
  },
  {
   "cell_type": "code",
   "execution_count": 37,
   "metadata": {},
   "outputs": [],
   "source": [
    "pd.options.mode.chained_assignment = None\n"
   ]
  },
  {
   "cell_type": "code",
   "execution_count": 38,
   "metadata": {},
   "outputs": [],
   "source": [
    "df = pd.read_csv('/datasets/Churn.csv')"
   ]
  },
  {
   "cell_type": "code",
   "execution_count": 39,
   "metadata": {},
   "outputs": [
    {
     "name": "stdout",
     "output_type": "stream",
     "text": [
      "<class 'pandas.core.frame.DataFrame'>\n",
      "RangeIndex: 10000 entries, 0 to 9999\n",
      "Data columns (total 14 columns):\n",
      "RowNumber          10000 non-null int64\n",
      "CustomerId         10000 non-null int64\n",
      "Surname            10000 non-null object\n",
      "CreditScore        10000 non-null int64\n",
      "Geography          10000 non-null object\n",
      "Gender             10000 non-null object\n",
      "Age                10000 non-null int64\n",
      "Tenure             9091 non-null float64\n",
      "Balance            10000 non-null float64\n",
      "NumOfProducts      10000 non-null int64\n",
      "HasCrCard          10000 non-null int64\n",
      "IsActiveMember     10000 non-null int64\n",
      "EstimatedSalary    10000 non-null float64\n",
      "Exited             10000 non-null int64\n",
      "dtypes: float64(3), int64(8), object(3)\n",
      "memory usage: 1.1+ MB\n"
     ]
    }
   ],
   "source": [
    "df.info()"
   ]
  },
  {
   "cell_type": "markdown",
   "metadata": {},
   "source": [
    "Первое, что доставит нам много неудобств это заголовки с заглавными буквами, приведем все заголовки к нижнему регистру. И заполним пропуски в колонке tenure."
   ]
  },
  {
   "cell_type": "code",
   "execution_count": 40,
   "metadata": {},
   "outputs": [
    {
     "data": {
      "text/html": [
       "<div>\n",
       "<style scoped>\n",
       "    .dataframe tbody tr th:only-of-type {\n",
       "        vertical-align: middle;\n",
       "    }\n",
       "\n",
       "    .dataframe tbody tr th {\n",
       "        vertical-align: top;\n",
       "    }\n",
       "\n",
       "    .dataframe thead th {\n",
       "        text-align: right;\n",
       "    }\n",
       "</style>\n",
       "<table border=\"1\" class=\"dataframe\">\n",
       "  <thead>\n",
       "    <tr style=\"text-align: right;\">\n",
       "      <th></th>\n",
       "      <th>rownumber</th>\n",
       "      <th>customerid</th>\n",
       "      <th>surname</th>\n",
       "      <th>creditscore</th>\n",
       "      <th>geography</th>\n",
       "      <th>gender</th>\n",
       "      <th>age</th>\n",
       "      <th>tenure</th>\n",
       "      <th>balance</th>\n",
       "      <th>numofproducts</th>\n",
       "      <th>hascrcard</th>\n",
       "      <th>isactivemember</th>\n",
       "      <th>estimatedsalary</th>\n",
       "      <th>exited</th>\n",
       "    </tr>\n",
       "  </thead>\n",
       "  <tbody>\n",
       "    <tr>\n",
       "      <td>0</td>\n",
       "      <td>1</td>\n",
       "      <td>15634602</td>\n",
       "      <td>Hargrave</td>\n",
       "      <td>619</td>\n",
       "      <td>France</td>\n",
       "      <td>Female</td>\n",
       "      <td>42</td>\n",
       "      <td>2.0</td>\n",
       "      <td>0.00</td>\n",
       "      <td>1</td>\n",
       "      <td>1</td>\n",
       "      <td>1</td>\n",
       "      <td>101348.88</td>\n",
       "      <td>1</td>\n",
       "    </tr>\n",
       "    <tr>\n",
       "      <td>1</td>\n",
       "      <td>2</td>\n",
       "      <td>15647311</td>\n",
       "      <td>Hill</td>\n",
       "      <td>608</td>\n",
       "      <td>Spain</td>\n",
       "      <td>Female</td>\n",
       "      <td>41</td>\n",
       "      <td>1.0</td>\n",
       "      <td>83807.86</td>\n",
       "      <td>1</td>\n",
       "      <td>0</td>\n",
       "      <td>1</td>\n",
       "      <td>112542.58</td>\n",
       "      <td>0</td>\n",
       "    </tr>\n",
       "    <tr>\n",
       "      <td>2</td>\n",
       "      <td>3</td>\n",
       "      <td>15619304</td>\n",
       "      <td>Onio</td>\n",
       "      <td>502</td>\n",
       "      <td>France</td>\n",
       "      <td>Female</td>\n",
       "      <td>42</td>\n",
       "      <td>8.0</td>\n",
       "      <td>159660.80</td>\n",
       "      <td>3</td>\n",
       "      <td>1</td>\n",
       "      <td>0</td>\n",
       "      <td>113931.57</td>\n",
       "      <td>1</td>\n",
       "    </tr>\n",
       "    <tr>\n",
       "      <td>3</td>\n",
       "      <td>4</td>\n",
       "      <td>15701354</td>\n",
       "      <td>Boni</td>\n",
       "      <td>699</td>\n",
       "      <td>France</td>\n",
       "      <td>Female</td>\n",
       "      <td>39</td>\n",
       "      <td>1.0</td>\n",
       "      <td>0.00</td>\n",
       "      <td>2</td>\n",
       "      <td>0</td>\n",
       "      <td>0</td>\n",
       "      <td>93826.63</td>\n",
       "      <td>0</td>\n",
       "    </tr>\n",
       "    <tr>\n",
       "      <td>4</td>\n",
       "      <td>5</td>\n",
       "      <td>15737888</td>\n",
       "      <td>Mitchell</td>\n",
       "      <td>850</td>\n",
       "      <td>Spain</td>\n",
       "      <td>Female</td>\n",
       "      <td>43</td>\n",
       "      <td>2.0</td>\n",
       "      <td>125510.82</td>\n",
       "      <td>1</td>\n",
       "      <td>1</td>\n",
       "      <td>1</td>\n",
       "      <td>79084.10</td>\n",
       "      <td>0</td>\n",
       "    </tr>\n",
       "  </tbody>\n",
       "</table>\n",
       "</div>"
      ],
      "text/plain": [
       "   rownumber  customerid   surname  creditscore geography  gender  age  \\\n",
       "0          1    15634602  Hargrave          619    France  Female   42   \n",
       "1          2    15647311      Hill          608     Spain  Female   41   \n",
       "2          3    15619304      Onio          502    France  Female   42   \n",
       "3          4    15701354      Boni          699    France  Female   39   \n",
       "4          5    15737888  Mitchell          850     Spain  Female   43   \n",
       "\n",
       "   tenure    balance  numofproducts  hascrcard  isactivemember  \\\n",
       "0     2.0       0.00              1          1               1   \n",
       "1     1.0   83807.86              1          0               1   \n",
       "2     8.0  159660.80              3          1               0   \n",
       "3     1.0       0.00              2          0               0   \n",
       "4     2.0  125510.82              1          1               1   \n",
       "\n",
       "   estimatedsalary  exited  \n",
       "0        101348.88       1  \n",
       "1        112542.58       0  \n",
       "2        113931.57       1  \n",
       "3         93826.63       0  \n",
       "4         79084.10       0  "
      ]
     },
     "execution_count": 40,
     "metadata": {},
     "output_type": "execute_result"
    }
   ],
   "source": [
    "df.columns = df.columns.str.lower()\n",
    "df.head()"
   ]
  },
  {
   "cell_type": "code",
   "execution_count": 41,
   "metadata": {},
   "outputs": [],
   "source": [
    "df['tenure'] = df['tenure'].fillna(df['tenure'].median())"
   ]
  },
  {
   "cell_type": "code",
   "execution_count": 42,
   "metadata": {},
   "outputs": [
    {
     "name": "stdout",
     "output_type": "stream",
     "text": [
      "<class 'pandas.core.frame.DataFrame'>\n",
      "RangeIndex: 10000 entries, 0 to 9999\n",
      "Data columns (total 14 columns):\n",
      "rownumber          10000 non-null int64\n",
      "customerid         10000 non-null int64\n",
      "surname            10000 non-null object\n",
      "creditscore        10000 non-null int64\n",
      "geography          10000 non-null object\n",
      "gender             10000 non-null object\n",
      "age                10000 non-null int64\n",
      "tenure             10000 non-null float64\n",
      "balance            10000 non-null float64\n",
      "numofproducts      10000 non-null int64\n",
      "hascrcard          10000 non-null int64\n",
      "isactivemember     10000 non-null int64\n",
      "estimatedsalary    10000 non-null float64\n",
      "exited             10000 non-null int64\n",
      "dtypes: float64(3), int64(8), object(3)\n",
      "memory usage: 1.1+ MB\n"
     ]
    }
   ],
   "source": [
    "df.info()"
   ]
  },
  {
   "cell_type": "code",
   "execution_count": 43,
   "metadata": {
    "scrolled": true
   },
   "outputs": [
    {
     "data": {
      "text/html": [
       "<div>\n",
       "<style scoped>\n",
       "    .dataframe tbody tr th:only-of-type {\n",
       "        vertical-align: middle;\n",
       "    }\n",
       "\n",
       "    .dataframe tbody tr th {\n",
       "        vertical-align: top;\n",
       "    }\n",
       "\n",
       "    .dataframe thead th {\n",
       "        text-align: right;\n",
       "    }\n",
       "</style>\n",
       "<table border=\"1\" class=\"dataframe\">\n",
       "  <thead>\n",
       "    <tr style=\"text-align: right;\">\n",
       "      <th></th>\n",
       "      <th>count</th>\n",
       "      <th>mean</th>\n",
       "      <th>std</th>\n",
       "      <th>min</th>\n",
       "      <th>25%</th>\n",
       "      <th>50%</th>\n",
       "      <th>75%</th>\n",
       "      <th>max</th>\n",
       "    </tr>\n",
       "  </thead>\n",
       "  <tbody>\n",
       "    <tr>\n",
       "      <td>rownumber</td>\n",
       "      <td>10000.0</td>\n",
       "      <td>5.000500e+03</td>\n",
       "      <td>2886.895680</td>\n",
       "      <td>1.00</td>\n",
       "      <td>2500.75</td>\n",
       "      <td>5.000500e+03</td>\n",
       "      <td>7.500250e+03</td>\n",
       "      <td>10000.00</td>\n",
       "    </tr>\n",
       "    <tr>\n",
       "      <td>customerid</td>\n",
       "      <td>10000.0</td>\n",
       "      <td>1.569094e+07</td>\n",
       "      <td>71936.186123</td>\n",
       "      <td>15565701.00</td>\n",
       "      <td>15628528.25</td>\n",
       "      <td>1.569074e+07</td>\n",
       "      <td>1.575323e+07</td>\n",
       "      <td>15815690.00</td>\n",
       "    </tr>\n",
       "    <tr>\n",
       "      <td>creditscore</td>\n",
       "      <td>10000.0</td>\n",
       "      <td>6.505288e+02</td>\n",
       "      <td>96.653299</td>\n",
       "      <td>350.00</td>\n",
       "      <td>584.00</td>\n",
       "      <td>6.520000e+02</td>\n",
       "      <td>7.180000e+02</td>\n",
       "      <td>850.00</td>\n",
       "    </tr>\n",
       "    <tr>\n",
       "      <td>age</td>\n",
       "      <td>10000.0</td>\n",
       "      <td>3.892180e+01</td>\n",
       "      <td>10.487806</td>\n",
       "      <td>18.00</td>\n",
       "      <td>32.00</td>\n",
       "      <td>3.700000e+01</td>\n",
       "      <td>4.400000e+01</td>\n",
       "      <td>92.00</td>\n",
       "    </tr>\n",
       "    <tr>\n",
       "      <td>tenure</td>\n",
       "      <td>10000.0</td>\n",
       "      <td>4.997900e+00</td>\n",
       "      <td>2.760010</td>\n",
       "      <td>0.00</td>\n",
       "      <td>3.00</td>\n",
       "      <td>5.000000e+00</td>\n",
       "      <td>7.000000e+00</td>\n",
       "      <td>10.00</td>\n",
       "    </tr>\n",
       "    <tr>\n",
       "      <td>balance</td>\n",
       "      <td>10000.0</td>\n",
       "      <td>7.648589e+04</td>\n",
       "      <td>62397.405202</td>\n",
       "      <td>0.00</td>\n",
       "      <td>0.00</td>\n",
       "      <td>9.719854e+04</td>\n",
       "      <td>1.276442e+05</td>\n",
       "      <td>250898.09</td>\n",
       "    </tr>\n",
       "    <tr>\n",
       "      <td>numofproducts</td>\n",
       "      <td>10000.0</td>\n",
       "      <td>1.530200e+00</td>\n",
       "      <td>0.581654</td>\n",
       "      <td>1.00</td>\n",
       "      <td>1.00</td>\n",
       "      <td>1.000000e+00</td>\n",
       "      <td>2.000000e+00</td>\n",
       "      <td>4.00</td>\n",
       "    </tr>\n",
       "    <tr>\n",
       "      <td>hascrcard</td>\n",
       "      <td>10000.0</td>\n",
       "      <td>7.055000e-01</td>\n",
       "      <td>0.455840</td>\n",
       "      <td>0.00</td>\n",
       "      <td>0.00</td>\n",
       "      <td>1.000000e+00</td>\n",
       "      <td>1.000000e+00</td>\n",
       "      <td>1.00</td>\n",
       "    </tr>\n",
       "    <tr>\n",
       "      <td>isactivemember</td>\n",
       "      <td>10000.0</td>\n",
       "      <td>5.151000e-01</td>\n",
       "      <td>0.499797</td>\n",
       "      <td>0.00</td>\n",
       "      <td>0.00</td>\n",
       "      <td>1.000000e+00</td>\n",
       "      <td>1.000000e+00</td>\n",
       "      <td>1.00</td>\n",
       "    </tr>\n",
       "    <tr>\n",
       "      <td>estimatedsalary</td>\n",
       "      <td>10000.0</td>\n",
       "      <td>1.000902e+05</td>\n",
       "      <td>57510.492818</td>\n",
       "      <td>11.58</td>\n",
       "      <td>51002.11</td>\n",
       "      <td>1.001939e+05</td>\n",
       "      <td>1.493882e+05</td>\n",
       "      <td>199992.48</td>\n",
       "    </tr>\n",
       "    <tr>\n",
       "      <td>exited</td>\n",
       "      <td>10000.0</td>\n",
       "      <td>2.037000e-01</td>\n",
       "      <td>0.402769</td>\n",
       "      <td>0.00</td>\n",
       "      <td>0.00</td>\n",
       "      <td>0.000000e+00</td>\n",
       "      <td>0.000000e+00</td>\n",
       "      <td>1.00</td>\n",
       "    </tr>\n",
       "  </tbody>\n",
       "</table>\n",
       "</div>"
      ],
      "text/plain": [
       "                   count          mean           std          min  \\\n",
       "rownumber        10000.0  5.000500e+03   2886.895680         1.00   \n",
       "customerid       10000.0  1.569094e+07  71936.186123  15565701.00   \n",
       "creditscore      10000.0  6.505288e+02     96.653299       350.00   \n",
       "age              10000.0  3.892180e+01     10.487806        18.00   \n",
       "tenure           10000.0  4.997900e+00      2.760010         0.00   \n",
       "balance          10000.0  7.648589e+04  62397.405202         0.00   \n",
       "numofproducts    10000.0  1.530200e+00      0.581654         1.00   \n",
       "hascrcard        10000.0  7.055000e-01      0.455840         0.00   \n",
       "isactivemember   10000.0  5.151000e-01      0.499797         0.00   \n",
       "estimatedsalary  10000.0  1.000902e+05  57510.492818        11.58   \n",
       "exited           10000.0  2.037000e-01      0.402769         0.00   \n",
       "\n",
       "                         25%           50%           75%          max  \n",
       "rownumber            2500.75  5.000500e+03  7.500250e+03     10000.00  \n",
       "customerid       15628528.25  1.569074e+07  1.575323e+07  15815690.00  \n",
       "creditscore           584.00  6.520000e+02  7.180000e+02       850.00  \n",
       "age                    32.00  3.700000e+01  4.400000e+01        92.00  \n",
       "tenure                  3.00  5.000000e+00  7.000000e+00        10.00  \n",
       "balance                 0.00  9.719854e+04  1.276442e+05    250898.09  \n",
       "numofproducts           1.00  1.000000e+00  2.000000e+00         4.00  \n",
       "hascrcard               0.00  1.000000e+00  1.000000e+00         1.00  \n",
       "isactivemember          0.00  1.000000e+00  1.000000e+00         1.00  \n",
       "estimatedsalary     51002.11  1.001939e+05  1.493882e+05    199992.48  \n",
       "exited                  0.00  0.000000e+00  0.000000e+00         1.00  "
      ]
     },
     "execution_count": 43,
     "metadata": {},
     "output_type": "execute_result"
    }
   ],
   "source": [
    "df.describe().T"
   ]
  },
  {
   "cell_type": "code",
   "execution_count": 44,
   "metadata": {},
   "outputs": [
    {
     "data": {
      "text/html": [
       "<div>\n",
       "<style scoped>\n",
       "    .dataframe tbody tr th:only-of-type {\n",
       "        vertical-align: middle;\n",
       "    }\n",
       "\n",
       "    .dataframe tbody tr th {\n",
       "        vertical-align: top;\n",
       "    }\n",
       "\n",
       "    .dataframe thead th {\n",
       "        text-align: right;\n",
       "    }\n",
       "</style>\n",
       "<table border=\"1\" class=\"dataframe\">\n",
       "  <thead>\n",
       "    <tr style=\"text-align: right;\">\n",
       "      <th></th>\n",
       "      <th>rownumber</th>\n",
       "      <th>customerid</th>\n",
       "      <th>creditscore</th>\n",
       "      <th>age</th>\n",
       "      <th>tenure</th>\n",
       "      <th>balance</th>\n",
       "      <th>numofproducts</th>\n",
       "      <th>hascrcard</th>\n",
       "      <th>isactivemember</th>\n",
       "      <th>estimatedsalary</th>\n",
       "      <th>exited</th>\n",
       "    </tr>\n",
       "  </thead>\n",
       "  <tbody>\n",
       "    <tr>\n",
       "      <td>rownumber</td>\n",
       "      <td>1.000000</td>\n",
       "      <td>0.004202</td>\n",
       "      <td>0.005840</td>\n",
       "      <td>0.000783</td>\n",
       "      <td>-0.006979</td>\n",
       "      <td>-0.009067</td>\n",
       "      <td>0.007246</td>\n",
       "      <td>0.000599</td>\n",
       "      <td>0.012044</td>\n",
       "      <td>-0.005988</td>\n",
       "      <td>-0.016571</td>\n",
       "    </tr>\n",
       "    <tr>\n",
       "      <td>customerid</td>\n",
       "      <td>0.004202</td>\n",
       "      <td>1.000000</td>\n",
       "      <td>0.005308</td>\n",
       "      <td>0.009497</td>\n",
       "      <td>-0.020331</td>\n",
       "      <td>-0.012419</td>\n",
       "      <td>0.016972</td>\n",
       "      <td>-0.014025</td>\n",
       "      <td>0.001665</td>\n",
       "      <td>0.015271</td>\n",
       "      <td>-0.006248</td>\n",
       "    </tr>\n",
       "    <tr>\n",
       "      <td>creditscore</td>\n",
       "      <td>0.005840</td>\n",
       "      <td>0.005308</td>\n",
       "      <td>1.000000</td>\n",
       "      <td>-0.003965</td>\n",
       "      <td>-0.000060</td>\n",
       "      <td>0.006268</td>\n",
       "      <td>0.012238</td>\n",
       "      <td>-0.005458</td>\n",
       "      <td>0.025651</td>\n",
       "      <td>-0.001384</td>\n",
       "      <td>-0.027094</td>\n",
       "    </tr>\n",
       "    <tr>\n",
       "      <td>age</td>\n",
       "      <td>0.000783</td>\n",
       "      <td>0.009497</td>\n",
       "      <td>-0.003965</td>\n",
       "      <td>1.000000</td>\n",
       "      <td>-0.012606</td>\n",
       "      <td>0.028308</td>\n",
       "      <td>-0.030680</td>\n",
       "      <td>-0.011721</td>\n",
       "      <td>0.085472</td>\n",
       "      <td>-0.007201</td>\n",
       "      <td>0.285323</td>\n",
       "    </tr>\n",
       "    <tr>\n",
       "      <td>tenure</td>\n",
       "      <td>-0.006979</td>\n",
       "      <td>-0.020331</td>\n",
       "      <td>-0.000060</td>\n",
       "      <td>-0.012606</td>\n",
       "      <td>1.000000</td>\n",
       "      <td>-0.007535</td>\n",
       "      <td>0.011409</td>\n",
       "      <td>0.025979</td>\n",
       "      <td>-0.030681</td>\n",
       "      <td>0.010049</td>\n",
       "      <td>-0.015989</td>\n",
       "    </tr>\n",
       "    <tr>\n",
       "      <td>balance</td>\n",
       "      <td>-0.009067</td>\n",
       "      <td>-0.012419</td>\n",
       "      <td>0.006268</td>\n",
       "      <td>0.028308</td>\n",
       "      <td>-0.007535</td>\n",
       "      <td>1.000000</td>\n",
       "      <td>-0.304180</td>\n",
       "      <td>-0.014858</td>\n",
       "      <td>-0.010084</td>\n",
       "      <td>0.012797</td>\n",
       "      <td>0.118533</td>\n",
       "    </tr>\n",
       "    <tr>\n",
       "      <td>numofproducts</td>\n",
       "      <td>0.007246</td>\n",
       "      <td>0.016972</td>\n",
       "      <td>0.012238</td>\n",
       "      <td>-0.030680</td>\n",
       "      <td>0.011409</td>\n",
       "      <td>-0.304180</td>\n",
       "      <td>1.000000</td>\n",
       "      <td>0.003183</td>\n",
       "      <td>0.009612</td>\n",
       "      <td>0.014204</td>\n",
       "      <td>-0.047820</td>\n",
       "    </tr>\n",
       "    <tr>\n",
       "      <td>hascrcard</td>\n",
       "      <td>0.000599</td>\n",
       "      <td>-0.014025</td>\n",
       "      <td>-0.005458</td>\n",
       "      <td>-0.011721</td>\n",
       "      <td>0.025979</td>\n",
       "      <td>-0.014858</td>\n",
       "      <td>0.003183</td>\n",
       "      <td>1.000000</td>\n",
       "      <td>-0.011866</td>\n",
       "      <td>-0.009933</td>\n",
       "      <td>-0.007138</td>\n",
       "    </tr>\n",
       "    <tr>\n",
       "      <td>isactivemember</td>\n",
       "      <td>0.012044</td>\n",
       "      <td>0.001665</td>\n",
       "      <td>0.025651</td>\n",
       "      <td>0.085472</td>\n",
       "      <td>-0.030681</td>\n",
       "      <td>-0.010084</td>\n",
       "      <td>0.009612</td>\n",
       "      <td>-0.011866</td>\n",
       "      <td>1.000000</td>\n",
       "      <td>-0.011421</td>\n",
       "      <td>-0.156128</td>\n",
       "    </tr>\n",
       "    <tr>\n",
       "      <td>estimatedsalary</td>\n",
       "      <td>-0.005988</td>\n",
       "      <td>0.015271</td>\n",
       "      <td>-0.001384</td>\n",
       "      <td>-0.007201</td>\n",
       "      <td>0.010049</td>\n",
       "      <td>0.012797</td>\n",
       "      <td>0.014204</td>\n",
       "      <td>-0.009933</td>\n",
       "      <td>-0.011421</td>\n",
       "      <td>1.000000</td>\n",
       "      <td>0.012097</td>\n",
       "    </tr>\n",
       "    <tr>\n",
       "      <td>exited</td>\n",
       "      <td>-0.016571</td>\n",
       "      <td>-0.006248</td>\n",
       "      <td>-0.027094</td>\n",
       "      <td>0.285323</td>\n",
       "      <td>-0.015989</td>\n",
       "      <td>0.118533</td>\n",
       "      <td>-0.047820</td>\n",
       "      <td>-0.007138</td>\n",
       "      <td>-0.156128</td>\n",
       "      <td>0.012097</td>\n",
       "      <td>1.000000</td>\n",
       "    </tr>\n",
       "  </tbody>\n",
       "</table>\n",
       "</div>"
      ],
      "text/plain": [
       "                 rownumber  customerid  creditscore       age    tenure  \\\n",
       "rownumber         1.000000    0.004202     0.005840  0.000783 -0.006979   \n",
       "customerid        0.004202    1.000000     0.005308  0.009497 -0.020331   \n",
       "creditscore       0.005840    0.005308     1.000000 -0.003965 -0.000060   \n",
       "age               0.000783    0.009497    -0.003965  1.000000 -0.012606   \n",
       "tenure           -0.006979   -0.020331    -0.000060 -0.012606  1.000000   \n",
       "balance          -0.009067   -0.012419     0.006268  0.028308 -0.007535   \n",
       "numofproducts     0.007246    0.016972     0.012238 -0.030680  0.011409   \n",
       "hascrcard         0.000599   -0.014025    -0.005458 -0.011721  0.025979   \n",
       "isactivemember    0.012044    0.001665     0.025651  0.085472 -0.030681   \n",
       "estimatedsalary  -0.005988    0.015271    -0.001384 -0.007201  0.010049   \n",
       "exited           -0.016571   -0.006248    -0.027094  0.285323 -0.015989   \n",
       "\n",
       "                  balance  numofproducts  hascrcard  isactivemember  \\\n",
       "rownumber       -0.009067       0.007246   0.000599        0.012044   \n",
       "customerid      -0.012419       0.016972  -0.014025        0.001665   \n",
       "creditscore      0.006268       0.012238  -0.005458        0.025651   \n",
       "age              0.028308      -0.030680  -0.011721        0.085472   \n",
       "tenure          -0.007535       0.011409   0.025979       -0.030681   \n",
       "balance          1.000000      -0.304180  -0.014858       -0.010084   \n",
       "numofproducts   -0.304180       1.000000   0.003183        0.009612   \n",
       "hascrcard       -0.014858       0.003183   1.000000       -0.011866   \n",
       "isactivemember  -0.010084       0.009612  -0.011866        1.000000   \n",
       "estimatedsalary  0.012797       0.014204  -0.009933       -0.011421   \n",
       "exited           0.118533      -0.047820  -0.007138       -0.156128   \n",
       "\n",
       "                 estimatedsalary    exited  \n",
       "rownumber              -0.005988 -0.016571  \n",
       "customerid              0.015271 -0.006248  \n",
       "creditscore            -0.001384 -0.027094  \n",
       "age                    -0.007201  0.285323  \n",
       "tenure                  0.010049 -0.015989  \n",
       "balance                 0.012797  0.118533  \n",
       "numofproducts           0.014204 -0.047820  \n",
       "hascrcard              -0.009933 -0.007138  \n",
       "isactivemember         -0.011421 -0.156128  \n",
       "estimatedsalary         1.000000  0.012097  \n",
       "exited                  0.012097  1.000000  "
      ]
     },
     "execution_count": 44,
     "metadata": {},
     "output_type": "execute_result"
    }
   ],
   "source": [
    "df.corr()"
   ]
  },
  {
   "cell_type": "code",
   "execution_count": 45,
   "metadata": {},
   "outputs": [
    {
     "data": {
      "text/plain": [
       "France     5014\n",
       "Germany    2509\n",
       "Spain      2477\n",
       "Name: geography, dtype: int64"
      ]
     },
     "execution_count": 45,
     "metadata": {},
     "output_type": "execute_result"
    }
   ],
   "source": [
    "df['geography'].value_counts()"
   ]
  },
  {
   "cell_type": "code",
   "execution_count": 46,
   "metadata": {},
   "outputs": [
    {
     "data": {
      "text/html": [
       "<div>\n",
       "<style scoped>\n",
       "    .dataframe tbody tr th:only-of-type {\n",
       "        vertical-align: middle;\n",
       "    }\n",
       "\n",
       "    .dataframe tbody tr th {\n",
       "        vertical-align: top;\n",
       "    }\n",
       "\n",
       "    .dataframe thead th {\n",
       "        text-align: right;\n",
       "    }\n",
       "</style>\n",
       "<table border=\"1\" class=\"dataframe\">\n",
       "  <thead>\n",
       "    <tr style=\"text-align: right;\">\n",
       "      <th></th>\n",
       "      <th>creditscore</th>\n",
       "      <th>age</th>\n",
       "      <th>tenure</th>\n",
       "      <th>balance</th>\n",
       "      <th>numofproducts</th>\n",
       "      <th>hascrcard</th>\n",
       "      <th>isactivemember</th>\n",
       "      <th>estimatedsalary</th>\n",
       "      <th>exited</th>\n",
       "      <th>geography_Germany</th>\n",
       "      <th>geography_Spain</th>\n",
       "      <th>gender_Male</th>\n",
       "    </tr>\n",
       "  </thead>\n",
       "  <tbody>\n",
       "    <tr>\n",
       "      <td>0</td>\n",
       "      <td>619</td>\n",
       "      <td>42</td>\n",
       "      <td>2.0</td>\n",
       "      <td>0.00</td>\n",
       "      <td>1</td>\n",
       "      <td>1</td>\n",
       "      <td>1</td>\n",
       "      <td>101348.88</td>\n",
       "      <td>1</td>\n",
       "      <td>0</td>\n",
       "      <td>0</td>\n",
       "      <td>0</td>\n",
       "    </tr>\n",
       "    <tr>\n",
       "      <td>1</td>\n",
       "      <td>608</td>\n",
       "      <td>41</td>\n",
       "      <td>1.0</td>\n",
       "      <td>83807.86</td>\n",
       "      <td>1</td>\n",
       "      <td>0</td>\n",
       "      <td>1</td>\n",
       "      <td>112542.58</td>\n",
       "      <td>0</td>\n",
       "      <td>0</td>\n",
       "      <td>1</td>\n",
       "      <td>0</td>\n",
       "    </tr>\n",
       "    <tr>\n",
       "      <td>2</td>\n",
       "      <td>502</td>\n",
       "      <td>42</td>\n",
       "      <td>8.0</td>\n",
       "      <td>159660.80</td>\n",
       "      <td>3</td>\n",
       "      <td>1</td>\n",
       "      <td>0</td>\n",
       "      <td>113931.57</td>\n",
       "      <td>1</td>\n",
       "      <td>0</td>\n",
       "      <td>0</td>\n",
       "      <td>0</td>\n",
       "    </tr>\n",
       "    <tr>\n",
       "      <td>3</td>\n",
       "      <td>699</td>\n",
       "      <td>39</td>\n",
       "      <td>1.0</td>\n",
       "      <td>0.00</td>\n",
       "      <td>2</td>\n",
       "      <td>0</td>\n",
       "      <td>0</td>\n",
       "      <td>93826.63</td>\n",
       "      <td>0</td>\n",
       "      <td>0</td>\n",
       "      <td>0</td>\n",
       "      <td>0</td>\n",
       "    </tr>\n",
       "    <tr>\n",
       "      <td>4</td>\n",
       "      <td>850</td>\n",
       "      <td>43</td>\n",
       "      <td>2.0</td>\n",
       "      <td>125510.82</td>\n",
       "      <td>1</td>\n",
       "      <td>1</td>\n",
       "      <td>1</td>\n",
       "      <td>79084.10</td>\n",
       "      <td>0</td>\n",
       "      <td>0</td>\n",
       "      <td>1</td>\n",
       "      <td>0</td>\n",
       "    </tr>\n",
       "  </tbody>\n",
       "</table>\n",
       "</div>"
      ],
      "text/plain": [
       "   creditscore  age  tenure    balance  numofproducts  hascrcard  \\\n",
       "0          619   42     2.0       0.00              1          1   \n",
       "1          608   41     1.0   83807.86              1          0   \n",
       "2          502   42     8.0  159660.80              3          1   \n",
       "3          699   39     1.0       0.00              2          0   \n",
       "4          850   43     2.0  125510.82              1          1   \n",
       "\n",
       "   isactivemember  estimatedsalary  exited  geography_Germany  \\\n",
       "0               1        101348.88       1                  0   \n",
       "1               1        112542.58       0                  0   \n",
       "2               0        113931.57       1                  0   \n",
       "3               0         93826.63       0                  0   \n",
       "4               1         79084.10       0                  0   \n",
       "\n",
       "   geography_Spain  gender_Male  \n",
       "0                0            0  \n",
       "1                1            0  \n",
       "2                0            0  \n",
       "3                0            0  \n",
       "4                1            0  "
      ]
     },
     "execution_count": 46,
     "metadata": {},
     "output_type": "execute_result"
    }
   ],
   "source": [
    "df=df.drop(['surname','rownumber','customerid'],1)\n",
    "df_ohe = pd.get_dummies(df, drop_first=True)\n",
    "df_ohe.head()"
   ]
  },
  {
   "cell_type": "markdown",
   "metadata": {},
   "source": [
    "Познакомились и загрузили данные для модели. Проверели их взаимосвязь и значения, заменили пропуски вданных.Удалили колонку с фамилией, так она не несет информации об уходе клиента. Можем приступать к задачам модели.Провели прямое кодирование для категориальных колонок."
   ]
  },
  {
   "cell_type": "markdown",
   "metadata": {},
   "source": [
    "## Исследование задачи"
   ]
  },
  {
   "cell_type": "code",
   "execution_count": 47,
   "metadata": {},
   "outputs": [],
   "source": [
    "features = df_ohe.drop('exited', axis=1)\n",
    "target = df_ohe['exited']"
   ]
  },
  {
   "cell_type": "code",
   "execution_count": 48,
   "metadata": {},
   "outputs": [
    {
     "name": "stdout",
     "output_type": "stream",
     "text": [
      "Валидационная выборка 2000\n",
      "Тестовая выборка 2000\n",
      "обучающая выборка 6000\n"
     ]
    }
   ],
   "source": [
    "features_train, features_valid, target_train, target_valid = train_test_split(\n",
    "    features, target, test_size=0.4, random_state=12345)\n",
    "features_test, features_valid, target_test, target_valid = train_test_split(\n",
    "   features_valid, target_valid, test_size=0.5, random_state=12345)\n",
    "print('Валидационная выборка',len(features_valid))\n",
    "print('Тестовая выборка',len(features_test))\n",
    "print('обучающая выборка',len(features_train))"
   ]
  },
  {
   "cell_type": "markdown",
   "metadata": {},
   "source": [
    "Показали модели признаки и цель обучения. Разбили датасет на обучающую, валидационную и тестовую выборку."
   ]
  },
  {
   "cell_type": "code",
   "execution_count": 49,
   "metadata": {},
   "outputs": [],
   "source": [
    "numeric = ['creditscore','age','tenure','balance','numofproducts','estimatedsalary']\n",
    "scaler = StandardScaler()\n",
    "scaler.fit(features_train[numeric])\n",
    "features_train[numeric] = scaler.transform(features_train[numeric])\n",
    "features_valid[numeric] = scaler.transform(features_valid[numeric])\n",
    "features_test[numeric] = scaler.transform(features_test[numeric])"
   ]
  },
  {
   "cell_type": "markdown",
   "metadata": {},
   "source": [
    "У данных разных масштаб, проведем стандратизацию признаков."
   ]
  },
  {
   "cell_type": "code",
   "execution_count": 50,
   "metadata": {},
   "outputs": [
    {
     "name": "stdout",
     "output_type": "stream",
     "text": [
      "0.27478260869565213\n"
     ]
    }
   ],
   "source": [
    "model = LogisticRegression(random_state=12345,solver='liblinear')\n",
    "model.fit(features_train, target_train)\n",
    "predicted_valid = model.predict(features_valid)\n",
    "print(f1_score(target_valid,predicted_valid))"
   ]
  },
  {
   "cell_type": "code",
   "execution_count": 51,
   "metadata": {},
   "outputs": [
    {
     "data": {
      "text/plain": [
       "0.7915"
      ]
     },
     "execution_count": 51,
     "metadata": {},
     "output_type": "execute_result"
    }
   ],
   "source": [
    "model.score(features_valid,target_valid)"
   ]
  },
  {
   "cell_type": "code",
   "execution_count": 52,
   "metadata": {},
   "outputs": [
    {
     "name": "stdout",
     "output_type": "stream",
     "text": [
      "0.4760736196319018\n"
     ]
    }
   ],
   "source": [
    "model = DecisionTreeClassifier(random_state=12345)\n",
    "model.fit(features_train, target_train)\n",
    "predicted_valid = model.predict(features_valid)\n",
    "print(f1_score(target_valid,predicted_valid))"
   ]
  },
  {
   "cell_type": "code",
   "execution_count": 53,
   "metadata": {},
   "outputs": [
    {
     "data": {
      "text/plain": [
       "0.7865"
      ]
     },
     "execution_count": 53,
     "metadata": {},
     "output_type": "execute_result"
    }
   ],
   "source": [
    "model.score(features_valid,target_valid)"
   ]
  },
  {
   "cell_type": "markdown",
   "metadata": {},
   "source": [
    "Получення модель не подходит по метрике f1, она слишком малаа, посмотрим насколько построенная модель хуже случайной на метрике roc-auc и перейдем к балансу классов."
   ]
  },
  {
   "cell_type": "code",
   "execution_count": 54,
   "metadata": {},
   "outputs": [
    {
     "data": {
      "text/plain": [
       "0.666536995312343"
      ]
     },
     "execution_count": 54,
     "metadata": {},
     "output_type": "execute_result"
    }
   ],
   "source": [
    "probabilities_valid = model.predict_proba(features_valid)\n",
    "probabilities_one_valid = probabilities_valid[:, 1]\n",
    "\n",
    "roc_auc_score(target_valid,probabilities_one_valid)"
   ]
  },
  {
   "cell_type": "markdown",
   "metadata": {},
   "source": [
    "## Борьба с дисбалансом"
   ]
  },
  {
   "cell_type": "code",
   "execution_count": 55,
   "metadata": {},
   "outputs": [
    {
     "data": {
      "text/plain": [
       "0.4788245462402766"
      ]
     },
     "execution_count": 55,
     "metadata": {},
     "output_type": "execute_result"
    }
   ],
   "source": [
    "model = LogisticRegression(random_state=12345,solver='liblinear',class_weight='balanced')\n",
    "model.fit(features_train, target_train)\n",
    "predicted_valid = model.predict(features_valid)\n",
    "f1_score(target_valid,predicted_valid)"
   ]
  },
  {
   "cell_type": "code",
   "execution_count": 56,
   "metadata": {},
   "outputs": [
    {
     "data": {
      "text/plain": [
       "0.4834996162701458"
      ]
     },
     "execution_count": 56,
     "metadata": {},
     "output_type": "execute_result"
    }
   ],
   "source": [
    "def upsample(features, target, repeat):\n",
    "    features_zeros = features[target == 0]\n",
    "    features_ones = features[target == 1]\n",
    "    target_zeros = target[target == 0]\n",
    "    target_ones = target[target == 1]\n",
    "\n",
    "    features_upsampled = pd.concat([features_zeros] + [features_ones] * repeat)\n",
    "    target_upsampled = pd.concat([target_zeros] + [target_ones] * repeat)\n",
    "    \n",
    "    features_upsampled, target_upsampled = shuffle(\n",
    "        features_upsampled, target_upsampled, random_state=12345)\n",
    "    \n",
    "    return features_upsampled, target_upsampled\n",
    "\n",
    "features_upsampled, target_upsampled = upsample(features_train, target_train, 5)\n",
    "model = LogisticRegression(random_state=12345, solver='liblinear') \n",
    "model.fit(features_upsampled, target_upsampled)\n",
    "predicted_valid =model.predict(features_valid)\n",
    "f1_score(target_valid,predicted_valid)"
   ]
  },
  {
   "cell_type": "code",
   "execution_count": 57,
   "metadata": {},
   "outputs": [
    {
     "data": {
      "text/plain": [
       "0.48284313725490197"
      ]
     },
     "execution_count": 57,
     "metadata": {},
     "output_type": "execute_result"
    }
   ],
   "source": [
    "model = DecisionTreeClassifier(random_state=12345,class_weight='balanced')\n",
    "model.fit(features_train, target_train)\n",
    "predicted_valid = model.predict(features_valid)\n",
    "f1_score(target_valid,predicted_valid)"
   ]
  },
  {
   "cell_type": "code",
   "execution_count": 58,
   "metadata": {},
   "outputs": [
    {
     "data": {
      "text/plain": [
       "0.4944099378881988"
      ]
     },
     "execution_count": 58,
     "metadata": {},
     "output_type": "execute_result"
    }
   ],
   "source": [
    "features_upsampled, target_upsampled = upsample(features_train, target_train, 10)\n",
    "model = DecisionTreeClassifier(random_state=12345)\n",
    "model.fit(features_upsampled, target_upsampled)\n",
    "predicted_valid =model.predict(features_valid)\n",
    "f1_score(target_valid,predicted_valid)"
   ]
  },
  {
   "cell_type": "code",
   "execution_count": 59,
   "metadata": {},
   "outputs": [
    {
     "data": {
      "text/plain": [
       "0.4820747520976354"
      ]
     },
     "execution_count": 59,
     "metadata": {},
     "output_type": "execute_result"
    }
   ],
   "source": [
    "def downsample(features, target, fraction):\n",
    "    features_zeros = features[target == 0]\n",
    "    features_ones = features[target == 1]\n",
    "    target_zeros = target[target == 0]\n",
    "    target_ones = target[target == 1]\n",
    "\n",
    "    features_downsampled = pd.concat(\n",
    "        [features_zeros.sample(frac=fraction, random_state=12345)] + [features_ones])\n",
    "    target_downsampled = pd.concat(\n",
    "        [target_zeros.sample(frac=fraction, random_state=12345)] + [target_ones])\n",
    "    \n",
    "    features_downsampled, target_downsampled = shuffle(\n",
    "        features_downsampled, target_downsampled, random_state=12345)\n",
    "    \n",
    "    return features_downsampled, target_downsampled\n",
    "\n",
    "features_downsampled, target_downsampled = downsample(features_train, target_train, 0.2)\n",
    "model = LogisticRegression(random_state=12345, solver='liblinear') \n",
    "model.fit(features_downsampled, target_downsampled)\n",
    "predicted_valid =model.predict(features_valid)\n",
    "f1_score(target_valid, predicted_valid)"
   ]
  },
  {
   "cell_type": "code",
   "execution_count": 60,
   "metadata": {},
   "outputs": [
    {
     "name": "stdout",
     "output_type": "stream",
     "text": [
      "F1: 0.5746388443017656\n",
      "depth 5\n"
     ]
    }
   ],
   "source": [
    "features_upsampled, target_upsampled = upsample(features_train, target_train,7)\n",
    "best_model = None\n",
    "best_result = 0\n",
    "for depth in range(1,30):\n",
    "    model = DecisionTreeClassifier(random_state=12345,max_depth = depth)\n",
    "    model.fit(features_upsampled, target_upsampled)\n",
    "    predicted_valid =model.predict(features_valid)\n",
    "    result = f1_score(target_valid,predicted_valid)\n",
    "    if result > best_result:\n",
    "        best_model = model\n",
    "        best_result = result\n",
    "        depth_best = depth\n",
    "print('F1:',best_result)\n",
    "print('depth',depth_best)"
   ]
  },
  {
   "cell_type": "code",
   "execution_count": 61,
   "metadata": {},
   "outputs": [
    {
     "name": "stdout",
     "output_type": "stream",
     "text": [
      "F1: 0.5926748057713651\n",
      "depth 5\n",
      "est 13\n"
     ]
    }
   ],
   "source": [
    "features_upsampled, target_upsampled = upsample(features_train, target_train, 7)\n",
    "best_model = None\n",
    "best_result = 0\n",
    "for est in range(1, 15):\n",
    "    for depth in range(1,20):\n",
    "        model = RandomForestClassifier(random_state=12345, n_estimators= est,max_depth = depth)\n",
    "        model.fit(features_upsampled, target_upsampled)\n",
    "        predicted_valid =model.predict(features_valid)\n",
    "        result = f1_score(target_valid,predicted_valid) \n",
    "        if result > best_result:\n",
    "            best_model =  model\n",
    "            best_result = result\n",
    "            best = est\n",
    "            max_depth = depth\n",
    "model.fit(features_upsampled, target_upsampled)\n",
    "predicted_valid =model.predict(features_valid)\n",
    "print('F1:',best_result)\n",
    "print('depth',depth_best)\n",
    "print('est',best)"
   ]
  },
  {
   "cell_type": "markdown",
   "metadata": {},
   "source": [
    "Подобрав метод борьбы с дисбалансом и гиперпараметры модели удалось достичь требуемого значения метрики F1. "
   ]
  },
  {
   "cell_type": "markdown",
   "metadata": {},
   "source": [
    "## Тестирование модели"
   ]
  },
  {
   "cell_type": "markdown",
   "metadata": {},
   "source": [
    "Првоерим значения метрики на тестовой выборке, подготовленной из датасета на первых шагах работы."
   ]
  },
  {
   "cell_type": "code",
   "execution_count": 62,
   "metadata": {},
   "outputs": [
    {
     "name": "stdout",
     "output_type": "stream",
     "text": [
      "F1: 0.582010582010582\n",
      "Accuracy 0.842\n"
     ]
    }
   ],
   "source": [
    "predicted =model.predict(features_test)\n",
    "print('F1:',f1_score(target_test,predicted))\n",
    "print('Accuracy',accuracy_score(target_test,predicted))"
   ]
  },
  {
   "cell_type": "code",
   "execution_count": 63,
   "metadata": {},
   "outputs": [
    {
     "data": {
      "text/plain": [
       "0.8176985658198301"
      ]
     },
     "execution_count": 63,
     "metadata": {},
     "output_type": "execute_result"
    }
   ],
   "source": [
    "probabilities_valid = model.predict_proba(features_valid)\n",
    "probabilities_one_valid = probabilities_valid[:, 1]\n",
    "\n",
    "roc_auc_score(target_valid,probabilities_one_valid)"
   ]
  },
  {
   "cell_type": "code",
   "execution_count": 64,
   "metadata": {},
   "outputs": [
    {
     "data": {
      "text/plain": [
       "0.8073709011063459"
      ]
     },
     "execution_count": 64,
     "metadata": {},
     "output_type": "execute_result"
    }
   ],
   "source": [
    "probabilities_test = model.predict_proba(features_test)\n",
    "probabilities_one_test = probabilities_test[:, 1]\n",
    "\n",
    "roc_auc_score(target_test,probabilities_one_test)"
   ]
  },
  {
   "cell_type": "markdown",
   "metadata": {},
   "source": [
    "Провели тестирование подготовленной модели, получили достточно хорошие показатели метрик."
   ]
  },
  {
   "cell_type": "markdown",
   "metadata": {},
   "source": [
    "## Вывод"
   ]
  },
  {
   "cell_type": "markdown",
   "metadata": {},
   "source": [
    "Провери преварительный анализ данных, подготовили данные к анализу, провели прямое кодирование ,и поиск модели для требуемого значения метрики. Все эти действия позволили спрогнозировать отток дааных клиентов банка на основе представленнего датасета.После построение модели проверили такую метрику как roc-auc, данная метрика показывает, что модель лучше рандомных значений, также значение точности на тестовой выборке показало хороший результат.\n"
   ]
  }
 ],
 "metadata": {
  "ExecuteTimeLog": [
   {
    "duration": 525,
    "start_time": "2021-11-23T22:24:19.258Z"
   },
   {
    "duration": 58,
    "start_time": "2021-11-23T22:25:14.326Z"
   },
   {
    "duration": 10,
    "start_time": "2021-11-23T22:25:15.970Z"
   },
   {
    "duration": 44,
    "start_time": "2021-11-23T22:27:38.836Z"
   },
   {
    "duration": 39,
    "start_time": "2021-11-23T22:27:46.424Z"
   },
   {
    "duration": 18,
    "start_time": "2021-11-23T22:28:12.628Z"
   },
   {
    "duration": 260,
    "start_time": "2021-11-24T16:32:13.833Z"
   },
   {
    "duration": 516,
    "start_time": "2021-11-24T16:32:20.040Z"
   },
   {
    "duration": 30,
    "start_time": "2021-11-24T16:32:20.557Z"
   },
   {
    "duration": 8,
    "start_time": "2021-11-24T16:32:20.588Z"
   },
   {
    "duration": 17,
    "start_time": "2021-11-24T16:32:20.597Z"
   },
   {
    "duration": 39,
    "start_time": "2021-11-24T16:32:20.615Z"
   },
   {
    "duration": 15,
    "start_time": "2021-11-24T16:32:20.656Z"
   },
   {
    "duration": 220,
    "start_time": "2021-11-24T16:47:01.109Z"
   },
   {
    "duration": 5,
    "start_time": "2021-11-24T16:47:10.968Z"
   },
   {
    "duration": 490,
    "start_time": "2021-11-24T19:43:29.334Z"
   },
   {
    "duration": 28,
    "start_time": "2021-11-24T19:43:29.826Z"
   },
   {
    "duration": 9,
    "start_time": "2021-11-24T19:43:29.856Z"
   },
   {
    "duration": 13,
    "start_time": "2021-11-24T19:43:29.866Z"
   },
   {
    "duration": 45,
    "start_time": "2021-11-24T19:43:29.881Z"
   },
   {
    "duration": 16,
    "start_time": "2021-11-24T19:43:29.927Z"
   },
   {
    "duration": 4,
    "start_time": "2021-11-24T19:43:29.944Z"
   },
   {
    "duration": 222,
    "start_time": "2021-11-24T19:43:29.950Z"
   },
   {
    "duration": 5,
    "start_time": "2021-11-24T19:43:50.335Z"
   },
   {
    "duration": 11,
    "start_time": "2021-11-24T19:43:51.404Z"
   },
   {
    "duration": 4480,
    "start_time": "2021-11-24T20:19:52.810Z"
   },
   {
    "duration": 5,
    "start_time": "2021-11-24T20:20:07.230Z"
   },
   {
    "duration": 10,
    "start_time": "2021-11-24T20:20:30.243Z"
   },
   {
    "duration": 39,
    "start_time": "2021-11-24T20:20:56.601Z"
   },
   {
    "duration": 5,
    "start_time": "2021-11-24T20:25:21.757Z"
   },
   {
    "duration": 10,
    "start_time": "2021-11-24T20:25:22.636Z"
   },
   {
    "duration": 3,
    "start_time": "2021-11-24T21:22:32.668Z"
   },
   {
    "duration": 32,
    "start_time": "2021-11-24T21:22:32.673Z"
   },
   {
    "duration": 8,
    "start_time": "2021-11-24T21:22:32.707Z"
   },
   {
    "duration": 12,
    "start_time": "2021-11-24T21:22:32.717Z"
   },
   {
    "duration": 6,
    "start_time": "2021-11-24T21:22:32.730Z"
   },
   {
    "duration": 10,
    "start_time": "2021-11-24T21:22:32.737Z"
   },
   {
    "duration": 61,
    "start_time": "2021-11-24T21:22:32.748Z"
   },
   {
    "duration": 13,
    "start_time": "2021-11-24T21:22:32.811Z"
   },
   {
    "duration": 3,
    "start_time": "2021-11-24T21:22:32.826Z"
   },
   {
    "duration": 11,
    "start_time": "2021-11-24T21:22:32.831Z"
   },
   {
    "duration": 18,
    "start_time": "2021-11-24T21:22:32.843Z"
   },
   {
    "duration": 3,
    "start_time": "2021-11-24T21:24:47.802Z"
   },
   {
    "duration": 20,
    "start_time": "2021-11-24T21:25:49.019Z"
   },
   {
    "duration": 188,
    "start_time": "2021-11-24T21:56:10.109Z"
   },
   {
    "duration": 2,
    "start_time": "2021-11-24T21:56:40.179Z"
   },
   {
    "duration": 26,
    "start_time": "2021-11-24T21:56:40.183Z"
   },
   {
    "duration": 50,
    "start_time": "2021-11-24T21:56:40.210Z"
   },
   {
    "duration": 11,
    "start_time": "2021-11-24T21:56:40.261Z"
   },
   {
    "duration": 21,
    "start_time": "2021-11-24T21:56:40.273Z"
   },
   {
    "duration": 9,
    "start_time": "2021-11-24T21:56:40.296Z"
   },
   {
    "duration": 27,
    "start_time": "2021-11-24T21:56:40.306Z"
   },
   {
    "duration": 50,
    "start_time": "2021-11-24T21:56:40.334Z"
   },
   {
    "duration": 15,
    "start_time": "2021-11-24T21:56:40.386Z"
   },
   {
    "duration": 9,
    "start_time": "2021-11-24T21:56:40.403Z"
   },
   {
    "duration": 19,
    "start_time": "2021-11-24T21:56:40.414Z"
   },
   {
    "duration": 21,
    "start_time": "2021-11-24T21:56:40.434Z"
   },
   {
    "duration": 197,
    "start_time": "2021-11-24T21:56:40.457Z"
   },
   {
    "duration": 201,
    "start_time": "2021-11-24T21:58:43.403Z"
   },
   {
    "duration": 7,
    "start_time": "2021-11-24T21:59:34.406Z"
   },
   {
    "duration": 202,
    "start_time": "2021-11-24T22:16:57.568Z"
   },
   {
    "duration": 3,
    "start_time": "2021-11-24T22:17:03.370Z"
   },
   {
    "duration": 6,
    "start_time": "2021-11-24T22:17:03.375Z"
   },
   {
    "duration": 31,
    "start_time": "2021-11-24T22:17:03.383Z"
   },
   {
    "duration": 8,
    "start_time": "2021-11-24T22:17:03.416Z"
   },
   {
    "duration": 12,
    "start_time": "2021-11-24T22:17:03.426Z"
   },
   {
    "duration": 9,
    "start_time": "2021-11-24T22:17:03.440Z"
   },
   {
    "duration": 7,
    "start_time": "2021-11-24T22:17:03.451Z"
   },
   {
    "duration": 50,
    "start_time": "2021-11-24T22:17:03.460Z"
   },
   {
    "duration": 16,
    "start_time": "2021-11-24T22:17:03.513Z"
   },
   {
    "duration": 6,
    "start_time": "2021-11-24T22:17:03.530Z"
   },
   {
    "duration": 218,
    "start_time": "2021-11-24T22:17:03.538Z"
   },
   {
    "duration": 185,
    "start_time": "2021-11-24T22:17:03.758Z"
   },
   {
    "duration": -1396,
    "start_time": "2021-11-24T22:17:05.341Z"
   },
   {
    "duration": -1396,
    "start_time": "2021-11-24T22:17:05.342Z"
   },
   {
    "duration": -1396,
    "start_time": "2021-11-24T22:17:05.343Z"
   },
   {
    "duration": 215,
    "start_time": "2021-11-24T22:17:34.215Z"
   },
   {
    "duration": 25,
    "start_time": "2021-11-24T22:22:41.849Z"
   },
   {
    "duration": 6,
    "start_time": "2021-11-24T22:23:24.245Z"
   },
   {
    "duration": 188,
    "start_time": "2021-11-24T22:32:36.406Z"
   },
   {
    "duration": 3,
    "start_time": "2021-11-24T22:33:17.795Z"
   },
   {
    "duration": 6,
    "start_time": "2021-11-24T22:33:17.799Z"
   },
   {
    "duration": 31,
    "start_time": "2021-11-24T22:33:17.807Z"
   },
   {
    "duration": 7,
    "start_time": "2021-11-24T22:33:17.840Z"
   },
   {
    "duration": 12,
    "start_time": "2021-11-24T22:33:17.848Z"
   },
   {
    "duration": 6,
    "start_time": "2021-11-24T22:33:17.862Z"
   },
   {
    "duration": 9,
    "start_time": "2021-11-24T22:33:17.869Z"
   },
   {
    "duration": 38,
    "start_time": "2021-11-24T22:33:17.891Z"
   },
   {
    "duration": 16,
    "start_time": "2021-11-24T22:33:17.931Z"
   },
   {
    "duration": 6,
    "start_time": "2021-11-24T22:33:17.949Z"
   },
   {
    "duration": 51,
    "start_time": "2021-11-24T22:33:17.957Z"
   },
   {
    "duration": 5,
    "start_time": "2021-11-24T22:33:18.009Z"
   },
   {
    "duration": 9,
    "start_time": "2021-11-24T22:33:18.016Z"
   },
   {
    "duration": 22,
    "start_time": "2021-11-24T22:33:18.026Z"
   },
   {
    "duration": 187,
    "start_time": "2021-11-24T22:33:18.049Z"
   },
   {
    "duration": 20,
    "start_time": "2021-11-24T22:34:19.917Z"
   },
   {
    "duration": 11,
    "start_time": "2021-11-24T22:36:49.605Z"
   },
   {
    "duration": 45,
    "start_time": "2021-11-24T22:46:53.896Z"
   },
   {
    "duration": 6,
    "start_time": "2021-11-24T22:47:08.600Z"
   },
   {
    "duration": 195,
    "start_time": "2021-11-24T23:03:03.228Z"
   },
   {
    "duration": 3,
    "start_time": "2021-11-24T23:03:07.750Z"
   },
   {
    "duration": 5,
    "start_time": "2021-11-24T23:03:07.755Z"
   },
   {
    "duration": 29,
    "start_time": "2021-11-24T23:03:07.762Z"
   },
   {
    "duration": 8,
    "start_time": "2021-11-24T23:03:07.792Z"
   },
   {
    "duration": 12,
    "start_time": "2021-11-24T23:03:07.802Z"
   },
   {
    "duration": 5,
    "start_time": "2021-11-24T23:03:07.815Z"
   },
   {
    "duration": 9,
    "start_time": "2021-11-24T23:03:07.821Z"
   },
   {
    "duration": 36,
    "start_time": "2021-11-24T23:03:07.831Z"
   },
   {
    "duration": 16,
    "start_time": "2021-11-24T23:03:07.892Z"
   },
   {
    "duration": 5,
    "start_time": "2021-11-24T23:03:07.910Z"
   },
   {
    "duration": 24,
    "start_time": "2021-11-24T23:03:07.916Z"
   },
   {
    "duration": 4,
    "start_time": "2021-11-24T23:03:07.941Z"
   },
   {
    "duration": 9,
    "start_time": "2021-11-24T23:03:07.947Z"
   },
   {
    "duration": 54,
    "start_time": "2021-11-24T23:03:07.958Z"
   },
   {
    "duration": 78,
    "start_time": "2021-11-24T23:03:08.014Z"
   },
   {
    "duration": 100,
    "start_time": "2021-11-24T23:03:08.095Z"
   },
   {
    "duration": 137,
    "start_time": "2021-11-24T23:03:08.198Z"
   },
   {
    "duration": 5,
    "start_time": "2021-11-24T23:03:08.337Z"
   },
   {
    "duration": 7,
    "start_time": "2021-11-24T23:03:08.343Z"
   },
   {
    "duration": 7,
    "start_time": "2021-11-24T23:03:16.753Z"
   },
   {
    "duration": 270,
    "start_time": "2021-11-25T06:50:38.303Z"
   },
   {
    "duration": -468,
    "start_time": "2021-11-25T06:50:39.044Z"
   },
   {
    "duration": -469,
    "start_time": "2021-11-25T06:50:39.046Z"
   },
   {
    "duration": -487,
    "start_time": "2021-11-25T06:50:39.065Z"
   },
   {
    "duration": -506,
    "start_time": "2021-11-25T06:50:39.086Z"
   },
   {
    "duration": -507,
    "start_time": "2021-11-25T06:50:39.088Z"
   },
   {
    "duration": -511,
    "start_time": "2021-11-25T06:50:39.093Z"
   },
   {
    "duration": -510,
    "start_time": "2021-11-25T06:50:39.094Z"
   },
   {
    "duration": -520,
    "start_time": "2021-11-25T06:50:39.105Z"
   },
   {
    "duration": -532,
    "start_time": "2021-11-25T06:50:39.118Z"
   },
   {
    "duration": -534,
    "start_time": "2021-11-25T06:50:39.121Z"
   },
   {
    "duration": -544,
    "start_time": "2021-11-25T06:50:39.132Z"
   },
   {
    "duration": -543,
    "start_time": "2021-11-25T06:50:39.133Z"
   },
   {
    "duration": -559,
    "start_time": "2021-11-25T06:50:39.150Z"
   },
   {
    "duration": -560,
    "start_time": "2021-11-25T06:50:39.152Z"
   },
   {
    "duration": -563,
    "start_time": "2021-11-25T06:50:39.157Z"
   },
   {
    "duration": -563,
    "start_time": "2021-11-25T06:50:39.158Z"
   },
   {
    "duration": -566,
    "start_time": "2021-11-25T06:50:39.162Z"
   },
   {
    "duration": -572,
    "start_time": "2021-11-25T06:50:39.170Z"
   },
   {
    "duration": 965,
    "start_time": "2021-11-25T06:50:56.931Z"
   },
   {
    "duration": 3,
    "start_time": "2021-11-25T06:50:57.897Z"
   },
   {
    "duration": 40,
    "start_time": "2021-11-25T06:50:57.902Z"
   },
   {
    "duration": 7,
    "start_time": "2021-11-25T06:50:57.944Z"
   },
   {
    "duration": 16,
    "start_time": "2021-11-25T06:50:57.953Z"
   },
   {
    "duration": 3,
    "start_time": "2021-11-25T06:50:57.971Z"
   },
   {
    "duration": 12,
    "start_time": "2021-11-25T06:50:57.976Z"
   },
   {
    "duration": 34,
    "start_time": "2021-11-25T06:50:57.989Z"
   },
   {
    "duration": 13,
    "start_time": "2021-11-25T06:50:58.025Z"
   },
   {
    "duration": 5,
    "start_time": "2021-11-25T06:50:58.040Z"
   },
   {
    "duration": 43,
    "start_time": "2021-11-25T06:50:58.046Z"
   },
   {
    "duration": 5,
    "start_time": "2021-11-25T06:50:58.090Z"
   },
   {
    "duration": 14,
    "start_time": "2021-11-25T06:50:58.096Z"
   },
   {
    "duration": 20,
    "start_time": "2021-11-25T06:50:58.111Z"
   },
   {
    "duration": 60,
    "start_time": "2021-11-25T06:50:58.132Z"
   },
   {
    "duration": 96,
    "start_time": "2021-11-25T06:50:58.194Z"
   },
   {
    "duration": 130,
    "start_time": "2021-11-25T06:50:58.293Z"
   },
   {
    "duration": 7,
    "start_time": "2021-11-25T06:50:58.424Z"
   },
   {
    "duration": 26,
    "start_time": "2021-11-25T06:50:58.433Z"
   },
   {
    "duration": 207,
    "start_time": "2021-11-25T11:23:57.119Z"
   },
   {
    "duration": 1031,
    "start_time": "2021-11-25T11:24:00.489Z"
   },
   {
    "duration": 2,
    "start_time": "2021-11-25T11:24:01.522Z"
   },
   {
    "duration": 64,
    "start_time": "2021-11-25T11:24:01.526Z"
   },
   {
    "duration": 28,
    "start_time": "2021-11-25T11:24:01.593Z"
   },
   {
    "duration": 47,
    "start_time": "2021-11-25T11:24:01.623Z"
   },
   {
    "duration": 17,
    "start_time": "2021-11-25T11:24:01.672Z"
   },
   {
    "duration": 39,
    "start_time": "2021-11-25T11:24:01.690Z"
   },
   {
    "duration": 53,
    "start_time": "2021-11-25T11:24:01.731Z"
   },
   {
    "duration": 15,
    "start_time": "2021-11-25T11:24:01.787Z"
   },
   {
    "duration": 17,
    "start_time": "2021-11-25T11:24:01.804Z"
   },
   {
    "duration": 53,
    "start_time": "2021-11-25T11:24:01.822Z"
   },
   {
    "duration": 15,
    "start_time": "2021-11-25T11:24:01.877Z"
   },
   {
    "duration": 32,
    "start_time": "2021-11-25T11:24:01.894Z"
   },
   {
    "duration": 57,
    "start_time": "2021-11-25T11:24:01.928Z"
   },
   {
    "duration": 16,
    "start_time": "2021-11-25T11:24:01.987Z"
   },
   {
    "duration": 93,
    "start_time": "2021-11-25T11:24:02.005Z"
   },
   {
    "duration": 236,
    "start_time": "2021-11-25T11:24:02.101Z"
   },
   {
    "duration": 5,
    "start_time": "2021-11-25T11:24:02.339Z"
   },
   {
    "duration": 33,
    "start_time": "2021-11-25T11:24:02.346Z"
   },
   {
    "duration": 385,
    "start_time": "2021-11-25T11:24:02.382Z"
   },
   {
    "duration": 4,
    "start_time": "2021-11-25T11:24:34.568Z"
   },
   {
    "duration": 5,
    "start_time": "2021-11-25T11:24:34.574Z"
   },
   {
    "duration": 31,
    "start_time": "2021-11-25T11:24:34.581Z"
   },
   {
    "duration": 8,
    "start_time": "2021-11-25T11:24:34.614Z"
   },
   {
    "duration": 12,
    "start_time": "2021-11-25T11:24:34.623Z"
   },
   {
    "duration": 6,
    "start_time": "2021-11-25T11:24:34.636Z"
   },
   {
    "duration": 9,
    "start_time": "2021-11-25T11:24:34.643Z"
   },
   {
    "duration": 59,
    "start_time": "2021-11-25T11:24:34.653Z"
   },
   {
    "duration": 16,
    "start_time": "2021-11-25T11:24:34.715Z"
   },
   {
    "duration": 5,
    "start_time": "2021-11-25T11:24:34.733Z"
   },
   {
    "duration": 23,
    "start_time": "2021-11-25T11:24:34.740Z"
   },
   {
    "duration": 26,
    "start_time": "2021-11-25T11:24:34.765Z"
   },
   {
    "duration": 10,
    "start_time": "2021-11-25T11:24:34.793Z"
   },
   {
    "duration": 22,
    "start_time": "2021-11-25T11:24:34.805Z"
   },
   {
    "duration": 16,
    "start_time": "2021-11-25T11:24:34.828Z"
   },
   {
    "duration": 10,
    "start_time": "2021-11-25T11:24:34.893Z"
   },
   {
    "duration": 222,
    "start_time": "2021-11-25T11:24:34.905Z"
   },
   {
    "duration": 7,
    "start_time": "2021-11-25T11:24:35.129Z"
   },
   {
    "duration": 9,
    "start_time": "2021-11-25T11:24:35.138Z"
   },
   {
    "duration": 149,
    "start_time": "2021-11-25T11:24:35.148Z"
   },
   {
    "duration": 93,
    "start_time": "2021-11-25T11:25:13.297Z"
   },
   {
    "duration": 55,
    "start_time": "2021-11-25T11:25:22.178Z"
   },
   {
    "duration": 206,
    "start_time": "2021-11-25T11:25:32.118Z"
   },
   {
    "duration": 26,
    "start_time": "2021-11-25T11:25:36.467Z"
   },
   {
    "duration": 62,
    "start_time": "2021-11-25T11:25:43.467Z"
   },
   {
    "duration": 321,
    "start_time": "2021-11-25T11:27:44.777Z"
   },
   {
    "duration": 184,
    "start_time": "2021-11-25T11:28:28.007Z"
   },
   {
    "duration": 124,
    "start_time": "2021-11-25T11:28:41.707Z"
   },
   {
    "duration": 55,
    "start_time": "2021-11-25T11:28:47.837Z"
   },
   {
    "duration": 43,
    "start_time": "2021-11-25T11:29:40.307Z"
   },
   {
    "duration": 71,
    "start_time": "2021-11-25T11:30:29.917Z"
   },
   {
    "duration": 93,
    "start_time": "2021-11-25T11:30:37.644Z"
   },
   {
    "duration": 88,
    "start_time": "2021-11-25T11:31:11.268Z"
   },
   {
    "duration": 66,
    "start_time": "2021-11-25T11:32:56.027Z"
   },
   {
    "duration": 28,
    "start_time": "2021-11-25T11:33:03.627Z"
   },
   {
    "duration": 4,
    "start_time": "2021-11-25T11:33:06.076Z"
   },
   {
    "duration": 8,
    "start_time": "2021-11-25T11:33:06.082Z"
   },
   {
    "duration": 31,
    "start_time": "2021-11-25T11:33:06.092Z"
   },
   {
    "duration": 9,
    "start_time": "2021-11-25T11:33:06.125Z"
   },
   {
    "duration": 13,
    "start_time": "2021-11-25T11:33:06.136Z"
   },
   {
    "duration": 8,
    "start_time": "2021-11-25T11:33:06.150Z"
   },
   {
    "duration": 13,
    "start_time": "2021-11-25T11:33:06.159Z"
   },
   {
    "duration": 52,
    "start_time": "2021-11-25T11:33:06.173Z"
   },
   {
    "duration": 16,
    "start_time": "2021-11-25T11:33:06.228Z"
   },
   {
    "duration": 5,
    "start_time": "2021-11-25T11:33:06.246Z"
   },
   {
    "duration": 44,
    "start_time": "2021-11-25T11:33:06.253Z"
   },
   {
    "duration": 5,
    "start_time": "2021-11-25T11:33:06.298Z"
   },
   {
    "duration": 11,
    "start_time": "2021-11-25T11:33:06.305Z"
   },
   {
    "duration": 22,
    "start_time": "2021-11-25T11:33:06.318Z"
   },
   {
    "duration": 52,
    "start_time": "2021-11-25T11:33:06.341Z"
   },
   {
    "duration": 7,
    "start_time": "2021-11-25T11:33:06.395Z"
   },
   {
    "duration": 141,
    "start_time": "2021-11-25T11:33:06.493Z"
   },
   {
    "duration": 5,
    "start_time": "2021-11-25T11:33:06.636Z"
   },
   {
    "duration": 9,
    "start_time": "2021-11-25T11:33:06.643Z"
   },
   {
    "duration": 68,
    "start_time": "2021-11-25T11:33:06.653Z"
   },
   {
    "duration": 268,
    "start_time": "2021-11-25T11:33:06.724Z"
   },
   {
    "duration": 141,
    "start_time": "2021-11-25T11:33:06.993Z"
   },
   {
    "duration": 105,
    "start_time": "2021-11-25T11:33:07.136Z"
   },
   {
    "duration": 150,
    "start_time": "2021-11-25T11:33:07.242Z"
   },
   {
    "duration": 603,
    "start_time": "2021-11-25T11:36:24.467Z"
   },
   {
    "duration": 96,
    "start_time": "2021-11-25T11:36:31.667Z"
   },
   {
    "duration": 77,
    "start_time": "2021-11-25T11:50:30.792Z"
   },
   {
    "duration": 82,
    "start_time": "2021-11-25T11:52:20.532Z"
   },
   {
    "duration": 71,
    "start_time": "2021-11-25T11:52:28.065Z"
   },
   {
    "duration": 119,
    "start_time": "2021-11-25T11:52:34.662Z"
   },
   {
    "duration": 85,
    "start_time": "2021-11-25T11:52:40.743Z"
   },
   {
    "duration": 90,
    "start_time": "2021-11-25T11:52:47.333Z"
   },
   {
    "duration": 82,
    "start_time": "2021-11-25T11:52:55.863Z"
   },
   {
    "duration": 85,
    "start_time": "2021-11-25T11:53:02.040Z"
   },
   {
    "duration": 102,
    "start_time": "2021-11-25T12:33:28.760Z"
   },
   {
    "duration": 14,
    "start_time": "2021-11-25T12:33:31.892Z"
   },
   {
    "duration": 33,
    "start_time": "2021-11-25T12:33:31.909Z"
   },
   {
    "duration": 26,
    "start_time": "2021-11-25T12:33:32.522Z"
   },
   {
    "duration": 9,
    "start_time": "2021-11-25T12:33:32.550Z"
   },
   {
    "duration": 15,
    "start_time": "2021-11-25T12:33:32.561Z"
   },
   {
    "duration": 4,
    "start_time": "2021-11-25T12:33:33.454Z"
   },
   {
    "duration": 14,
    "start_time": "2021-11-25T12:33:33.460Z"
   },
   {
    "duration": 45,
    "start_time": "2021-11-25T12:33:33.476Z"
   },
   {
    "duration": 16,
    "start_time": "2021-11-25T12:33:33.523Z"
   },
   {
    "duration": 6,
    "start_time": "2021-11-25T12:33:33.541Z"
   },
   {
    "duration": 23,
    "start_time": "2021-11-25T12:33:34.411Z"
   },
   {
    "duration": 10,
    "start_time": "2021-11-25T12:33:34.436Z"
   },
   {
    "duration": 12,
    "start_time": "2021-11-25T12:33:34.448Z"
   },
   {
    "duration": 44,
    "start_time": "2021-11-25T12:33:34.461Z"
   },
   {
    "duration": 84,
    "start_time": "2021-11-25T12:33:34.507Z"
   },
   {
    "duration": 111,
    "start_time": "2021-11-25T12:33:34.593Z"
   },
   {
    "duration": 45,
    "start_time": "2021-11-25T12:33:35.909Z"
   },
   {
    "duration": 5,
    "start_time": "2021-11-25T12:33:35.956Z"
   },
   {
    "duration": 6,
    "start_time": "2021-11-25T12:33:35.963Z"
   },
   {
    "duration": 121,
    "start_time": "2021-11-25T12:33:35.971Z"
   },
   {
    "duration": 197,
    "start_time": "2021-11-25T12:33:36.095Z"
   },
   {
    "duration": 132,
    "start_time": "2021-11-25T12:33:36.295Z"
   },
   {
    "duration": 106,
    "start_time": "2021-11-25T12:33:36.429Z"
   },
   {
    "duration": 57,
    "start_time": "2021-11-25T12:33:36.537Z"
   },
   {
    "duration": 101,
    "start_time": "2021-11-25T12:33:37.406Z"
   },
   {
    "duration": 197,
    "start_time": "2021-11-25T12:33:37.508Z"
   },
   {
    "duration": 80,
    "start_time": "2021-11-25T12:33:52.679Z"
   },
   {
    "duration": 65,
    "start_time": "2021-11-25T12:34:00.359Z"
   },
   {
    "duration": 59,
    "start_time": "2021-11-25T12:34:11.722Z"
   },
   {
    "duration": 56,
    "start_time": "2021-11-25T12:34:21.540Z"
   },
   {
    "duration": 57,
    "start_time": "2021-11-25T12:34:33.820Z"
   },
   {
    "duration": 71,
    "start_time": "2021-11-25T12:34:48.545Z"
   },
   {
    "duration": 74,
    "start_time": "2021-11-25T12:35:04.096Z"
   },
   {
    "duration": 75,
    "start_time": "2021-11-25T12:35:11.787Z"
   },
   {
    "duration": 72,
    "start_time": "2021-11-25T12:35:17.369Z"
   },
   {
    "duration": 68,
    "start_time": "2021-11-25T12:35:24.832Z"
   },
   {
    "duration": 65,
    "start_time": "2021-11-25T12:35:29.974Z"
   },
   {
    "duration": 60,
    "start_time": "2021-11-25T12:35:35.020Z"
   },
   {
    "duration": 52,
    "start_time": "2021-11-25T12:35:42.140Z"
   },
   {
    "duration": 51,
    "start_time": "2021-11-25T12:35:48.958Z"
   },
   {
    "duration": 42,
    "start_time": "2021-11-25T12:35:55.347Z"
   },
   {
    "duration": 92,
    "start_time": "2021-11-25T12:36:03.792Z"
   },
   {
    "duration": 36,
    "start_time": "2021-11-25T12:36:19.311Z"
   },
   {
    "duration": 45,
    "start_time": "2021-11-25T12:36:24.244Z"
   },
   {
    "duration": 46,
    "start_time": "2021-11-25T12:36:31.921Z"
   },
   {
    "duration": 44,
    "start_time": "2021-11-25T12:36:38.484Z"
   },
   {
    "duration": 46,
    "start_time": "2021-11-25T12:36:43.790Z"
   },
   {
    "duration": 43,
    "start_time": "2021-11-25T12:37:37.735Z"
   },
   {
    "duration": 43,
    "start_time": "2021-11-25T12:37:42.907Z"
   },
   {
    "duration": 53,
    "start_time": "2021-11-25T12:37:47.892Z"
   },
   {
    "duration": 45,
    "start_time": "2021-11-25T12:38:02.553Z"
   },
   {
    "duration": 33,
    "start_time": "2021-11-25T12:38:08.390Z"
   },
   {
    "duration": 39,
    "start_time": "2021-11-25T12:38:13.644Z"
   },
   {
    "duration": 44,
    "start_time": "2021-11-25T12:38:18.711Z"
   },
   {
    "duration": 50,
    "start_time": "2021-11-25T12:38:24.208Z"
   },
   {
    "duration": 52,
    "start_time": "2021-11-25T12:38:35.516Z"
   },
   {
    "duration": 63,
    "start_time": "2021-11-25T12:38:41.800Z"
   },
   {
    "duration": 56,
    "start_time": "2021-11-25T12:38:51.927Z"
   },
   {
    "duration": 56,
    "start_time": "2021-11-25T12:39:32.179Z"
   },
   {
    "duration": 55,
    "start_time": "2021-11-25T12:39:54.030Z"
   },
   {
    "duration": 66,
    "start_time": "2021-11-25T12:40:06.267Z"
   },
   {
    "duration": 70,
    "start_time": "2021-11-25T12:40:49.640Z"
   },
   {
    "duration": 51,
    "start_time": "2021-11-25T12:41:00.282Z"
   },
   {
    "duration": 51,
    "start_time": "2021-11-25T12:41:07.911Z"
   },
   {
    "duration": 66,
    "start_time": "2021-11-25T12:41:22.186Z"
   },
   {
    "duration": 122,
    "start_time": "2021-11-25T12:41:29.881Z"
   },
   {
    "duration": 126,
    "start_time": "2021-11-25T12:41:40.913Z"
   },
   {
    "duration": 137,
    "start_time": "2021-11-25T12:41:56.083Z"
   },
   {
    "duration": 134,
    "start_time": "2021-11-25T12:42:03.739Z"
   },
   {
    "duration": 139,
    "start_time": "2021-11-25T12:42:10.672Z"
   },
   {
    "duration": 145,
    "start_time": "2021-11-25T12:42:19.025Z"
   },
   {
    "duration": 137,
    "start_time": "2021-11-25T12:42:26.741Z"
   },
   {
    "duration": 146,
    "start_time": "2021-11-25T12:42:32.994Z"
   },
   {
    "duration": 144,
    "start_time": "2021-11-25T12:42:39.028Z"
   },
   {
    "duration": 147,
    "start_time": "2021-11-25T12:42:45.675Z"
   },
   {
    "duration": 145,
    "start_time": "2021-11-25T12:42:54.875Z"
   },
   {
    "duration": 161,
    "start_time": "2021-11-25T12:43:01.263Z"
   },
   {
    "duration": 155,
    "start_time": "2021-11-25T12:43:08.026Z"
   },
   {
    "duration": 162,
    "start_time": "2021-11-25T12:43:17.826Z"
   },
   {
    "duration": 187,
    "start_time": "2021-11-25T12:43:22.800Z"
   },
   {
    "duration": 165,
    "start_time": "2021-11-25T12:43:28.588Z"
   },
   {
    "duration": 186,
    "start_time": "2021-11-25T12:43:32.984Z"
   },
   {
    "duration": 189,
    "start_time": "2021-11-25T12:43:41.400Z"
   },
   {
    "duration": 196,
    "start_time": "2021-11-25T12:43:49.820Z"
   },
   {
    "duration": 191,
    "start_time": "2021-11-25T12:43:56.060Z"
   },
   {
    "duration": 202,
    "start_time": "2021-11-25T12:44:01.483Z"
   },
   {
    "duration": 217,
    "start_time": "2021-11-25T12:44:08.446Z"
   },
   {
    "duration": 176,
    "start_time": "2021-11-25T12:44:15.268Z"
   },
   {
    "duration": 171,
    "start_time": "2021-11-25T12:44:24.059Z"
   },
   {
    "duration": 14,
    "start_time": "2021-11-25T12:54:07.632Z"
   },
   {
    "duration": 12,
    "start_time": "2021-11-25T12:56:39.148Z"
   },
   {
    "duration": 12,
    "start_time": "2021-11-25T12:57:06.754Z"
   },
   {
    "duration": 199,
    "start_time": "2021-11-25T22:00:37.263Z"
   },
   {
    "duration": 1012,
    "start_time": "2021-11-25T22:00:42.721Z"
   },
   {
    "duration": 3,
    "start_time": "2021-11-25T22:00:43.735Z"
   },
   {
    "duration": 36,
    "start_time": "2021-11-25T22:00:43.740Z"
   },
   {
    "duration": 9,
    "start_time": "2021-11-25T22:00:43.778Z"
   },
   {
    "duration": 30,
    "start_time": "2021-11-25T22:00:43.789Z"
   },
   {
    "duration": 12,
    "start_time": "2021-11-25T22:00:43.821Z"
   },
   {
    "duration": 17,
    "start_time": "2021-11-25T22:00:43.835Z"
   },
   {
    "duration": 50,
    "start_time": "2021-11-25T22:00:43.853Z"
   },
   {
    "duration": 16,
    "start_time": "2021-11-25T22:00:43.906Z"
   },
   {
    "duration": 9,
    "start_time": "2021-11-25T22:00:43.924Z"
   },
   {
    "duration": 33,
    "start_time": "2021-11-25T22:00:43.934Z"
   },
   {
    "duration": 5,
    "start_time": "2021-11-25T22:00:43.969Z"
   },
   {
    "duration": 22,
    "start_time": "2021-11-25T22:00:43.976Z"
   },
   {
    "duration": 26,
    "start_time": "2021-11-25T22:00:43.999Z"
   },
   {
    "duration": 69,
    "start_time": "2021-11-25T22:00:44.026Z"
   },
   {
    "duration": 100,
    "start_time": "2021-11-25T22:00:44.097Z"
   },
   {
    "duration": 210,
    "start_time": "2021-11-25T22:00:44.200Z"
   },
   {
    "duration": 5,
    "start_time": "2021-11-25T22:00:44.411Z"
   },
   {
    "duration": 20,
    "start_time": "2021-11-25T22:00:44.418Z"
   },
   {
    "duration": 55,
    "start_time": "2021-11-25T22:00:44.440Z"
   },
   {
    "duration": 199,
    "start_time": "2021-11-25T22:00:44.497Z"
   },
   {
    "duration": 121,
    "start_time": "2021-11-25T22:00:44.698Z"
   },
   {
    "duration": 78,
    "start_time": "2021-11-25T22:00:44.821Z"
   },
   {
    "duration": 91,
    "start_time": "2021-11-25T22:00:44.900Z"
   },
   {
    "duration": 134,
    "start_time": "2021-11-25T22:00:44.994Z"
   },
   {
    "duration": 139,
    "start_time": "2021-11-25T22:00:45.129Z"
   },
   {
    "duration": 24,
    "start_time": "2021-11-25T22:00:45.272Z"
   },
   {
    "duration": 12,
    "start_time": "2021-11-25T22:00:45.298Z"
   },
   {
    "duration": 11,
    "start_time": "2021-11-25T22:00:45.312Z"
   },
   {
    "duration": 245,
    "start_time": "2021-11-25T22:09:39.694Z"
   },
   {
    "duration": 1015,
    "start_time": "2021-11-25T22:09:56.448Z"
   },
   {
    "duration": 989,
    "start_time": "2021-11-25T22:12:30.893Z"
   },
   {
    "duration": 16776,
    "start_time": "2021-11-25T22:13:26.037Z"
   },
   {
    "duration": 16915,
    "start_time": "2021-11-25T22:14:16.671Z"
   },
   {
    "duration": 4,
    "start_time": "2021-11-25T22:19:46.444Z"
   },
   {
    "duration": 6,
    "start_time": "2021-11-25T22:19:46.449Z"
   },
   {
    "duration": 31,
    "start_time": "2021-11-25T22:19:46.457Z"
   },
   {
    "duration": 7,
    "start_time": "2021-11-25T22:19:46.490Z"
   },
   {
    "duration": 11,
    "start_time": "2021-11-25T22:19:46.499Z"
   },
   {
    "duration": 5,
    "start_time": "2021-11-25T22:19:46.512Z"
   },
   {
    "duration": 9,
    "start_time": "2021-11-25T22:19:46.518Z"
   },
   {
    "duration": 64,
    "start_time": "2021-11-25T22:19:46.528Z"
   },
   {
    "duration": 15,
    "start_time": "2021-11-25T22:19:46.594Z"
   },
   {
    "duration": 5,
    "start_time": "2021-11-25T22:19:46.611Z"
   },
   {
    "duration": 20,
    "start_time": "2021-11-25T22:19:46.618Z"
   },
   {
    "duration": 5,
    "start_time": "2021-11-25T22:19:46.639Z"
   },
   {
    "duration": 9,
    "start_time": "2021-11-25T22:19:46.645Z"
   },
   {
    "duration": 55,
    "start_time": "2021-11-25T22:19:46.656Z"
   },
   {
    "duration": 80,
    "start_time": "2021-11-25T22:19:46.713Z"
   },
   {
    "duration": 6,
    "start_time": "2021-11-25T22:19:46.795Z"
   },
   {
    "duration": 214,
    "start_time": "2021-11-25T22:19:46.803Z"
   },
   {
    "duration": 6,
    "start_time": "2021-11-25T22:19:47.019Z"
   },
   {
    "duration": 8,
    "start_time": "2021-11-25T22:19:47.026Z"
   },
   {
    "duration": 58,
    "start_time": "2021-11-25T22:19:47.035Z"
   },
   {
    "duration": 196,
    "start_time": "2021-11-25T22:19:47.096Z"
   },
   {
    "duration": 121,
    "start_time": "2021-11-25T22:19:47.295Z"
   },
   {
    "duration": 79,
    "start_time": "2021-11-25T22:19:47.418Z"
   },
   {
    "duration": 103,
    "start_time": "2021-11-25T22:19:47.498Z"
   },
   {
    "duration": 991,
    "start_time": "2021-11-25T22:19:47.692Z"
   },
   {
    "duration": 17065,
    "start_time": "2021-11-25T22:19:48.684Z"
   },
   {
    "duration": 12,
    "start_time": "2021-11-25T22:20:05.752Z"
   },
   {
    "duration": 13,
    "start_time": "2021-11-25T22:20:05.765Z"
   },
   {
    "duration": 21,
    "start_time": "2021-11-25T22:20:05.780Z"
   }
  ],
  "kernelspec": {
   "display_name": "Python 3",
   "language": "python",
   "name": "python3"
  },
  "language_info": {
   "codemirror_mode": {
    "name": "ipython",
    "version": 3
   },
   "file_extension": ".py",
   "mimetype": "text/x-python",
   "name": "python",
   "nbconvert_exporter": "python",
   "pygments_lexer": "ipython3",
   "version": "3.8.5"
  },
  "toc": {
   "base_numbering": 1,
   "nav_menu": {},
   "number_sections": true,
   "sideBar": true,
   "skip_h1_title": true,
   "title_cell": "Содержание",
   "title_sidebar": "Contents",
   "toc_cell": true,
   "toc_position": {
    "height": "calc(100% - 180px)",
    "left": "10px",
    "top": "150px",
    "width": "238.903px"
   },
   "toc_section_display": true,
   "toc_window_display": false
  }
 },
 "nbformat": 4,
 "nbformat_minor": 2
}
