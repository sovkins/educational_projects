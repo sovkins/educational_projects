{
 "cells": [
  {
   "cell_type": "markdown",
   "metadata": {},
   "source": [
    "# Исследование надёжности заёмщиков\n",
    "\n",
    "Заказчик — кредитный отдел банка. Нужно разобраться, влияет ли семейное положение и количество детей клиента на факт погашения кредита в срок. Входные данные от банка — статистика о платёжеспособности клиентов.\n",
    "\n",
    "Результаты исследования будут учтены при построении модели **кредитного скоринга** — специальной системы, которая оценивает способность потенциального заёмщика вернуть кредит банку."
   ]
  },
  {
   "cell_type": "markdown",
   "metadata": {},
   "source": [
    "## Шаг 1. Откройте файл с данными и изучите общую информацию"
   ]
  },
  {
   "cell_type": "code",
   "execution_count": 1,
   "metadata": {},
   "outputs": [
    {
     "name": "stdout",
     "output_type": "stream",
     "text": [
      "<class 'pandas.core.frame.DataFrame'>\n",
      "RangeIndex: 21525 entries, 0 to 21524\n",
      "Data columns (total 12 columns):\n",
      "children            21525 non-null int64\n",
      "days_employed       19351 non-null float64\n",
      "dob_years           21525 non-null int64\n",
      "education           21525 non-null object\n",
      "education_id        21525 non-null int64\n",
      "family_status       21525 non-null object\n",
      "family_status_id    21525 non-null int64\n",
      "gender              21525 non-null object\n",
      "income_type         21525 non-null object\n",
      "debt                21525 non-null int64\n",
      "total_income        19351 non-null float64\n",
      "purpose             21525 non-null object\n",
      "dtypes: float64(2), int64(5), object(5)\n",
      "memory usage: 2.0+ MB\n"
     ]
    }
   ],
   "source": [
    "import pandas as pd\n",
    "from pymystem3 import Mystem\n",
    "data = pd.read_csv('/datasets/data.csv')\n",
    "data.info()"
   ]
  },
  {
   "cell_type": "code",
   "execution_count": 2,
   "metadata": {},
   "outputs": [
    {
     "name": "stdout",
     "output_type": "stream",
     "text": [
      "(21525, 12)\n"
     ]
    }
   ],
   "source": [
    "print(data.shape)"
   ]
  },
  {
   "cell_type": "code",
   "execution_count": 3,
   "metadata": {
    "scrolled": false
   },
   "outputs": [
    {
     "name": "stdout",
     "output_type": "stream",
     "text": [
      "   children  days_employed  dob_years education  education_id  \\\n",
      "0         1   -8437.673028         42    высшее             0   \n",
      "1         1   -4024.803754         36   среднее             1   \n",
      "2         0   -5623.422610         33   Среднее             1   \n",
      "3         3   -4124.747207         32   среднее             1   \n",
      "4         0  340266.072047         53   среднее             1   \n",
      "5         0    -926.185831         27    высшее             0   \n",
      "6         0   -2879.202052         43    высшее             0   \n",
      "7         0    -152.779569         50   СРЕДНЕЕ             1   \n",
      "8         2   -6929.865299         35    ВЫСШЕЕ             0   \n",
      "9         0   -2188.756445         41   среднее             1   \n",
      "\n",
      "      family_status  family_status_id gender income_type  debt   total_income  \\\n",
      "0   женат / замужем                 0      F   сотрудник     0  253875.639453   \n",
      "1   женат / замужем                 0      F   сотрудник     0  112080.014102   \n",
      "2   женат / замужем                 0      M   сотрудник     0  145885.952297   \n",
      "3   женат / замужем                 0      M   сотрудник     0  267628.550329   \n",
      "4  гражданский брак                 1      F   пенсионер     0  158616.077870   \n",
      "5  гражданский брак                 1      M   компаньон     0  255763.565419   \n",
      "6   женат / замужем                 0      F   компаньон     0  240525.971920   \n",
      "7   женат / замужем                 0      M   сотрудник     0  135823.934197   \n",
      "8  гражданский брак                 1      F   сотрудник     0   95856.832424   \n",
      "9   женат / замужем                 0      M   сотрудник     0  144425.938277   \n",
      "\n",
      "                      purpose  \n",
      "0               покупка жилья  \n",
      "1     приобретение автомобиля  \n",
      "2               покупка жилья  \n",
      "3  дополнительное образование  \n",
      "4             сыграть свадьбу  \n",
      "5               покупка жилья  \n",
      "6           операции с жильем  \n",
      "7                 образование  \n",
      "8       на проведение свадьбы  \n",
      "9     покупка жилья для семьи  \n"
     ]
    }
   ],
   "source": [
    "print(data.head(10))"
   ]
  },
  {
   "cell_type": "code",
   "execution_count": 4,
   "metadata": {},
   "outputs": [
    {
     "name": "stdout",
     "output_type": "stream",
     "text": [
      "       children  days_employed  dob_years       education  education_id  \\\n",
      "21515         1    -467.685130         28         среднее             1   \n",
      "21516         0    -914.391429         42          высшее             0   \n",
      "21517         0    -404.679034         42          высшее             0   \n",
      "21518         0  373995.710838         59         СРЕДНЕЕ             1   \n",
      "21519         1   -2351.431934         37  ученая степень             4   \n",
      "21520         1   -4529.316663         43         среднее             1   \n",
      "21521         0  343937.404131         67         среднее             1   \n",
      "21522         1   -2113.346888         38         среднее             1   \n",
      "21523         3   -3112.481705         38         среднее             1   \n",
      "21524         2   -1984.507589         40         среднее             1   \n",
      "\n",
      "          family_status  family_status_id gender income_type  debt  \\\n",
      "21515   женат / замужем                 0      F   сотрудник     1   \n",
      "21516   женат / замужем                 0      F   компаньон     0   \n",
      "21517  гражданский брак                 1      F   компаньон     0   \n",
      "21518   женат / замужем                 0      F   пенсионер     0   \n",
      "21519         в разводе                 3      M   сотрудник     0   \n",
      "21520  гражданский брак                 1      F   компаньон     0   \n",
      "21521   женат / замужем                 0      F   пенсионер     0   \n",
      "21522  гражданский брак                 1      M   сотрудник     1   \n",
      "21523   женат / замужем                 0      M   сотрудник     1   \n",
      "21524   женат / замужем                 0      F   сотрудник     0   \n",
      "\n",
      "        total_income                            purpose  \n",
      "21515  109486.327999              заняться образованием  \n",
      "21516  322807.776603               покупка своего жилья  \n",
      "21517  178059.553491       на покупку своего автомобиля  \n",
      "21518  153864.650328               сделка с автомобилем  \n",
      "21519  115949.039788  покупка коммерческой недвижимости  \n",
      "21520  224791.862382                  операции с жильем  \n",
      "21521  155999.806512               сделка с автомобилем  \n",
      "21522   89672.561153                       недвижимость  \n",
      "21523  244093.050500       на покупку своего автомобиля  \n",
      "21524   82047.418899              на покупку автомобиля  \n"
     ]
    }
   ],
   "source": [
    "print(data.tail(10))"
   ]
  },
  {
   "cell_type": "markdown",
   "metadata": {},
   "source": [
    "**Вывод**"
   ]
  },
  {
   "cell_type": "markdown",
   "metadata": {},
   "source": [
    "После изучения данных видим, что во многих строках существуют нулевые значения. Также, заметно, что столбец days_employed содержит большое количество отрицательных значений. Вероятно когда речь идет о днях, то точность до 6 знака после запятой будет не обязательна. И видим разность строчных и заглавных букв в образовании."
   ]
  },
  {
   "cell_type": "markdown",
   "metadata": {},
   "source": [
    "## Шаг 2. Предобработка данных"
   ]
  },
  {
   "cell_type": "markdown",
   "metadata": {},
   "source": [
    "### Обработка пропусков"
   ]
  },
  {
   "cell_type": "code",
   "execution_count": 5,
   "metadata": {},
   "outputs": [
    {
     "name": "stdout",
     "output_type": "stream",
     "text": [
      " 0     14149\n",
      " 1      4818\n",
      " 2      2055\n",
      " 3       330\n",
      " 20       76\n",
      "-1        47\n",
      " 4        41\n",
      " 5         9\n",
      "Name: children, dtype: int64\n"
     ]
    }
   ],
   "source": [
    "print(data['children'].value_counts())"
   ]
  },
  {
   "cell_type": "code",
   "execution_count": 6,
   "metadata": {},
   "outputs": [
    {
     "name": "stdout",
     "output_type": "stream",
     "text": [
      "2174\n"
     ]
    }
   ],
   "source": [
    "print(data['days_employed'].isnull().sum())"
   ]
  },
  {
   "cell_type": "code",
   "execution_count": 7,
   "metadata": {},
   "outputs": [
    {
     "name": "stdout",
     "output_type": "stream",
     "text": [
      "35    617\n",
      "40    609\n",
      "41    607\n",
      "34    603\n",
      "38    598\n",
      "42    597\n",
      "33    581\n",
      "39    573\n",
      "31    560\n",
      "36    555\n",
      "44    547\n",
      "29    545\n",
      "30    540\n",
      "48    538\n",
      "37    537\n",
      "50    514\n",
      "43    513\n",
      "32    510\n",
      "49    508\n",
      "28    503\n",
      "45    497\n",
      "27    493\n",
      "56    487\n",
      "52    484\n",
      "47    480\n",
      "54    479\n",
      "46    475\n",
      "58    461\n",
      "57    460\n",
      "53    459\n",
      "51    448\n",
      "59    444\n",
      "55    443\n",
      "26    408\n",
      "60    377\n",
      "25    357\n",
      "61    355\n",
      "62    352\n",
      "63    269\n",
      "64    265\n",
      "24    264\n",
      "23    254\n",
      "65    194\n",
      "66    183\n",
      "22    183\n",
      "67    167\n",
      "21    111\n",
      "0     101\n",
      "68     99\n",
      "69     85\n",
      "70     65\n",
      "71     58\n",
      "20     51\n",
      "72     33\n",
      "19     14\n",
      "73      8\n",
      "74      6\n",
      "75      1\n",
      "Name: dob_years, dtype: int64\n"
     ]
    }
   ],
   "source": [
    "print(data['dob_years'].value_counts())"
   ]
  },
  {
   "cell_type": "code",
   "execution_count": 8,
   "metadata": {},
   "outputs": [
    {
     "name": "stdout",
     "output_type": "stream",
     "text": [
      "среднее                13750\n",
      "высшее                  4718\n",
      "СРЕДНЕЕ                  772\n",
      "Среднее                  711\n",
      "неоконченное высшее      668\n",
      "ВЫСШЕЕ                   274\n",
      "Высшее                   268\n",
      "начальное                250\n",
      "Неоконченное высшее       47\n",
      "НЕОКОНЧЕННОЕ ВЫСШЕЕ       29\n",
      "НАЧАЛЬНОЕ                 17\n",
      "Начальное                 15\n",
      "ученая степень             4\n",
      "УЧЕНАЯ СТЕПЕНЬ             1\n",
      "Ученая степень             1\n",
      "Name: education, dtype: int64\n"
     ]
    }
   ],
   "source": [
    "print(data['education'].value_counts())"
   ]
  },
  {
   "cell_type": "code",
   "execution_count": 9,
   "metadata": {},
   "outputs": [
    {
     "name": "stdout",
     "output_type": "stream",
     "text": [
      "1    15233\n",
      "0     5260\n",
      "2      744\n",
      "3      282\n",
      "4        6\n",
      "Name: education_id, dtype: int64\n"
     ]
    }
   ],
   "source": [
    "print(data['education_id'].value_counts())"
   ]
  },
  {
   "cell_type": "code",
   "execution_count": 10,
   "metadata": {},
   "outputs": [
    {
     "name": "stdout",
     "output_type": "stream",
     "text": [
      "женат / замужем          12380\n",
      "гражданский брак          4177\n",
      "Не женат / не замужем     2813\n",
      "в разводе                 1195\n",
      "вдовец / вдова             960\n",
      "Name: family_status, dtype: int64\n"
     ]
    }
   ],
   "source": [
    "print(data['family_status'].value_counts())"
   ]
  },
  {
   "cell_type": "code",
   "execution_count": 11,
   "metadata": {},
   "outputs": [
    {
     "name": "stdout",
     "output_type": "stream",
     "text": [
      "0    12380\n",
      "1     4177\n",
      "4     2813\n",
      "3     1195\n",
      "2      960\n",
      "Name: family_status_id, dtype: int64\n"
     ]
    }
   ],
   "source": [
    "print(data['family_status_id'].value_counts())"
   ]
  },
  {
   "cell_type": "code",
   "execution_count": 12,
   "metadata": {},
   "outputs": [
    {
     "name": "stdout",
     "output_type": "stream",
     "text": [
      "F      14236\n",
      "M       7288\n",
      "XNA        1\n",
      "Name: gender, dtype: int64\n"
     ]
    }
   ],
   "source": [
    "print(data['gender'].value_counts())"
   ]
  },
  {
   "cell_type": "code",
   "execution_count": 13,
   "metadata": {},
   "outputs": [
    {
     "name": "stdout",
     "output_type": "stream",
     "text": [
      "сотрудник          11119\n",
      "компаньон           5085\n",
      "пенсионер           3856\n",
      "госслужащий         1459\n",
      "предприниматель        2\n",
      "безработный            2\n",
      "в декрете              1\n",
      "студент                1\n",
      "Name: income_type, dtype: int64\n"
     ]
    }
   ],
   "source": [
    "print(data['income_type'].value_counts())"
   ]
  },
  {
   "cell_type": "code",
   "execution_count": 14,
   "metadata": {},
   "outputs": [
    {
     "name": "stdout",
     "output_type": "stream",
     "text": [
      "0    19784\n",
      "1     1741\n",
      "Name: debt, dtype: int64\n"
     ]
    }
   ],
   "source": [
    "print(data['debt'].value_counts())"
   ]
  },
  {
   "cell_type": "code",
   "execution_count": 15,
   "metadata": {},
   "outputs": [
    {
     "name": "stdout",
     "output_type": "stream",
     "text": [
      "2174\n"
     ]
    }
   ],
   "source": [
    "print(data['total_income'].isna().sum())"
   ]
  },
  {
   "cell_type": "code",
   "execution_count": 16,
   "metadata": {},
   "outputs": [
    {
     "name": "stdout",
     "output_type": "stream",
     "text": [
      "свадьба                                   797\n",
      "на проведение свадьбы                     777\n",
      "сыграть свадьбу                           774\n",
      "операции с недвижимостью                  676\n",
      "покупка коммерческой недвижимости         664\n",
      "покупка жилья для сдачи                   653\n",
      "операции с жильем                         653\n",
      "операции с коммерческой недвижимостью     651\n",
      "покупка жилья                             647\n",
      "жилье                                     647\n",
      "покупка жилья для семьи                   641\n",
      "строительство собственной недвижимости    635\n",
      "недвижимость                              634\n",
      "операции со своей недвижимостью           630\n",
      "строительство жилой недвижимости          626\n",
      "покупка недвижимости                      624\n",
      "строительство недвижимости                620\n",
      "покупка своего жилья                      620\n",
      "ремонт жилью                              612\n",
      "покупка жилой недвижимости                607\n",
      "на покупку своего автомобиля              505\n",
      "заняться высшим образованием              496\n",
      "автомобиль                                495\n",
      "сделка с подержанным автомобилем          489\n",
      "свой автомобиль                           480\n",
      "на покупку подержанного автомобиля        479\n",
      "автомобили                                478\n",
      "на покупку автомобиля                     472\n",
      "дополнительное образование                462\n",
      "приобретение автомобиля                   462\n",
      "сделка с автомобилем                      455\n",
      "высшее образование                        453\n",
      "образование                               447\n",
      "получение дополнительного образования     447\n",
      "получение образования                     443\n",
      "профильное образование                    436\n",
      "получение высшего образования             426\n",
      "заняться образованием                     412\n",
      "Name: purpose, dtype: int64\n"
     ]
    }
   ],
   "source": [
    "print(data['purpose'].value_counts())"
   ]
  },
  {
   "cell_type": "code",
   "execution_count": 17,
   "metadata": {},
   "outputs": [
    {
     "name": "stdout",
     "output_type": "stream",
     "text": [
      "       children  days_employed  dob_years            education  education_id  \\\n",
      "10701         0   -2358.600502         24  неоконченное высшее             2   \n",
      "\n",
      "          family_status  family_status_id gender income_type  debt  \\\n",
      "10701  гражданский брак                 1    XNA   компаньон     0   \n",
      "\n",
      "        total_income               purpose  \n",
      "10701  203905.157261  покупка недвижимости  \n"
     ]
    }
   ],
   "source": [
    "print(data[data['gender']=='XNA'])"
   ]
  },
  {
   "cell_type": "markdown",
   "metadata": {},
   "source": [
    "Пропущенное значение в столбце gender, не влияет на данные, все остальные значения не являются единичными в выборке.Поэтому можно его удалить."
   ]
  },
  {
   "cell_type": "code",
   "execution_count": 18,
   "metadata": {},
   "outputs": [
    {
     "name": "stdout",
     "output_type": "stream",
     "text": [
      "F    14236\n",
      "M     7288\n",
      "Name: gender, dtype: int64\n"
     ]
    }
   ],
   "source": [
    "data = data.drop(data[data['gender']=='XNA'].index)\n",
    "print(data['gender'].value_counts())"
   ]
  },
  {
   "cell_type": "code",
   "execution_count": 19,
   "metadata": {},
   "outputs": [
    {
     "name": "stdout",
     "output_type": "stream",
     "text": [
      "       children  days_employed  dob_years education  education_id  \\\n",
      "99            0  346541.618895          0   Среднее             1   \n",
      "149           0   -2664.273168          0   среднее             1   \n",
      "270           3   -1872.663186          0   среднее             1   \n",
      "578           0  397856.565013          0   среднее             1   \n",
      "1040          0   -1158.029561          0    высшее             0   \n",
      "...         ...            ...        ...       ...           ...   \n",
      "19829         0            NaN          0   среднее             1   \n",
      "20462         0  338734.868540          0   среднее             1   \n",
      "20577         0  331741.271455          0   среднее             1   \n",
      "21179         2    -108.967042          0    высшее             0   \n",
      "21313         0   -1268.487728          0   среднее             1   \n",
      "\n",
      "               family_status  family_status_id gender income_type  debt  \\\n",
      "99           женат / замужем                 0      F   пенсионер     0   \n",
      "149                в разводе                 3      F   сотрудник     0   \n",
      "270          женат / замужем                 0      F   сотрудник     0   \n",
      "578          женат / замужем                 0      F   пенсионер     0   \n",
      "1040               в разводе                 3      F   компаньон     0   \n",
      "...                      ...               ...    ...         ...   ...   \n",
      "19829        женат / замужем                 0      F   сотрудник     0   \n",
      "20462        женат / замужем                 0      F   пенсионер     0   \n",
      "20577  Не женат / не замужем                 4      F   пенсионер     0   \n",
      "21179        женат / замужем                 0      M   компаньон     0   \n",
      "21313  Не женат / не замужем                 4      M   сотрудник     0   \n",
      "\n",
      "        total_income                                 purpose  \n",
      "99      71291.522491                              автомобиль  \n",
      "149     70176.435951                       операции с жильем  \n",
      "270    102166.458894                            ремонт жилью  \n",
      "578     97620.687042  строительство собственной недвижимости  \n",
      "1040   303994.134987                         свой автомобиль  \n",
      "...              ...                                     ...  \n",
      "19829            NaN                                   жилье  \n",
      "20462  259193.920299                    покупка своего жилья  \n",
      "20577  129788.762899                            недвижимость  \n",
      "21179  240702.007382        строительство жилой недвижимости  \n",
      "21313  152419.184851                       операции с жильем  \n",
      "\n",
      "[101 rows x 12 columns]\n"
     ]
    }
   ],
   "source": [
    "print(data[data['dob_years']==0])"
   ]
  },
  {
   "cell_type": "markdown",
   "metadata": {},
   "source": [
    " Рассмотрим пропуски в столбце dob_years, для начала рассмотрим пропуски по типу заннятости."
   ]
  },
  {
   "cell_type": "code",
   "execution_count": 20,
   "metadata": {},
   "outputs": [
    {
     "name": "stdout",
     "output_type": "stream",
     "text": [
      "income_type\n",
      "безработный        38.0\n",
      "в декрете          39.0\n",
      "госслужащий        40.0\n",
      "компаньон          39.0\n",
      "пенсионер          60.0\n",
      "предприниматель    42.5\n",
      "сотрудник          39.0\n",
      "студент            22.0\n",
      "Name: dob_years, dtype: float64\n"
     ]
    }
   ],
   "source": [
    "print(data.groupby('income_type')['dob_years'].median())"
   ]
  },
  {
   "cell_type": "code",
   "execution_count": 21,
   "metadata": {},
   "outputs": [
    {
     "name": "stdout",
     "output_type": "stream",
     "text": [
      "Empty DataFrame\n",
      "Columns: [children, days_employed, dob_years, education, education_id, family_status, family_status_id, gender, income_type, debt, total_income, purpose]\n",
      "Index: []\n"
     ]
    }
   ],
   "source": [
    "data['dob_years'] = data.groupby('income_type')['dob_years'].transform(lambda x : x.replace(0,x.median()))\n",
    "print(data[data['dob_years']==0])"
   ]
  },
  {
   "cell_type": "markdown",
   "metadata": {},
   "source": [
    "Заменив нулевые значения в столбце возраста, на медийные значения по типу занятости, избавились от пропущенных значений,\n",
    "не изменяя остальные столбцы."
   ]
  },
  {
   "cell_type": "markdown",
   "metadata": {},
   "source": [
    "Теперь можно убрать нулевые значения в столбце с трудовым стажем для начала , необходимо избавится от минусов в данном столбце."
   ]
  },
  {
   "cell_type": "code",
   "execution_count": 22,
   "metadata": {
    "scrolled": true
   },
   "outputs": [
    {
     "name": "stdout",
     "output_type": "stream",
     "text": [
      "    children  days_employed  dob_years            education  education_id  \\\n",
      "0          1    8437.673028         42               высшее             0   \n",
      "1          1    4024.803754         36              среднее             1   \n",
      "2          0    5623.422610         33              Среднее             1   \n",
      "3          3    4124.747207         32              среднее             1   \n",
      "4          0  340266.072047         53              среднее             1   \n",
      "5          0     926.185831         27               высшее             0   \n",
      "6          0    2879.202052         43               высшее             0   \n",
      "7          0     152.779569         50              СРЕДНЕЕ             1   \n",
      "8          2    6929.865299         35               ВЫСШЕЕ             0   \n",
      "9          0    2188.756445         41              среднее             1   \n",
      "10         2    4171.483647         36               высшее             0   \n",
      "11         0     792.701887         40              среднее             1   \n",
      "12         0            NaN         65              среднее             1   \n",
      "13         0    1846.641941         54  неоконченное высшее             2   \n",
      "14         0    1844.956182         56               высшее             0   \n",
      "\n",
      "       family_status  family_status_id gender income_type  debt  \\\n",
      "0    женат / замужем                 0      F   сотрудник     0   \n",
      "1    женат / замужем                 0      F   сотрудник     0   \n",
      "2    женат / замужем                 0      M   сотрудник     0   \n",
      "3    женат / замужем                 0      M   сотрудник     0   \n",
      "4   гражданский брак                 1      F   пенсионер     0   \n",
      "5   гражданский брак                 1      M   компаньон     0   \n",
      "6    женат / замужем                 0      F   компаньон     0   \n",
      "7    женат / замужем                 0      M   сотрудник     0   \n",
      "8   гражданский брак                 1      F   сотрудник     0   \n",
      "9    женат / замужем                 0      M   сотрудник     0   \n",
      "10   женат / замужем                 0      M   компаньон     0   \n",
      "11   женат / замужем                 0      F   сотрудник     0   \n",
      "12  гражданский брак                 1      M   пенсионер     0   \n",
      "13   женат / замужем                 0      F   сотрудник     0   \n",
      "14  гражданский брак                 1      F   компаньон     1   \n",
      "\n",
      "     total_income                            purpose  \n",
      "0   253875.639453                      покупка жилья  \n",
      "1   112080.014102            приобретение автомобиля  \n",
      "2   145885.952297                      покупка жилья  \n",
      "3   267628.550329         дополнительное образование  \n",
      "4   158616.077870                    сыграть свадьбу  \n",
      "5   255763.565419                      покупка жилья  \n",
      "6   240525.971920                  операции с жильем  \n",
      "7   135823.934197                        образование  \n",
      "8    95856.832424              на проведение свадьбы  \n",
      "9   144425.938277            покупка жилья для семьи  \n",
      "10  113943.491460               покупка недвижимости  \n",
      "11   77069.234271  покупка коммерческой недвижимости  \n",
      "12            NaN                    сыграть свадьбу  \n",
      "13  130458.228857            приобретение автомобиля  \n",
      "14  165127.911772         покупка жилой недвижимости  \n"
     ]
    }
   ],
   "source": [
    "def delit_minus(row):\n",
    "    if row['days_employed']<0:\n",
    "        return row['days_employed']*(-1)\n",
    "    return row['days_employed']\n",
    "data['days_employed'] = data.apply(delit_minus,axis = 1)\n",
    "print(data.head(15))"
   ]
  },
  {
   "cell_type": "code",
   "execution_count": 23,
   "metadata": {
    "scrolled": false
   },
   "outputs": [
    {
     "name": "stdout",
     "output_type": "stream",
     "text": [
      "dob_years\n",
      "19       633.678086\n",
      "20       684.944308\n",
      "21       709.440930\n",
      "22      2793.321854\n",
      "23       827.309437\n",
      "24      1020.900547\n",
      "25      1088.406453\n",
      "26      3214.617245\n",
      "27      3725.820728\n",
      "28      2180.056457\n",
      "29      1553.823200\n",
      "30      1696.039355\n",
      "31      2331.246721\n",
      "32      3877.197466\n",
      "33      3241.413096\n",
      "34      4141.242883\n",
      "35      2755.226484\n",
      "36      4496.534938\n",
      "37      5879.263440\n",
      "38      7641.485465\n",
      "39      4885.402566\n",
      "40      7063.431634\n",
      "41      6400.926359\n",
      "42      8885.465110\n",
      "43      9418.428468\n",
      "44      9952.060042\n",
      "45     11748.039481\n",
      "46     14121.191502\n",
      "47     14223.685900\n",
      "48     18149.683912\n",
      "49     26679.790846\n",
      "50     50493.031018\n",
      "51     68425.772762\n",
      "52     82803.402429\n",
      "53     94073.249426\n",
      "54    126757.781831\n",
      "55    152264.946612\n",
      "56    157417.505013\n",
      "57    193689.068297\n",
      "58    188571.489818\n",
      "59    227496.974028\n",
      "60    267695.441073\n",
      "61    246731.048849\n",
      "62    274381.283863\n",
      "63    293383.721011\n",
      "64    287670.475737\n",
      "65    287448.538552\n",
      "66    313613.718234\n",
      "67    317629.788586\n",
      "68    326896.748566\n",
      "69    338361.511981\n",
      "70    318072.656240\n",
      "71    332751.981663\n",
      "72    333177.822570\n",
      "73    313848.167175\n",
      "74    241262.658935\n",
      "75      1678.969771\n",
      "Name: days_employed, dtype: float64\n"
     ]
    }
   ],
   "source": [
    "print(data.groupby('dob_years')['days_employed'].mean())"
   ]
  },
  {
   "cell_type": "markdown",
   "metadata": {},
   "source": [
    "Попробуем избавиться от пропусков заменяя медианой в возростной группе, будем разбивать примерно так, \n",
    "до 25 лет(примерно начало карьеры и студенты), от 25 до 35, от 35 до 45, от 45 до 55 и старше 55."
   ]
  },
  {
   "cell_type": "code",
   "execution_count": 24,
   "metadata": {},
   "outputs": [],
   "source": [
    "data['days_employed'] = data['days_employed'].fillna(0)"
   ]
  },
  {
   "cell_type": "code",
   "execution_count": 25,
   "metadata": {},
   "outputs": [
    {
     "name": "stdout",
     "output_type": "stream",
     "text": [
      "1137.817856239775\n"
     ]
    }
   ],
   "source": [
    "print(data[(data['dob_years'] >= 25) & (data['dob_years'] < 35)]['days_employed'].median())"
   ]
  },
  {
   "cell_type": "code",
   "execution_count": 26,
   "metadata": {},
   "outputs": [
    {
     "name": "stdout",
     "output_type": "stream",
     "text": [
      "Empty DataFrame\n",
      "Columns: [children, days_employed, dob_years, education, education_id, family_status, family_status_id, gender, income_type, debt, total_income, purpose]\n",
      "Index: []\n"
     ]
    }
   ],
   "source": [
    "def replace_days_employed(row):\n",
    "    if row['days_employed'] == 0 :\n",
    "        if row['dob_years'] <25:\n",
    "            return data[data['dob_years'] < 55]['days_employed'].median()\n",
    "        if row['dob_years'] >= 25 and row['dob_years'] < 35 :\n",
    "            return data[(data['dob_years'] >= 25) & (data['dob_years'] < 35)]['days_employed'].median()\n",
    "        if row['dob_years'] >= 35 and row['dob_years'] < 45 :\n",
    "            return data[(data['dob_years'] >= 35) & (data['dob_years'] < 45)]['days_employed'].median()\n",
    "        if row['dob_years'] >= 45 and row['dob_years'] < 55 :\n",
    "            return data[(data['dob_years'] >= 45) & (data['dob_years'] < 55)]['days_employed'].median()\n",
    "        if row['dob_years'] >= 55:\n",
    "            return data[data['dob_years'] >= 55]['days_employed'].median()\n",
    "    return row['days_employed']\n",
    "data['days_employed'] = data.apply(replace_days_employed,axis = 1)\n",
    "print(data[data['days_employed']==0])"
   ]
  },
  {
   "cell_type": "code",
   "execution_count": 27,
   "metadata": {},
   "outputs": [
    {
     "name": "stdout",
     "output_type": "stream",
     "text": [
      "    children  days_employed  dob_years            education  education_id  \\\n",
      "0          1    8437.673028         42               высшее             0   \n",
      "1          1    4024.803754         36              среднее             1   \n",
      "2          0    5623.422610         33              Среднее             1   \n",
      "3          3    4124.747207         32              среднее             1   \n",
      "4          0  340266.072047         53              среднее             1   \n",
      "5          0     926.185831         27               высшее             0   \n",
      "6          0    2879.202052         43               высшее             0   \n",
      "7          0     152.779569         50              СРЕДНЕЕ             1   \n",
      "8          2    6929.865299         35               ВЫСШЕЕ             0   \n",
      "9          0    2188.756445         41              среднее             1   \n",
      "10         2    4171.483647         36               высшее             0   \n",
      "11         0     792.701887         40              среднее             1   \n",
      "12         0  339444.347766         65              среднее             1   \n",
      "13         0    1846.641941         54  неоконченное высшее             2   \n",
      "14         0    1844.956182         56               высшее             0   \n",
      "\n",
      "       family_status  family_status_id gender income_type  debt  \\\n",
      "0    женат / замужем                 0      F   сотрудник     0   \n",
      "1    женат / замужем                 0      F   сотрудник     0   \n",
      "2    женат / замужем                 0      M   сотрудник     0   \n",
      "3    женат / замужем                 0      M   сотрудник     0   \n",
      "4   гражданский брак                 1      F   пенсионер     0   \n",
      "5   гражданский брак                 1      M   компаньон     0   \n",
      "6    женат / замужем                 0      F   компаньон     0   \n",
      "7    женат / замужем                 0      M   сотрудник     0   \n",
      "8   гражданский брак                 1      F   сотрудник     0   \n",
      "9    женат / замужем                 0      M   сотрудник     0   \n",
      "10   женат / замужем                 0      M   компаньон     0   \n",
      "11   женат / замужем                 0      F   сотрудник     0   \n",
      "12  гражданский брак                 1      M   пенсионер     0   \n",
      "13   женат / замужем                 0      F   сотрудник     0   \n",
      "14  гражданский брак                 1      F   компаньон     1   \n",
      "\n",
      "     total_income                            purpose  \n",
      "0   253875.639453                      покупка жилья  \n",
      "1   112080.014102            приобретение автомобиля  \n",
      "2   145885.952297                      покупка жилья  \n",
      "3   267628.550329         дополнительное образование  \n",
      "4   158616.077870                    сыграть свадьбу  \n",
      "5   255763.565419                      покупка жилья  \n",
      "6   240525.971920                  операции с жильем  \n",
      "7   135823.934197                        образование  \n",
      "8    95856.832424              на проведение свадьбы  \n",
      "9   144425.938277            покупка жилья для семьи  \n",
      "10  113943.491460               покупка недвижимости  \n",
      "11   77069.234271  покупка коммерческой недвижимости  \n",
      "12            NaN                    сыграть свадьбу  \n",
      "13  130458.228857            приобретение автомобиля  \n",
      "14  165127.911772         покупка жилой недвижимости  \n"
     ]
    }
   ],
   "source": [
    "print(data.head(15))"
   ]
  },
  {
   "cell_type": "markdown",
   "metadata": {},
   "source": [
    "Заменили пропуски в столбце с трудовым стажем, следующий столбец с пропусками информация о ежемесячном доходе"
   ]
  },
  {
   "cell_type": "code",
   "execution_count": 28,
   "metadata": {},
   "outputs": [
    {
     "name": "stdout",
     "output_type": "stream",
     "text": [
      "128479.29359755457\n",
      "-------------------------------------------\n",
      "income_type\n",
      "госслужащий    133510.813687\n",
      "компаньон      138681.737450\n",
      "пенсионер       89368.600062\n",
      "сотрудник      122938.149557\n",
      "студент         98201.625314\n",
      "Name: total_income, dtype: float64\n",
      "----------------------------------------------\n",
      "149943.13240890088\n",
      "-------------------------------------------\n",
      "income_type\n",
      "безработный         59956.991984\n",
      "госслужащий        152726.500906\n",
      "компаньон          170123.325731\n",
      "пенсионер           96116.021663\n",
      "предприниматель    499163.144947\n",
      "сотрудник          142014.190010\n",
      "Name: total_income, dtype: float64\n"
     ]
    }
   ],
   "source": [
    "data_dob_25 = data[data['dob_years']< 25]\n",
    "data_dob_35 = data[(data['dob_years'] >= 25) & (data['dob_years'] < 35)]\n",
    "print(data_dob_25['total_income'].median())\n",
    "print('-------------------------------------------')\n",
    "print(data_dob_25.groupby('income_type')['total_income'].median())\n",
    "print('----------------------------------------------')\n",
    "print(data_dob_35['total_income'].median())\n",
    "print('-------------------------------------------')\n",
    "print(data_dob_35.groupby('income_type')['total_income'].median())"
   ]
  },
  {
   "cell_type": "markdown",
   "metadata": {},
   "source": [
    "В столбце дохода есть большой разрыв ,между минимальным и максимальным доходом, поэтому заполнять будем медианами, также есть разница в доходах по типу занятости. Будем заменять опираясь на возраст и тип занятости."
   ]
  },
  {
   "cell_type": "code",
   "execution_count": 30,
   "metadata": {},
   "outputs": [
    {
     "name": "stdout",
     "output_type": "stream",
     "text": [
      "1\n"
     ]
    }
   ],
   "source": [
    "\n",
    "dob_last = 0\n",
    "for dob in [25,35,45,55,100]:\n",
    "    data_dob = data[(data['dob_years'] >= dob_last) & (data['dob_years'] < dob)]\n",
    "    data_dob_group = data_dob.groupby('income_type').transform(lambda x : x.fillna(x.mean()))\n",
    "    data.loc[(data['dob_years'] >= dob_last) & (data['dob_years'] < dob),'total_income'] = data_dob_group\n",
    "    dob_last = dob\n",
    "print(data['total_income'].isna().sum())"
   ]
  },
  {
   "cell_type": "code",
   "execution_count": 31,
   "metadata": {},
   "outputs": [
    {
     "name": "stdout",
     "output_type": "stream",
     "text": [
      "0\n"
     ]
    }
   ],
   "source": [
    "\n",
    "data.dropna(subset=['total_income'],inplace=True)\n",
    "print(data['total_income'].isna().sum())"
   ]
  },
  {
   "cell_type": "code",
   "execution_count": 32,
   "metadata": {},
   "outputs": [
    {
     "name": "stdout",
     "output_type": "stream",
     "text": [
      "Empty DataFrame\n",
      "Columns: [children, days_employed, dob_years, education, education_id, family_status, family_status_id, gender, income_type, debt, total_income, purpose]\n",
      "Index: []\n"
     ]
    }
   ],
   "source": [
    "print(data[data['total_income']== 0])"
   ]
  },
  {
   "cell_type": "code",
   "execution_count": 34,
   "metadata": {},
   "outputs": [
    {
     "name": "stdout",
     "output_type": "stream",
     "text": [
      "Empty DataFrame\n",
      "Columns: [children, days_employed, dob_years, education, education_id, family_status, family_status_id, gender, income_type, debt, total_income, purpose]\n",
      "Index: []\n"
     ]
    }
   ],
   "source": [
    "data = data.drop(data[data['total_income']==0].index)\n",
    "print(data[data['total_income']== 0])"
   ]
  },
  {
   "cell_type": "code",
   "execution_count": 36,
   "metadata": {},
   "outputs": [
    {
     "name": "stdout",
     "output_type": "stream",
     "text": [
      "    children  days_employed  dob_years            education  education_id  \\\n",
      "0          1    8437.673028         42               высшее             0   \n",
      "1          1    4024.803754         36              среднее             1   \n",
      "2          0    5623.422610         33              Среднее             1   \n",
      "3          3    4124.747207         32              среднее             1   \n",
      "4          0  340266.072047         53              среднее             1   \n",
      "5          0     926.185831         27               высшее             0   \n",
      "6          0    2879.202052         43               высшее             0   \n",
      "7          0     152.779569         50              СРЕДНЕЕ             1   \n",
      "8          2    6929.865299         35               ВЫСШЕЕ             0   \n",
      "9          0    2188.756445         41              среднее             1   \n",
      "10         2    4171.483647         36               высшее             0   \n",
      "11         0     792.701887         40              среднее             1   \n",
      "12         0  339444.347766         65              среднее             1   \n",
      "13         0    1846.641941         54  неоконченное высшее             2   \n",
      "14         0    1844.956182         56               высшее             0   \n",
      "\n",
      "       family_status  family_status_id gender income_type  debt  \\\n",
      "0    женат / замужем                 0      F   сотрудник     0   \n",
      "1    женат / замужем                 0      F   сотрудник     0   \n",
      "2    женат / замужем                 0      M   сотрудник     0   \n",
      "3    женат / замужем                 0      M   сотрудник     0   \n",
      "4   гражданский брак                 1      F   пенсионер     0   \n",
      "5   гражданский брак                 1      M   компаньон     0   \n",
      "6    женат / замужем                 0      F   компаньон     0   \n",
      "7    женат / замужем                 0      M   сотрудник     0   \n",
      "8   гражданский брак                 1      F   сотрудник     0   \n",
      "9    женат / замужем                 0      M   сотрудник     0   \n",
      "10   женат / замужем                 0      M   компаньон     0   \n",
      "11   женат / замужем                 0      F   сотрудник     0   \n",
      "12  гражданский брак                 1      M   пенсионер     0   \n",
      "13   женат / замужем                 0      F   сотрудник     0   \n",
      "14  гражданский брак                 1      F   компаньон     1   \n",
      "\n",
      "     total_income                            purpose  \n",
      "0   253875.639453                      покупка жилья  \n",
      "1   112080.014102            приобретение автомобиля  \n",
      "2   145885.952297                      покупка жилья  \n",
      "3   267628.550329         дополнительное образование  \n",
      "4   158616.077870                    сыграть свадьбу  \n",
      "5   255763.565419                      покупка жилья  \n",
      "6   240525.971920                  операции с жильем  \n",
      "7   135823.934197                        образование  \n",
      "8    95856.832424              на проведение свадьбы  \n",
      "9   144425.938277            покупка жилья для семьи  \n",
      "10  113943.491460               покупка недвижимости  \n",
      "11   77069.234271  покупка коммерческой недвижимости  \n",
      "12  135551.865878                    сыграть свадьбу  \n",
      "13  130458.228857            приобретение автомобиля  \n",
      "14  165127.911772         покупка жилой недвижимости  \n"
     ]
    }
   ],
   "source": [
    "print(data.head(15))"
   ]
  },
  {
   "cell_type": "markdown",
   "metadata": {},
   "source": [
    "**Вывод**"
   ]
  },
  {
   "cell_type": "markdown",
   "metadata": {},
   "source": [
    "Заменили пропуски найденные во время ознакомления с данными, данный датасет не готов окончательно к анализу, есть недостатки в виде дубликатов, разных регистров, и перефразированных целей кредита."
   ]
  },
  {
   "cell_type": "markdown",
   "metadata": {},
   "source": [
    "### Замена типа данных"
   ]
  },
  {
   "cell_type": "markdown",
   "metadata": {},
   "source": [
    "Столбцы с трудовым стажем и ежемесячным доходом, содержат тип с плавающей запятой, такая точность для анализа не пригодится, сделаем их целочисленными."
   ]
  },
  {
   "cell_type": "code",
   "execution_count": 37,
   "metadata": {},
   "outputs": [
    {
     "name": "stdout",
     "output_type": "stream",
     "text": [
      "    children  days_employed  dob_years            education  education_id  \\\n",
      "0          1           8437         42               высшее             0   \n",
      "1          1           4024         36              среднее             1   \n",
      "2          0           5623         33              Среднее             1   \n",
      "3          3           4124         32              среднее             1   \n",
      "4          0         340266         53              среднее             1   \n",
      "5          0            926         27               высшее             0   \n",
      "6          0           2879         43               высшее             0   \n",
      "7          0            152         50              СРЕДНЕЕ             1   \n",
      "8          2           6929         35               ВЫСШЕЕ             0   \n",
      "9          0           2188         41              среднее             1   \n",
      "10         2           4171         36               высшее             0   \n",
      "11         0            792         40              среднее             1   \n",
      "12         0         339444         65              среднее             1   \n",
      "13         0           1846         54  неоконченное высшее             2   \n",
      "14         0           1844         56               высшее             0   \n",
      "\n",
      "       family_status  family_status_id gender income_type  debt  total_income  \\\n",
      "0    женат / замужем                 0      F   сотрудник     0        253875   \n",
      "1    женат / замужем                 0      F   сотрудник     0        112080   \n",
      "2    женат / замужем                 0      M   сотрудник     0        145885   \n",
      "3    женат / замужем                 0      M   сотрудник     0        267628   \n",
      "4   гражданский брак                 1      F   пенсионер     0        158616   \n",
      "5   гражданский брак                 1      M   компаньон     0        255763   \n",
      "6    женат / замужем                 0      F   компаньон     0        240525   \n",
      "7    женат / замужем                 0      M   сотрудник     0        135823   \n",
      "8   гражданский брак                 1      F   сотрудник     0         95856   \n",
      "9    женат / замужем                 0      M   сотрудник     0        144425   \n",
      "10   женат / замужем                 0      M   компаньон     0        113943   \n",
      "11   женат / замужем                 0      F   сотрудник     0         77069   \n",
      "12  гражданский брак                 1      M   пенсионер     0        135551   \n",
      "13   женат / замужем                 0      F   сотрудник     0        130458   \n",
      "14  гражданский брак                 1      F   компаньон     1        165127   \n",
      "\n",
      "                              purpose  \n",
      "0                       покупка жилья  \n",
      "1             приобретение автомобиля  \n",
      "2                       покупка жилья  \n",
      "3          дополнительное образование  \n",
      "4                     сыграть свадьбу  \n",
      "5                       покупка жилья  \n",
      "6                   операции с жильем  \n",
      "7                         образование  \n",
      "8               на проведение свадьбы  \n",
      "9             покупка жилья для семьи  \n",
      "10               покупка недвижимости  \n",
      "11  покупка коммерческой недвижимости  \n",
      "12                    сыграть свадьбу  \n",
      "13            приобретение автомобиля  \n",
      "14         покупка жилой недвижимости  \n"
     ]
    }
   ],
   "source": [
    "data['total_income'] = data['total_income'].astype('int')\n",
    "data['days_employed'] = data['days_employed'].astype('int')\n",
    "print(data.head(15))"
   ]
  },
  {
   "cell_type": "markdown",
   "metadata": {},
   "source": [
    "В столбце с количеством детей, есть ошибка, есть отрицательное количество детей ,что скорее всего стало ошибкой при получении данных."
   ]
  },
  {
   "cell_type": "code",
   "execution_count": 38,
   "metadata": {},
   "outputs": [
    {
     "name": "stdout",
     "output_type": "stream",
     "text": [
      "0     14147\n",
      "1      4865\n",
      "2      2055\n",
      "3       330\n",
      "20       76\n",
      "4        41\n",
      "5         9\n",
      "Name: children, dtype: int64\n"
     ]
    }
   ],
   "source": [
    "data['children'] = data['children'].replace(-1,1)\n",
    "print(data['children'].value_counts())"
   ]
  },
  {
   "cell_type": "markdown",
   "metadata": {},
   "source": [
    "**Вывод**"
   ]
  },
  {
   "cell_type": "markdown",
   "metadata": {},
   "source": [
    "Заменили все числа с плавающей запятой на целочисленные."
   ]
  },
  {
   "cell_type": "markdown",
   "metadata": {},
   "source": [
    "### Обработка дубликатов"
   ]
  },
  {
   "cell_type": "code",
   "execution_count": 39,
   "metadata": {},
   "outputs": [
    {
     "name": "stdout",
     "output_type": "stream",
     "text": [
      "54\n"
     ]
    }
   ],
   "source": [
    "print(data.duplicated().sum())"
   ]
  },
  {
   "cell_type": "markdown",
   "metadata": {},
   "source": [
    "Метод duplicated(), нашел 54 дубликата, допустимо их удалить методом drop_duplicated() с восстановлением индексации. Дубликаты могли появится, при полном соответсвии данных, у заемщиков, или при неоднократном их обращении."
   ]
  },
  {
   "cell_type": "code",
   "execution_count": 40,
   "metadata": {},
   "outputs": [
    {
     "name": "stdout",
     "output_type": "stream",
     "text": [
      "0\n"
     ]
    }
   ],
   "source": [
    "data = data.drop_duplicates().reset_index(drop=True) \n",
    "print(data.duplicated().sum())"
   ]
  },
  {
   "cell_type": "markdown",
   "metadata": {},
   "source": [
    "**Вывод**"
   ]
  },
  {
   "cell_type": "markdown",
   "metadata": {},
   "source": [
    "Нашли полные совпадения в данных и удалили их."
   ]
  },
  {
   "cell_type": "markdown",
   "metadata": {},
   "source": [
    "### Лемматизация"
   ]
  },
  {
   "cell_type": "markdown",
   "metadata": {},
   "source": [
    "Для начала приведем к одному регистру информацию об образовании."
   ]
  },
  {
   "cell_type": "code",
   "execution_count": 41,
   "metadata": {},
   "outputs": [
    {
     "name": "stdout",
     "output_type": "stream",
     "text": [
      "среднее                15188\n",
      "высшее                  5250\n",
      "неоконченное высшее      743\n",
      "начальное                282\n",
      "ученая степень             6\n",
      "Name: education, dtype: int64\n"
     ]
    }
   ],
   "source": [
    "data['education'] = data['education'].str.lower()\n",
    "print(data['education'].value_counts())"
   ]
  },
  {
   "cell_type": "markdown",
   "metadata": {},
   "source": [
    "Проверим ещё раз на дубликаты, и удалим найденные."
   ]
  },
  {
   "cell_type": "code",
   "execution_count": 42,
   "metadata": {},
   "outputs": [
    {
     "name": "stdout",
     "output_type": "stream",
     "text": [
      "17\n"
     ]
    }
   ],
   "source": [
    "print(data.duplicated().sum())"
   ]
  },
  {
   "cell_type": "code",
   "execution_count": 43,
   "metadata": {},
   "outputs": [
    {
     "name": "stdout",
     "output_type": "stream",
     "text": [
      "0\n"
     ]
    }
   ],
   "source": [
    "data = data.drop_duplicates().reset_index(drop=True) \n",
    "print(data.duplicated().sum())"
   ]
  },
  {
   "cell_type": "markdown",
   "metadata": {},
   "source": [
    "Подготовим данные к группировке, при помощи лематизации проведем цели кредита к более конкретным."
   ]
  },
  {
   "cell_type": "code",
   "execution_count": 44,
   "metadata": {},
   "outputs": [],
   "source": [
    "\n",
    "m = Mystem() "
   ]
  },
  {
   "cell_type": "code",
   "execution_count": 45,
   "metadata": {},
   "outputs": [
    {
     "name": "stdout",
     "output_type": "stream",
     "text": [
      "['покупка', ' ', 'жилье', '\\n']\n",
      "['приобретение', ' ', 'автомобиль', '\\n']\n",
      "['дополнительный', ' ', 'образование', '\\n']\n",
      "['сыграть', ' ', 'свадьба', '\\n']\n",
      "['операция', ' ', 'с', ' ', 'жилье', '\\n']\n",
      "['образование', '\\n']\n",
      "['на', ' ', 'проведение', ' ', 'свадьба', '\\n']\n",
      "['покупка', ' ', 'жилье', ' ', 'для', ' ', 'семья', '\\n']\n",
      "['покупка', ' ', 'недвижимость', '\\n']\n",
      "['покупка', ' ', 'коммерческий', ' ', 'недвижимость', '\\n']\n",
      "['покупка', ' ', 'жилой', ' ', 'недвижимость', '\\n']\n",
      "['строительство', ' ', 'собственный', ' ', 'недвижимость', '\\n']\n",
      "['недвижимость', '\\n']\n",
      "['строительство', ' ', 'недвижимость', '\\n']\n",
      "['на', ' ', 'покупка', ' ', 'подержать', ' ', 'автомобиль', '\\n']\n",
      "['на', ' ', 'покупка', ' ', 'свой', ' ', 'автомобиль', '\\n']\n",
      "['операция', ' ', 'с', ' ', 'коммерческий', ' ', 'недвижимость', '\\n']\n",
      "['строительство', ' ', 'жилой', ' ', 'недвижимость', '\\n']\n",
      "['жилье', '\\n']\n",
      "['операция', ' ', 'со', ' ', 'свой', ' ', 'недвижимость', '\\n']\n",
      "['автомобиль', '\\n']\n",
      "['заниматься', ' ', 'образование', '\\n']\n",
      "['сделка', ' ', 'с', ' ', 'подержанный', ' ', 'автомобиль', '\\n']\n",
      "['получение', ' ', 'образование', '\\n']\n",
      "['автомобиль', '\\n']\n",
      "['свадьба', '\\n']\n",
      "['получение', ' ', 'дополнительный', ' ', 'образование', '\\n']\n",
      "['покупка', ' ', 'свой', ' ', 'жилье', '\\n']\n",
      "['операция', ' ', 'с', ' ', 'недвижимость', '\\n']\n",
      "['получение', ' ', 'высокий', ' ', 'образование', '\\n']\n",
      "['свой', ' ', 'автомобиль', '\\n']\n",
      "['сделка', ' ', 'с', ' ', 'автомобиль', '\\n']\n",
      "['профильный', ' ', 'образование', '\\n']\n",
      "['высокий', ' ', 'образование', '\\n']\n",
      "['покупка', ' ', 'жилье', ' ', 'для', ' ', 'сдача', '\\n']\n",
      "['на', ' ', 'покупка', ' ', 'автомобиль', '\\n']\n",
      "['ремонт', ' ', 'жилье', '\\n']\n",
      "['заниматься', ' ', 'высокий', ' ', 'образование', '\\n']\n"
     ]
    }
   ],
   "source": [
    "for row in data['purpose'].unique():\n",
    "    lema = m.lemmatize(row)\n",
    "    print(lema)\n",
    "    "
   ]
  },
  {
   "cell_type": "code",
   "execution_count": 46,
   "metadata": {},
   "outputs": [
    {
     "name": "stdout",
     "output_type": "stream",
     "text": [
      "недвижимость    10809\n",
      "автомобиль       4306\n",
      "образование      4013\n",
      "свадьба          2324\n",
      "Name: lem_purpose, dtype: int64\n"
     ]
    }
   ],
   "source": [
    "def lema_purpose(row):\n",
    "    lema = m.lemmatize(row['purpose'])\n",
    "    if 'свадьба' in lema:\n",
    "        return 'свадьба'\n",
    "    if 'автомобиль' in lema:\n",
    "        return 'автомобиль'\n",
    "    if 'образование'in lema:\n",
    "        return 'образование'\n",
    "    if 'жилье' in lema or 'недвижимость'in lema:\n",
    "        return 'недвижимость'\n",
    "    return 'другое'\n",
    "data['lem_purpose'] = data.apply(lema_purpose,axis=1)\n",
    "print(data['lem_purpose'].value_counts())"
   ]
  },
  {
   "cell_type": "markdown",
   "metadata": {},
   "source": [
    "**Вывод**"
   ]
  },
  {
   "cell_type": "markdown",
   "metadata": {},
   "source": [
    "Провели лемматизацию данных по целям кредита и привели к нижнему регистру по образованиям, и удалили ещё 17 дубликатов."
   ]
  },
  {
   "cell_type": "markdown",
   "metadata": {},
   "source": [
    "### Категоризация данных"
   ]
  },
  {
   "cell_type": "markdown",
   "metadata": {},
   "source": [
    "Скатегорируйем данные таким образом, чтобы было легче отвечать на поставленные для анализа вопросы. Для начала добавим столбец который поможет проанализорвать количество детей,пусть столбец характеризует наличее детей, есть или нет."
   ]
  },
  {
   "cell_type": "code",
   "execution_count": 47,
   "metadata": {},
   "outputs": [
    {
     "name": "stdout",
     "output_type": "stream",
     "text": [
      "   children  days_employed  dob_years education  education_id  \\\n",
      "0         1           8437         42    высшее             0   \n",
      "1         1           4024         36   среднее             1   \n",
      "2         0           5623         33   среднее             1   \n",
      "3         3           4124         32   среднее             1   \n",
      "4         0         340266         53   среднее             1   \n",
      "\n",
      "      family_status  family_status_id gender income_type  debt  total_income  \\\n",
      "0   женат / замужем                 0      F   сотрудник     0        253875   \n",
      "1   женат / замужем                 0      F   сотрудник     0        112080   \n",
      "2   женат / замужем                 0      M   сотрудник     0        145885   \n",
      "3   женат / замужем                 0      M   сотрудник     0        267628   \n",
      "4  гражданский брак                 1      F   пенсионер     0        158616   \n",
      "\n",
      "                      purpose   lem_purpose having_children  \n",
      "0               покупка жилья  недвижимость            есть  \n",
      "1     приобретение автомобиля    автомобиль            есть  \n",
      "2               покупка жилья  недвижимость             нет  \n",
      "3  дополнительное образование   образование            есть  \n",
      "4             сыграть свадьбу       свадьба             нет  \n"
     ]
    }
   ],
   "source": [
    "def apply_children(row):\n",
    "    if row['children'] > 0 :\n",
    "        return 'есть'\n",
    "    return 'нет'\n",
    "data['having_children'] = data.apply(apply_children,axis = 1)\n",
    "print(data.head())"
   ]
  },
  {
   "cell_type": "markdown",
   "metadata": {},
   "source": [
    "Введем категорию по доходу, будем ориентироваться на средний доход, дадим выборки ниже среднего и выше среднего для этого вернемся к фильтру по возрасту и типу занятости."
   ]
  },
  {
   "cell_type": "code",
   "execution_count": 48,
   "metadata": {},
   "outputs": [
    {
     "name": "stdout",
     "output_type": "stream",
     "text": [
      "       children  days_employed  dob_years            education  education_id  \\\n",
      "21437         2           1137         28              среднее             1   \n",
      "21438         0            612         29               высшее             0   \n",
      "21439         0            165         26               высшее             0   \n",
      "21440         0           1166         35              среднее             1   \n",
      "21441         0            280         27  неоконченное высшее             2   \n",
      "21442         1            467         28              среднее             1   \n",
      "21443         0            914         42               высшее             0   \n",
      "21444         0            404         42               высшее             0   \n",
      "21445         0         373995         59              среднее             1   \n",
      "21446         1           2351         37       ученая степень             4   \n",
      "21447         1           4529         43              среднее             1   \n",
      "21448         0         343937         67              среднее             1   \n",
      "21449         1           2113         38              среднее             1   \n",
      "21450         3           3112         38              среднее             1   \n",
      "21451         2           1984         40              среднее             1   \n",
      "\n",
      "               family_status  family_status_id gender income_type  debt  \\\n",
      "21437        женат / замужем                 0      F   сотрудник     0   \n",
      "21438       гражданский брак                 1      F   сотрудник     1   \n",
      "21439  Не женат / не замужем                 4      M   компаньон     0   \n",
      "21440        женат / замужем                 0      F   сотрудник     0   \n",
      "21441  Не женат / не замужем                 4      M   компаньон     0   \n",
      "21442        женат / замужем                 0      F   сотрудник     1   \n",
      "21443        женат / замужем                 0      F   компаньон     0   \n",
      "21444       гражданский брак                 1      F   компаньон     0   \n",
      "21445        женат / замужем                 0      F   пенсионер     0   \n",
      "21446              в разводе                 3      M   сотрудник     0   \n",
      "21447       гражданский брак                 1      F   компаньон     0   \n",
      "21448        женат / замужем                 0      F   пенсионер     0   \n",
      "21449       гражданский брак                 1      M   сотрудник     1   \n",
      "21450        женат / замужем                 0      M   сотрудник     1   \n",
      "21451        женат / замужем                 0      F   сотрудник     0   \n",
      "\n",
      "       total_income                                purpose   lem_purpose  \\\n",
      "21437        160134                приобретение автомобиля    автомобиль   \n",
      "21438        140068                покупка жилья для сдачи  недвижимость   \n",
      "21439        147301  получение дополнительного образования   образование   \n",
      "21440        250986                          покупка жилья  недвижимость   \n",
      "21441        355988             строительство недвижимости  недвижимость   \n",
      "21442        109486                  заняться образованием   образование   \n",
      "21443        322807                   покупка своего жилья  недвижимость   \n",
      "21444        178059           на покупку своего автомобиля    автомобиль   \n",
      "21445        153864                   сделка с автомобилем    автомобиль   \n",
      "21446        115949      покупка коммерческой недвижимости  недвижимость   \n",
      "21447        224791                      операции с жильем  недвижимость   \n",
      "21448        155999                   сделка с автомобилем    автомобиль   \n",
      "21449         89672                           недвижимость  недвижимость   \n",
      "21450        244093           на покупку своего автомобиля    автомобиль   \n",
      "21451         82047                  на покупку автомобиля    автомобиль   \n",
      "\n",
      "      having_children category_income  \n",
      "21437            есть   ниже среднего  \n",
      "21438             нет   ниже среднего  \n",
      "21439             нет   ниже среднего  \n",
      "21440             нет   выше среднего  \n",
      "21441             нет   выше среднего  \n",
      "21442            есть   ниже среднего  \n",
      "21443             нет   выше среднего  \n",
      "21444             нет   ниже среднего  \n",
      "21445             нет   выше среднего  \n",
      "21446            есть   ниже среднего  \n",
      "21447            есть   выше среднего  \n",
      "21448             нет   выше среднего  \n",
      "21449            есть   ниже среднего  \n",
      "21450            есть   выше среднего  \n",
      "21451            есть   ниже среднего  \n"
     ]
    }
   ],
   "source": [
    "dob_last = 0\n",
    "data_income_mean = []\n",
    "data_income_mean_columns = ['dob','income_type','mean']\n",
    "for dob in [25,35,45,55,100]:\n",
    "    data_dob = data[(data['dob_years'] >= dob_last) & (data['dob_years'] < dob)]\n",
    "    for types in data_dob['income_type'].unique():\n",
    "        data_income_mean.append([dob,types,data_dob[data_dob['income_type'] == types]['total_income'].mean()])\n",
    "    dob_last = dob\n",
    "df = pd.DataFrame(data = data_income_mean, columns = data_income_mean_columns )\n",
    "def category_total_income(row):\n",
    "    types = row['income_type']\n",
    "    if row['dob_years'] < 25:\n",
    "        for string in data_income_mean:\n",
    "            if string[0]== 25 and string[1]== types and string[2]>row['total_income']:\n",
    "                return 'ниже среднего'\n",
    "            if string[0]== 25 and string[1]== types and string[2]<row['total_income']:\n",
    "                return 'выше среднего'\n",
    "    elif row['dob_years'] < 35:\n",
    "        for string in data_income_mean:\n",
    "            if string[0]==35 and string[1]==types and string[2]>row['total_income']:\n",
    "                return 'ниже среднего'\n",
    "            if string[0]==35 and string[1]==types and string[2]<row['total_income']:\n",
    "                return 'выше среднего'\n",
    "    elif row['dob_years'] < 45:\n",
    "        for string in data_income_mean:\n",
    "            if string[0]==45 and string[1]==types and string[2]>row['total_income']:\n",
    "                return 'ниже среднего'\n",
    "            if string[0]==45 and string[1]==types and string[2]<row['total_income']:\n",
    "                return 'выше среднего'\n",
    "    elif row['dob_years'] < 55:\n",
    "        for string in data_income_mean:\n",
    "            if string[0]==55 and string[1]==types and string[2]>row['total_income']:\n",
    "                return 'ниже среднего'\n",
    "            if string[0]==55 and string[1]==types and string[2]<row['total_income']:\n",
    "                return 'выше среднего'\n",
    "    elif row['dob_years'] > 55:\n",
    "        for string in data_income_mean:\n",
    "            if string[0]==100 and string[1]==types and string[2]>row['total_income']:\n",
    "                return 'ниже среднего'\n",
    "            if string[0]==100 and string[1]==types and string[2]<row['total_income']:\n",
    "                return 'выше среднего'\n",
    "    #return 'error'\n",
    "            \n",
    "data['category_income'] = data.apply(category_total_income,axis = 1)\n",
    "print(data.tail(15))"
   ]
  },
  {
   "cell_type": "code",
   "execution_count": 49,
   "metadata": {},
   "outputs": [
    {
     "name": "stdout",
     "output_type": "stream",
     "text": [
      "ниже среднего    12834\n",
      "выше среднего     8168\n",
      "Name: category_income, dtype: int64\n"
     ]
    }
   ],
   "source": [
    "print(data['category_income'].value_counts())"
   ]
  },
  {
   "cell_type": "markdown",
   "metadata": {},
   "source": [
    "**Вывод**"
   ]
  },
  {
   "cell_type": "markdown",
   "metadata": {},
   "source": [
    "Мы добавили категориальные признаки, при помощи которых можно ответить на поставленные вопросы."
   ]
  },
  {
   "cell_type": "markdown",
   "metadata": {},
   "source": [
    "## Шаг 3. Ответьте на вопросы"
   ]
  },
  {
   "cell_type": "markdown",
   "metadata": {},
   "source": [
    "- Есть ли зависимость между наличием детей и возвратом кредита в срок?"
   ]
  },
  {
   "cell_type": "markdown",
   "metadata": {},
   "source": [
    "Для ответа на этот и следующие вопросы вычислим конверсии."
   ]
  },
  {
   "cell_type": "code",
   "execution_count": 50,
   "metadata": {},
   "outputs": [
    {
     "name": "stdout",
     "output_type": "stream",
     "text": [
      "having_children  debt\n",
      "есть             0        6685\n",
      "                 1         678\n",
      "нет              0       13026\n",
      "                 1        1063\n",
      "Name: debt, dtype: int64\n",
      "Клиентов с детьми вернувшись кредит в срок в 10 раз больше\n",
      "Клиентов без детей вернувшись кредит в срок в 12 раз больше\n"
     ]
    }
   ],
   "source": [
    "children_debt = data.groupby('having_children')['debt'].value_counts()\n",
    "\n",
    "print(children_debt)\n",
    "\n",
    "conv_children_debt = children_debt[1] / len(data['debt'])\n",
    "conv_children_nodebt = children_debt[0] / len(data['debt'])\n",
    "conv_nochildren_debt = children_debt[3] / len(data['debt'])\n",
    "conv_nochildren_nodebt = children_debt[2] / len(data['debt'])\n",
    "print('Клиентов с детьми вернувшись кредит в срок в {:.0f} раз больше'.format(conv_children_nodebt / conv_children_debt))\n",
    "print('Клиентов без детей вернувшись кредит в срок в {:.0f} раз больше'.format(conv_nochildren_nodebt / conv_nochildren_debt))"
   ]
  },
  {
   "cell_type": "markdown",
   "metadata": {},
   "source": [
    "**Вывод**"
   ]
  },
  {
   "cell_type": "markdown",
   "metadata": {},
   "source": [
    "Можно сделать вывод, что клиенты без детей возвращают кредит в срок чаще."
   ]
  },
  {
   "cell_type": "markdown",
   "metadata": {},
   "source": [
    "- Есть ли зависимость между семейным положением и возвратом кредита в срок?"
   ]
  },
  {
   "cell_type": "code",
   "execution_count": 51,
   "metadata": {},
   "outputs": [
    {
     "name": "stdout",
     "output_type": "stream",
     "text": [
      "family_status          debt\n",
      "Не женат / не замужем  0        2536\n",
      "                       1         274\n",
      "в разводе              0        1110\n",
      "                       1          85\n",
      "вдовец / вдова         0         896\n",
      "                       1          63\n",
      "гражданский брак       0        3762\n",
      "                       1         388\n",
      "женат / замужем        0       11407\n",
      "                       1         931\n",
      "Name: debt, dtype: int64\n",
      "Доля не женатых клиентов вернувших кредит в срок в 9 раз больше\n",
      "Доля разведенных клиентов вернувших кредит в срок в 13 раз больше\n",
      "Доля клиентов в гражданском браке вернувших кредит в срок в 10 раз больше\n",
      "Доля женатых клиентов вернувших кредит в срок в 12 раз больше\n",
      "Доля клиентов вдова/вдовец вернувших кредит в срок в 14 раз больше\n"
     ]
    }
   ],
   "source": [
    "family_debt = data.groupby('family_status')['debt'].value_counts()\n",
    "print(family_debt)\n",
    "conv_holost_nodebt = family_debt[0] / len(data['family_status'])\n",
    "conv_holost_debt = family_debt[1] / len(data['family_status'])\n",
    "conv_razvod_nodebt = family_debt[2] / len(data['family_status'])\n",
    "conv_razvod_debt = family_debt[3] / len(data['family_status'])\n",
    "conv_widow_nodebt = family_debt[4] / len(data['family_status'])\n",
    "conv_widow_debt = family_debt[5] / len(data['family_status'])\n",
    "conv_brak_nodebt = family_debt[6] / len(data['family_status'])\n",
    "conv_brak_debt = family_debt[7] / len(data['family_status'])\n",
    "conv_marryed_nodebt = family_debt[8] / len(data['family_status'])\n",
    "conv_marryed_debt = family_debt[9] / len(data['family_status'])\n",
    "\n",
    "print('Доля не женатых клиентов вернувших кредит в срок в {:.0f} раз больше'.format(conv_holost_nodebt / conv_holost_debt))\n",
    "print('Доля разведенных клиентов вернувших кредит в срок в {:.0f} раз больше'.format(conv_razvod_nodebt / conv_razvod_debt))\n",
    "print('Доля клиентов в гражданском браке вернувших кредит в срок в {:.0f} раз больше'.format(conv_brak_nodebt / conv_brak_debt))\n",
    "print('Доля женатых клиентов вернувших кредит в срок в {:.0f} раз больше'.format(conv_marryed_nodebt / conv_marryed_debt))\n",
    "print('Доля клиентов вдова/вдовец вернувших кредит в срок в {:.0f} раз больше'.format(conv_widow_nodebt / conv_widow_debt))"
   ]
  },
  {
   "cell_type": "markdown",
   "metadata": {},
   "source": [
    "**Вывод**"
   ]
  },
  {
   "cell_type": "markdown",
   "metadata": {},
   "source": [
    "Клиенты с семейным положением вдова/вдовец, чаще возвращают кредит в срок."
   ]
  },
  {
   "cell_type": "markdown",
   "metadata": {},
   "source": [
    "- Есть ли зависимость между уровнем дохода и возвратом кредита в срок?"
   ]
  },
  {
   "cell_type": "code",
   "execution_count": 52,
   "metadata": {},
   "outputs": [
    {
     "name": "stdout",
     "output_type": "stream",
     "text": [
      "category_income  debt\n",
      "выше среднего    0        7554\n",
      "                 1         614\n",
      "ниже среднего    0       11732\n",
      "                 1        1102\n",
      "Name: debt, dtype: int64\n",
      "Доля клиентов с доходом ниже среднего, вернувших кредит в срок в 11 раз больше\n",
      "Доля клиентов с доходом выше среднего, вернувших кредит в срок в 12 раз больше\n"
     ]
    }
   ],
   "source": [
    "category_debt = data.groupby('category_income')['debt'].value_counts()\n",
    "print(category_debt)\n",
    "conv_up_nodebt = category_debt[0] / len(data['category_income'])\n",
    "conv_up_debt = category_debt [1] / len(data['category_income'])\n",
    "conv_down_nodebt = category_debt[2] / len(data['category_income'])\n",
    "conv_down_debt = category_debt [3] / len(data['category_income'])\n",
    "print('Доля клиентов с доходом ниже среднего, вернувших кредит в срок в {:.0f} раз больше'.format(conv_down_nodebt / conv_down_debt))\n",
    "print('Доля клиентов с доходом выше среднего, вернувших кредит в срок в {:.0f} раз больше'.format(conv_up_nodebt / conv_up_debt))\n",
    "#print('Конверсия для клиентов без долгов с доходом ниже среднего: {:.2%}'.format(conv_nizhe))\n",
    "#print('Конверсия для клиентов без долгов с доходом выше среднего: {:.2%}'.format(conv_vyshe))\n"
   ]
  },
  {
   "cell_type": "markdown",
   "metadata": {},
   "source": [
    "**Вывод**"
   ]
  },
  {
   "cell_type": "markdown",
   "metadata": {},
   "source": [
    "Клиенты с доходом выше среднего имеют меньше долгов."
   ]
  },
  {
   "cell_type": "markdown",
   "metadata": {},
   "source": [
    "- Как разные цели кредита влияют на его возврат в срок?"
   ]
  },
  {
   "cell_type": "code",
   "execution_count": 53,
   "metadata": {},
   "outputs": [
    {
     "name": "stdout",
     "output_type": "stream",
     "text": [
      "lem_purpose   debt\n",
      "автомобиль    0        3903\n",
      "              1         403\n",
      "недвижимость  0       10027\n",
      "              1         782\n",
      "образование   0        3643\n",
      "              1         370\n",
      "свадьба       0        2138\n",
      "              1         186\n",
      "Name: debt, dtype: int64\n",
      "Доля клиентов, бравших кредит на авто, вернувших кредит в срок в 10 раз больше\n",
      "Доля клиентов, бравших кредит на недвижимость, вернувших кредит в срок в 13 раз больше\n",
      "Доля клиентов, бравших кредит на образование, вернувших кредит в срок в 10 раз больше\n",
      "Доля клиентов, бравших кредит на свадьбу, вернувших кредит в срок в 11 раз больше\n"
     ]
    }
   ],
   "source": [
    "purpose_debt = data.groupby('lem_purpose')['debt'].value_counts()\n",
    "print(purpose_debt)\n",
    "conv_avto_nodebt = purpose_debt[0] / len(data['lem_purpose'])\n",
    "conv_avto_debt = purpose_debt[1] / len(data['lem_purpose'])\n",
    "conv_nedv_nodebt = purpose_debt[2] / len(data['lem_purpose'])\n",
    "conv_nedv_debt = purpose_debt[3] / len(data['lem_purpose'])\n",
    "conv_obraz_nodebt = purpose_debt[4] / len(data['lem_purpose'])\n",
    "conv_obraz_debt = purpose_debt[5] / len(data['lem_purpose'])\n",
    "conv_mar_nodebt = purpose_debt[6] / len(data['lem_purpose'])\n",
    "conv_mar_debt = purpose_debt[7] / len(data['lem_purpose'])\n",
    "print('Доля клиентов, бравших кредит на авто, вернувших кредит в срок в {:.0f} раз больше'.format(conv_avto_nodebt / conv_avto_debt))\n",
    "print('Доля клиентов, бравших кредит на недвижимость, вернувших кредит в срок в {:.0f} раз больше'.format(conv_nedv_nodebt / conv_nedv_debt))\n",
    "print('Доля клиентов, бравших кредит на образование, вернувших кредит в срок в {:.0f} раз больше'.format(conv_obraz_nodebt / conv_obraz_debt))\n",
    "print('Доля клиентов, бравших кредит на свадьбу, вернувших кредит в срок в {:.0f} раз больше'.format(conv_mar_nodebt / conv_mar_debt))\n"
   ]
  },
  {
   "cell_type": "markdown",
   "metadata": {},
   "source": [
    "**Вывод**"
   ]
  },
  {
   "cell_type": "markdown",
   "metadata": {},
   "source": [
    "Клиенты бравшие кредит на недвижимость возвращали долги чаще остальных, а люди, которые брали кредит на образование и авто, возвращали одинаково."
   ]
  },
  {
   "cell_type": "markdown",
   "metadata": {},
   "source": [
    "## Шаг 4. Общий вывод"
   ]
  },
  {
   "cell_type": "markdown",
   "metadata": {},
   "source": [
    "Провнализировали данные, нашли ошибки в предоставленных данных, заполнили пропуски в данных, заменили тип данных. Ответили на поставленные вопросы, зависимость прослеживается между возвратом кредита и доходом, а также целью кредита."
   ]
  }
 ],
 "metadata": {
  "ExecuteTimeLog": [
   {
    "duration": 835,
    "start_time": "2021-11-04T13:35:23.372Z"
   },
   {
    "duration": 5,
    "start_time": "2021-11-04T13:35:24.210Z"
   },
   {
    "duration": 15,
    "start_time": "2021-11-04T13:35:24.218Z"
   },
   {
    "duration": 39,
    "start_time": "2021-11-04T13:35:24.236Z"
   },
   {
    "duration": 9,
    "start_time": "2021-11-04T13:35:24.278Z"
   },
   {
    "duration": 5,
    "start_time": "2021-11-04T13:35:24.290Z"
   },
   {
    "duration": 10,
    "start_time": "2021-11-04T13:35:24.297Z"
   },
   {
    "duration": 9,
    "start_time": "2021-11-04T13:35:24.312Z"
   },
   {
    "duration": 48,
    "start_time": "2021-11-04T13:35:24.324Z"
   },
   {
    "duration": 9,
    "start_time": "2021-11-04T13:35:24.375Z"
   },
   {
    "duration": 9,
    "start_time": "2021-11-04T13:35:24.386Z"
   },
   {
    "duration": 8,
    "start_time": "2021-11-04T13:35:24.397Z"
   },
   {
    "duration": 65,
    "start_time": "2021-11-04T13:35:24.407Z"
   },
   {
    "duration": 9,
    "start_time": "2021-11-04T13:35:24.475Z"
   },
   {
    "duration": 6,
    "start_time": "2021-11-04T13:35:24.487Z"
   },
   {
    "duration": 12,
    "start_time": "2021-11-04T13:35:24.496Z"
   },
   {
    "duration": 17,
    "start_time": "2021-11-04T13:35:24.511Z"
   },
   {
    "duration": 54,
    "start_time": "2021-11-04T13:35:24.530Z"
   },
   {
    "duration": 26,
    "start_time": "2021-11-04T13:35:24.587Z"
   },
   {
    "duration": 13,
    "start_time": "2021-11-04T13:35:24.616Z"
   },
   {
    "duration": 34,
    "start_time": "2021-11-04T13:35:24.669Z"
   },
   {
    "duration": 749,
    "start_time": "2021-11-04T13:35:24.706Z"
   },
   {
    "duration": 14,
    "start_time": "2021-11-04T13:35:25.461Z"
   },
   {
    "duration": 6,
    "start_time": "2021-11-04T13:35:25.479Z"
   },
   {
    "duration": 13,
    "start_time": "2021-11-04T13:35:25.487Z"
   },
   {
    "duration": 7627,
    "start_time": "2021-11-04T13:35:25.503Z"
   },
   {
    "duration": 16,
    "start_time": "2021-11-04T13:35:33.133Z"
   },
   {
    "duration": 21,
    "start_time": "2021-11-04T13:35:33.167Z"
   },
   {
    "duration": 3,
    "start_time": "2021-11-04T13:35:33.191Z"
   },
   {
    "duration": 337,
    "start_time": "2021-11-04T13:35:33.196Z"
   },
   {
    "duration": 30,
    "start_time": "2021-11-04T13:35:33.536Z"
   },
   {
    "duration": 7,
    "start_time": "2021-11-04T13:35:33.569Z"
   },
   {
    "duration": 8,
    "start_time": "2021-11-04T13:35:33.579Z"
   },
   {
    "duration": 16,
    "start_time": "2021-11-04T13:35:33.590Z"
   },
   {
    "duration": 2,
    "start_time": "2021-11-04T13:35:33.609Z"
   },
   {
    "duration": 15,
    "start_time": "2021-11-04T13:35:33.613Z"
   },
   {
    "duration": 13,
    "start_time": "2021-11-04T13:35:33.668Z"
   },
   {
    "duration": 8,
    "start_time": "2021-11-04T13:35:33.684Z"
   },
   {
    "duration": 24,
    "start_time": "2021-11-04T13:35:33.694Z"
   },
   {
    "duration": 87,
    "start_time": "2021-11-04T13:35:33.720Z"
   },
   {
    "duration": 23,
    "start_time": "2021-11-04T13:35:33.809Z"
   },
   {
    "duration": 47,
    "start_time": "2021-11-04T13:35:33.834Z"
   },
   {
    "duration": 52,
    "start_time": "2021-11-04T13:35:33.884Z"
   },
   {
    "duration": 3,
    "start_time": "2021-11-04T13:35:33.939Z"
   },
   {
    "duration": 948,
    "start_time": "2021-11-04T13:35:33.944Z"
   },
   {
    "duration": 5242,
    "start_time": "2021-11-04T13:35:34.895Z"
   },
   {
    "duration": 416,
    "start_time": "2021-11-04T13:35:40.140Z"
   },
   {
    "duration": 1566,
    "start_time": "2021-11-04T13:35:40.558Z"
   },
   {
    "duration": 8,
    "start_time": "2021-11-04T13:35:42.127Z"
   },
   {
    "duration": 39,
    "start_time": "2021-11-04T13:35:42.138Z"
   },
   {
    "duration": 19,
    "start_time": "2021-11-04T13:35:42.179Z"
   },
   {
    "duration": 14,
    "start_time": "2021-11-04T13:35:42.200Z"
   },
   {
    "duration": 62,
    "start_time": "2021-11-04T13:35:42.216Z"
   }
  ],
  "kernelspec": {
   "display_name": "Python 3",
   "language": "python",
   "name": "python3"
  },
  "language_info": {
   "codemirror_mode": {
    "name": "ipython",
    "version": 3
   },
   "file_extension": ".py",
   "mimetype": "text/x-python",
   "name": "python",
   "nbconvert_exporter": "python",
   "pygments_lexer": "ipython3",
   "version": "3.8.5"
  },
  "toc": {
   "base_numbering": 1,
   "nav_menu": {},
   "number_sections": true,
   "sideBar": true,
   "skip_h1_title": true,
   "title_cell": "Table of Contents",
   "title_sidebar": "Contents",
   "toc_cell": false,
   "toc_position": {
    "height": "calc(100% - 180px)",
    "left": "10px",
    "top": "150px",
    "width": "165px"
   },
   "toc_section_display": true,
   "toc_window_display": true
  }
 },
 "nbformat": 4,
 "nbformat_minor": 2
}
