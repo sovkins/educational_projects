{
 "cells": [
  {
   "cell_type": "markdown",
   "metadata": {},
   "source": [
    "# Исследование объявлений о продаже квартир\n",
    "\n",
    "В вашем распоряжении данные сервиса Яндекс.Недвижимость — архив объявлений о продаже квартир в Санкт-Петербурге и соседних населённых пунктах за несколько лет. Нужно научиться определять рыночную стоимость объектов недвижимости. Ваша задача — установить параметры. Это позволит построить автоматизированную систему: она отследит аномалии и мошенническую деятельность. \n",
    "\n",
    "По каждой квартире на продажу доступны два вида данных. Первые вписаны пользователем, вторые получены автоматически на основе картографических данных. Например, расстояние до центра, аэропорта, ближайшего парка и водоёма. "
   ]
  },
  {
   "cell_type": "markdown",
   "metadata": {},
   "source": [
    "## Изучение данных из файла"
   ]
  },
  {
   "cell_type": "code",
   "execution_count": 1,
   "metadata": {},
   "outputs": [
    {
     "name": "stdout",
     "output_type": "stream",
     "text": [
      "<class 'pandas.core.frame.DataFrame'>\n",
      "RangeIndex: 23699 entries, 0 to 23698\n",
      "Data columns (total 22 columns):\n",
      "total_images            23699 non-null int64\n",
      "last_price              23699 non-null float64\n",
      "total_area              23699 non-null float64\n",
      "first_day_exposition    23699 non-null object\n",
      "rooms                   23699 non-null int64\n",
      "ceiling_height          14504 non-null float64\n",
      "floors_total            23613 non-null float64\n",
      "living_area             21796 non-null float64\n",
      "floor                   23699 non-null int64\n",
      "is_apartment            2775 non-null object\n",
      "studio                  23699 non-null bool\n",
      "open_plan               23699 non-null bool\n",
      "kitchen_area            21421 non-null float64\n",
      "balcony                 12180 non-null float64\n",
      "locality_name           23650 non-null object\n",
      "airports_nearest        18157 non-null float64\n",
      "cityCenters_nearest     18180 non-null float64\n",
      "parks_around3000        18181 non-null float64\n",
      "parks_nearest           8079 non-null float64\n",
      "ponds_around3000        18181 non-null float64\n",
      "ponds_nearest           9110 non-null float64\n",
      "days_exposition         20518 non-null float64\n",
      "dtypes: bool(2), float64(14), int64(3), object(3)\n",
      "memory usage: 3.7+ MB\n"
     ]
    }
   ],
   "source": [
    "import pandas as pd\n",
    "pd.set_option(\"display.max_columns\", 99)\n",
    "data=pd.read_csv('/datasets/real_estate_data.csv',sep='\\t')\n",
    "\n",
    "data.info()"
   ]
  },
  {
   "cell_type": "code",
   "execution_count": 2,
   "metadata": {},
   "outputs": [
    {
     "name": "stdout",
     "output_type": "stream",
     "text": [
      "   total_images  last_price  total_area first_day_exposition  rooms  \\\n",
      "0            20  13000000.0       108.0  2019-03-07T00:00:00      3   \n",
      "1             7   3350000.0        40.4  2018-12-04T00:00:00      1   \n",
      "2            10   5196000.0        56.0  2015-08-20T00:00:00      2   \n",
      "3             0  64900000.0       159.0  2015-07-24T00:00:00      3   \n",
      "4             2  10000000.0       100.0  2018-06-19T00:00:00      2   \n",
      "\n",
      "   ceiling_height  floors_total  living_area  floor is_apartment  studio  \\\n",
      "0            2.70          16.0         51.0      8          NaN   False   \n",
      "1             NaN          11.0         18.6      1          NaN   False   \n",
      "2             NaN           5.0         34.3      4          NaN   False   \n",
      "3             NaN          14.0          NaN      9          NaN   False   \n",
      "4            3.03          14.0         32.0     13          NaN   False   \n",
      "\n",
      "   open_plan  kitchen_area  balcony    locality_name  airports_nearest  \\\n",
      "0      False          25.0      NaN  Санкт-Петербург           18863.0   \n",
      "1      False          11.0      2.0   посёлок Шушары           12817.0   \n",
      "2      False           8.3      0.0  Санкт-Петербург           21741.0   \n",
      "3      False           NaN      0.0  Санкт-Петербург           28098.0   \n",
      "4      False          41.0      NaN  Санкт-Петербург           31856.0   \n",
      "\n",
      "   cityCenters_nearest  parks_around3000  parks_nearest  ponds_around3000  \\\n",
      "0              16028.0               1.0          482.0               2.0   \n",
      "1              18603.0               0.0            NaN               0.0   \n",
      "2              13933.0               1.0           90.0               2.0   \n",
      "3               6800.0               2.0           84.0               3.0   \n",
      "4               8098.0               2.0          112.0               1.0   \n",
      "\n",
      "   ponds_nearest  days_exposition  \n",
      "0          755.0              NaN  \n",
      "1            NaN             81.0  \n",
      "2          574.0            558.0  \n",
      "3          234.0            424.0  \n",
      "4           48.0            121.0  \n"
     ]
    }
   ],
   "source": [
    "print(data.head())"
   ]
  },
  {
   "cell_type": "markdown",
   "metadata": {},
   "source": [
    "### Вывод"
   ]
  },
  {
   "cell_type": "markdown",
   "metadata": {},
   "source": [
    "На данном этапе мы видим, что данные не готовы для анализа, есть пропущенные значения и фомат даты такой тоже не очень удобно воспринимать. Попрубуем разобраться с пропущенными значениями и поискать другие ошибки, а также дубликаты"
   ]
  },
  {
   "cell_type": "markdown",
   "metadata": {},
   "source": [
    "## Предобработка данных"
   ]
  },
  {
   "cell_type": "markdown",
   "metadata": {},
   "source": [
    "Для начала проанализируем каждую колнку на пропуски и на наличие ошибок, не обнаруженных при первом этапе."
   ]
  },
  {
   "cell_type": "code",
   "execution_count": 3,
   "metadata": {},
   "outputs": [
    {
     "name": "stdout",
     "output_type": "stream",
     "text": [
      "       total_images  last_price  total_area first_day_exposition  rooms  \\\n",
      "21085             0   7000000.0        34.7  2018-09-23T00:00:00      1   \n",
      "\n",
      "       ceiling_height  floors_total  living_area  floor is_apartment  studio  \\\n",
      "21085             2.7           9.0         19.8      3          NaN   False   \n",
      "\n",
      "       open_plan  kitchen_area  balcony    locality_name  airports_nearest  \\\n",
      "21085      False           6.0      2.0  Санкт-Петербург               0.0   \n",
      "\n",
      "       cityCenters_nearest  parks_around3000  parks_nearest  ponds_around3000  \\\n",
      "21085              22801.0               0.0            NaN               0.0   \n",
      "\n",
      "       ponds_nearest  days_exposition  \n",
      "21085            NaN             60.0  \n"
     ]
    }
   ],
   "source": [
    "print(data[data['airports_nearest']<=0])"
   ]
  },
  {
   "cell_type": "code",
   "execution_count": 4,
   "metadata": {},
   "outputs": [
    {
     "name": "stdout",
     "output_type": "stream",
     "text": [
      "1.0    4195\n",
      "0.0    3758\n",
      "2.0    3659\n",
      "5.0     304\n",
      "4.0     183\n",
      "3.0      81\n",
      "Name: balcony, dtype: int64\n"
     ]
    }
   ],
   "source": [
    "print(data['balcony'].value_counts())"
   ]
  },
  {
   "cell_type": "code",
   "execution_count": 5,
   "metadata": {},
   "outputs": [
    {
     "name": "stdout",
     "output_type": "stream",
     "text": [
      "Empty DataFrame\n",
      "Columns: [total_images, last_price, total_area, first_day_exposition, rooms, ceiling_height, floors_total, living_area, floor, is_apartment, studio, open_plan, kitchen_area, balcony, locality_name, airports_nearest, cityCenters_nearest, parks_around3000, parks_nearest, ponds_around3000, ponds_nearest, days_exposition]\n",
      "Index: []\n"
     ]
    }
   ],
   "source": [
    "print(data[data['ceiling_height']<=0])"
   ]
  },
  {
   "cell_type": "code",
   "execution_count": 6,
   "metadata": {},
   "outputs": [
    {
     "name": "stdout",
     "output_type": "stream",
     "text": [
      "Empty DataFrame\n",
      "Columns: [total_images, last_price, total_area, first_day_exposition, rooms, ceiling_height, floors_total, living_area, floor, is_apartment, studio, open_plan, kitchen_area, balcony, locality_name, airports_nearest, cityCenters_nearest, parks_around3000, parks_nearest, ponds_around3000, ponds_nearest, days_exposition]\n",
      "Index: []\n"
     ]
    }
   ],
   "source": [
    "print(data[data['days_exposition']<=0])"
   ]
  },
  {
   "cell_type": "code",
   "execution_count": 7,
   "metadata": {},
   "outputs": [
    {
     "name": "stdout",
     "output_type": "stream",
     "text": [
      "2     3368\n",
      "3     3073\n",
      "1     2917\n",
      "4     2804\n",
      "5     2621\n",
      "6     1305\n",
      "7     1218\n",
      "8     1083\n",
      "9     1051\n",
      "10     687\n",
      "12     526\n",
      "11     523\n",
      "13     379\n",
      "15     343\n",
      "14     337\n",
      "16     315\n",
      "17     227\n",
      "18     178\n",
      "19     147\n",
      "21     125\n",
      "22     113\n",
      "20     110\n",
      "23     100\n",
      "24      63\n",
      "25      46\n",
      "26      24\n",
      "27      10\n",
      "28       1\n",
      "33       1\n",
      "29       1\n",
      "30       1\n",
      "32       1\n",
      "31       1\n",
      "Name: floor, dtype: int64\n"
     ]
    }
   ],
   "source": [
    "print(data['floor'].value_counts())"
   ]
  },
  {
   "cell_type": "code",
   "execution_count": 8,
   "metadata": {},
   "outputs": [
    {
     "name": "stdout",
     "output_type": "stream",
     "text": [
      "5.0     5788\n",
      "9.0     3761\n",
      "16.0    1376\n",
      "12.0    1362\n",
      "4.0     1200\n",
      "10.0    1174\n",
      "25.0    1075\n",
      "6.0      914\n",
      "17.0     833\n",
      "3.0      668\n",
      "7.0      592\n",
      "14.0     553\n",
      "18.0     505\n",
      "24.0     469\n",
      "8.0      390\n",
      "2.0      383\n",
      "15.0     365\n",
      "23.0     352\n",
      "19.0     339\n",
      "22.0     286\n",
      "20.0     271\n",
      "13.0     229\n",
      "11.0     203\n",
      "27.0     164\n",
      "21.0     158\n",
      "26.0     124\n",
      "1.0       25\n",
      "35.0      24\n",
      "28.0      21\n",
      "36.0       3\n",
      "29.0       1\n",
      "60.0       1\n",
      "33.0       1\n",
      "52.0       1\n",
      "37.0       1\n",
      "34.0       1\n",
      "Name: floors_total, dtype: int64\n"
     ]
    }
   ],
   "source": [
    "print(data['floors_total'].value_counts())"
   ]
  },
  {
   "cell_type": "code",
   "execution_count": 9,
   "metadata": {},
   "outputs": [
    {
     "name": "stdout",
     "output_type": "stream",
     "text": [
      "False    2725\n",
      "True       50\n",
      "Name: is_apartment, dtype: int64\n"
     ]
    }
   ],
   "source": [
    "print(data['is_apartment'].value_counts())"
   ]
  },
  {
   "cell_type": "code",
   "execution_count": 10,
   "metadata": {},
   "outputs": [
    {
     "name": "stdout",
     "output_type": "stream",
     "text": [
      "Empty DataFrame\n",
      "Columns: [total_images, last_price, total_area, first_day_exposition, rooms, ceiling_height, floors_total, living_area, floor, is_apartment, studio, open_plan, kitchen_area, balcony, locality_name, airports_nearest, cityCenters_nearest, parks_around3000, parks_nearest, ponds_around3000, ponds_nearest, days_exposition]\n",
      "Index: []\n"
     ]
    }
   ],
   "source": [
    "print(data[data['kitchen_area']<=0])"
   ]
  },
  {
   "cell_type": "code",
   "execution_count": 11,
   "metadata": {},
   "outputs": [
    {
     "name": "stdout",
     "output_type": "stream",
     "text": [
      "Empty DataFrame\n",
      "Columns: [total_images, last_price, total_area, first_day_exposition, rooms, ceiling_height, floors_total, living_area, floor, is_apartment, studio, open_plan, kitchen_area, balcony, locality_name, airports_nearest, cityCenters_nearest, parks_around3000, parks_nearest, ponds_around3000, ponds_nearest, days_exposition]\n",
      "Index: []\n"
     ]
    }
   ],
   "source": [
    "print(data[data['last_price']<=0])"
   ]
  },
  {
   "cell_type": "code",
   "execution_count": 12,
   "metadata": {},
   "outputs": [
    {
     "name": "stdout",
     "output_type": "stream",
     "text": [
      "Empty DataFrame\n",
      "Columns: [total_images, last_price, total_area, first_day_exposition, rooms, ceiling_height, floors_total, living_area, floor, is_apartment, studio, open_plan, kitchen_area, balcony, locality_name, airports_nearest, cityCenters_nearest, parks_around3000, parks_nearest, ponds_around3000, ponds_nearest, days_exposition]\n",
      "Index: []\n"
     ]
    }
   ],
   "source": [
    "print(data[data['living_area']<=0])"
   ]
  },
  {
   "cell_type": "code",
   "execution_count": 13,
   "metadata": {},
   "outputs": [
    {
     "name": "stdout",
     "output_type": "stream",
     "text": [
      "Санкт-Петербург                               15721\n",
      "посёлок Мурино                                  522\n",
      "посёлок Шушары                                  440\n",
      "Всеволожск                                      398\n",
      "Пушкин                                          369\n",
      "                                              ...  \n",
      "деревня Старое Хинколово                          1\n",
      "коттеджный поселок Кивеннапа Север                1\n",
      "посёлок при железнодорожной станции Вещево        1\n",
      "деревня Хапо-Ое                                   1\n",
      "деревня Раздолье                                  1\n",
      "Name: locality_name, Length: 364, dtype: int64\n"
     ]
    }
   ],
   "source": [
    "print(data['locality_name'].value_counts())"
   ]
  },
  {
   "cell_type": "code",
   "execution_count": 14,
   "metadata": {},
   "outputs": [
    {
     "name": "stdout",
     "output_type": "stream",
     "text": [
      "False    23632\n",
      "True        67\n",
      "Name: open_plan, dtype: int64\n"
     ]
    }
   ],
   "source": [
    "print(data['open_plan'].value_counts())"
   ]
  },
  {
   "cell_type": "code",
   "execution_count": 15,
   "metadata": {},
   "outputs": [
    {
     "name": "stdout",
     "output_type": "stream",
     "text": [
      "0.0    10106\n",
      "1.0     5681\n",
      "2.0     1747\n",
      "3.0      647\n",
      "Name: parks_around3000, dtype: int64\n"
     ]
    }
   ],
   "source": [
    "print(data['parks_around3000'].value_counts())"
   ]
  },
  {
   "cell_type": "code",
   "execution_count": 16,
   "metadata": {},
   "outputs": [
    {
     "name": "stdout",
     "output_type": "stream",
     "text": [
      "Empty DataFrame\n",
      "Columns: [total_images, last_price, total_area, first_day_exposition, rooms, ceiling_height, floors_total, living_area, floor, is_apartment, studio, open_plan, kitchen_area, balcony, locality_name, airports_nearest, cityCenters_nearest, parks_around3000, parks_nearest, ponds_around3000, ponds_nearest, days_exposition]\n",
      "Index: []\n"
     ]
    }
   ],
   "source": [
    "print(data[data['parks_nearest']<=0])"
   ]
  },
  {
   "cell_type": "code",
   "execution_count": 17,
   "metadata": {},
   "outputs": [
    {
     "name": "stdout",
     "output_type": "stream",
     "text": [
      "0.0    9071\n",
      "1.0    5717\n",
      "2.0    1892\n",
      "3.0    1501\n",
      "Name: ponds_around3000, dtype: int64\n"
     ]
    }
   ],
   "source": [
    "print(data['ponds_around3000'].value_counts())"
   ]
  },
  {
   "cell_type": "code",
   "execution_count": 18,
   "metadata": {},
   "outputs": [
    {
     "name": "stdout",
     "output_type": "stream",
     "text": [
      "Empty DataFrame\n",
      "Columns: [total_images, last_price, total_area, first_day_exposition, rooms, ceiling_height, floors_total, living_area, floor, is_apartment, studio, open_plan, kitchen_area, balcony, locality_name, airports_nearest, cityCenters_nearest, parks_around3000, parks_nearest, ponds_around3000, ponds_nearest, days_exposition]\n",
      "Index: []\n"
     ]
    }
   ],
   "source": [
    "print(data[data['ponds_nearest']<=0])"
   ]
  },
  {
   "cell_type": "code",
   "execution_count": 19,
   "metadata": {},
   "outputs": [
    {
     "name": "stdout",
     "output_type": "stream",
     "text": [
      "1     8047\n",
      "2     7940\n",
      "3     5814\n",
      "4     1180\n",
      "5      326\n",
      "0      197\n",
      "6      105\n",
      "7       59\n",
      "8       12\n",
      "9        8\n",
      "10       3\n",
      "14       2\n",
      "11       2\n",
      "19       1\n",
      "12       1\n",
      "16       1\n",
      "15       1\n",
      "Name: rooms, dtype: int64\n"
     ]
    }
   ],
   "source": [
    "print(data['rooms'].value_counts())"
   ]
  },
  {
   "cell_type": "code",
   "execution_count": 20,
   "metadata": {},
   "outputs": [
    {
     "name": "stdout",
     "output_type": "stream",
     "text": [
      "False    23550\n",
      "True       149\n",
      "Name: studio, dtype: int64\n"
     ]
    }
   ],
   "source": [
    "print(data['studio'].value_counts())"
   ]
  },
  {
   "cell_type": "code",
   "execution_count": 21,
   "metadata": {},
   "outputs": [
    {
     "name": "stdout",
     "output_type": "stream",
     "text": [
      "Empty DataFrame\n",
      "Columns: [total_images, last_price, total_area, first_day_exposition, rooms, ceiling_height, floors_total, living_area, floor, is_apartment, studio, open_plan, kitchen_area, balcony, locality_name, airports_nearest, cityCenters_nearest, parks_around3000, parks_nearest, ponds_around3000, ponds_nearest, days_exposition]\n",
      "Index: []\n"
     ]
    }
   ],
   "source": [
    "print(data[data['total_area']<=0])"
   ]
  },
  {
   "cell_type": "code",
   "execution_count": 22,
   "metadata": {},
   "outputs": [
    {
     "name": "stdout",
     "output_type": "stream",
     "text": [
      "10    1798\n",
      "9     1725\n",
      "20    1694\n",
      "8     1585\n",
      "7     1521\n",
      "6     1482\n",
      "11    1362\n",
      "5     1301\n",
      "12    1225\n",
      "0     1059\n",
      "13    1015\n",
      "14     986\n",
      "4      986\n",
      "15     948\n",
      "1      872\n",
      "3      769\n",
      "16     761\n",
      "17     650\n",
      "18     642\n",
      "2      640\n",
      "19     603\n",
      "23      16\n",
      "21      12\n",
      "24       8\n",
      "22       8\n",
      "26       5\n",
      "28       4\n",
      "32       4\n",
      "50       3\n",
      "29       3\n",
      "31       2\n",
      "35       2\n",
      "30       2\n",
      "27       2\n",
      "37       1\n",
      "39       1\n",
      "25       1\n",
      "42       1\n",
      "Name: total_images, dtype: int64\n"
     ]
    }
   ],
   "source": [
    "print(data['total_images'].value_counts())"
   ]
  },
  {
   "cell_type": "markdown",
   "metadata": {},
   "source": [
    "Столбец с информацией о количестве балконов сожержит пустые значения, вероятно, заменим их 0, так как скорее всего балконов нет.Также тип данных о балконах сделаем целочисленным форматом, десятичные и сотые части балкона мы наврядли увидим."
   ]
  },
  {
   "cell_type": "code",
   "execution_count": 23,
   "metadata": {},
   "outputs": [
    {
     "name": "stdout",
     "output_type": "stream",
     "text": [
      "0\n"
     ]
    }
   ],
   "source": [
    "data['balcony']=data['balcony'].fillna(0)\n",
    "data['balcony']=data['balcony'].astype('int')\n",
    "print(data['balcony'].isna().sum())"
   ]
  },
  {
   "cell_type": "markdown",
   "metadata": {},
   "source": [
    "Столбец с информацией об аппартаментах, несет в себе булевый тип данных, необходимо заполнить пропуски False, т.к. \n",
    "вероятно не указали информаци там, где это не аппратаменты. Так как тип данных булевый, сделаем такой же тип и столбцу."
   ]
  },
  {
   "cell_type": "code",
   "execution_count": 24,
   "metadata": {},
   "outputs": [
    {
     "name": "stdout",
     "output_type": "stream",
     "text": [
      "0\n"
     ]
    }
   ],
   "source": [
    "data['is_apartment']=data['is_apartment'].fillna(0)\n",
    "data['is_apartment']=data['is_apartment'].astype('bool')\n",
    "print(data['is_apartment'].isna().sum())"
   ]
  },
  {
   "cell_type": "markdown",
   "metadata": {},
   "source": [
    "По логике предыдущих пунктов заменим пропуски с информацией о количестве парковок и водоёмов."
   ]
  },
  {
   "cell_type": "code",
   "execution_count": 25,
   "metadata": {},
   "outputs": [
    {
     "name": "stdout",
     "output_type": "stream",
     "text": [
      "0\n"
     ]
    }
   ],
   "source": [
    "data['ponds_around3000']=data['ponds_around3000'].fillna(0)\n",
    "data['is_apartment']=data['is_apartment'].astype('bool')\n",
    "print(data['is_apartment'].isna().sum())"
   ]
  },
  {
   "cell_type": "code",
   "execution_count": 26,
   "metadata": {},
   "outputs": [
    {
     "name": "stdout",
     "output_type": "stream",
     "text": [
      "0\n"
     ]
    }
   ],
   "source": [
    "data['parks_around3000']=data['parks_around3000'].fillna(0)\n",
    "#data['parks_around3000']=data['parks_around3000'].astype('bool')\n",
    "print(data['parks_around3000'].isna().sum())"
   ]
  },
  {
   "cell_type": "code",
   "execution_count": 27,
   "metadata": {},
   "outputs": [
    {
     "name": "stdout",
     "output_type": "stream",
     "text": [
      "0       2019-03-07\n",
      "1       2018-12-04\n",
      "2       2015-08-20\n",
      "3       2015-07-24\n",
      "4       2018-06-19\n",
      "           ...    \n",
      "23694   2017-03-21\n",
      "23695   2018-01-15\n",
      "23696   2018-02-11\n",
      "23697   2017-03-28\n",
      "23698   2017-07-21\n",
      "Name: first_day_exposition, Length: 23699, dtype: datetime64[ns]\n"
     ]
    }
   ],
   "source": [
    "data['first_day_exposition']=pd.to_datetime(data['first_day_exposition'],format = '%Y-%m-%dT%H:%M:%S')\n",
    "print(data['first_day_exposition'])"
   ]
  },
  {
   "cell_type": "code",
   "execution_count": 28,
   "metadata": {},
   "outputs": [
    {
     "name": "stdout",
     "output_type": "stream",
     "text": [
      "       total_images  last_price  total_area first_day_exposition  rooms  \\\n",
      "9861             10   2350000.0        25.0           2017-12-03      0   \n",
      "12691             1   3700000.0        24.2           2017-11-10      0   \n",
      "\n",
      "       ceiling_height  floors_total  living_area  floor  is_apartment  studio  \\\n",
      "9861              NaN          22.0         25.0     17         False   False   \n",
      "12691             NaN          19.0         24.2     13         False   False   \n",
      "\n",
      "       open_plan  kitchen_area  balcony    locality_name  airports_nearest  \\\n",
      "9861        True           NaN        2   посёлок Мурино               NaN   \n",
      "12691       True           NaN        1  Санкт-Петербург           17837.0   \n",
      "\n",
      "       cityCenters_nearest  parks_around3000  parks_nearest  ponds_around3000  \\\n",
      "9861                   NaN               0.0            NaN               0.0   \n",
      "12691              16840.0               0.0            NaN               2.0   \n",
      "\n",
      "       ponds_nearest  days_exposition  \n",
      "9861             NaN             13.0  \n",
      "12691          210.0             74.0  \n"
     ]
    }
   ],
   "source": [
    "print(data.query('total_area==living_area'))"
   ]
  },
  {
   "cell_type": "code",
   "execution_count": 29,
   "metadata": {},
   "outputs": [
    {
     "name": "stdout",
     "output_type": "stream",
     "text": [
      "total_area\n",
      "12.0       NaN\n",
      "13.0       NaN\n",
      "13.2       NaN\n",
      "14.0       2.0\n",
      "15.0       NaN\n",
      "         ...  \n",
      "590.0    100.0\n",
      "618.0     70.0\n",
      "631.0     60.0\n",
      "631.2     19.5\n",
      "900.0    112.0\n",
      "Name: kitchen_area, Length: 2182, dtype: float64\n"
     ]
    }
   ],
   "source": [
    "print(data.groupby('total_area')['kitchen_area'].median())"
   ]
  },
  {
   "cell_type": "code",
   "execution_count": 30,
   "metadata": {},
   "outputs": [
    {
     "name": "stdout",
     "output_type": "stream",
     "text": [
      "205\n"
     ]
    }
   ],
   "source": [
    "area_last = 0\n",
    "for area in [25,50,100,150,200,250,300,400,500,600,700,800,900]:\n",
    "    area_data = data[(data['total_area'] >= area_last) & (data['total_area'] < area)]\n",
    "    data_area_group = area_data.groupby('total_area')['kitchen_area'].transform(lambda x : x.fillna(x.mean()))\n",
    "    data.loc[(data['total_area'] >= area_last) & (data['total_area'] < area),'kitchen_area'] = data_area_group\n",
    "    area_last = area\n",
    "print(data['kitchen_area'].isna().sum())"
   ]
  },
  {
   "cell_type": "markdown",
   "metadata": {},
   "source": [
    "Заменили пропуски в площади кухни, средним значением площади в группах общей площади квартиры Но остались квартиры с незаполненой площадью квартиры, так как их мало допускаем удаление этих строк."
   ]
  },
  {
   "cell_type": "code",
   "execution_count": 31,
   "metadata": {},
   "outputs": [
    {
     "name": "stdout",
     "output_type": "stream",
     "text": [
      "0\n"
     ]
    }
   ],
   "source": [
    "data.dropna(subset=['kitchen_area'],inplace=True)\n",
    "print(data['kitchen_area'].isna().sum())"
   ]
  },
  {
   "cell_type": "code",
   "execution_count": 32,
   "metadata": {},
   "outputs": [
    {
     "name": "stdout",
     "output_type": "stream",
     "text": [
      "49\n"
     ]
    }
   ],
   "source": [
    "print(data['locality_name'].isna().sum())"
   ]
  },
  {
   "cell_type": "markdown",
   "metadata": {},
   "source": [
    "Пустых значений в локации очень мало, допускаем удаление этих строк."
   ]
  },
  {
   "cell_type": "code",
   "execution_count": 33,
   "metadata": {},
   "outputs": [
    {
     "name": "stdout",
     "output_type": "stream",
     "text": [
      "0\n"
     ]
    }
   ],
   "source": [
    "data.dropna(subset=['locality_name'],inplace=True)\n",
    "print(data['locality_name'].isna().sum())"
   ]
  },
  {
   "cell_type": "code",
   "execution_count": 34,
   "metadata": {},
   "outputs": [
    {
     "name": "stdout",
     "output_type": "stream",
     "text": [
      "0\n"
     ]
    }
   ],
   "source": [
    "data.dropna(subset=['floors_total'],inplace=True)\n",
    "print(data['floors_total'].isna().sum())"
   ]
  },
  {
   "cell_type": "markdown",
   "metadata": {},
   "source": [
    "По аналогии с площадью кухни поступим с жилой площадью."
   ]
  },
  {
   "cell_type": "code",
   "execution_count": 35,
   "metadata": {},
   "outputs": [
    {
     "name": "stdout",
     "output_type": "stream",
     "text": [
      "90\n"
     ]
    }
   ],
   "source": [
    "area_last = 0\n",
    "for area in [25,50,100,150,200,250,300,400,500,600,700,800,900,1500]:\n",
    "    area_data = data[(data['total_area'] >= area_last) & (data['total_area'] < area)]\n",
    "    data_area_group = area_data.groupby('total_area')['living_area'].transform(lambda x : x.fillna(x.mean()))\n",
    "    data.loc[(data['total_area'] >= area_last) & (data['total_area'] < area),'living_area'] = data_area_group\n",
    "    area_last = area\n",
    "print(data['living_area'].isna().sum())"
   ]
  },
  {
   "cell_type": "code",
   "execution_count": 36,
   "metadata": {},
   "outputs": [
    {
     "name": "stdout",
     "output_type": "stream",
     "text": [
      "0\n"
     ]
    }
   ],
   "source": [
    "data.dropna(subset=['living_area'],inplace=True)\n",
    "print(data['living_area'].isna().sum())"
   ]
  },
  {
   "cell_type": "code",
   "execution_count": 37,
   "metadata": {},
   "outputs": [
    {
     "name": "stdout",
     "output_type": "stream",
     "text": [
      "0\n"
     ]
    }
   ],
   "source": [
    "data['ceiling_height'] = data.groupby(['locality_name','floors_total'])['ceiling_height'].transform(lambda x: x.fillna(x.mean()))\n",
    "data['ceiling_height'] = data['ceiling_height'].fillna(data['ceiling_height'].median())\n",
    "print(data['ceiling_height'].isna().sum())"
   ]
  },
  {
   "cell_type": "markdown",
   "metadata": {},
   "source": [
    "Информация о количестве этажей в доме, а также о количестве парков и водоемов в радиусе 3 км, не может быть дробной, поэтому сделаем для данных столбцов целочисленный тип данных."
   ]
  },
  {
   "cell_type": "code",
   "execution_count": 39,
   "metadata": {},
   "outputs": [],
   "source": [
    "data['parks_around3000']=data['parks_around3000'].astype('int')\n",
    "data['ponds_around3000']=data['ponds_around3000'].astype('int')\n",
    "data['floors_total']=data['floors_total'].astype('int')"
   ]
  },
  {
   "cell_type": "code",
   "execution_count": 40,
   "metadata": {},
   "outputs": [
    {
     "name": "stdout",
     "output_type": "stream",
     "text": [
      "0\n"
     ]
    }
   ],
   "source": [
    "data.dropna(subset=['last_price'],inplace=True)\n",
    "print(data['last_price'].isna().sum())"
   ]
  },
  {
   "cell_type": "code",
   "execution_count": 41,
   "metadata": {},
   "outputs": [
    {
     "name": "stdout",
     "output_type": "stream",
     "text": [
      "<class 'pandas.core.frame.DataFrame'>\n",
      "Int64Index: 23290 entries, 0 to 23698\n",
      "Data columns (total 22 columns):\n",
      "total_images            23290 non-null int64\n",
      "last_price              23290 non-null float64\n",
      "total_area              23290 non-null float64\n",
      "first_day_exposition    23290 non-null datetime64[ns]\n",
      "rooms                   23290 non-null int64\n",
      "ceiling_height          23290 non-null float64\n",
      "floors_total            23290 non-null int64\n",
      "living_area             23290 non-null float64\n",
      "floor                   23290 non-null int64\n",
      "is_apartment            23290 non-null bool\n",
      "studio                  23290 non-null bool\n",
      "open_plan               23290 non-null bool\n",
      "kitchen_area            23290 non-null float64\n",
      "balcony                 23290 non-null int64\n",
      "locality_name           23290 non-null object\n",
      "airports_nearest        17867 non-null float64\n",
      "cityCenters_nearest     17890 non-null float64\n",
      "parks_around3000        23290 non-null int64\n",
      "parks_nearest           7954 non-null float64\n",
      "ponds_around3000        23290 non-null int64\n",
      "ponds_nearest           8920 non-null float64\n",
      "days_exposition         20142 non-null float64\n",
      "dtypes: bool(3), datetime64[ns](1), float64(10), int64(7), object(1)\n",
      "memory usage: 3.6+ MB\n"
     ]
    }
   ],
   "source": [
    "data.info()"
   ]
  },
  {
   "cell_type": "markdown",
   "metadata": {},
   "source": [
    "Остаются пропуски в столбцах, содержащих информацию о расстоянии до ближайших аэропотов, парков и водоемов, скорее всего их нет в ближайшем доступе. Информация о сроках размещения объявления также отсутсвует, это мб связано с тем, что объявление актуально на момент получения датасета."
   ]
  },
  {
   "cell_type": "markdown",
   "metadata": {},
   "source": [
    "## Расчёты и добавление результатов в таблицу"
   ]
  },
  {
   "cell_type": "code",
   "execution_count": 42,
   "metadata": {},
   "outputs": [
    {
     "data": {
      "text/html": [
       "<div>\n",
       "<style scoped>\n",
       "    .dataframe tbody tr th:only-of-type {\n",
       "        vertical-align: middle;\n",
       "    }\n",
       "\n",
       "    .dataframe tbody tr th {\n",
       "        vertical-align: top;\n",
       "    }\n",
       "\n",
       "    .dataframe thead th {\n",
       "        text-align: right;\n",
       "    }\n",
       "</style>\n",
       "<table border=\"1\" class=\"dataframe\">\n",
       "  <thead>\n",
       "    <tr style=\"text-align: right;\">\n",
       "      <th></th>\n",
       "      <th>total_images</th>\n",
       "      <th>last_price</th>\n",
       "      <th>total_area</th>\n",
       "      <th>first_day_exposition</th>\n",
       "      <th>rooms</th>\n",
       "      <th>ceiling_height</th>\n",
       "      <th>floors_total</th>\n",
       "      <th>living_area</th>\n",
       "      <th>floor</th>\n",
       "      <th>is_apartment</th>\n",
       "      <th>studio</th>\n",
       "      <th>open_plan</th>\n",
       "      <th>kitchen_area</th>\n",
       "      <th>balcony</th>\n",
       "      <th>locality_name</th>\n",
       "      <th>airports_nearest</th>\n",
       "      <th>cityCenters_nearest</th>\n",
       "      <th>parks_around3000</th>\n",
       "      <th>parks_nearest</th>\n",
       "      <th>ponds_around3000</th>\n",
       "      <th>ponds_nearest</th>\n",
       "      <th>days_exposition</th>\n",
       "      <th>price_square_meter</th>\n",
       "    </tr>\n",
       "  </thead>\n",
       "  <tbody>\n",
       "    <tr>\n",
       "      <td>0</td>\n",
       "      <td>20</td>\n",
       "      <td>13000000.0</td>\n",
       "      <td>108.0</td>\n",
       "      <td>2019-03-07</td>\n",
       "      <td>3</td>\n",
       "      <td>2.700000</td>\n",
       "      <td>16</td>\n",
       "      <td>51.0</td>\n",
       "      <td>8</td>\n",
       "      <td>False</td>\n",
       "      <td>False</td>\n",
       "      <td>False</td>\n",
       "      <td>25.0</td>\n",
       "      <td>0</td>\n",
       "      <td>Санкт-Петербург</td>\n",
       "      <td>18863.0</td>\n",
       "      <td>16028.0</td>\n",
       "      <td>1</td>\n",
       "      <td>482.0</td>\n",
       "      <td>2</td>\n",
       "      <td>755.0</td>\n",
       "      <td>NaN</td>\n",
       "      <td>120370.37</td>\n",
       "    </tr>\n",
       "    <tr>\n",
       "      <td>1</td>\n",
       "      <td>7</td>\n",
       "      <td>3350000.0</td>\n",
       "      <td>40.4</td>\n",
       "      <td>2018-12-04</td>\n",
       "      <td>1</td>\n",
       "      <td>2.700000</td>\n",
       "      <td>11</td>\n",
       "      <td>18.6</td>\n",
       "      <td>1</td>\n",
       "      <td>False</td>\n",
       "      <td>False</td>\n",
       "      <td>False</td>\n",
       "      <td>11.0</td>\n",
       "      <td>2</td>\n",
       "      <td>посёлок Шушары</td>\n",
       "      <td>12817.0</td>\n",
       "      <td>18603.0</td>\n",
       "      <td>0</td>\n",
       "      <td>NaN</td>\n",
       "      <td>0</td>\n",
       "      <td>NaN</td>\n",
       "      <td>81.0</td>\n",
       "      <td>82920.79</td>\n",
       "    </tr>\n",
       "    <tr>\n",
       "      <td>2</td>\n",
       "      <td>10</td>\n",
       "      <td>5196000.0</td>\n",
       "      <td>56.0</td>\n",
       "      <td>2015-08-20</td>\n",
       "      <td>2</td>\n",
       "      <td>2.906839</td>\n",
       "      <td>5</td>\n",
       "      <td>34.3</td>\n",
       "      <td>4</td>\n",
       "      <td>False</td>\n",
       "      <td>False</td>\n",
       "      <td>False</td>\n",
       "      <td>8.3</td>\n",
       "      <td>0</td>\n",
       "      <td>Санкт-Петербург</td>\n",
       "      <td>21741.0</td>\n",
       "      <td>13933.0</td>\n",
       "      <td>1</td>\n",
       "      <td>90.0</td>\n",
       "      <td>2</td>\n",
       "      <td>574.0</td>\n",
       "      <td>558.0</td>\n",
       "      <td>92785.71</td>\n",
       "    </tr>\n",
       "    <tr>\n",
       "      <td>3</td>\n",
       "      <td>0</td>\n",
       "      <td>64900000.0</td>\n",
       "      <td>159.0</td>\n",
       "      <td>2015-07-24</td>\n",
       "      <td>3</td>\n",
       "      <td>2.747359</td>\n",
       "      <td>14</td>\n",
       "      <td>80.2</td>\n",
       "      <td>9</td>\n",
       "      <td>False</td>\n",
       "      <td>False</td>\n",
       "      <td>False</td>\n",
       "      <td>16.1</td>\n",
       "      <td>0</td>\n",
       "      <td>Санкт-Петербург</td>\n",
       "      <td>28098.0</td>\n",
       "      <td>6800.0</td>\n",
       "      <td>2</td>\n",
       "      <td>84.0</td>\n",
       "      <td>3</td>\n",
       "      <td>234.0</td>\n",
       "      <td>424.0</td>\n",
       "      <td>408176.10</td>\n",
       "    </tr>\n",
       "    <tr>\n",
       "      <td>4</td>\n",
       "      <td>2</td>\n",
       "      <td>10000000.0</td>\n",
       "      <td>100.0</td>\n",
       "      <td>2018-06-19</td>\n",
       "      <td>2</td>\n",
       "      <td>3.030000</td>\n",
       "      <td>14</td>\n",
       "      <td>32.0</td>\n",
       "      <td>13</td>\n",
       "      <td>False</td>\n",
       "      <td>False</td>\n",
       "      <td>False</td>\n",
       "      <td>41.0</td>\n",
       "      <td>0</td>\n",
       "      <td>Санкт-Петербург</td>\n",
       "      <td>31856.0</td>\n",
       "      <td>8098.0</td>\n",
       "      <td>2</td>\n",
       "      <td>112.0</td>\n",
       "      <td>1</td>\n",
       "      <td>48.0</td>\n",
       "      <td>121.0</td>\n",
       "      <td>100000.00</td>\n",
       "    </tr>\n",
       "  </tbody>\n",
       "</table>\n",
       "</div>"
      ],
      "text/plain": [
       "   total_images  last_price  total_area first_day_exposition  rooms  \\\n",
       "0            20  13000000.0       108.0           2019-03-07      3   \n",
       "1             7   3350000.0        40.4           2018-12-04      1   \n",
       "2            10   5196000.0        56.0           2015-08-20      2   \n",
       "3             0  64900000.0       159.0           2015-07-24      3   \n",
       "4             2  10000000.0       100.0           2018-06-19      2   \n",
       "\n",
       "   ceiling_height  floors_total  living_area  floor  is_apartment  studio  \\\n",
       "0        2.700000            16         51.0      8         False   False   \n",
       "1        2.700000            11         18.6      1         False   False   \n",
       "2        2.906839             5         34.3      4         False   False   \n",
       "3        2.747359            14         80.2      9         False   False   \n",
       "4        3.030000            14         32.0     13         False   False   \n",
       "\n",
       "   open_plan  kitchen_area  balcony    locality_name  airports_nearest  \\\n",
       "0      False          25.0        0  Санкт-Петербург           18863.0   \n",
       "1      False          11.0        2   посёлок Шушары           12817.0   \n",
       "2      False           8.3        0  Санкт-Петербург           21741.0   \n",
       "3      False          16.1        0  Санкт-Петербург           28098.0   \n",
       "4      False          41.0        0  Санкт-Петербург           31856.0   \n",
       "\n",
       "   cityCenters_nearest  parks_around3000  parks_nearest  ponds_around3000  \\\n",
       "0              16028.0                 1          482.0                 2   \n",
       "1              18603.0                 0            NaN                 0   \n",
       "2              13933.0                 1           90.0                 2   \n",
       "3               6800.0                 2           84.0                 3   \n",
       "4               8098.0                 2          112.0                 1   \n",
       "\n",
       "   ponds_nearest  days_exposition  price_square_meter  \n",
       "0          755.0              NaN           120370.37  \n",
       "1            NaN             81.0            82920.79  \n",
       "2          574.0            558.0            92785.71  \n",
       "3          234.0            424.0           408176.10  \n",
       "4           48.0            121.0           100000.00  "
      ]
     },
     "metadata": {},
     "output_type": "display_data"
    }
   ],
   "source": [
    "data['price_square_meter']=data['last_price']/data['total_area']\n",
    "data['price_square_meter']=data['price_square_meter'].round(2)\n",
    "display(data.head())"
   ]
  },
  {
   "cell_type": "code",
   "execution_count": 43,
   "metadata": {},
   "outputs": [
    {
     "data": {
      "text/html": [
       "<div>\n",
       "<style scoped>\n",
       "    .dataframe tbody tr th:only-of-type {\n",
       "        vertical-align: middle;\n",
       "    }\n",
       "\n",
       "    .dataframe tbody tr th {\n",
       "        vertical-align: top;\n",
       "    }\n",
       "\n",
       "    .dataframe thead th {\n",
       "        text-align: right;\n",
       "    }\n",
       "</style>\n",
       "<table border=\"1\" class=\"dataframe\">\n",
       "  <thead>\n",
       "    <tr style=\"text-align: right;\">\n",
       "      <th></th>\n",
       "      <th>total_images</th>\n",
       "      <th>last_price</th>\n",
       "      <th>total_area</th>\n",
       "      <th>first_day_exposition</th>\n",
       "      <th>rooms</th>\n",
       "      <th>ceiling_height</th>\n",
       "      <th>floors_total</th>\n",
       "      <th>living_area</th>\n",
       "      <th>floor</th>\n",
       "      <th>is_apartment</th>\n",
       "      <th>studio</th>\n",
       "      <th>open_plan</th>\n",
       "      <th>kitchen_area</th>\n",
       "      <th>balcony</th>\n",
       "      <th>locality_name</th>\n",
       "      <th>airports_nearest</th>\n",
       "      <th>cityCenters_nearest</th>\n",
       "      <th>parks_around3000</th>\n",
       "      <th>parks_nearest</th>\n",
       "      <th>ponds_around3000</th>\n",
       "      <th>ponds_nearest</th>\n",
       "      <th>days_exposition</th>\n",
       "      <th>price_square_meter</th>\n",
       "      <th>weekday</th>\n",
       "      <th>month</th>\n",
       "      <th>year</th>\n",
       "    </tr>\n",
       "  </thead>\n",
       "  <tbody>\n",
       "    <tr>\n",
       "      <td>0</td>\n",
       "      <td>20</td>\n",
       "      <td>13000000.0</td>\n",
       "      <td>108.0</td>\n",
       "      <td>2019-03-07</td>\n",
       "      <td>3</td>\n",
       "      <td>2.700000</td>\n",
       "      <td>16</td>\n",
       "      <td>51.0</td>\n",
       "      <td>8</td>\n",
       "      <td>False</td>\n",
       "      <td>False</td>\n",
       "      <td>False</td>\n",
       "      <td>25.0</td>\n",
       "      <td>0</td>\n",
       "      <td>Санкт-Петербург</td>\n",
       "      <td>18863.0</td>\n",
       "      <td>16028.0</td>\n",
       "      <td>1</td>\n",
       "      <td>482.0</td>\n",
       "      <td>2</td>\n",
       "      <td>755.0</td>\n",
       "      <td>NaN</td>\n",
       "      <td>120370.37</td>\n",
       "      <td>3</td>\n",
       "      <td>3</td>\n",
       "      <td>2019</td>\n",
       "    </tr>\n",
       "    <tr>\n",
       "      <td>1</td>\n",
       "      <td>7</td>\n",
       "      <td>3350000.0</td>\n",
       "      <td>40.4</td>\n",
       "      <td>2018-12-04</td>\n",
       "      <td>1</td>\n",
       "      <td>2.700000</td>\n",
       "      <td>11</td>\n",
       "      <td>18.6</td>\n",
       "      <td>1</td>\n",
       "      <td>False</td>\n",
       "      <td>False</td>\n",
       "      <td>False</td>\n",
       "      <td>11.0</td>\n",
       "      <td>2</td>\n",
       "      <td>посёлок Шушары</td>\n",
       "      <td>12817.0</td>\n",
       "      <td>18603.0</td>\n",
       "      <td>0</td>\n",
       "      <td>NaN</td>\n",
       "      <td>0</td>\n",
       "      <td>NaN</td>\n",
       "      <td>81.0</td>\n",
       "      <td>82920.79</td>\n",
       "      <td>1</td>\n",
       "      <td>12</td>\n",
       "      <td>2018</td>\n",
       "    </tr>\n",
       "    <tr>\n",
       "      <td>2</td>\n",
       "      <td>10</td>\n",
       "      <td>5196000.0</td>\n",
       "      <td>56.0</td>\n",
       "      <td>2015-08-20</td>\n",
       "      <td>2</td>\n",
       "      <td>2.906839</td>\n",
       "      <td>5</td>\n",
       "      <td>34.3</td>\n",
       "      <td>4</td>\n",
       "      <td>False</td>\n",
       "      <td>False</td>\n",
       "      <td>False</td>\n",
       "      <td>8.3</td>\n",
       "      <td>0</td>\n",
       "      <td>Санкт-Петербург</td>\n",
       "      <td>21741.0</td>\n",
       "      <td>13933.0</td>\n",
       "      <td>1</td>\n",
       "      <td>90.0</td>\n",
       "      <td>2</td>\n",
       "      <td>574.0</td>\n",
       "      <td>558.0</td>\n",
       "      <td>92785.71</td>\n",
       "      <td>3</td>\n",
       "      <td>8</td>\n",
       "      <td>2015</td>\n",
       "    </tr>\n",
       "    <tr>\n",
       "      <td>3</td>\n",
       "      <td>0</td>\n",
       "      <td>64900000.0</td>\n",
       "      <td>159.0</td>\n",
       "      <td>2015-07-24</td>\n",
       "      <td>3</td>\n",
       "      <td>2.747359</td>\n",
       "      <td>14</td>\n",
       "      <td>80.2</td>\n",
       "      <td>9</td>\n",
       "      <td>False</td>\n",
       "      <td>False</td>\n",
       "      <td>False</td>\n",
       "      <td>16.1</td>\n",
       "      <td>0</td>\n",
       "      <td>Санкт-Петербург</td>\n",
       "      <td>28098.0</td>\n",
       "      <td>6800.0</td>\n",
       "      <td>2</td>\n",
       "      <td>84.0</td>\n",
       "      <td>3</td>\n",
       "      <td>234.0</td>\n",
       "      <td>424.0</td>\n",
       "      <td>408176.10</td>\n",
       "      <td>4</td>\n",
       "      <td>7</td>\n",
       "      <td>2015</td>\n",
       "    </tr>\n",
       "    <tr>\n",
       "      <td>4</td>\n",
       "      <td>2</td>\n",
       "      <td>10000000.0</td>\n",
       "      <td>100.0</td>\n",
       "      <td>2018-06-19</td>\n",
       "      <td>2</td>\n",
       "      <td>3.030000</td>\n",
       "      <td>14</td>\n",
       "      <td>32.0</td>\n",
       "      <td>13</td>\n",
       "      <td>False</td>\n",
       "      <td>False</td>\n",
       "      <td>False</td>\n",
       "      <td>41.0</td>\n",
       "      <td>0</td>\n",
       "      <td>Санкт-Петербург</td>\n",
       "      <td>31856.0</td>\n",
       "      <td>8098.0</td>\n",
       "      <td>2</td>\n",
       "      <td>112.0</td>\n",
       "      <td>1</td>\n",
       "      <td>48.0</td>\n",
       "      <td>121.0</td>\n",
       "      <td>100000.00</td>\n",
       "      <td>1</td>\n",
       "      <td>6</td>\n",
       "      <td>2018</td>\n",
       "    </tr>\n",
       "  </tbody>\n",
       "</table>\n",
       "</div>"
      ],
      "text/plain": [
       "   total_images  last_price  total_area first_day_exposition  rooms  \\\n",
       "0            20  13000000.0       108.0           2019-03-07      3   \n",
       "1             7   3350000.0        40.4           2018-12-04      1   \n",
       "2            10   5196000.0        56.0           2015-08-20      2   \n",
       "3             0  64900000.0       159.0           2015-07-24      3   \n",
       "4             2  10000000.0       100.0           2018-06-19      2   \n",
       "\n",
       "   ceiling_height  floors_total  living_area  floor  is_apartment  studio  \\\n",
       "0        2.700000            16         51.0      8         False   False   \n",
       "1        2.700000            11         18.6      1         False   False   \n",
       "2        2.906839             5         34.3      4         False   False   \n",
       "3        2.747359            14         80.2      9         False   False   \n",
       "4        3.030000            14         32.0     13         False   False   \n",
       "\n",
       "   open_plan  kitchen_area  balcony    locality_name  airports_nearest  \\\n",
       "0      False          25.0        0  Санкт-Петербург           18863.0   \n",
       "1      False          11.0        2   посёлок Шушары           12817.0   \n",
       "2      False           8.3        0  Санкт-Петербург           21741.0   \n",
       "3      False          16.1        0  Санкт-Петербург           28098.0   \n",
       "4      False          41.0        0  Санкт-Петербург           31856.0   \n",
       "\n",
       "   cityCenters_nearest  parks_around3000  parks_nearest  ponds_around3000  \\\n",
       "0              16028.0                 1          482.0                 2   \n",
       "1              18603.0                 0            NaN                 0   \n",
       "2              13933.0                 1           90.0                 2   \n",
       "3               6800.0                 2           84.0                 3   \n",
       "4               8098.0                 2          112.0                 1   \n",
       "\n",
       "   ponds_nearest  days_exposition  price_square_meter  weekday  month  year  \n",
       "0          755.0              NaN           120370.37        3      3  2019  \n",
       "1            NaN             81.0            82920.79        1     12  2018  \n",
       "2          574.0            558.0            92785.71        3      8  2015  \n",
       "3          234.0            424.0           408176.10        4      7  2015  \n",
       "4           48.0            121.0           100000.00        1      6  2018  "
      ]
     },
     "metadata": {},
     "output_type": "display_data"
    }
   ],
   "source": [
    "data['weekday'] = data['first_day_exposition'].dt.weekday\n",
    "data['month'] = data['first_day_exposition'].dt.month\n",
    "data['year'] = data['first_day_exposition'].dt.year\n",
    "display(data.head())"
   ]
  },
  {
   "cell_type": "code",
   "execution_count": 44,
   "metadata": {},
   "outputs": [
    {
     "data": {
      "text/plain": [
       "другой       17121\n",
       "последний     3296\n",
       "первый        2873\n",
       "Name: floor_flat, dtype: int64"
      ]
     },
     "metadata": {},
     "output_type": "display_data"
    }
   ],
   "source": [
    "def floor(row):\n",
    "    if row['floor']==1:\n",
    "        return 'первый'\n",
    "    if row['floor']==row['floors_total']:\n",
    "        return 'последний'\n",
    "    return 'другой'\n",
    "data['floor_flat']=data.apply(floor,axis=1)\n",
    "display(data['floor_flat'].value_counts())"
   ]
  },
  {
   "cell_type": "code",
   "execution_count": 45,
   "metadata": {},
   "outputs": [
    {
     "data": {
      "text/html": [
       "<div>\n",
       "<style scoped>\n",
       "    .dataframe tbody tr th:only-of-type {\n",
       "        vertical-align: middle;\n",
       "    }\n",
       "\n",
       "    .dataframe tbody tr th {\n",
       "        vertical-align: top;\n",
       "    }\n",
       "\n",
       "    .dataframe thead th {\n",
       "        text-align: right;\n",
       "    }\n",
       "</style>\n",
       "<table border=\"1\" class=\"dataframe\">\n",
       "  <thead>\n",
       "    <tr style=\"text-align: right;\">\n",
       "      <th></th>\n",
       "      <th>total_images</th>\n",
       "      <th>last_price</th>\n",
       "      <th>total_area</th>\n",
       "      <th>first_day_exposition</th>\n",
       "      <th>rooms</th>\n",
       "      <th>ceiling_height</th>\n",
       "      <th>floors_total</th>\n",
       "      <th>living_area</th>\n",
       "      <th>floor</th>\n",
       "      <th>is_apartment</th>\n",
       "      <th>studio</th>\n",
       "      <th>open_plan</th>\n",
       "      <th>kitchen_area</th>\n",
       "      <th>balcony</th>\n",
       "      <th>locality_name</th>\n",
       "      <th>airports_nearest</th>\n",
       "      <th>cityCenters_nearest</th>\n",
       "      <th>parks_around3000</th>\n",
       "      <th>parks_nearest</th>\n",
       "      <th>ponds_around3000</th>\n",
       "      <th>ponds_nearest</th>\n",
       "      <th>days_exposition</th>\n",
       "      <th>price_square_meter</th>\n",
       "      <th>weekday</th>\n",
       "      <th>month</th>\n",
       "      <th>year</th>\n",
       "      <th>floor_flat</th>\n",
       "      <th>living_total_area</th>\n",
       "      <th>kitchen_total_area</th>\n",
       "    </tr>\n",
       "  </thead>\n",
       "  <tbody>\n",
       "    <tr>\n",
       "      <td>0</td>\n",
       "      <td>20</td>\n",
       "      <td>13000000.0</td>\n",
       "      <td>108.0</td>\n",
       "      <td>2019-03-07</td>\n",
       "      <td>3</td>\n",
       "      <td>2.700000</td>\n",
       "      <td>16</td>\n",
       "      <td>51.0</td>\n",
       "      <td>8</td>\n",
       "      <td>False</td>\n",
       "      <td>False</td>\n",
       "      <td>False</td>\n",
       "      <td>25.0</td>\n",
       "      <td>0</td>\n",
       "      <td>Санкт-Петербург</td>\n",
       "      <td>18863.0</td>\n",
       "      <td>16028.0</td>\n",
       "      <td>1</td>\n",
       "      <td>482.0</td>\n",
       "      <td>2</td>\n",
       "      <td>755.0</td>\n",
       "      <td>NaN</td>\n",
       "      <td>120370.37</td>\n",
       "      <td>3</td>\n",
       "      <td>3</td>\n",
       "      <td>2019</td>\n",
       "      <td>другой</td>\n",
       "      <td>0.472222</td>\n",
       "      <td>0.231481</td>\n",
       "    </tr>\n",
       "    <tr>\n",
       "      <td>1</td>\n",
       "      <td>7</td>\n",
       "      <td>3350000.0</td>\n",
       "      <td>40.4</td>\n",
       "      <td>2018-12-04</td>\n",
       "      <td>1</td>\n",
       "      <td>2.700000</td>\n",
       "      <td>11</td>\n",
       "      <td>18.6</td>\n",
       "      <td>1</td>\n",
       "      <td>False</td>\n",
       "      <td>False</td>\n",
       "      <td>False</td>\n",
       "      <td>11.0</td>\n",
       "      <td>2</td>\n",
       "      <td>посёлок Шушары</td>\n",
       "      <td>12817.0</td>\n",
       "      <td>18603.0</td>\n",
       "      <td>0</td>\n",
       "      <td>NaN</td>\n",
       "      <td>0</td>\n",
       "      <td>NaN</td>\n",
       "      <td>81.0</td>\n",
       "      <td>82920.79</td>\n",
       "      <td>1</td>\n",
       "      <td>12</td>\n",
       "      <td>2018</td>\n",
       "      <td>первый</td>\n",
       "      <td>0.460396</td>\n",
       "      <td>0.272277</td>\n",
       "    </tr>\n",
       "    <tr>\n",
       "      <td>2</td>\n",
       "      <td>10</td>\n",
       "      <td>5196000.0</td>\n",
       "      <td>56.0</td>\n",
       "      <td>2015-08-20</td>\n",
       "      <td>2</td>\n",
       "      <td>2.906839</td>\n",
       "      <td>5</td>\n",
       "      <td>34.3</td>\n",
       "      <td>4</td>\n",
       "      <td>False</td>\n",
       "      <td>False</td>\n",
       "      <td>False</td>\n",
       "      <td>8.3</td>\n",
       "      <td>0</td>\n",
       "      <td>Санкт-Петербург</td>\n",
       "      <td>21741.0</td>\n",
       "      <td>13933.0</td>\n",
       "      <td>1</td>\n",
       "      <td>90.0</td>\n",
       "      <td>2</td>\n",
       "      <td>574.0</td>\n",
       "      <td>558.0</td>\n",
       "      <td>92785.71</td>\n",
       "      <td>3</td>\n",
       "      <td>8</td>\n",
       "      <td>2015</td>\n",
       "      <td>другой</td>\n",
       "      <td>0.612500</td>\n",
       "      <td>0.148214</td>\n",
       "    </tr>\n",
       "    <tr>\n",
       "      <td>3</td>\n",
       "      <td>0</td>\n",
       "      <td>64900000.0</td>\n",
       "      <td>159.0</td>\n",
       "      <td>2015-07-24</td>\n",
       "      <td>3</td>\n",
       "      <td>2.747359</td>\n",
       "      <td>14</td>\n",
       "      <td>80.2</td>\n",
       "      <td>9</td>\n",
       "      <td>False</td>\n",
       "      <td>False</td>\n",
       "      <td>False</td>\n",
       "      <td>16.1</td>\n",
       "      <td>0</td>\n",
       "      <td>Санкт-Петербург</td>\n",
       "      <td>28098.0</td>\n",
       "      <td>6800.0</td>\n",
       "      <td>2</td>\n",
       "      <td>84.0</td>\n",
       "      <td>3</td>\n",
       "      <td>234.0</td>\n",
       "      <td>424.0</td>\n",
       "      <td>408176.10</td>\n",
       "      <td>4</td>\n",
       "      <td>7</td>\n",
       "      <td>2015</td>\n",
       "      <td>другой</td>\n",
       "      <td>0.504403</td>\n",
       "      <td>0.101258</td>\n",
       "    </tr>\n",
       "    <tr>\n",
       "      <td>4</td>\n",
       "      <td>2</td>\n",
       "      <td>10000000.0</td>\n",
       "      <td>100.0</td>\n",
       "      <td>2018-06-19</td>\n",
       "      <td>2</td>\n",
       "      <td>3.030000</td>\n",
       "      <td>14</td>\n",
       "      <td>32.0</td>\n",
       "      <td>13</td>\n",
       "      <td>False</td>\n",
       "      <td>False</td>\n",
       "      <td>False</td>\n",
       "      <td>41.0</td>\n",
       "      <td>0</td>\n",
       "      <td>Санкт-Петербург</td>\n",
       "      <td>31856.0</td>\n",
       "      <td>8098.0</td>\n",
       "      <td>2</td>\n",
       "      <td>112.0</td>\n",
       "      <td>1</td>\n",
       "      <td>48.0</td>\n",
       "      <td>121.0</td>\n",
       "      <td>100000.00</td>\n",
       "      <td>1</td>\n",
       "      <td>6</td>\n",
       "      <td>2018</td>\n",
       "      <td>другой</td>\n",
       "      <td>0.320000</td>\n",
       "      <td>0.410000</td>\n",
       "    </tr>\n",
       "  </tbody>\n",
       "</table>\n",
       "</div>"
      ],
      "text/plain": [
       "   total_images  last_price  total_area first_day_exposition  rooms  \\\n",
       "0            20  13000000.0       108.0           2019-03-07      3   \n",
       "1             7   3350000.0        40.4           2018-12-04      1   \n",
       "2            10   5196000.0        56.0           2015-08-20      2   \n",
       "3             0  64900000.0       159.0           2015-07-24      3   \n",
       "4             2  10000000.0       100.0           2018-06-19      2   \n",
       "\n",
       "   ceiling_height  floors_total  living_area  floor  is_apartment  studio  \\\n",
       "0        2.700000            16         51.0      8         False   False   \n",
       "1        2.700000            11         18.6      1         False   False   \n",
       "2        2.906839             5         34.3      4         False   False   \n",
       "3        2.747359            14         80.2      9         False   False   \n",
       "4        3.030000            14         32.0     13         False   False   \n",
       "\n",
       "   open_plan  kitchen_area  balcony    locality_name  airports_nearest  \\\n",
       "0      False          25.0        0  Санкт-Петербург           18863.0   \n",
       "1      False          11.0        2   посёлок Шушары           12817.0   \n",
       "2      False           8.3        0  Санкт-Петербург           21741.0   \n",
       "3      False          16.1        0  Санкт-Петербург           28098.0   \n",
       "4      False          41.0        0  Санкт-Петербург           31856.0   \n",
       "\n",
       "   cityCenters_nearest  parks_around3000  parks_nearest  ponds_around3000  \\\n",
       "0              16028.0                 1          482.0                 2   \n",
       "1              18603.0                 0            NaN                 0   \n",
       "2              13933.0                 1           90.0                 2   \n",
       "3               6800.0                 2           84.0                 3   \n",
       "4               8098.0                 2          112.0                 1   \n",
       "\n",
       "   ponds_nearest  days_exposition  price_square_meter  weekday  month  year  \\\n",
       "0          755.0              NaN           120370.37        3      3  2019   \n",
       "1            NaN             81.0            82920.79        1     12  2018   \n",
       "2          574.0            558.0            92785.71        3      8  2015   \n",
       "3          234.0            424.0           408176.10        4      7  2015   \n",
       "4           48.0            121.0           100000.00        1      6  2018   \n",
       "\n",
       "  floor_flat  living_total_area  kitchen_total_area  \n",
       "0     другой           0.472222            0.231481  \n",
       "1     первый           0.460396            0.272277  \n",
       "2     другой           0.612500            0.148214  \n",
       "3     другой           0.504403            0.101258  \n",
       "4     другой           0.320000            0.410000  "
      ]
     },
     "metadata": {},
     "output_type": "display_data"
    }
   ],
   "source": [
    "data['living_total_area']= data['living_area']/data['total_area']\n",
    "\n",
    "data['kitchen_total_area'] = data['kitchen_area']/data['total_area']\n",
    "\n",
    "display(data.head())"
   ]
  },
  {
   "cell_type": "markdown",
   "metadata": {},
   "source": [
    "Произвели необходимые расчеты, и добавили новые столбцы."
   ]
  },
  {
   "cell_type": "markdown",
   "metadata": {},
   "source": [
    "## Исследовательский анализ данных"
   ]
  },
  {
   "cell_type": "code",
   "execution_count": 46,
   "metadata": {},
   "outputs": [
    {
     "data": {
      "text/plain": [
       "Text(0.5, 0, 'total_area,sqr m')"
      ]
     },
     "execution_count": 46,
     "metadata": {},
     "output_type": "execute_result"
    },
    {
     "data": {
      "image/png": "[encoded data removed]",
      "text/plain": [
       "<Figure size 432x288 with 1 Axes>"
      ]
     },
     "metadata": {
      "needs_background": "light"
     },
     "output_type": "display_data"
    }
   ],
   "source": [
    "data.plot(y='total_area',kind='hist',title='total_area',bins=80,grid=True).set_xlabel('total_area,sqr m')\n"
   ]
  },
  {
   "cell_type": "markdown",
   "metadata": {},
   "source": [
    "На гистограмме значений общей площади, можно наблюдать, что большинство значений в пределах от 80 до 120 кв.м., и в районе 200 кв.м. количество падает настолько, что случаии уже практически единичны. "
   ]
  },
  {
   "cell_type": "code",
   "execution_count": 47,
   "metadata": {},
   "outputs": [
    {
     "data": {
      "text/plain": [
       "Text(0.5, 0, 'total_area,sqr m')"
      ]
     },
     "execution_count": 47,
     "metadata": {},
     "output_type": "execute_result"
    },
    {
     "data": {
      "image/png": "[encoded data removed]",
      "text/plain": [
       "<Figure size 432x288 with 1 Axes>"
      ]
     },
     "metadata": {
      "needs_background": "light"
     },
     "output_type": "display_data"
    }
   ],
   "source": [
    "data.plot(y='total_area',kind='hist',range=(20,120),title='total_area',bins=80,grid=True).set_xlabel('total_area,sqr m')"
   ]
  },
  {
   "cell_type": "code",
   "execution_count": 48,
   "metadata": {},
   "outputs": [
    {
     "data": {
      "text/plain": [
       "763000000.0"
      ]
     },
     "execution_count": 48,
     "metadata": {},
     "output_type": "execute_result"
    }
   ],
   "source": [
    "data['last_price'].max()"
   ]
  },
  {
   "cell_type": "code",
   "execution_count": 49,
   "metadata": {},
   "outputs": [
    {
     "data": {
      "text/plain": [
       "Text(0.5, 0, 'price')"
      ]
     },
     "execution_count": 49,
     "metadata": {},
     "output_type": "execute_result"
    },
    {
     "data": {
      "image/png": "[encoded data removed]",
      "text/plain": [
       "<Figure size 432x288 with 1 Axes>"
      ]
     },
     "metadata": {
      "needs_background": "light"
     },
     "output_type": "display_data"
    }
   ],
   "source": [
    "data.plot(y='last_price',kind='hist',title='last_price',bins=80,grid=True).set_xlabel('price')"
   ]
  },
  {
   "cell_type": "markdown",
   "metadata": {},
   "source": [
    "По гистограмме цен можно сделать вывод, о самых популярных ценнах до 100 млн, все что дальше, уже редкие случаи. Уменьшим диапозон до 100млн, для наглядности."
   ]
  },
  {
   "cell_type": "code",
   "execution_count": 50,
   "metadata": {},
   "outputs": [
    {
     "data": {
      "text/plain": [
       "Text(0.5, 0, 'price')"
      ]
     },
     "execution_count": 50,
     "metadata": {},
     "output_type": "execute_result"
    },
    {
     "data": {
      "image/png": "[encoded data removed]",
      "text/plain": [
       "<Figure size 432x288 with 1 Axes>"
      ]
     },
     "metadata": {
      "needs_background": "light"
     },
     "output_type": "display_data"
    }
   ],
   "source": [
    "data.plot(y='last_price',kind='hist',title='last_price',range=(1,100000000),bins=80,grid=True).set_xlabel('price')"
   ]
  },
  {
   "cell_type": "markdown",
   "metadata": {},
   "source": [
    "По новым границам, самы популярные цены, до примерно 10 млн, и чем дороже, тем их меньше."
   ]
  },
  {
   "cell_type": "code",
   "execution_count": 51,
   "metadata": {},
   "outputs": [
    {
     "data": {
      "text/plain": [
       "Text(0.5, 0, 'room')"
      ]
     },
     "execution_count": 51,
     "metadata": {},
     "output_type": "execute_result"
    },
    {
     "data": {
      "image/png": "[encoded data removed]",
      "text/plain": [
       "<Figure size 432x288 with 1 Axes>"
      ]
     },
     "metadata": {
      "needs_background": "light"
     },
     "output_type": "display_data"
    }
   ],
   "source": [
    "data.plot(y='rooms',kind='hist',title='rooms',bins=80,grid=True).set_xlabel('room')"
   ]
  },
  {
   "cell_type": "markdown",
   "metadata": {},
   "source": [
    "Чем больше 5 комнат, тем меньше объявлений. Самый пик, это от 1 до 3 комнат примерно, а после 8 комна сильный спад, который практически равен 0."
   ]
  },
  {
   "cell_type": "code",
   "execution_count": 52,
   "metadata": {},
   "outputs": [
    {
     "data": {
      "text/plain": [
       "Text(0.5, 0, 'ceilinling_height')"
      ]
     },
     "execution_count": 52,
     "metadata": {},
     "output_type": "execute_result"
    },
    {
     "data": {
      "image/png": "[encoded data removed]",
      "text/plain": [
       "<Figure size 432x288 with 1 Axes>"
      ]
     },
     "metadata": {
      "needs_background": "light"
     },
     "output_type": "display_data"
    }
   ],
   "source": [
    "data.plot(y='ceiling_height',kind='hist',title='ceiling_height',bins=80,grid=True).set_xlabel('ceilinling_height')"
   ]
  },
  {
   "cell_type": "code",
   "execution_count": 53,
   "metadata": {},
   "outputs": [
    {
     "data": {
      "text/plain": [
       "Text(0.5, 0, 'ceilinling_height')"
      ]
     },
     "execution_count": 53,
     "metadata": {},
     "output_type": "execute_result"
    },
    {
     "data": {
      "image/png": "[encoded data removed]",
      "text/plain": [
       "<Figure size 432x288 with 1 Axes>"
      ]
     },
     "metadata": {
      "needs_background": "light"
     },
     "output_type": "display_data"
    }
   ],
   "source": [
    "data.plot(y='ceiling_height',kind='hist',title='ceiling_height',bins=50,grid=True,range=(2,4)).set_xlabel('ceilinling_height')"
   ]
  },
  {
   "cell_type": "markdown",
   "metadata": {},
   "source": [
    "Чуть больше 2м и чуть меньше 3х, самые распространеные квартиры, потолок выше 4м практически не найти."
   ]
  },
  {
   "cell_type": "code",
   "execution_count": 54,
   "metadata": {},
   "outputs": [
    {
     "data": {
      "text/plain": [
       "Text(0.5, 0, 'days_exposition')"
      ]
     },
     "execution_count": 54,
     "metadata": {},
     "output_type": "execute_result"
    },
    {
     "data": {
      "image/png": "[encoded data removed]",
      "text/plain": [
       "<Figure size 432x288 with 1 Axes>"
      ]
     },
     "metadata": {
      "needs_background": "light"
     },
     "output_type": "display_data"
    }
   ],
   "source": [
    "data.plot(y='days_exposition',kind='hist',title='days_exposition',bins=80,grid=True).set_xlabel('days_exposition')"
   ]
  },
  {
   "cell_type": "code",
   "execution_count": 55,
   "metadata": {},
   "outputs": [
    {
     "name": "stdout",
     "output_type": "stream",
     "text": [
      "Медиана времени актуальности обхявления: 96.00\n",
      "Среднее время продажи: 181.27\n"
     ]
    }
   ],
   "source": [
    "sale_median=data['days_exposition'].median()\n",
    "sale_q1=data['days_exposition'].quantile(0.25)\n",
    "sale_q3=data['days_exposition'].quantile(0.75)\n",
    "avg_sale = data['days_exposition'].mean()\n",
    "print('Медиана времени актуальности обхявления: {:.2f}'.format(sale_median))\n",
    "print('Среднее время продажи: {:.2f}'.format(avg_sale))"
   ]
  },
  {
   "cell_type": "markdown",
   "metadata": {},
   "source": [
    "Для анализа детализируем, участок от 0 до 400, для понимая большой рпзницы между средним и медианой."
   ]
  },
  {
   "cell_type": "code",
   "execution_count": 56,
   "metadata": {},
   "outputs": [
    {
     "name": "stdout",
     "output_type": "stream",
     "text": [
      "Быстрая продажа,если сделка произошла в срок до 45\n",
      "Долгая продажа,если сделка произошла в срок от 232\n"
     ]
    },
    {
     "data": {
      "image/png": "[encoded data removed]",
      "text/plain": [
       "<Figure size 432x288 with 1 Axes>"
      ]
     },
     "metadata": {
      "needs_background": "light"
     },
     "output_type": "display_data"
    }
   ],
   "source": [
    "data.plot(y='days_exposition',kind='hist',title='days_exposition',bins=80,grid=True,range=(0,200)).set_xlabel('days_exposition')\n",
    "sale_q1=data['days_exposition'].quantile(0.25)\n",
    "sale_q3=data['days_exposition'].quantile(0.75)\n",
    "print('Быстрая продажа,если сделка произошла в срок до {:.0f}'.format(sale_q1))\n",
    "print('Долгая продажа,если сделка произошла в срок от {:.0f}'.format(sale_q3))"
   ]
  },
  {
   "cell_type": "markdown",
   "metadata": {},
   "source": [
    "Большинство продаж происходит в рамках медийного времени, и дальше идет понижение количества продаж. Поэтому можно сделать вывод, что продажа квартир занимает до 96 суток, и можно сделать вывод, что более долгая продажа  ,считается долго. Очень быстрые продажи в районе 47 суток, и этих значений слишком много."
   ]
  },
  {
   "cell_type": "code",
   "execution_count": 57,
   "metadata": {},
   "outputs": [
    {
     "data": {
      "text/html": [
       "<div>\n",
       "<style scoped>\n",
       "    .dataframe tbody tr th:only-of-type {\n",
       "        vertical-align: middle;\n",
       "    }\n",
       "\n",
       "    .dataframe tbody tr th {\n",
       "        vertical-align: top;\n",
       "    }\n",
       "\n",
       "    .dataframe thead th {\n",
       "        text-align: right;\n",
       "    }\n",
       "</style>\n",
       "<table border=\"1\" class=\"dataframe\">\n",
       "  <thead>\n",
       "    <tr style=\"text-align: right;\">\n",
       "      <th></th>\n",
       "      <th>total_images</th>\n",
       "      <th>last_price</th>\n",
       "      <th>total_area</th>\n",
       "      <th>rooms</th>\n",
       "      <th>ceiling_height</th>\n",
       "      <th>floors_total</th>\n",
       "      <th>living_area</th>\n",
       "      <th>floor</th>\n",
       "      <th>kitchen_area</th>\n",
       "      <th>balcony</th>\n",
       "      <th>airports_nearest</th>\n",
       "      <th>cityCenters_nearest</th>\n",
       "      <th>parks_around3000</th>\n",
       "      <th>parks_nearest</th>\n",
       "      <th>ponds_around3000</th>\n",
       "      <th>ponds_nearest</th>\n",
       "      <th>days_exposition</th>\n",
       "      <th>price_square_meter</th>\n",
       "      <th>weekday</th>\n",
       "      <th>month</th>\n",
       "      <th>year</th>\n",
       "      <th>living_total_area</th>\n",
       "      <th>kitchen_total_area</th>\n",
       "    </tr>\n",
       "  </thead>\n",
       "  <tbody>\n",
       "    <tr>\n",
       "      <td>count</td>\n",
       "      <td>23290.000000</td>\n",
       "      <td>2.329000e+04</td>\n",
       "      <td>23290.000000</td>\n",
       "      <td>23290.000000</td>\n",
       "      <td>23290.000000</td>\n",
       "      <td>23290.00000</td>\n",
       "      <td>23290.000000</td>\n",
       "      <td>23290.000000</td>\n",
       "      <td>23290.000000</td>\n",
       "      <td>23290.000000</td>\n",
       "      <td>17867.000000</td>\n",
       "      <td>17890.000000</td>\n",
       "      <td>23290.000000</td>\n",
       "      <td>7954.000000</td>\n",
       "      <td>23290.000000</td>\n",
       "      <td>8920.000000</td>\n",
       "      <td>20142.000000</td>\n",
       "      <td>2.329000e+04</td>\n",
       "      <td>23290.000000</td>\n",
       "      <td>23290.000000</td>\n",
       "      <td>23290.000000</td>\n",
       "      <td>23290.000000</td>\n",
       "      <td>23290.000000</td>\n",
       "    </tr>\n",
       "    <tr>\n",
       "      <td>mean</td>\n",
       "      <td>9.904079</td>\n",
       "      <td>6.486479e+06</td>\n",
       "      <td>60.162800</td>\n",
       "      <td>2.075655</td>\n",
       "      <td>2.767029</td>\n",
       "      <td>10.62705</td>\n",
       "      <td>34.504179</td>\n",
       "      <td>5.855646</td>\n",
       "      <td>10.488306</td>\n",
       "      <td>0.592787</td>\n",
       "      <td>28790.036996</td>\n",
       "      <td>14210.909894</td>\n",
       "      <td>0.469858</td>\n",
       "      <td>489.968444</td>\n",
       "      <td>0.588321</td>\n",
       "      <td>519.028812</td>\n",
       "      <td>181.265912</td>\n",
       "      <td>9.918310e+04</td>\n",
       "      <td>2.566423</td>\n",
       "      <td>6.394118</td>\n",
       "      <td>2017.368184</td>\n",
       "      <td>0.564490</td>\n",
       "      <td>0.187673</td>\n",
       "    </tr>\n",
       "    <tr>\n",
       "      <td>std</td>\n",
       "      <td>5.683116</td>\n",
       "      <td>1.064312e+07</td>\n",
       "      <td>34.341993</td>\n",
       "      <td>1.070825</td>\n",
       "      <td>1.018820</td>\n",
       "      <td>6.57220</td>\n",
       "      <td>21.792727</td>\n",
       "      <td>4.854872</td>\n",
       "      <td>5.753942</td>\n",
       "      <td>0.959348</td>\n",
       "      <td>12644.477132</td>\n",
       "      <td>8624.697515</td>\n",
       "      <td>0.748948</td>\n",
       "      <td>340.017789</td>\n",
       "      <td>0.882286</td>\n",
       "      <td>277.846488</td>\n",
       "      <td>219.842973</td>\n",
       "      <td>5.015644e+04</td>\n",
       "      <td>1.788626</td>\n",
       "      <td>3.491950</td>\n",
       "      <td>1.037901</td>\n",
       "      <td>0.101842</td>\n",
       "      <td>0.070909</td>\n",
       "    </tr>\n",
       "    <tr>\n",
       "      <td>min</td>\n",
       "      <td>0.000000</td>\n",
       "      <td>1.219000e+04</td>\n",
       "      <td>14.000000</td>\n",
       "      <td>0.000000</td>\n",
       "      <td>1.000000</td>\n",
       "      <td>1.00000</td>\n",
       "      <td>2.000000</td>\n",
       "      <td>1.000000</td>\n",
       "      <td>1.300000</td>\n",
       "      <td>0.000000</td>\n",
       "      <td>0.000000</td>\n",
       "      <td>181.000000</td>\n",
       "      <td>0.000000</td>\n",
       "      <td>1.000000</td>\n",
       "      <td>0.000000</td>\n",
       "      <td>13.000000</td>\n",
       "      <td>1.000000</td>\n",
       "      <td>1.118300e+02</td>\n",
       "      <td>0.000000</td>\n",
       "      <td>1.000000</td>\n",
       "      <td>2014.000000</td>\n",
       "      <td>0.021583</td>\n",
       "      <td>0.025381</td>\n",
       "    </tr>\n",
       "    <tr>\n",
       "      <td>25%</td>\n",
       "      <td>6.000000</td>\n",
       "      <td>3.450000e+06</td>\n",
       "      <td>40.000000</td>\n",
       "      <td>1.000000</td>\n",
       "      <td>2.571801</td>\n",
       "      <td>5.00000</td>\n",
       "      <td>18.800000</td>\n",
       "      <td>2.000000</td>\n",
       "      <td>7.000000</td>\n",
       "      <td>0.000000</td>\n",
       "      <td>18543.500000</td>\n",
       "      <td>9257.750000</td>\n",
       "      <td>0.000000</td>\n",
       "      <td>288.000000</td>\n",
       "      <td>0.000000</td>\n",
       "      <td>294.000000</td>\n",
       "      <td>45.000000</td>\n",
       "      <td>7.643404e+04</td>\n",
       "      <td>1.000000</td>\n",
       "      <td>3.000000</td>\n",
       "      <td>2017.000000</td>\n",
       "      <td>0.500000</td>\n",
       "      <td>0.136195</td>\n",
       "    </tr>\n",
       "    <tr>\n",
       "      <td>50%</td>\n",
       "      <td>9.000000</td>\n",
       "      <td>4.650000e+06</td>\n",
       "      <td>52.000000</td>\n",
       "      <td>2.000000</td>\n",
       "      <td>2.700000</td>\n",
       "      <td>9.00000</td>\n",
       "      <td>30.000000</td>\n",
       "      <td>4.000000</td>\n",
       "      <td>9.100000</td>\n",
       "      <td>0.000000</td>\n",
       "      <td>26752.000000</td>\n",
       "      <td>13111.500000</td>\n",
       "      <td>0.000000</td>\n",
       "      <td>455.000000</td>\n",
       "      <td>0.000000</td>\n",
       "      <td>503.500000</td>\n",
       "      <td>96.000000</td>\n",
       "      <td>9.489857e+04</td>\n",
       "      <td>3.000000</td>\n",
       "      <td>6.000000</td>\n",
       "      <td>2017.000000</td>\n",
       "      <td>0.569328</td>\n",
       "      <td>0.173545</td>\n",
       "    </tr>\n",
       "    <tr>\n",
       "      <td>75%</td>\n",
       "      <td>14.000000</td>\n",
       "      <td>6.774440e+06</td>\n",
       "      <td>69.700000</td>\n",
       "      <td>3.000000</td>\n",
       "      <td>2.800000</td>\n",
       "      <td>16.00000</td>\n",
       "      <td>42.300000</td>\n",
       "      <td>8.000000</td>\n",
       "      <td>11.850000</td>\n",
       "      <td>1.000000</td>\n",
       "      <td>37247.000000</td>\n",
       "      <td>16285.000000</td>\n",
       "      <td>1.000000</td>\n",
       "      <td>612.000000</td>\n",
       "      <td>1.000000</td>\n",
       "      <td>732.000000</td>\n",
       "      <td>232.000000</td>\n",
       "      <td>1.140351e+05</td>\n",
       "      <td>4.000000</td>\n",
       "      <td>10.000000</td>\n",
       "      <td>2018.000000</td>\n",
       "      <td>0.632475</td>\n",
       "      <td>0.230263</td>\n",
       "    </tr>\n",
       "    <tr>\n",
       "      <td>max</td>\n",
       "      <td>50.000000</td>\n",
       "      <td>7.630000e+08</td>\n",
       "      <td>900.000000</td>\n",
       "      <td>19.000000</td>\n",
       "      <td>100.000000</td>\n",
       "      <td>60.00000</td>\n",
       "      <td>409.700000</td>\n",
       "      <td>33.000000</td>\n",
       "      <td>112.000000</td>\n",
       "      <td>5.000000</td>\n",
       "      <td>84869.000000</td>\n",
       "      <td>65968.000000</td>\n",
       "      <td>3.000000</td>\n",
       "      <td>3190.000000</td>\n",
       "      <td>3.000000</td>\n",
       "      <td>1344.000000</td>\n",
       "      <td>1580.000000</td>\n",
       "      <td>1.907500e+06</td>\n",
       "      <td>6.000000</td>\n",
       "      <td>12.000000</td>\n",
       "      <td>2019.000000</td>\n",
       "      <td>1.000000</td>\n",
       "      <td>0.787879</td>\n",
       "    </tr>\n",
       "  </tbody>\n",
       "</table>\n",
       "</div>"
      ],
      "text/plain": [
       "       total_images    last_price    total_area         rooms  ceiling_height  \\\n",
       "count  23290.000000  2.329000e+04  23290.000000  23290.000000    23290.000000   \n",
       "mean       9.904079  6.486479e+06     60.162800      2.075655        2.767029   \n",
       "std        5.683116  1.064312e+07     34.341993      1.070825        1.018820   \n",
       "min        0.000000  1.219000e+04     14.000000      0.000000        1.000000   \n",
       "25%        6.000000  3.450000e+06     40.000000      1.000000        2.571801   \n",
       "50%        9.000000  4.650000e+06     52.000000      2.000000        2.700000   \n",
       "75%       14.000000  6.774440e+06     69.700000      3.000000        2.800000   \n",
       "max       50.000000  7.630000e+08    900.000000     19.000000      100.000000   \n",
       "\n",
       "       floors_total   living_area         floor  kitchen_area       balcony  \\\n",
       "count   23290.00000  23290.000000  23290.000000  23290.000000  23290.000000   \n",
       "mean       10.62705     34.504179      5.855646     10.488306      0.592787   \n",
       "std         6.57220     21.792727      4.854872      5.753942      0.959348   \n",
       "min         1.00000      2.000000      1.000000      1.300000      0.000000   \n",
       "25%         5.00000     18.800000      2.000000      7.000000      0.000000   \n",
       "50%         9.00000     30.000000      4.000000      9.100000      0.000000   \n",
       "75%        16.00000     42.300000      8.000000     11.850000      1.000000   \n",
       "max        60.00000    409.700000     33.000000    112.000000      5.000000   \n",
       "\n",
       "       airports_nearest  cityCenters_nearest  parks_around3000  parks_nearest  \\\n",
       "count      17867.000000         17890.000000      23290.000000    7954.000000   \n",
       "mean       28790.036996         14210.909894          0.469858     489.968444   \n",
       "std        12644.477132          8624.697515          0.748948     340.017789   \n",
       "min            0.000000           181.000000          0.000000       1.000000   \n",
       "25%        18543.500000          9257.750000          0.000000     288.000000   \n",
       "50%        26752.000000         13111.500000          0.000000     455.000000   \n",
       "75%        37247.000000         16285.000000          1.000000     612.000000   \n",
       "max        84869.000000         65968.000000          3.000000    3190.000000   \n",
       "\n",
       "       ponds_around3000  ponds_nearest  days_exposition  price_square_meter  \\\n",
       "count      23290.000000    8920.000000     20142.000000        2.329000e+04   \n",
       "mean           0.588321     519.028812       181.265912        9.918310e+04   \n",
       "std            0.882286     277.846488       219.842973        5.015644e+04   \n",
       "min            0.000000      13.000000         1.000000        1.118300e+02   \n",
       "25%            0.000000     294.000000        45.000000        7.643404e+04   \n",
       "50%            0.000000     503.500000        96.000000        9.489857e+04   \n",
       "75%            1.000000     732.000000       232.000000        1.140351e+05   \n",
       "max            3.000000    1344.000000      1580.000000        1.907500e+06   \n",
       "\n",
       "            weekday         month          year  living_total_area  \\\n",
       "count  23290.000000  23290.000000  23290.000000       23290.000000   \n",
       "mean       2.566423      6.394118   2017.368184           0.564490   \n",
       "std        1.788626      3.491950      1.037901           0.101842   \n",
       "min        0.000000      1.000000   2014.000000           0.021583   \n",
       "25%        1.000000      3.000000   2017.000000           0.500000   \n",
       "50%        3.000000      6.000000   2017.000000           0.569328   \n",
       "75%        4.000000     10.000000   2018.000000           0.632475   \n",
       "max        6.000000     12.000000   2019.000000           1.000000   \n",
       "\n",
       "       kitchen_total_area  \n",
       "count        23290.000000  \n",
       "mean             0.187673  \n",
       "std              0.070909  \n",
       "min              0.025381  \n",
       "25%              0.136195  \n",
       "50%              0.173545  \n",
       "75%              0.230263  \n",
       "max              0.787879  "
      ]
     },
     "metadata": {},
     "output_type": "display_data"
    }
   ],
   "source": [
    "display(data.describe())"
   ]
  },
  {
   "cell_type": "markdown",
   "metadata": {},
   "source": [
    "Можем наблюдать в каких столбцах есть большие различия, так например общая площадь,высота потолков, последняя стоимость, стоимость квадратного метра показывают большую разницу между 3 квартилем и максимумом, попробуем построить диаграмы размаха, и проверить наши выводы."
   ]
  },
  {
   "cell_type": "code",
   "execution_count": 58,
   "metadata": {},
   "outputs": [
    {
     "data": {
      "text/plain": [
       "<matplotlib.axes._subplots.AxesSubplot at 0x7f1153ecf850>"
      ]
     },
     "execution_count": 58,
     "metadata": {},
     "output_type": "execute_result"
    },
    {
     "data": {
      "image/png": "[encoded data removed]",
      "text/plain": [
       "<Figure size 432x288 with 1 Axes>"
      ]
     },
     "metadata": {
      "needs_background": "light"
     },
     "output_type": "display_data"
    }
   ],
   "source": [
    "data.boxplot('total_area')"
   ]
  },
  {
   "cell_type": "code",
   "execution_count": 59,
   "metadata": {},
   "outputs": [
    {
     "data": {
      "text/plain": [
       "<matplotlib.axes._subplots.AxesSubplot at 0x7f1153e98c90>"
      ]
     },
     "execution_count": 59,
     "metadata": {},
     "output_type": "execute_result"
    },
    {
     "data": {
      "image/png": "[encoded data removed]",
      "text/plain": [
       "<Figure size 432x288 with 1 Axes>"
      ]
     },
     "metadata": {
      "needs_background": "light"
     },
     "output_type": "display_data"
    }
   ],
   "source": [
    "data.boxplot('last_price')"
   ]
  },
  {
   "cell_type": "code",
   "execution_count": 60,
   "metadata": {},
   "outputs": [
    {
     "data": {
      "text/plain": [
       "<matplotlib.axes._subplots.AxesSubplot at 0x7f1153df16d0>"
      ]
     },
     "execution_count": 60,
     "metadata": {},
     "output_type": "execute_result"
    },
    {
     "data": {
      "image/png": "[encoded data removed]",
      "text/plain": [
       "<Figure size 432x288 with 1 Axes>"
      ]
     },
     "metadata": {
      "needs_background": "light"
     },
     "output_type": "display_data"
    }
   ],
   "source": [
    "data.boxplot('ceiling_height')"
   ]
  },
  {
   "cell_type": "code",
   "execution_count": 61,
   "metadata": {},
   "outputs": [
    {
     "data": {
      "text/plain": [
       "<matplotlib.axes._subplots.AxesSubplot at 0x7f1153d74310>"
      ]
     },
     "execution_count": 61,
     "metadata": {},
     "output_type": "execute_result"
    },
    {
     "data": {
      "image/png": "[encoded data removed]",
      "text/plain": [
       "<Figure size 432x288 with 1 Axes>"
      ]
     },
     "metadata": {
      "needs_background": "light"
     },
     "output_type": "display_data"
    }
   ],
   "source": [
    "data.boxplot('price_square_meter')"
   ]
  },
  {
   "cell_type": "markdown",
   "metadata": {},
   "source": [
    "Диаграма разброса доказывает наше предположение о некоторых выбросах в значении данных столбцов. Отфильтруем значения в нашем датафрейме."
   ]
  },
  {
   "cell_type": "code",
   "execution_count": 62,
   "metadata": {},
   "outputs": [
    {
     "data": {
      "text/plain": [
       "Text(0.5, 0, 'total_area,sqr m')"
      ]
     },
     "execution_count": 62,
     "metadata": {},
     "output_type": "execute_result"
    },
    {
     "data": {
      "image/png": "[encoded data removed]",
      "text/plain": [
       "<Figure size 432x288 with 1 Axes>"
      ]
     },
     "metadata": {
      "needs_background": "light"
     },
     "output_type": "display_data"
    }
   ],
   "source": [
    "data['total_area']=data.query('25<total_area<=100')['total_area']\n",
    "data.plot(y='total_area',kind='hist',title='total_area',bins=80,grid=True).set_xlabel('total_area,sqr m')"
   ]
  },
  {
   "cell_type": "code",
   "execution_count": 63,
   "metadata": {},
   "outputs": [
    {
     "data": {
      "text/plain": [
       "Text(0.5, 0, 'ceiling_height, m')"
      ]
     },
     "execution_count": 63,
     "metadata": {},
     "output_type": "execute_result"
    },
    {
     "data": {
      "image/png": "[encoded data removed]",
      "text/plain": [
       "<Figure size 432x288 with 1 Axes>"
      ]
     },
     "metadata": {
      "needs_background": "light"
     },
     "output_type": "display_data"
    }
   ],
   "source": [
    "data['ceiling_height']=data.query('2.5<=ceiling_height<=3.25')['ceiling_height']\n",
    "data.plot(y='ceiling_height',kind='hist',title='ceiling_height',bins=30,grid=True).set_xlabel('ceiling_height, m')"
   ]
  },
  {
   "cell_type": "code",
   "execution_count": 64,
   "metadata": {},
   "outputs": [
    {
     "data": {
      "text/plain": [
       "Text(0.5, 0, 'last_price')"
      ]
     },
     "execution_count": 64,
     "metadata": {},
     "output_type": "execute_result"
    },
    {
     "data": {
      "image/png": "[encoded data removed]",
      "text/plain": [
       "<Figure size 432x288 with 1 Axes>"
      ]
     },
     "metadata": {
      "needs_background": "light"
     },
     "output_type": "display_data"
    }
   ],
   "source": [
    "data['last_price']=data.query('last_price<=10000000')['last_price']\n",
    "data.plot(y='last_price',kind='hist',title='last_price',bins=50,grid=True).set_xlabel('last_price')"
   ]
  },
  {
   "cell_type": "code",
   "execution_count": 65,
   "metadata": {},
   "outputs": [
    {
     "data": {
      "text/html": [
       "<div>\n",
       "<style scoped>\n",
       "    .dataframe tbody tr th:only-of-type {\n",
       "        vertical-align: middle;\n",
       "    }\n",
       "\n",
       "    .dataframe tbody tr th {\n",
       "        vertical-align: top;\n",
       "    }\n",
       "\n",
       "    .dataframe thead th {\n",
       "        text-align: right;\n",
       "    }\n",
       "</style>\n",
       "<table border=\"1\" class=\"dataframe\">\n",
       "  <thead>\n",
       "    <tr style=\"text-align: right;\">\n",
       "      <th></th>\n",
       "      <th>total_images</th>\n",
       "      <th>last_price</th>\n",
       "      <th>total_area</th>\n",
       "      <th>rooms</th>\n",
       "      <th>ceiling_height</th>\n",
       "      <th>floors_total</th>\n",
       "      <th>living_area</th>\n",
       "      <th>floor</th>\n",
       "      <th>kitchen_area</th>\n",
       "      <th>balcony</th>\n",
       "      <th>airports_nearest</th>\n",
       "      <th>cityCenters_nearest</th>\n",
       "      <th>parks_around3000</th>\n",
       "      <th>parks_nearest</th>\n",
       "      <th>ponds_around3000</th>\n",
       "      <th>ponds_nearest</th>\n",
       "      <th>days_exposition</th>\n",
       "      <th>price_square_meter</th>\n",
       "      <th>weekday</th>\n",
       "      <th>month</th>\n",
       "      <th>year</th>\n",
       "      <th>living_total_area</th>\n",
       "      <th>kitchen_total_area</th>\n",
       "    </tr>\n",
       "  </thead>\n",
       "  <tbody>\n",
       "    <tr>\n",
       "      <td>count</td>\n",
       "      <td>23290.000000</td>\n",
       "      <td>2.065300e+04</td>\n",
       "      <td>21361.000000</td>\n",
       "      <td>23290.000000</td>\n",
       "      <td>22378.000000</td>\n",
       "      <td>23290.00000</td>\n",
       "      <td>23290.000000</td>\n",
       "      <td>23290.000000</td>\n",
       "      <td>23290.000000</td>\n",
       "      <td>23290.000000</td>\n",
       "      <td>17867.000000</td>\n",
       "      <td>17890.000000</td>\n",
       "      <td>23290.000000</td>\n",
       "      <td>7954.000000</td>\n",
       "      <td>23290.000000</td>\n",
       "      <td>8920.000000</td>\n",
       "      <td>20142.000000</td>\n",
       "      <td>2.329000e+04</td>\n",
       "      <td>23290.000000</td>\n",
       "      <td>23290.000000</td>\n",
       "      <td>23290.000000</td>\n",
       "      <td>23290.000000</td>\n",
       "      <td>23290.000000</td>\n",
       "    </tr>\n",
       "    <tr>\n",
       "      <td>mean</td>\n",
       "      <td>9.904079</td>\n",
       "      <td>4.658918e+06</td>\n",
       "      <td>53.299215</td>\n",
       "      <td>2.075655</td>\n",
       "      <td>2.706744</td>\n",
       "      <td>10.62705</td>\n",
       "      <td>34.504179</td>\n",
       "      <td>5.855646</td>\n",
       "      <td>10.488306</td>\n",
       "      <td>0.592787</td>\n",
       "      <td>28790.036996</td>\n",
       "      <td>14210.909894</td>\n",
       "      <td>0.469858</td>\n",
       "      <td>489.968444</td>\n",
       "      <td>0.588321</td>\n",
       "      <td>519.028812</td>\n",
       "      <td>181.265912</td>\n",
       "      <td>9.918310e+04</td>\n",
       "      <td>2.566423</td>\n",
       "      <td>6.394118</td>\n",
       "      <td>2017.368184</td>\n",
       "      <td>0.564490</td>\n",
       "      <td>0.187673</td>\n",
       "    </tr>\n",
       "    <tr>\n",
       "      <td>std</td>\n",
       "      <td>5.683116</td>\n",
       "      <td>1.966111e+06</td>\n",
       "      <td>17.315082</td>\n",
       "      <td>1.070825</td>\n",
       "      <td>0.178489</td>\n",
       "      <td>6.57220</td>\n",
       "      <td>21.792727</td>\n",
       "      <td>4.854872</td>\n",
       "      <td>5.753942</td>\n",
       "      <td>0.959348</td>\n",
       "      <td>12644.477132</td>\n",
       "      <td>8624.697515</td>\n",
       "      <td>0.748948</td>\n",
       "      <td>340.017789</td>\n",
       "      <td>0.882286</td>\n",
       "      <td>277.846488</td>\n",
       "      <td>219.842973</td>\n",
       "      <td>5.015644e+04</td>\n",
       "      <td>1.788626</td>\n",
       "      <td>3.491950</td>\n",
       "      <td>1.037901</td>\n",
       "      <td>0.101842</td>\n",
       "      <td>0.070909</td>\n",
       "    </tr>\n",
       "    <tr>\n",
       "      <td>min</td>\n",
       "      <td>0.000000</td>\n",
       "      <td>1.219000e+04</td>\n",
       "      <td>25.200000</td>\n",
       "      <td>0.000000</td>\n",
       "      <td>2.500000</td>\n",
       "      <td>1.00000</td>\n",
       "      <td>2.000000</td>\n",
       "      <td>1.000000</td>\n",
       "      <td>1.300000</td>\n",
       "      <td>0.000000</td>\n",
       "      <td>0.000000</td>\n",
       "      <td>181.000000</td>\n",
       "      <td>0.000000</td>\n",
       "      <td>1.000000</td>\n",
       "      <td>0.000000</td>\n",
       "      <td>13.000000</td>\n",
       "      <td>1.000000</td>\n",
       "      <td>1.118300e+02</td>\n",
       "      <td>0.000000</td>\n",
       "      <td>1.000000</td>\n",
       "      <td>2014.000000</td>\n",
       "      <td>0.021583</td>\n",
       "      <td>0.025381</td>\n",
       "    </tr>\n",
       "    <tr>\n",
       "      <td>25%</td>\n",
       "      <td>6.000000</td>\n",
       "      <td>3.300000e+06</td>\n",
       "      <td>39.700000</td>\n",
       "      <td>1.000000</td>\n",
       "      <td>2.567143</td>\n",
       "      <td>5.00000</td>\n",
       "      <td>18.800000</td>\n",
       "      <td>2.000000</td>\n",
       "      <td>7.000000</td>\n",
       "      <td>0.000000</td>\n",
       "      <td>18543.500000</td>\n",
       "      <td>9257.750000</td>\n",
       "      <td>0.000000</td>\n",
       "      <td>288.000000</td>\n",
       "      <td>0.000000</td>\n",
       "      <td>294.000000</td>\n",
       "      <td>45.000000</td>\n",
       "      <td>7.643404e+04</td>\n",
       "      <td>1.000000</td>\n",
       "      <td>3.000000</td>\n",
       "      <td>2017.000000</td>\n",
       "      <td>0.500000</td>\n",
       "      <td>0.136195</td>\n",
       "    </tr>\n",
       "    <tr>\n",
       "      <td>50%</td>\n",
       "      <td>9.000000</td>\n",
       "      <td>4.350000e+06</td>\n",
       "      <td>50.000000</td>\n",
       "      <td>2.000000</td>\n",
       "      <td>2.694540</td>\n",
       "      <td>9.00000</td>\n",
       "      <td>30.000000</td>\n",
       "      <td>4.000000</td>\n",
       "      <td>9.100000</td>\n",
       "      <td>0.000000</td>\n",
       "      <td>26752.000000</td>\n",
       "      <td>13111.500000</td>\n",
       "      <td>0.000000</td>\n",
       "      <td>455.000000</td>\n",
       "      <td>0.000000</td>\n",
       "      <td>503.500000</td>\n",
       "      <td>96.000000</td>\n",
       "      <td>9.489857e+04</td>\n",
       "      <td>3.000000</td>\n",
       "      <td>6.000000</td>\n",
       "      <td>2017.000000</td>\n",
       "      <td>0.569328</td>\n",
       "      <td>0.173545</td>\n",
       "    </tr>\n",
       "    <tr>\n",
       "      <td>75%</td>\n",
       "      <td>14.000000</td>\n",
       "      <td>5.800000e+06</td>\n",
       "      <td>64.000000</td>\n",
       "      <td>3.000000</td>\n",
       "      <td>2.790000</td>\n",
       "      <td>16.00000</td>\n",
       "      <td>42.300000</td>\n",
       "      <td>8.000000</td>\n",
       "      <td>11.850000</td>\n",
       "      <td>1.000000</td>\n",
       "      <td>37247.000000</td>\n",
       "      <td>16285.000000</td>\n",
       "      <td>1.000000</td>\n",
       "      <td>612.000000</td>\n",
       "      <td>1.000000</td>\n",
       "      <td>732.000000</td>\n",
       "      <td>232.000000</td>\n",
       "      <td>1.140351e+05</td>\n",
       "      <td>4.000000</td>\n",
       "      <td>10.000000</td>\n",
       "      <td>2018.000000</td>\n",
       "      <td>0.632475</td>\n",
       "      <td>0.230263</td>\n",
       "    </tr>\n",
       "    <tr>\n",
       "      <td>max</td>\n",
       "      <td>50.000000</td>\n",
       "      <td>1.000000e+07</td>\n",
       "      <td>100.000000</td>\n",
       "      <td>19.000000</td>\n",
       "      <td>3.250000</td>\n",
       "      <td>60.00000</td>\n",
       "      <td>409.700000</td>\n",
       "      <td>33.000000</td>\n",
       "      <td>112.000000</td>\n",
       "      <td>5.000000</td>\n",
       "      <td>84869.000000</td>\n",
       "      <td>65968.000000</td>\n",
       "      <td>3.000000</td>\n",
       "      <td>3190.000000</td>\n",
       "      <td>3.000000</td>\n",
       "      <td>1344.000000</td>\n",
       "      <td>1580.000000</td>\n",
       "      <td>1.907500e+06</td>\n",
       "      <td>6.000000</td>\n",
       "      <td>12.000000</td>\n",
       "      <td>2019.000000</td>\n",
       "      <td>1.000000</td>\n",
       "      <td>0.787879</td>\n",
       "    </tr>\n",
       "  </tbody>\n",
       "</table>\n",
       "</div>"
      ],
      "text/plain": [
       "       total_images    last_price    total_area         rooms  ceiling_height  \\\n",
       "count  23290.000000  2.065300e+04  21361.000000  23290.000000    22378.000000   \n",
       "mean       9.904079  4.658918e+06     53.299215      2.075655        2.706744   \n",
       "std        5.683116  1.966111e+06     17.315082      1.070825        0.178489   \n",
       "min        0.000000  1.219000e+04     25.200000      0.000000        2.500000   \n",
       "25%        6.000000  3.300000e+06     39.700000      1.000000        2.567143   \n",
       "50%        9.000000  4.350000e+06     50.000000      2.000000        2.694540   \n",
       "75%       14.000000  5.800000e+06     64.000000      3.000000        2.790000   \n",
       "max       50.000000  1.000000e+07    100.000000     19.000000        3.250000   \n",
       "\n",
       "       floors_total   living_area         floor  kitchen_area       balcony  \\\n",
       "count   23290.00000  23290.000000  23290.000000  23290.000000  23290.000000   \n",
       "mean       10.62705     34.504179      5.855646     10.488306      0.592787   \n",
       "std         6.57220     21.792727      4.854872      5.753942      0.959348   \n",
       "min         1.00000      2.000000      1.000000      1.300000      0.000000   \n",
       "25%         5.00000     18.800000      2.000000      7.000000      0.000000   \n",
       "50%         9.00000     30.000000      4.000000      9.100000      0.000000   \n",
       "75%        16.00000     42.300000      8.000000     11.850000      1.000000   \n",
       "max        60.00000    409.700000     33.000000    112.000000      5.000000   \n",
       "\n",
       "       airports_nearest  cityCenters_nearest  parks_around3000  parks_nearest  \\\n",
       "count      17867.000000         17890.000000      23290.000000    7954.000000   \n",
       "mean       28790.036996         14210.909894          0.469858     489.968444   \n",
       "std        12644.477132          8624.697515          0.748948     340.017789   \n",
       "min            0.000000           181.000000          0.000000       1.000000   \n",
       "25%        18543.500000          9257.750000          0.000000     288.000000   \n",
       "50%        26752.000000         13111.500000          0.000000     455.000000   \n",
       "75%        37247.000000         16285.000000          1.000000     612.000000   \n",
       "max        84869.000000         65968.000000          3.000000    3190.000000   \n",
       "\n",
       "       ponds_around3000  ponds_nearest  days_exposition  price_square_meter  \\\n",
       "count      23290.000000    8920.000000     20142.000000        2.329000e+04   \n",
       "mean           0.588321     519.028812       181.265912        9.918310e+04   \n",
       "std            0.882286     277.846488       219.842973        5.015644e+04   \n",
       "min            0.000000      13.000000         1.000000        1.118300e+02   \n",
       "25%            0.000000     294.000000        45.000000        7.643404e+04   \n",
       "50%            0.000000     503.500000        96.000000        9.489857e+04   \n",
       "75%            1.000000     732.000000       232.000000        1.140351e+05   \n",
       "max            3.000000    1344.000000      1580.000000        1.907500e+06   \n",
       "\n",
       "            weekday         month          year  living_total_area  \\\n",
       "count  23290.000000  23290.000000  23290.000000       23290.000000   \n",
       "mean       2.566423      6.394118   2017.368184           0.564490   \n",
       "std        1.788626      3.491950      1.037901           0.101842   \n",
       "min        0.000000      1.000000   2014.000000           0.021583   \n",
       "25%        1.000000      3.000000   2017.000000           0.500000   \n",
       "50%        3.000000      6.000000   2017.000000           0.569328   \n",
       "75%        4.000000     10.000000   2018.000000           0.632475   \n",
       "max        6.000000     12.000000   2019.000000           1.000000   \n",
       "\n",
       "       kitchen_total_area  \n",
       "count        23290.000000  \n",
       "mean             0.187673  \n",
       "std              0.070909  \n",
       "min              0.025381  \n",
       "25%              0.136195  \n",
       "50%              0.173545  \n",
       "75%              0.230263  \n",
       "max              0.787879  "
      ]
     },
     "execution_count": 65,
     "metadata": {},
     "output_type": "execute_result"
    }
   ],
   "source": [
    "data.describe()"
   ]
  },
  {
   "cell_type": "code",
   "execution_count": 66,
   "metadata": {},
   "outputs": [
    {
     "data": {
      "text/html": [
       "<div>\n",
       "<style scoped>\n",
       "    .dataframe tbody tr th:only-of-type {\n",
       "        vertical-align: middle;\n",
       "    }\n",
       "\n",
       "    .dataframe tbody tr th {\n",
       "        vertical-align: top;\n",
       "    }\n",
       "\n",
       "    .dataframe thead th {\n",
       "        text-align: right;\n",
       "    }\n",
       "</style>\n",
       "<table border=\"1\" class=\"dataframe\">\n",
       "  <thead>\n",
       "    <tr style=\"text-align: right;\">\n",
       "      <th></th>\n",
       "      <th>total_images</th>\n",
       "      <th>last_price</th>\n",
       "      <th>total_area</th>\n",
       "      <th>rooms</th>\n",
       "      <th>ceiling_height</th>\n",
       "      <th>floors_total</th>\n",
       "      <th>living_area</th>\n",
       "      <th>floor</th>\n",
       "      <th>kitchen_area</th>\n",
       "      <th>balcony</th>\n",
       "      <th>airports_nearest</th>\n",
       "      <th>cityCenters_nearest</th>\n",
       "      <th>parks_around3000</th>\n",
       "      <th>parks_nearest</th>\n",
       "      <th>ponds_around3000</th>\n",
       "      <th>ponds_nearest</th>\n",
       "      <th>days_exposition</th>\n",
       "      <th>price_square_meter</th>\n",
       "      <th>weekday</th>\n",
       "      <th>month</th>\n",
       "      <th>year</th>\n",
       "      <th>living_total_area</th>\n",
       "      <th>kitchen_total_area</th>\n",
       "    </tr>\n",
       "  </thead>\n",
       "  <tbody>\n",
       "    <tr>\n",
       "      <td>count</td>\n",
       "      <td>10927.000000</td>\n",
       "      <td>1.092700e+04</td>\n",
       "      <td>10825.000000</td>\n",
       "      <td>10927.000000</td>\n",
       "      <td>10678.000000</td>\n",
       "      <td>10927.000000</td>\n",
       "      <td>10927.000000</td>\n",
       "      <td>10927.000000</td>\n",
       "      <td>10927.000000</td>\n",
       "      <td>10927.000000</td>\n",
       "      <td>8865.000000</td>\n",
       "      <td>8876.000000</td>\n",
       "      <td>10927.000000</td>\n",
       "      <td>3727.000000</td>\n",
       "      <td>10927.000000</td>\n",
       "      <td>4089.000000</td>\n",
       "      <td>10927.000000</td>\n",
       "      <td>10927.000000</td>\n",
       "      <td>10927.000000</td>\n",
       "      <td>10927.000000</td>\n",
       "      <td>10927.000000</td>\n",
       "      <td>10927.000000</td>\n",
       "      <td>10927.000000</td>\n",
       "    </tr>\n",
       "    <tr>\n",
       "      <td>mean</td>\n",
       "      <td>9.912419</td>\n",
       "      <td>5.098934e+06</td>\n",
       "      <td>56.283095</td>\n",
       "      <td>2.187060</td>\n",
       "      <td>2.692464</td>\n",
       "      <td>10.432232</td>\n",
       "      <td>33.937228</td>\n",
       "      <td>5.667887</td>\n",
       "      <td>9.044236</td>\n",
       "      <td>0.608218</td>\n",
       "      <td>28812.121827</td>\n",
       "      <td>15029.924403</td>\n",
       "      <td>0.456575</td>\n",
       "      <td>477.188087</td>\n",
       "      <td>0.548092</td>\n",
       "      <td>542.649058</td>\n",
       "      <td>124.899606</td>\n",
       "      <td>91056.309348</td>\n",
       "      <td>2.586437</td>\n",
       "      <td>6.562002</td>\n",
       "      <td>2017.356273</td>\n",
       "      <td>0.594706</td>\n",
       "      <td>0.165454</td>\n",
       "    </tr>\n",
       "    <tr>\n",
       "      <td>std</td>\n",
       "      <td>5.582778</td>\n",
       "      <td>1.733377e+06</td>\n",
       "      <td>14.085654</td>\n",
       "      <td>0.792241</td>\n",
       "      <td>0.171387</td>\n",
       "      <td>6.161025</td>\n",
       "      <td>10.675802</td>\n",
       "      <td>4.546521</td>\n",
       "      <td>2.461798</td>\n",
       "      <td>0.960209</td>\n",
       "      <td>12921.898379</td>\n",
       "      <td>8461.578358</td>\n",
       "      <td>0.723621</td>\n",
       "      <td>306.329532</td>\n",
       "      <td>0.831958</td>\n",
       "      <td>274.618614</td>\n",
       "      <td>117.402146</td>\n",
       "      <td>24309.408853</td>\n",
       "      <td>1.785344</td>\n",
       "      <td>3.499009</td>\n",
       "      <td>0.853760</td>\n",
       "      <td>0.082845</td>\n",
       "      <td>0.049140</td>\n",
       "    </tr>\n",
       "    <tr>\n",
       "      <td>min</td>\n",
       "      <td>0.000000</td>\n",
       "      <td>2.100000e+06</td>\n",
       "      <td>25.200000</td>\n",
       "      <td>1.000000</td>\n",
       "      <td>2.500000</td>\n",
       "      <td>1.000000</td>\n",
       "      <td>18.020000</td>\n",
       "      <td>1.000000</td>\n",
       "      <td>4.100000</td>\n",
       "      <td>0.000000</td>\n",
       "      <td>0.000000</td>\n",
       "      <td>208.000000</td>\n",
       "      <td>0.000000</td>\n",
       "      <td>1.000000</td>\n",
       "      <td>0.000000</td>\n",
       "      <td>16.000000</td>\n",
       "      <td>1.000000</td>\n",
       "      <td>16842.110000</td>\n",
       "      <td>0.000000</td>\n",
       "      <td>1.000000</td>\n",
       "      <td>2015.000000</td>\n",
       "      <td>0.226316</td>\n",
       "      <td>0.059933</td>\n",
       "    </tr>\n",
       "    <tr>\n",
       "      <td>25%</td>\n",
       "      <td>6.000000</td>\n",
       "      <td>3.815000e+06</td>\n",
       "      <td>45.000000</td>\n",
       "      <td>2.000000</td>\n",
       "      <td>2.550000</td>\n",
       "      <td>5.000000</td>\n",
       "      <td>27.000000</td>\n",
       "      <td>2.000000</td>\n",
       "      <td>7.000000</td>\n",
       "      <td>0.000000</td>\n",
       "      <td>17863.000000</td>\n",
       "      <td>10829.000000</td>\n",
       "      <td>0.000000</td>\n",
       "      <td>288.500000</td>\n",
       "      <td>0.000000</td>\n",
       "      <td>327.000000</td>\n",
       "      <td>41.000000</td>\n",
       "      <td>75510.365000</td>\n",
       "      <td>1.000000</td>\n",
       "      <td>3.000000</td>\n",
       "      <td>2017.000000</td>\n",
       "      <td>0.541146</td>\n",
       "      <td>0.129709</td>\n",
       "    </tr>\n",
       "    <tr>\n",
       "      <td>50%</td>\n",
       "      <td>10.000000</td>\n",
       "      <td>4.800000e+06</td>\n",
       "      <td>54.900000</td>\n",
       "      <td>2.000000</td>\n",
       "      <td>2.650000</td>\n",
       "      <td>9.000000</td>\n",
       "      <td>31.700000</td>\n",
       "      <td>4.000000</td>\n",
       "      <td>9.000000</td>\n",
       "      <td>0.000000</td>\n",
       "      <td>27189.000000</td>\n",
       "      <td>13606.000000</td>\n",
       "      <td>0.000000</td>\n",
       "      <td>451.000000</td>\n",
       "      <td>0.000000</td>\n",
       "      <td>544.000000</td>\n",
       "      <td>82.000000</td>\n",
       "      <td>90192.310000</td>\n",
       "      <td>3.000000</td>\n",
       "      <td>7.000000</td>\n",
       "      <td>2017.000000</td>\n",
       "      <td>0.596117</td>\n",
       "      <td>0.156522</td>\n",
       "    </tr>\n",
       "    <tr>\n",
       "      <td>75%</td>\n",
       "      <td>14.000000</td>\n",
       "      <td>6.149000e+06</td>\n",
       "      <td>65.000000</td>\n",
       "      <td>3.000000</td>\n",
       "      <td>2.759731</td>\n",
       "      <td>14.000000</td>\n",
       "      <td>41.236098</td>\n",
       "      <td>8.000000</td>\n",
       "      <td>10.700000</td>\n",
       "      <td>1.000000</td>\n",
       "      <td>37434.000000</td>\n",
       "      <td>16482.000000</td>\n",
       "      <td>1.000000</td>\n",
       "      <td>606.000000</td>\n",
       "      <td>1.000000</td>\n",
       "      <td>754.000000</td>\n",
       "      <td>179.000000</td>\n",
       "      <td>105102.040000</td>\n",
       "      <td>4.000000</td>\n",
       "      <td>10.000000</td>\n",
       "      <td>2018.000000</td>\n",
       "      <td>0.647482</td>\n",
       "      <td>0.191148</td>\n",
       "    </tr>\n",
       "    <tr>\n",
       "      <td>max</td>\n",
       "      <td>35.000000</td>\n",
       "      <td>1.000000e+07</td>\n",
       "      <td>100.000000</td>\n",
       "      <td>6.000000</td>\n",
       "      <td>3.250000</td>\n",
       "      <td>60.000000</td>\n",
       "      <td>80.000000</td>\n",
       "      <td>33.000000</td>\n",
       "      <td>15.000000</td>\n",
       "      <td>5.000000</td>\n",
       "      <td>83758.000000</td>\n",
       "      <td>64857.000000</td>\n",
       "      <td>3.000000</td>\n",
       "      <td>3064.000000</td>\n",
       "      <td>3.000000</td>\n",
       "      <td>1337.000000</td>\n",
       "      <td>500.000000</td>\n",
       "      <td>262711.860000</td>\n",
       "      <td>6.000000</td>\n",
       "      <td>12.000000</td>\n",
       "      <td>2019.000000</td>\n",
       "      <td>0.973262</td>\n",
       "      <td>0.393939</td>\n",
       "    </tr>\n",
       "  </tbody>\n",
       "</table>\n",
       "</div>"
      ],
      "text/plain": [
       "       total_images    last_price    total_area         rooms  ceiling_height  \\\n",
       "count  10927.000000  1.092700e+04  10825.000000  10927.000000    10678.000000   \n",
       "mean       9.912419  5.098934e+06     56.283095      2.187060        2.692464   \n",
       "std        5.582778  1.733377e+06     14.085654      0.792241        0.171387   \n",
       "min        0.000000  2.100000e+06     25.200000      1.000000        2.500000   \n",
       "25%        6.000000  3.815000e+06     45.000000      2.000000        2.550000   \n",
       "50%       10.000000  4.800000e+06     54.900000      2.000000        2.650000   \n",
       "75%       14.000000  6.149000e+06     65.000000      3.000000        2.759731   \n",
       "max       35.000000  1.000000e+07    100.000000      6.000000        3.250000   \n",
       "\n",
       "       floors_total   living_area         floor  kitchen_area       balcony  \\\n",
       "count  10927.000000  10927.000000  10927.000000  10927.000000  10927.000000   \n",
       "mean      10.432232     33.937228      5.667887      9.044236      0.608218   \n",
       "std        6.161025     10.675802      4.546521      2.461798      0.960209   \n",
       "min        1.000000     18.020000      1.000000      4.100000      0.000000   \n",
       "25%        5.000000     27.000000      2.000000      7.000000      0.000000   \n",
       "50%        9.000000     31.700000      4.000000      9.000000      0.000000   \n",
       "75%       14.000000     41.236098      8.000000     10.700000      1.000000   \n",
       "max       60.000000     80.000000     33.000000     15.000000      5.000000   \n",
       "\n",
       "       airports_nearest  cityCenters_nearest  parks_around3000  parks_nearest  \\\n",
       "count       8865.000000          8876.000000      10927.000000    3727.000000   \n",
       "mean       28812.121827         15029.924403          0.456575     477.188087   \n",
       "std        12921.898379          8461.578358          0.723621     306.329532   \n",
       "min            0.000000           208.000000          0.000000       1.000000   \n",
       "25%        17863.000000         10829.000000          0.000000     288.500000   \n",
       "50%        27189.000000         13606.000000          0.000000     451.000000   \n",
       "75%        37434.000000         16482.000000          1.000000     606.000000   \n",
       "max        83758.000000         64857.000000          3.000000    3064.000000   \n",
       "\n",
       "       ponds_around3000  ponds_nearest  days_exposition  price_square_meter  \\\n",
       "count      10927.000000    4089.000000     10927.000000        10927.000000   \n",
       "mean           0.548092     542.649058       124.899606        91056.309348   \n",
       "std            0.831958     274.618614       117.402146        24309.408853   \n",
       "min            0.000000      16.000000         1.000000        16842.110000   \n",
       "25%            0.000000     327.000000        41.000000        75510.365000   \n",
       "50%            0.000000     544.000000        82.000000        90192.310000   \n",
       "75%            1.000000     754.000000       179.000000       105102.040000   \n",
       "max            3.000000    1337.000000       500.000000       262711.860000   \n",
       "\n",
       "            weekday         month          year  living_total_area  \\\n",
       "count  10927.000000  10927.000000  10927.000000       10927.000000   \n",
       "mean       2.586437      6.562002   2017.356273           0.594706   \n",
       "std        1.785344      3.499009      0.853760           0.082845   \n",
       "min        0.000000      1.000000   2015.000000           0.226316   \n",
       "25%        1.000000      3.000000   2017.000000           0.541146   \n",
       "50%        3.000000      7.000000   2017.000000           0.596117   \n",
       "75%        4.000000     10.000000   2018.000000           0.647482   \n",
       "max        6.000000     12.000000   2019.000000           0.973262   \n",
       "\n",
       "       kitchen_total_area  \n",
       "count        10927.000000  \n",
       "mean             0.165454  \n",
       "std              0.049140  \n",
       "min              0.059933  \n",
       "25%              0.129709  \n",
       "50%              0.156522  \n",
       "75%              0.191148  \n",
       "max              0.393939  "
      ]
     },
     "execution_count": 66,
     "metadata": {},
     "output_type": "execute_result"
    }
   ],
   "source": [
    "data=data.query('2100000<=last_price')\n",
    "data=data.query('0<rooms<=7')\n",
    "data=data.query('18<living_area<=80')\n",
    "data=data.query('4<kitchen_area<=15')\n",
    "data=data.query('days_exposition<=500')\n",
    "data.describe()"
   ]
  },
  {
   "cell_type": "code",
   "execution_count": 67,
   "metadata": {},
   "outputs": [
    {
     "data": {
      "text/html": [
       "<div>\n",
       "<style scoped>\n",
       "    .dataframe tbody tr th:only-of-type {\n",
       "        vertical-align: middle;\n",
       "    }\n",
       "\n",
       "    .dataframe tbody tr th {\n",
       "        vertical-align: top;\n",
       "    }\n",
       "\n",
       "    .dataframe thead th {\n",
       "        text-align: right;\n",
       "    }\n",
       "</style>\n",
       "<table border=\"1\" class=\"dataframe\">\n",
       "  <thead>\n",
       "    <tr style=\"text-align: right;\">\n",
       "      <th></th>\n",
       "      <th>last_price</th>\n",
       "      <th>total_area</th>\n",
       "      <th>rooms</th>\n",
       "      <th>cityCenters_nearest</th>\n",
       "      <th>kitchen_area</th>\n",
       "      <th>price_square_meter</th>\n",
       "      <th>living_area</th>\n",
       "      <th>price_sqrm_kitchen</th>\n",
       "      <th>price_sqrm_living</th>\n",
       "    </tr>\n",
       "  </thead>\n",
       "  <tbody>\n",
       "    <tr>\n",
       "      <td>last_price</td>\n",
       "      <td>1.000000</td>\n",
       "      <td>0.606922</td>\n",
       "      <td>0.313860</td>\n",
       "      <td>-0.339698</td>\n",
       "      <td>0.436002</td>\n",
       "      <td>0.632102</td>\n",
       "      <td>0.496798</td>\n",
       "      <td>0.411341</td>\n",
       "      <td>0.395556</td>\n",
       "    </tr>\n",
       "    <tr>\n",
       "      <td>total_area</td>\n",
       "      <td>0.606922</td>\n",
       "      <td>1.000000</td>\n",
       "      <td>0.724218</td>\n",
       "      <td>-0.069306</td>\n",
       "      <td>0.412888</td>\n",
       "      <td>-0.175684</td>\n",
       "      <td>0.894744</td>\n",
       "      <td>0.370765</td>\n",
       "      <td>-0.218499</td>\n",
       "    </tr>\n",
       "    <tr>\n",
       "      <td>rooms</td>\n",
       "      <td>0.313860</td>\n",
       "      <td>0.724218</td>\n",
       "      <td>1.000000</td>\n",
       "      <td>-0.035828</td>\n",
       "      <td>-0.072925</td>\n",
       "      <td>-0.322284</td>\n",
       "      <td>0.845573</td>\n",
       "      <td>0.575189</td>\n",
       "      <td>-0.546370</td>\n",
       "    </tr>\n",
       "    <tr>\n",
       "      <td>cityCenters_nearest</td>\n",
       "      <td>-0.339698</td>\n",
       "      <td>-0.069306</td>\n",
       "      <td>-0.035828</td>\n",
       "      <td>1.000000</td>\n",
       "      <td>-0.072142</td>\n",
       "      <td>-0.389695</td>\n",
       "      <td>-0.073661</td>\n",
       "      <td>-0.150165</td>\n",
       "      <td>-0.192121</td>\n",
       "    </tr>\n",
       "    <tr>\n",
       "      <td>kitchen_area</td>\n",
       "      <td>0.436002</td>\n",
       "      <td>0.412888</td>\n",
       "      <td>-0.072925</td>\n",
       "      <td>-0.072142</td>\n",
       "      <td>1.000000</td>\n",
       "      <td>0.149012</td>\n",
       "      <td>0.137898</td>\n",
       "      <td>-0.505558</td>\n",
       "      <td>0.427150</td>\n",
       "    </tr>\n",
       "    <tr>\n",
       "      <td>price_square_meter</td>\n",
       "      <td>0.632102</td>\n",
       "      <td>-0.175684</td>\n",
       "      <td>-0.322284</td>\n",
       "      <td>-0.389695</td>\n",
       "      <td>0.149012</td>\n",
       "      <td>1.000000</td>\n",
       "      <td>-0.246963</td>\n",
       "      <td>0.138014</td>\n",
       "      <td>0.724107</td>\n",
       "    </tr>\n",
       "    <tr>\n",
       "      <td>living_area</td>\n",
       "      <td>0.496798</td>\n",
       "      <td>0.894744</td>\n",
       "      <td>0.845573</td>\n",
       "      <td>-0.073661</td>\n",
       "      <td>0.137898</td>\n",
       "      <td>-0.246963</td>\n",
       "      <td>1.000000</td>\n",
       "      <td>0.545824</td>\n",
       "      <td>-0.506989</td>\n",
       "    </tr>\n",
       "    <tr>\n",
       "      <td>price_sqrm_kitchen</td>\n",
       "      <td>0.411341</td>\n",
       "      <td>0.370765</td>\n",
       "      <td>0.575189</td>\n",
       "      <td>-0.150165</td>\n",
       "      <td>-0.505558</td>\n",
       "      <td>0.138014</td>\n",
       "      <td>0.545824</td>\n",
       "      <td>1.000000</td>\n",
       "      <td>-0.253152</td>\n",
       "    </tr>\n",
       "    <tr>\n",
       "      <td>price_sqrm_living</td>\n",
       "      <td>0.395556</td>\n",
       "      <td>-0.218499</td>\n",
       "      <td>-0.546370</td>\n",
       "      <td>-0.192121</td>\n",
       "      <td>0.427150</td>\n",
       "      <td>0.724107</td>\n",
       "      <td>-0.506989</td>\n",
       "      <td>-0.253152</td>\n",
       "      <td>1.000000</td>\n",
       "    </tr>\n",
       "  </tbody>\n",
       "</table>\n",
       "</div>"
      ],
      "text/plain": [
       "                     last_price  total_area     rooms  cityCenters_nearest  \\\n",
       "last_price             1.000000    0.606922  0.313860            -0.339698   \n",
       "total_area             0.606922    1.000000  0.724218            -0.069306   \n",
       "rooms                  0.313860    0.724218  1.000000            -0.035828   \n",
       "cityCenters_nearest   -0.339698   -0.069306 -0.035828             1.000000   \n",
       "kitchen_area           0.436002    0.412888 -0.072925            -0.072142   \n",
       "price_square_meter     0.632102   -0.175684 -0.322284            -0.389695   \n",
       "living_area            0.496798    0.894744  0.845573            -0.073661   \n",
       "price_sqrm_kitchen     0.411341    0.370765  0.575189            -0.150165   \n",
       "price_sqrm_living      0.395556   -0.218499 -0.546370            -0.192121   \n",
       "\n",
       "                     kitchen_area  price_square_meter  living_area  \\\n",
       "last_price               0.436002            0.632102     0.496798   \n",
       "total_area               0.412888           -0.175684     0.894744   \n",
       "rooms                   -0.072925           -0.322284     0.845573   \n",
       "cityCenters_nearest     -0.072142           -0.389695    -0.073661   \n",
       "kitchen_area             1.000000            0.149012     0.137898   \n",
       "price_square_meter       0.149012            1.000000    -0.246963   \n",
       "living_area              0.137898           -0.246963     1.000000   \n",
       "price_sqrm_kitchen      -0.505558            0.138014     0.545824   \n",
       "price_sqrm_living        0.427150            0.724107    -0.506989   \n",
       "\n",
       "                     price_sqrm_kitchen  price_sqrm_living  \n",
       "last_price                     0.411341           0.395556  \n",
       "total_area                     0.370765          -0.218499  \n",
       "rooms                          0.575189          -0.546370  \n",
       "cityCenters_nearest           -0.150165          -0.192121  \n",
       "kitchen_area                  -0.505558           0.427150  \n",
       "price_square_meter             0.138014           0.724107  \n",
       "living_area                    0.545824          -0.506989  \n",
       "price_sqrm_kitchen             1.000000          -0.253152  \n",
       "price_sqrm_living             -0.253152           1.000000  "
      ]
     },
     "metadata": {},
     "output_type": "display_data"
    }
   ],
   "source": [
    "cor_data = data.loc[:,['last_price','total_area','rooms','cityCenters_nearest','kitchen_area','price_square_meter','living_area']]\n",
    "cor_data ['price_sqrm_kitchen']=(cor_data['total_area']/cor_data['kitchen_area'])*(cor_data['last_price']/cor_data['kitchen_area'])\n",
    "cor_data ['price_sqrm_living']=(cor_data['total_area']/cor_data['living_area'])*(cor_data['last_price']/cor_data['living_area'])\n",
    "display(cor_data.corr()) "
   ]
  },
  {
   "cell_type": "markdown",
   "metadata": {},
   "source": [
    "По построенной матрице корреляции можно наблюдать, что стоимость квартиры зависит от площади, и количества комнат. Больший коэффициент кореляции по площади. Цена квадратного метра, положительно кореллирует с общей площадью и общей ценой, отрицательно коррелирует с количеством комнат и отдаленостью от центра. "
   ]
  },
  {
   "cell_type": "code",
   "execution_count": 68,
   "metadata": {},
   "outputs": [
    {
     "data": {
      "text/plain": [
       "3    8097\n",
       "2    1451\n",
       "1    1379\n",
       "Name: floor_group, dtype: int64"
      ]
     },
     "metadata": {},
     "output_type": "display_data"
    }
   ],
   "source": [
    "def floor_group(row):\n",
    "    if row['floor']==1:\n",
    "        return 1\n",
    "    if row['floor']==row['floors_total']:\n",
    "        return 2\n",
    "    return 3\n",
    "data['floor_group']=data.apply(floor_group,axis=1)\n",
    "display(data['floor_group'].value_counts())\n"
   ]
  },
  {
   "cell_type": "code",
   "execution_count": 69,
   "metadata": {},
   "outputs": [
    {
     "data": {
      "text/html": [
       "<div>\n",
       "<style scoped>\n",
       "    .dataframe tbody tr th:only-of-type {\n",
       "        vertical-align: middle;\n",
       "    }\n",
       "\n",
       "    .dataframe tbody tr th {\n",
       "        vertical-align: top;\n",
       "    }\n",
       "\n",
       "    .dataframe thead tr th {\n",
       "        text-align: left;\n",
       "    }\n",
       "\n",
       "    .dataframe thead tr:last-of-type th {\n",
       "        text-align: right;\n",
       "    }\n",
       "</style>\n",
       "<table border=\"1\" class=\"dataframe\">\n",
       "  <thead>\n",
       "    <tr>\n",
       "      <th></th>\n",
       "      <th colspan=\"2\" halign=\"left\">last_price</th>\n",
       "      <th colspan=\"2\" halign=\"left\">price_square_meter</th>\n",
       "    </tr>\n",
       "    <tr>\n",
       "      <th></th>\n",
       "      <th>count</th>\n",
       "      <th>mean</th>\n",
       "      <th>count</th>\n",
       "      <th>mean</th>\n",
       "    </tr>\n",
       "    <tr>\n",
       "      <th>floor_flat</th>\n",
       "      <th></th>\n",
       "      <th></th>\n",
       "      <th></th>\n",
       "      <th></th>\n",
       "    </tr>\n",
       "  </thead>\n",
       "  <tbody>\n",
       "    <tr>\n",
       "      <td>другой</td>\n",
       "      <td>8097</td>\n",
       "      <td>5.242049e+06</td>\n",
       "      <td>8097</td>\n",
       "      <td>93711.449327</td>\n",
       "    </tr>\n",
       "    <tr>\n",
       "      <td>первый</td>\n",
       "      <td>1379</td>\n",
       "      <td>4.540125e+06</td>\n",
       "      <td>1379</td>\n",
       "      <td>80846.407643</td>\n",
       "    </tr>\n",
       "    <tr>\n",
       "      <td>последний</td>\n",
       "      <td>1451</td>\n",
       "      <td>4.831390e+06</td>\n",
       "      <td>1451</td>\n",
       "      <td>85943.136396</td>\n",
       "    </tr>\n",
       "  </tbody>\n",
       "</table>\n",
       "</div>"
      ],
      "text/plain": [
       "           last_price               price_square_meter              \n",
       "                count          mean              count          mean\n",
       "floor_flat                                                          \n",
       "другой           8097  5.242049e+06               8097  93711.449327\n",
       "первый           1379  4.540125e+06               1379  80846.407643\n",
       "последний        1451  4.831390e+06               1451  85943.136396"
      ]
     },
     "metadata": {},
     "output_type": "display_data"
    }
   ],
   "source": [
    "data_floor=data.pivot_table(index='floor_flat',values= ['last_price','price_square_meter'],aggfunc=('count','mean'))\n",
    "display(data_floor.head())"
   ]
  },
  {
   "cell_type": "markdown",
   "metadata": {},
   "source": [
    "Средняя цена квартиры, а также средняя цена квадратного метра больше на других этаж, но квадратный метр квадртиры с последнего этажа стоит больше, чем певрого."
   ]
  },
  {
   "cell_type": "code",
   "execution_count": 70,
   "metadata": {},
   "outputs": [
    {
     "data": {
      "text/html": [
       "<div>\n",
       "<style scoped>\n",
       "    .dataframe tbody tr th:only-of-type {\n",
       "        vertical-align: middle;\n",
       "    }\n",
       "\n",
       "    .dataframe tbody tr th {\n",
       "        vertical-align: top;\n",
       "    }\n",
       "\n",
       "    .dataframe thead th {\n",
       "        text-align: right;\n",
       "    }\n",
       "</style>\n",
       "<table border=\"1\" class=\"dataframe\">\n",
       "  <thead>\n",
       "    <tr style=\"text-align: right;\">\n",
       "      <th></th>\n",
       "      <th>mean_pice</th>\n",
       "      <th>maen_sqr_price</th>\n",
       "    </tr>\n",
       "    <tr>\n",
       "      <th>weekday</th>\n",
       "      <th></th>\n",
       "      <th></th>\n",
       "    </tr>\n",
       "  </thead>\n",
       "  <tbody>\n",
       "    <tr>\n",
       "      <td>5</td>\n",
       "      <td>5.163852e+06</td>\n",
       "      <td>92492.130734</td>\n",
       "    </tr>\n",
       "    <tr>\n",
       "      <td>3</td>\n",
       "      <td>5.115220e+06</td>\n",
       "      <td>91702.097050</td>\n",
       "    </tr>\n",
       "    <tr>\n",
       "      <td>2</td>\n",
       "      <td>5.094493e+06</td>\n",
       "      <td>91685.572054</td>\n",
       "    </tr>\n",
       "    <tr>\n",
       "      <td>4</td>\n",
       "      <td>5.123261e+06</td>\n",
       "      <td>90747.850288</td>\n",
       "    </tr>\n",
       "    <tr>\n",
       "      <td>0</td>\n",
       "      <td>5.106489e+06</td>\n",
       "      <td>90485.861543</td>\n",
       "    </tr>\n",
       "    <tr>\n",
       "      <td>1</td>\n",
       "      <td>5.075891e+06</td>\n",
       "      <td>90330.010596</td>\n",
       "    </tr>\n",
       "    <tr>\n",
       "      <td>6</td>\n",
       "      <td>4.976370e+06</td>\n",
       "      <td>90053.329172</td>\n",
       "    </tr>\n",
       "  </tbody>\n",
       "</table>\n",
       "</div>"
      ],
      "text/plain": [
       "            mean_pice  maen_sqr_price\n",
       "weekday                              \n",
       "5        5.163852e+06    92492.130734\n",
       "3        5.115220e+06    91702.097050\n",
       "2        5.094493e+06    91685.572054\n",
       "4        5.123261e+06    90747.850288\n",
       "0        5.106489e+06    90485.861543\n",
       "1        5.075891e+06    90330.010596\n",
       "6        4.976370e+06    90053.329172"
      ]
     },
     "metadata": {},
     "output_type": "display_data"
    }
   ],
   "source": [
    "df_date=data.pivot_table(index='weekday',values=['last_price','price_square_meter'],aggfunc=('mean'))\n",
    "df_date.columns=['mean_pice','maen_sqr_price']\n",
    "display(df_date.sort_values('maen_sqr_price',ascending=False).head(10))"
   ]
  },
  {
   "cell_type": "markdown",
   "metadata": {},
   "source": [
    "Самая дорогая квартира выложена в пятницу, а самая дешёвая в субботу."
   ]
  },
  {
   "cell_type": "code",
   "execution_count": 71,
   "metadata": {},
   "outputs": [
    {
     "data": {
      "text/html": [
       "<div>\n",
       "<style scoped>\n",
       "    .dataframe tbody tr th:only-of-type {\n",
       "        vertical-align: middle;\n",
       "    }\n",
       "\n",
       "    .dataframe tbody tr th {\n",
       "        vertical-align: top;\n",
       "    }\n",
       "\n",
       "    .dataframe thead th {\n",
       "        text-align: right;\n",
       "    }\n",
       "</style>\n",
       "<table border=\"1\" class=\"dataframe\">\n",
       "  <thead>\n",
       "    <tr style=\"text-align: right;\">\n",
       "      <th></th>\n",
       "      <th>mean_pice</th>\n",
       "      <th>maen_sqr_price</th>\n",
       "    </tr>\n",
       "    <tr>\n",
       "      <th>month</th>\n",
       "      <th></th>\n",
       "      <th></th>\n",
       "    </tr>\n",
       "  </thead>\n",
       "  <tbody>\n",
       "    <tr>\n",
       "      <td>8</td>\n",
       "      <td>5.182373e+06</td>\n",
       "      <td>93509.562106</td>\n",
       "    </tr>\n",
       "    <tr>\n",
       "      <td>9</td>\n",
       "      <td>5.157595e+06</td>\n",
       "      <td>91641.649653</td>\n",
       "    </tr>\n",
       "    <tr>\n",
       "      <td>5</td>\n",
       "      <td>5.114328e+06</td>\n",
       "      <td>91371.075244</td>\n",
       "    </tr>\n",
       "    <tr>\n",
       "      <td>1</td>\n",
       "      <td>5.115709e+06</td>\n",
       "      <td>91294.652782</td>\n",
       "    </tr>\n",
       "    <tr>\n",
       "      <td>7</td>\n",
       "      <td>5.128953e+06</td>\n",
       "      <td>91139.852819</td>\n",
       "    </tr>\n",
       "    <tr>\n",
       "      <td>10</td>\n",
       "      <td>5.062043e+06</td>\n",
       "      <td>90974.108896</td>\n",
       "    </tr>\n",
       "    <tr>\n",
       "      <td>3</td>\n",
       "      <td>5.007664e+06</td>\n",
       "      <td>90934.879594</td>\n",
       "    </tr>\n",
       "    <tr>\n",
       "      <td>11</td>\n",
       "      <td>5.129410e+06</td>\n",
       "      <td>90928.609193</td>\n",
       "    </tr>\n",
       "    <tr>\n",
       "      <td>4</td>\n",
       "      <td>5.167632e+06</td>\n",
       "      <td>90728.608591</td>\n",
       "    </tr>\n",
       "    <tr>\n",
       "      <td>2</td>\n",
       "      <td>5.078090e+06</td>\n",
       "      <td>90632.348158</td>\n",
       "    </tr>\n",
       "  </tbody>\n",
       "</table>\n",
       "</div>"
      ],
      "text/plain": [
       "          mean_pice  maen_sqr_price\n",
       "month                              \n",
       "8      5.182373e+06    93509.562106\n",
       "9      5.157595e+06    91641.649653\n",
       "5      5.114328e+06    91371.075244\n",
       "1      5.115709e+06    91294.652782\n",
       "7      5.128953e+06    91139.852819\n",
       "10     5.062043e+06    90974.108896\n",
       "3      5.007664e+06    90934.879594\n",
       "11     5.129410e+06    90928.609193\n",
       "4      5.167632e+06    90728.608591\n",
       "2      5.078090e+06    90632.348158"
      ]
     },
     "metadata": {},
     "output_type": "display_data"
    }
   ],
   "source": [
    "\n",
    "df_date=data.pivot_table(index='month',values=['last_price','price_square_meter'],aggfunc=('mean'))\n",
    "df_date.columns=['mean_pice','maen_sqr_price']\n",
    "display(df_date.sort_values('maen_sqr_price',ascending=False).head(10))"
   ]
  },
  {
   "cell_type": "markdown",
   "metadata": {},
   "source": [
    "Обычно самые дорогие квартиры  в августе, а самые дешёвые в феврале."
   ]
  },
  {
   "cell_type": "code",
   "execution_count": 72,
   "metadata": {},
   "outputs": [
    {
     "data": {
      "text/html": [
       "<div>\n",
       "<style scoped>\n",
       "    .dataframe tbody tr th:only-of-type {\n",
       "        vertical-align: middle;\n",
       "    }\n",
       "\n",
       "    .dataframe tbody tr th {\n",
       "        vertical-align: top;\n",
       "    }\n",
       "\n",
       "    .dataframe thead th {\n",
       "        text-align: right;\n",
       "    }\n",
       "</style>\n",
       "<table border=\"1\" class=\"dataframe\">\n",
       "  <thead>\n",
       "    <tr style=\"text-align: right;\">\n",
       "      <th></th>\n",
       "      <th>mean_price</th>\n",
       "      <th>maen_sqr_price</th>\n",
       "    </tr>\n",
       "    <tr>\n",
       "      <th>year</th>\n",
       "      <th></th>\n",
       "      <th></th>\n",
       "    </tr>\n",
       "  </thead>\n",
       "  <tbody>\n",
       "    <tr>\n",
       "      <td>2019</td>\n",
       "      <td>5.410010e+06</td>\n",
       "      <td>101089.406152</td>\n",
       "    </tr>\n",
       "    <tr>\n",
       "      <td>2018</td>\n",
       "      <td>5.113952e+06</td>\n",
       "      <td>92566.444836</td>\n",
       "    </tr>\n",
       "    <tr>\n",
       "      <td>2017</td>\n",
       "      <td>5.045498e+06</td>\n",
       "      <td>88966.198832</td>\n",
       "    </tr>\n",
       "    <tr>\n",
       "      <td>2016</td>\n",
       "      <td>5.058136e+06</td>\n",
       "      <td>88542.775832</td>\n",
       "    </tr>\n",
       "    <tr>\n",
       "      <td>2015</td>\n",
       "      <td>5.149742e+06</td>\n",
       "      <td>87741.161673</td>\n",
       "    </tr>\n",
       "  </tbody>\n",
       "</table>\n",
       "</div>"
      ],
      "text/plain": [
       "        mean_price  maen_sqr_price\n",
       "year                              \n",
       "2019  5.410010e+06   101089.406152\n",
       "2018  5.113952e+06    92566.444836\n",
       "2017  5.045498e+06    88966.198832\n",
       "2016  5.058136e+06    88542.775832\n",
       "2015  5.149742e+06    87741.161673"
      ]
     },
     "metadata": {},
     "output_type": "display_data"
    }
   ],
   "source": [
    "df_date=data.pivot_table(index='year',values=['last_price','price_square_meter'],aggfunc=('mean'))\n",
    "df_date.columns=['mean_price','maen_sqr_price']\n",
    "display(df_date.sort_values('maen_sqr_price',ascending=False).head(10))"
   ]
  },
  {
   "cell_type": "markdown",
   "metadata": {},
   "source": [
    "С каждым годом квартиры дорожают."
   ]
  },
  {
   "cell_type": "code",
   "execution_count": 74,
   "metadata": {},
   "outputs": [
    {
     "name": "stdout",
     "output_type": "stream",
     "text": [
      "Санкт-Петербург      7576\n",
      "посёлок Шушары        261\n",
      "Колпино               213\n",
      "Всеволожск            206\n",
      "Пушкин                177\n",
      "Гатчина               174\n",
      "посёлок Мурино        162\n",
      "посёлок Парголово     130\n",
      "Выборг                129\n",
      "Петергоф              112\n",
      "Name: locality_name, dtype: int64\n"
     ]
    }
   ],
   "source": [
    "print(data['locality_name'].value_counts().head(10))"
   ]
  },
  {
   "cell_type": "code",
   "execution_count": 75,
   "metadata": {},
   "outputs": [
    {
     "data": {
      "text/html": [
       "<div>\n",
       "<style scoped>\n",
       "    .dataframe tbody tr th:only-of-type {\n",
       "        vertical-align: middle;\n",
       "    }\n",
       "\n",
       "    .dataframe tbody tr th {\n",
       "        vertical-align: top;\n",
       "    }\n",
       "\n",
       "    .dataframe thead th {\n",
       "        text-align: right;\n",
       "    }\n",
       "</style>\n",
       "<table border=\"1\" class=\"dataframe\">\n",
       "  <thead>\n",
       "    <tr style=\"text-align: right;\">\n",
       "      <th></th>\n",
       "      <th>count</th>\n",
       "      <th>mean</th>\n",
       "    </tr>\n",
       "    <tr>\n",
       "      <th>locality_name</th>\n",
       "      <th></th>\n",
       "      <th></th>\n",
       "    </tr>\n",
       "  </thead>\n",
       "  <tbody>\n",
       "    <tr>\n",
       "      <td>Санкт-Петербург</td>\n",
       "      <td>7576</td>\n",
       "      <td>100326.710313</td>\n",
       "    </tr>\n",
       "    <tr>\n",
       "      <td>посёлок Шушары</td>\n",
       "      <td>261</td>\n",
       "      <td>74028.474943</td>\n",
       "    </tr>\n",
       "    <tr>\n",
       "      <td>Колпино</td>\n",
       "      <td>213</td>\n",
       "      <td>71293.372864</td>\n",
       "    </tr>\n",
       "    <tr>\n",
       "      <td>Всеволожск</td>\n",
       "      <td>206</td>\n",
       "      <td>65429.869369</td>\n",
       "    </tr>\n",
       "    <tr>\n",
       "      <td>Пушкин</td>\n",
       "      <td>177</td>\n",
       "      <td>96907.418531</td>\n",
       "    </tr>\n",
       "    <tr>\n",
       "      <td>Гатчина</td>\n",
       "      <td>174</td>\n",
       "      <td>67768.598046</td>\n",
       "    </tr>\n",
       "    <tr>\n",
       "      <td>посёлок Мурино</td>\n",
       "      <td>162</td>\n",
       "      <td>79048.128395</td>\n",
       "    </tr>\n",
       "    <tr>\n",
       "      <td>посёлок Парголово</td>\n",
       "      <td>130</td>\n",
       "      <td>83691.646231</td>\n",
       "    </tr>\n",
       "    <tr>\n",
       "      <td>Выборг</td>\n",
       "      <td>129</td>\n",
       "      <td>56810.992791</td>\n",
       "    </tr>\n",
       "    <tr>\n",
       "      <td>Петергоф</td>\n",
       "      <td>112</td>\n",
       "      <td>81360.999375</td>\n",
       "    </tr>\n",
       "  </tbody>\n",
       "</table>\n",
       "</div>"
      ],
      "text/plain": [
       "                   count           mean\n",
       "locality_name                          \n",
       "Санкт-Петербург     7576  100326.710313\n",
       "посёлок Шушары       261   74028.474943\n",
       "Колпино              213   71293.372864\n",
       "Всеволожск           206   65429.869369\n",
       "Пушкин               177   96907.418531\n",
       "Гатчина              174   67768.598046\n",
       "посёлок Мурино       162   79048.128395\n",
       "посёлок Парголово    130   83691.646231\n",
       "Выборг               129   56810.992791\n",
       "Петергоф             112   81360.999375"
      ]
     },
     "metadata": {},
     "output_type": "display_data"
    }
   ],
   "source": [
    "df_locality=data.pivot_table(index='locality_name',values = 'price_square_meter', aggfunc=['count','mean'])\n",
    "df_locality.columns=['count','mean']\n",
    "display(df_locality.sort_values('count',ascending=False).head(10))"
   ]
  },
  {
   "cell_type": "markdown",
   "metadata": {},
   "source": [
    "Самая большая цена за кв метр в Санкт-Петербурге, а самая маленькая в Выборге."
   ]
  },
  {
   "cell_type": "code",
   "execution_count": 76,
   "metadata": {},
   "outputs": [
    {
     "name": "stdout",
     "output_type": "stream",
     "text": [
      "0\n"
     ]
    }
   ],
   "source": [
    "data.dropna(subset=['last_price'],inplace=True)\n",
    "print(data['last_price'].isna().sum())"
   ]
  },
  {
   "cell_type": "code",
   "execution_count": 77,
   "metadata": {},
   "outputs": [
    {
     "data": {
      "text/html": [
       "<div>\n",
       "<style scoped>\n",
       "    .dataframe tbody tr th:only-of-type {\n",
       "        vertical-align: middle;\n",
       "    }\n",
       "\n",
       "    .dataframe tbody tr th {\n",
       "        vertical-align: top;\n",
       "    }\n",
       "\n",
       "    .dataframe thead th {\n",
       "        text-align: right;\n",
       "    }\n",
       "</style>\n",
       "<table border=\"1\" class=\"dataframe\">\n",
       "  <thead>\n",
       "    <tr style=\"text-align: right;\">\n",
       "      <th></th>\n",
       "      <th>total_images</th>\n",
       "      <th>last_price</th>\n",
       "      <th>total_area</th>\n",
       "      <th>first_day_exposition</th>\n",
       "      <th>rooms</th>\n",
       "      <th>ceiling_height</th>\n",
       "      <th>floors_total</th>\n",
       "      <th>living_area</th>\n",
       "      <th>floor</th>\n",
       "      <th>is_apartment</th>\n",
       "      <th>studio</th>\n",
       "      <th>open_plan</th>\n",
       "      <th>kitchen_area</th>\n",
       "      <th>balcony</th>\n",
       "      <th>locality_name</th>\n",
       "      <th>airports_nearest</th>\n",
       "      <th>cityCenters_nearest</th>\n",
       "      <th>parks_around3000</th>\n",
       "      <th>parks_nearest</th>\n",
       "      <th>ponds_around3000</th>\n",
       "      <th>ponds_nearest</th>\n",
       "      <th>days_exposition</th>\n",
       "      <th>price_square_meter</th>\n",
       "      <th>weekday</th>\n",
       "      <th>month</th>\n",
       "      <th>year</th>\n",
       "      <th>floor_flat</th>\n",
       "      <th>living_total_area</th>\n",
       "      <th>kitchen_total_area</th>\n",
       "      <th>floor_group</th>\n",
       "      <th>center_nearest_km</th>\n",
       "      <th>coast_km</th>\n",
       "    </tr>\n",
       "  </thead>\n",
       "  <tbody>\n",
       "    <tr>\n",
       "      <td>9</td>\n",
       "      <td>18</td>\n",
       "      <td>5400000.0</td>\n",
       "      <td>61.0</td>\n",
       "      <td>2017-02-26</td>\n",
       "      <td>3</td>\n",
       "      <td>2.500000</td>\n",
       "      <td>9</td>\n",
       "      <td>43.6</td>\n",
       "      <td>7</td>\n",
       "      <td>False</td>\n",
       "      <td>False</td>\n",
       "      <td>False</td>\n",
       "      <td>6.5</td>\n",
       "      <td>2</td>\n",
       "      <td>Санкт-Петербург</td>\n",
       "      <td>50898.0</td>\n",
       "      <td>15008.0</td>\n",
       "      <td>0</td>\n",
       "      <td>NaN</td>\n",
       "      <td>0</td>\n",
       "      <td>NaN</td>\n",
       "      <td>289.0</td>\n",
       "      <td>88524.59</td>\n",
       "      <td>6</td>\n",
       "      <td>2</td>\n",
       "      <td>2017</td>\n",
       "      <td>другой</td>\n",
       "      <td>0.714754</td>\n",
       "      <td>0.106557</td>\n",
       "      <td>3</td>\n",
       "      <td>15.0</td>\n",
       "      <td>360000.000000</td>\n",
       "    </tr>\n",
       "    <tr>\n",
       "      <td>10</td>\n",
       "      <td>5</td>\n",
       "      <td>5050000.0</td>\n",
       "      <td>39.6</td>\n",
       "      <td>2017-11-16</td>\n",
       "      <td>1</td>\n",
       "      <td>2.670000</td>\n",
       "      <td>12</td>\n",
       "      <td>20.3</td>\n",
       "      <td>3</td>\n",
       "      <td>False</td>\n",
       "      <td>False</td>\n",
       "      <td>False</td>\n",
       "      <td>8.5</td>\n",
       "      <td>0</td>\n",
       "      <td>Санкт-Петербург</td>\n",
       "      <td>38357.0</td>\n",
       "      <td>13878.0</td>\n",
       "      <td>1</td>\n",
       "      <td>310.0</td>\n",
       "      <td>2</td>\n",
       "      <td>553.0</td>\n",
       "      <td>137.0</td>\n",
       "      <td>127525.25</td>\n",
       "      <td>3</td>\n",
       "      <td>11</td>\n",
       "      <td>2017</td>\n",
       "      <td>другой</td>\n",
       "      <td>0.512626</td>\n",
       "      <td>0.214646</td>\n",
       "      <td>3</td>\n",
       "      <td>14.0</td>\n",
       "      <td>360714.285714</td>\n",
       "    </tr>\n",
       "    <tr>\n",
       "      <td>15</td>\n",
       "      <td>16</td>\n",
       "      <td>4650000.0</td>\n",
       "      <td>39.0</td>\n",
       "      <td>2017-11-18</td>\n",
       "      <td>1</td>\n",
       "      <td>2.747359</td>\n",
       "      <td>14</td>\n",
       "      <td>20.5</td>\n",
       "      <td>5</td>\n",
       "      <td>False</td>\n",
       "      <td>False</td>\n",
       "      <td>False</td>\n",
       "      <td>7.6</td>\n",
       "      <td>1</td>\n",
       "      <td>Санкт-Петербург</td>\n",
       "      <td>12900.0</td>\n",
       "      <td>14259.0</td>\n",
       "      <td>1</td>\n",
       "      <td>590.0</td>\n",
       "      <td>1</td>\n",
       "      <td>296.0</td>\n",
       "      <td>19.0</td>\n",
       "      <td>119230.77</td>\n",
       "      <td>5</td>\n",
       "      <td>11</td>\n",
       "      <td>2017</td>\n",
       "      <td>другой</td>\n",
       "      <td>0.525641</td>\n",
       "      <td>0.194872</td>\n",
       "      <td>3</td>\n",
       "      <td>14.0</td>\n",
       "      <td>332142.857143</td>\n",
       "    </tr>\n",
       "    <tr>\n",
       "      <td>16</td>\n",
       "      <td>11</td>\n",
       "      <td>6700000.0</td>\n",
       "      <td>82.0</td>\n",
       "      <td>2017-11-23</td>\n",
       "      <td>3</td>\n",
       "      <td>3.050000</td>\n",
       "      <td>5</td>\n",
       "      <td>55.6</td>\n",
       "      <td>1</td>\n",
       "      <td>False</td>\n",
       "      <td>False</td>\n",
       "      <td>False</td>\n",
       "      <td>9.0</td>\n",
       "      <td>0</td>\n",
       "      <td>Санкт-Петербург</td>\n",
       "      <td>22108.0</td>\n",
       "      <td>10698.0</td>\n",
       "      <td>3</td>\n",
       "      <td>420.0</td>\n",
       "      <td>0</td>\n",
       "      <td>NaN</td>\n",
       "      <td>397.0</td>\n",
       "      <td>81707.32</td>\n",
       "      <td>3</td>\n",
       "      <td>11</td>\n",
       "      <td>2017</td>\n",
       "      <td>первый</td>\n",
       "      <td>0.678049</td>\n",
       "      <td>0.109756</td>\n",
       "      <td>1</td>\n",
       "      <td>11.0</td>\n",
       "      <td>609090.909091</td>\n",
       "    </tr>\n",
       "    <tr>\n",
       "      <td>18</td>\n",
       "      <td>8</td>\n",
       "      <td>3250000.0</td>\n",
       "      <td>31.0</td>\n",
       "      <td>2017-01-27</td>\n",
       "      <td>1</td>\n",
       "      <td>2.500000</td>\n",
       "      <td>5</td>\n",
       "      <td>19.4</td>\n",
       "      <td>2</td>\n",
       "      <td>False</td>\n",
       "      <td>False</td>\n",
       "      <td>False</td>\n",
       "      <td>5.6</td>\n",
       "      <td>1</td>\n",
       "      <td>Санкт-Петербург</td>\n",
       "      <td>44060.0</td>\n",
       "      <td>10842.0</td>\n",
       "      <td>1</td>\n",
       "      <td>759.0</td>\n",
       "      <td>0</td>\n",
       "      <td>NaN</td>\n",
       "      <td>168.0</td>\n",
       "      <td>104838.71</td>\n",
       "      <td>4</td>\n",
       "      <td>1</td>\n",
       "      <td>2017</td>\n",
       "      <td>другой</td>\n",
       "      <td>0.625806</td>\n",
       "      <td>0.180645</td>\n",
       "      <td>3</td>\n",
       "      <td>11.0</td>\n",
       "      <td>295454.545455</td>\n",
       "    </tr>\n",
       "  </tbody>\n",
       "</table>\n",
       "</div>"
      ],
      "text/plain": [
       "    total_images  last_price  total_area first_day_exposition  rooms  \\\n",
       "9             18   5400000.0        61.0           2017-02-26      3   \n",
       "10             5   5050000.0        39.6           2017-11-16      1   \n",
       "15            16   4650000.0        39.0           2017-11-18      1   \n",
       "16            11   6700000.0        82.0           2017-11-23      3   \n",
       "18             8   3250000.0        31.0           2017-01-27      1   \n",
       "\n",
       "    ceiling_height  floors_total  living_area  floor  is_apartment  studio  \\\n",
       "9         2.500000             9         43.6      7         False   False   \n",
       "10        2.670000            12         20.3      3         False   False   \n",
       "15        2.747359            14         20.5      5         False   False   \n",
       "16        3.050000             5         55.6      1         False   False   \n",
       "18        2.500000             5         19.4      2         False   False   \n",
       "\n",
       "    open_plan  kitchen_area  balcony    locality_name  airports_nearest  \\\n",
       "9       False           6.5        2  Санкт-Петербург           50898.0   \n",
       "10      False           8.5        0  Санкт-Петербург           38357.0   \n",
       "15      False           7.6        1  Санкт-Петербург           12900.0   \n",
       "16      False           9.0        0  Санкт-Петербург           22108.0   \n",
       "18      False           5.6        1  Санкт-Петербург           44060.0   \n",
       "\n",
       "    cityCenters_nearest  parks_around3000  parks_nearest  ponds_around3000  \\\n",
       "9               15008.0                 0            NaN                 0   \n",
       "10              13878.0                 1          310.0                 2   \n",
       "15              14259.0                 1          590.0                 1   \n",
       "16              10698.0                 3          420.0                 0   \n",
       "18              10842.0                 1          759.0                 0   \n",
       "\n",
       "    ponds_nearest  days_exposition  price_square_meter  weekday  month  year  \\\n",
       "9             NaN            289.0            88524.59        6      2  2017   \n",
       "10          553.0            137.0           127525.25        3     11  2017   \n",
       "15          296.0             19.0           119230.77        5     11  2017   \n",
       "16            NaN            397.0            81707.32        3     11  2017   \n",
       "18            NaN            168.0           104838.71        4      1  2017   \n",
       "\n",
       "   floor_flat  living_total_area  kitchen_total_area  floor_group  \\\n",
       "9      другой           0.714754            0.106557            3   \n",
       "10     другой           0.512626            0.214646            3   \n",
       "15     другой           0.525641            0.194872            3   \n",
       "16     первый           0.678049            0.109756            1   \n",
       "18     другой           0.625806            0.180645            3   \n",
       "\n",
       "    center_nearest_km       coast_km  \n",
       "9                15.0  360000.000000  \n",
       "10               14.0  360714.285714  \n",
       "15               14.0  332142.857143  \n",
       "16               11.0  609090.909091  \n",
       "18               11.0  295454.545455  "
      ]
     },
     "metadata": {},
     "output_type": "display_data"
    }
   ],
   "source": [
    "df_spb=data.copy()\n",
    "df_spb=df_spb.query('locality_name==\"Санкт-Петербург\"')\n",
    "df_spb['center_nearest_km']=(df_spb['cityCenters_nearest']/1000).round()\n",
    "df_spb['coast_km']=df_spb['last_price']/df_spb['center_nearest_km']\n",
    "display(df_spb.head())"
   ]
  },
  {
   "cell_type": "code",
   "execution_count": 79,
   "metadata": {},
   "outputs": [
    {
     "data": {
      "text/plain": [
       "Text(0, 0.5, 'mean_cost_km')"
      ]
     },
     "execution_count": 79,
     "metadata": {},
     "output_type": "execute_result"
    },
    {
     "data": {
      "image/png": "[encoded data removed]",
      "text/plain": [
       "<Figure size 432x288 with 1 Axes>"
      ]
     },
     "metadata": {
      "needs_background": "light"
     },
     "output_type": "display_data"
    }
   ],
   "source": [
    "df_spb_km=df_spb.pivot_table(index='center_nearest_km',values='coast_km')\n",
    "df_spb_km.plot(grid=True).set_ylabel('mean_cost_km')"
   ]
  },
  {
   "cell_type": "markdown",
   "metadata": {},
   "source": [
    " Значительные изменения происходят в районе 10 км, цена уменьшается плавнее. Примем за центр до 5 км удаллености."
   ]
  },
  {
   "cell_type": "code",
   "execution_count": 80,
   "metadata": {},
   "outputs": [
    {
     "data": {
      "text/html": [
       "<div>\n",
       "<style scoped>\n",
       "    .dataframe tbody tr th:only-of-type {\n",
       "        vertical-align: middle;\n",
       "    }\n",
       "\n",
       "    .dataframe tbody tr th {\n",
       "        vertical-align: top;\n",
       "    }\n",
       "\n",
       "    .dataframe thead th {\n",
       "        text-align: right;\n",
       "    }\n",
       "</style>\n",
       "<table border=\"1\" class=\"dataframe\">\n",
       "  <thead>\n",
       "    <tr style=\"text-align: right;\">\n",
       "      <th></th>\n",
       "      <th>total_images</th>\n",
       "      <th>last_price</th>\n",
       "      <th>total_area</th>\n",
       "      <th>rooms</th>\n",
       "      <th>ceiling_height</th>\n",
       "      <th>floors_total</th>\n",
       "      <th>living_area</th>\n",
       "      <th>floor</th>\n",
       "      <th>kitchen_area</th>\n",
       "      <th>balcony</th>\n",
       "      <th>airports_nearest</th>\n",
       "      <th>cityCenters_nearest</th>\n",
       "      <th>parks_around3000</th>\n",
       "      <th>parks_nearest</th>\n",
       "      <th>ponds_around3000</th>\n",
       "      <th>ponds_nearest</th>\n",
       "      <th>days_exposition</th>\n",
       "      <th>price_square_meter</th>\n",
       "      <th>weekday</th>\n",
       "      <th>month</th>\n",
       "      <th>year</th>\n",
       "      <th>living_total_area</th>\n",
       "      <th>kitchen_total_area</th>\n",
       "      <th>floor_group</th>\n",
       "      <th>center_nearest_km</th>\n",
       "      <th>coast_km</th>\n",
       "    </tr>\n",
       "  </thead>\n",
       "  <tbody>\n",
       "    <tr>\n",
       "      <td>count</td>\n",
       "      <td>773.000000</td>\n",
       "      <td>7.730000e+02</td>\n",
       "      <td>737.000000</td>\n",
       "      <td>773.000000</td>\n",
       "      <td>655.000000</td>\n",
       "      <td>773.000000</td>\n",
       "      <td>773.000000</td>\n",
       "      <td>773.000000</td>\n",
       "      <td>773.000000</td>\n",
       "      <td>773.000000</td>\n",
       "      <td>773.000000</td>\n",
       "      <td>773.000000</td>\n",
       "      <td>773.000000</td>\n",
       "      <td>526.000000</td>\n",
       "      <td>773.000000</td>\n",
       "      <td>551.000000</td>\n",
       "      <td>773.000000</td>\n",
       "      <td>773.000000</td>\n",
       "      <td>773.000000</td>\n",
       "      <td>773.000000</td>\n",
       "      <td>773.000000</td>\n",
       "      <td>773.000000</td>\n",
       "      <td>773.000000</td>\n",
       "      <td>773.000000</td>\n",
       "      <td>773.000000</td>\n",
       "      <td>773.0</td>\n",
       "    </tr>\n",
       "    <tr>\n",
       "      <td>mean</td>\n",
       "      <td>9.433376</td>\n",
       "      <td>7.050789e+06</td>\n",
       "      <td>64.770787</td>\n",
       "      <td>2.483829</td>\n",
       "      <td>2.961105</td>\n",
       "      <td>5.717982</td>\n",
       "      <td>40.979422</td>\n",
       "      <td>3.319534</td>\n",
       "      <td>9.882561</td>\n",
       "      <td>0.133247</td>\n",
       "      <td>23831.677878</td>\n",
       "      <td>3788.974127</td>\n",
       "      <td>1.053040</td>\n",
       "      <td>462.577947</td>\n",
       "      <td>1.306598</td>\n",
       "      <td>457.620690</td>\n",
       "      <td>143.848642</td>\n",
       "      <td>109510.637413</td>\n",
       "      <td>2.505821</td>\n",
       "      <td>6.799483</td>\n",
       "      <td>2017.232859</td>\n",
       "      <td>0.608975</td>\n",
       "      <td>0.155613</td>\n",
       "      <td>2.464424</td>\n",
       "      <td>3.741268</td>\n",
       "      <td>inf</td>\n",
       "    </tr>\n",
       "    <tr>\n",
       "      <td>std</td>\n",
       "      <td>5.679458</td>\n",
       "      <td>1.609591e+06</td>\n",
       "      <td>16.436112</td>\n",
       "      <td>0.877945</td>\n",
       "      <td>0.189776</td>\n",
       "      <td>2.723559</td>\n",
       "      <td>13.690097</td>\n",
       "      <td>1.988984</td>\n",
       "      <td>2.366253</td>\n",
       "      <td>0.451359</td>\n",
       "      <td>3539.140439</td>\n",
       "      <td>1248.598021</td>\n",
       "      <td>0.920988</td>\n",
       "      <td>322.364367</td>\n",
       "      <td>1.128032</td>\n",
       "      <td>277.348792</td>\n",
       "      <td>128.203678</td>\n",
       "      <td>25564.177846</td>\n",
       "      <td>1.700817</td>\n",
       "      <td>3.375452</td>\n",
       "      <td>0.872794</td>\n",
       "      <td>0.085521</td>\n",
       "      <td>0.046144</td>\n",
       "      <td>0.763710</td>\n",
       "      <td>1.258265</td>\n",
       "      <td>NaN</td>\n",
       "    </tr>\n",
       "    <tr>\n",
       "      <td>min</td>\n",
       "      <td>0.000000</td>\n",
       "      <td>2.100000e+06</td>\n",
       "      <td>27.000000</td>\n",
       "      <td>1.000000</td>\n",
       "      <td>2.500000</td>\n",
       "      <td>2.000000</td>\n",
       "      <td>18.100000</td>\n",
       "      <td>1.000000</td>\n",
       "      <td>5.000000</td>\n",
       "      <td>0.000000</td>\n",
       "      <td>18039.000000</td>\n",
       "      <td>208.000000</td>\n",
       "      <td>0.000000</td>\n",
       "      <td>17.000000</td>\n",
       "      <td>0.000000</td>\n",
       "      <td>22.000000</td>\n",
       "      <td>3.000000</td>\n",
       "      <td>16842.110000</td>\n",
       "      <td>0.000000</td>\n",
       "      <td>1.000000</td>\n",
       "      <td>2015.000000</td>\n",
       "      <td>0.226316</td>\n",
       "      <td>0.060606</td>\n",
       "      <td>1.000000</td>\n",
       "      <td>0.000000</td>\n",
       "      <td>420000.0</td>\n",
       "    </tr>\n",
       "    <tr>\n",
       "      <td>25%</td>\n",
       "      <td>5.000000</td>\n",
       "      <td>5.850000e+06</td>\n",
       "      <td>51.300000</td>\n",
       "      <td>2.000000</td>\n",
       "      <td>2.840000</td>\n",
       "      <td>4.000000</td>\n",
       "      <td>30.044667</td>\n",
       "      <td>2.000000</td>\n",
       "      <td>8.000000</td>\n",
       "      <td>0.000000</td>\n",
       "      <td>21158.000000</td>\n",
       "      <td>3082.000000</td>\n",
       "      <td>0.000000</td>\n",
       "      <td>269.500000</td>\n",
       "      <td>0.000000</td>\n",
       "      <td>221.500000</td>\n",
       "      <td>42.000000</td>\n",
       "      <td>91194.970000</td>\n",
       "      <td>1.000000</td>\n",
       "      <td>4.000000</td>\n",
       "      <td>2017.000000</td>\n",
       "      <td>0.555556</td>\n",
       "      <td>0.123440</td>\n",
       "      <td>2.000000</td>\n",
       "      <td>3.000000</td>\n",
       "      <td>1400000.0</td>\n",
       "    </tr>\n",
       "    <tr>\n",
       "      <td>50%</td>\n",
       "      <td>9.000000</td>\n",
       "      <td>6.999000e+06</td>\n",
       "      <td>64.000000</td>\n",
       "      <td>2.000000</td>\n",
       "      <td>2.991313</td>\n",
       "      <td>5.000000</td>\n",
       "      <td>39.756429</td>\n",
       "      <td>3.000000</td>\n",
       "      <td>10.000000</td>\n",
       "      <td>0.000000</td>\n",
       "      <td>23548.000000</td>\n",
       "      <td>4087.000000</td>\n",
       "      <td>1.000000</td>\n",
       "      <td>417.500000</td>\n",
       "      <td>1.000000</td>\n",
       "      <td>433.000000</td>\n",
       "      <td>98.000000</td>\n",
       "      <td>105633.800000</td>\n",
       "      <td>3.000000</td>\n",
       "      <td>7.000000</td>\n",
       "      <td>2017.000000</td>\n",
       "      <td>0.610169</td>\n",
       "      <td>0.149402</td>\n",
       "      <td>3.000000</td>\n",
       "      <td>4.000000</td>\n",
       "      <td>1775000.0</td>\n",
       "    </tr>\n",
       "    <tr>\n",
       "      <td>75%</td>\n",
       "      <td>13.000000</td>\n",
       "      <td>8.300000e+06</td>\n",
       "      <td>77.000000</td>\n",
       "      <td>3.000000</td>\n",
       "      <td>3.155000</td>\n",
       "      <td>6.000000</td>\n",
       "      <td>50.000000</td>\n",
       "      <td>4.000000</td>\n",
       "      <td>11.500000</td>\n",
       "      <td>0.000000</td>\n",
       "      <td>25187.000000</td>\n",
       "      <td>4805.000000</td>\n",
       "      <td>2.000000</td>\n",
       "      <td>584.000000</td>\n",
       "      <td>2.000000</td>\n",
       "      <td>671.500000</td>\n",
       "      <td>222.000000</td>\n",
       "      <td>125000.000000</td>\n",
       "      <td>4.000000</td>\n",
       "      <td>10.000000</td>\n",
       "      <td>2018.000000</td>\n",
       "      <td>0.664103</td>\n",
       "      <td>0.180535</td>\n",
       "      <td>3.000000</td>\n",
       "      <td>5.000000</td>\n",
       "      <td>2450000.0</td>\n",
       "    </tr>\n",
       "    <tr>\n",
       "      <td>max</td>\n",
       "      <td>32.000000</td>\n",
       "      <td>1.000000e+07</td>\n",
       "      <td>100.000000</td>\n",
       "      <td>5.000000</td>\n",
       "      <td>3.250000</td>\n",
       "      <td>25.000000</td>\n",
       "      <td>80.000000</td>\n",
       "      <td>19.000000</td>\n",
       "      <td>15.000000</td>\n",
       "      <td>4.000000</td>\n",
       "      <td>34033.000000</td>\n",
       "      <td>5494.000000</td>\n",
       "      <td>3.000000</td>\n",
       "      <td>2295.000000</td>\n",
       "      <td>3.000000</td>\n",
       "      <td>1156.000000</td>\n",
       "      <td>497.000000</td>\n",
       "      <td>262711.860000</td>\n",
       "      <td>6.000000</td>\n",
       "      <td>12.000000</td>\n",
       "      <td>2019.000000</td>\n",
       "      <td>0.972222</td>\n",
       "      <td>0.339080</td>\n",
       "      <td>3.000000</td>\n",
       "      <td>5.000000</td>\n",
       "      <td>inf</td>\n",
       "    </tr>\n",
       "  </tbody>\n",
       "</table>\n",
       "</div>"
      ],
      "text/plain": [
       "       total_images    last_price  total_area       rooms  ceiling_height  \\\n",
       "count    773.000000  7.730000e+02  737.000000  773.000000      655.000000   \n",
       "mean       9.433376  7.050789e+06   64.770787    2.483829        2.961105   \n",
       "std        5.679458  1.609591e+06   16.436112    0.877945        0.189776   \n",
       "min        0.000000  2.100000e+06   27.000000    1.000000        2.500000   \n",
       "25%        5.000000  5.850000e+06   51.300000    2.000000        2.840000   \n",
       "50%        9.000000  6.999000e+06   64.000000    2.000000        2.991313   \n",
       "75%       13.000000  8.300000e+06   77.000000    3.000000        3.155000   \n",
       "max       32.000000  1.000000e+07  100.000000    5.000000        3.250000   \n",
       "\n",
       "       floors_total  living_area       floor  kitchen_area     balcony  \\\n",
       "count    773.000000   773.000000  773.000000    773.000000  773.000000   \n",
       "mean       5.717982    40.979422    3.319534      9.882561    0.133247   \n",
       "std        2.723559    13.690097    1.988984      2.366253    0.451359   \n",
       "min        2.000000    18.100000    1.000000      5.000000    0.000000   \n",
       "25%        4.000000    30.044667    2.000000      8.000000    0.000000   \n",
       "50%        5.000000    39.756429    3.000000     10.000000    0.000000   \n",
       "75%        6.000000    50.000000    4.000000     11.500000    0.000000   \n",
       "max       25.000000    80.000000   19.000000     15.000000    4.000000   \n",
       "\n",
       "       airports_nearest  cityCenters_nearest  parks_around3000  parks_nearest  \\\n",
       "count        773.000000           773.000000        773.000000     526.000000   \n",
       "mean       23831.677878          3788.974127          1.053040     462.577947   \n",
       "std         3539.140439          1248.598021          0.920988     322.364367   \n",
       "min        18039.000000           208.000000          0.000000      17.000000   \n",
       "25%        21158.000000          3082.000000          0.000000     269.500000   \n",
       "50%        23548.000000          4087.000000          1.000000     417.500000   \n",
       "75%        25187.000000          4805.000000          2.000000     584.000000   \n",
       "max        34033.000000          5494.000000          3.000000    2295.000000   \n",
       "\n",
       "       ponds_around3000  ponds_nearest  days_exposition  price_square_meter  \\\n",
       "count        773.000000     551.000000       773.000000          773.000000   \n",
       "mean           1.306598     457.620690       143.848642       109510.637413   \n",
       "std            1.128032     277.348792       128.203678        25564.177846   \n",
       "min            0.000000      22.000000         3.000000        16842.110000   \n",
       "25%            0.000000     221.500000        42.000000        91194.970000   \n",
       "50%            1.000000     433.000000        98.000000       105633.800000   \n",
       "75%            2.000000     671.500000       222.000000       125000.000000   \n",
       "max            3.000000    1156.000000       497.000000       262711.860000   \n",
       "\n",
       "          weekday       month         year  living_total_area  \\\n",
       "count  773.000000  773.000000   773.000000         773.000000   \n",
       "mean     2.505821    6.799483  2017.232859           0.608975   \n",
       "std      1.700817    3.375452     0.872794           0.085521   \n",
       "min      0.000000    1.000000  2015.000000           0.226316   \n",
       "25%      1.000000    4.000000  2017.000000           0.555556   \n",
       "50%      3.000000    7.000000  2017.000000           0.610169   \n",
       "75%      4.000000   10.000000  2018.000000           0.664103   \n",
       "max      6.000000   12.000000  2019.000000           0.972222   \n",
       "\n",
       "       kitchen_total_area  floor_group  center_nearest_km   coast_km  \n",
       "count          773.000000   773.000000         773.000000      773.0  \n",
       "mean             0.155613     2.464424           3.741268        inf  \n",
       "std              0.046144     0.763710           1.258265        NaN  \n",
       "min              0.060606     1.000000           0.000000   420000.0  \n",
       "25%              0.123440     2.000000           3.000000  1400000.0  \n",
       "50%              0.149402     3.000000           4.000000  1775000.0  \n",
       "75%              0.180535     3.000000           5.000000  2450000.0  \n",
       "max              0.339080     3.000000           5.000000        inf  "
      ]
     },
     "metadata": {},
     "output_type": "display_data"
    }
   ],
   "source": [
    "df_spb_center=df_spb.query('center_nearest_km<=5')\n",
    "display(df_spb_center.describe())"
   ]
  },
  {
   "cell_type": "markdown",
   "metadata": {},
   "source": [
    "Можно сделать вывод ,что в центре высота потолков больше, логично, что расстояние от центра меньше, число комнат в рйфоне 3х, площадь жилья около 80 кв м."
   ]
  },
  {
   "cell_type": "code",
   "execution_count": 81,
   "metadata": {},
   "outputs": [
    {
     "data": {
      "text/html": [
       "<div>\n",
       "<style scoped>\n",
       "    .dataframe tbody tr th:only-of-type {\n",
       "        vertical-align: middle;\n",
       "    }\n",
       "\n",
       "    .dataframe tbody tr th {\n",
       "        vertical-align: top;\n",
       "    }\n",
       "\n",
       "    .dataframe thead th {\n",
       "        text-align: right;\n",
       "    }\n",
       "</style>\n",
       "<table border=\"1\" class=\"dataframe\">\n",
       "  <thead>\n",
       "    <tr style=\"text-align: right;\">\n",
       "      <th></th>\n",
       "      <th>last_price</th>\n",
       "      <th>rooms</th>\n",
       "      <th>floor</th>\n",
       "      <th>cityCenters_nearest</th>\n",
       "      <th>price_square_meter</th>\n",
       "      <th>kitchen_area</th>\n",
       "      <th>living_area</th>\n",
       "      <th>total_area</th>\n",
       "      <th>floor_group</th>\n",
       "    </tr>\n",
       "  </thead>\n",
       "  <tbody>\n",
       "    <tr>\n",
       "      <td>last_price</td>\n",
       "      <td>1.000000</td>\n",
       "      <td>0.384689</td>\n",
       "      <td>0.147363</td>\n",
       "      <td>-0.081951</td>\n",
       "      <td>0.263317</td>\n",
       "      <td>0.333320</td>\n",
       "      <td>0.540216</td>\n",
       "      <td>0.620041</td>\n",
       "      <td>0.205992</td>\n",
       "    </tr>\n",
       "    <tr>\n",
       "      <td>rooms</td>\n",
       "      <td>0.384689</td>\n",
       "      <td>1.000000</td>\n",
       "      <td>-0.095325</td>\n",
       "      <td>-0.035106</td>\n",
       "      <td>-0.514464</td>\n",
       "      <td>0.087194</td>\n",
       "      <td>0.795159</td>\n",
       "      <td>0.734093</td>\n",
       "      <td>0.037296</td>\n",
       "    </tr>\n",
       "    <tr>\n",
       "      <td>floor</td>\n",
       "      <td>0.147363</td>\n",
       "      <td>-0.095325</td>\n",
       "      <td>1.000000</td>\n",
       "      <td>0.176031</td>\n",
       "      <td>0.191765</td>\n",
       "      <td>0.114608</td>\n",
       "      <td>-0.076466</td>\n",
       "      <td>-0.016604</td>\n",
       "      <td>0.308941</td>\n",
       "    </tr>\n",
       "    <tr>\n",
       "      <td>cityCenters_nearest</td>\n",
       "      <td>-0.081951</td>\n",
       "      <td>-0.035106</td>\n",
       "      <td>0.176031</td>\n",
       "      <td>1.000000</td>\n",
       "      <td>-0.018906</td>\n",
       "      <td>0.032702</td>\n",
       "      <td>-0.048576</td>\n",
       "      <td>-0.059847</td>\n",
       "      <td>0.118515</td>\n",
       "    </tr>\n",
       "    <tr>\n",
       "      <td>price_square_meter</td>\n",
       "      <td>0.263317</td>\n",
       "      <td>-0.514464</td>\n",
       "      <td>0.191765</td>\n",
       "      <td>-0.018906</td>\n",
       "      <td>1.000000</td>\n",
       "      <td>-0.148708</td>\n",
       "      <td>-0.535685</td>\n",
       "      <td>-0.510644</td>\n",
       "      <td>0.098390</td>\n",
       "    </tr>\n",
       "    <tr>\n",
       "      <td>kitchen_area</td>\n",
       "      <td>0.333320</td>\n",
       "      <td>0.087194</td>\n",
       "      <td>0.114608</td>\n",
       "      <td>0.032702</td>\n",
       "      <td>-0.148708</td>\n",
       "      <td>1.000000</td>\n",
       "      <td>0.215199</td>\n",
       "      <td>0.366243</td>\n",
       "      <td>0.097985</td>\n",
       "    </tr>\n",
       "    <tr>\n",
       "      <td>living_area</td>\n",
       "      <td>0.540216</td>\n",
       "      <td>0.795159</td>\n",
       "      <td>-0.076466</td>\n",
       "      <td>-0.048576</td>\n",
       "      <td>-0.535685</td>\n",
       "      <td>0.215199</td>\n",
       "      <td>1.000000</td>\n",
       "      <td>0.902055</td>\n",
       "      <td>0.073913</td>\n",
       "    </tr>\n",
       "    <tr>\n",
       "      <td>total_area</td>\n",
       "      <td>0.620041</td>\n",
       "      <td>0.734093</td>\n",
       "      <td>-0.016604</td>\n",
       "      <td>-0.059847</td>\n",
       "      <td>-0.510644</td>\n",
       "      <td>0.366243</td>\n",
       "      <td>0.902055</td>\n",
       "      <td>1.000000</td>\n",
       "      <td>0.113171</td>\n",
       "    </tr>\n",
       "    <tr>\n",
       "      <td>floor_group</td>\n",
       "      <td>0.205992</td>\n",
       "      <td>0.037296</td>\n",
       "      <td>0.308941</td>\n",
       "      <td>0.118515</td>\n",
       "      <td>0.098390</td>\n",
       "      <td>0.097985</td>\n",
       "      <td>0.073913</td>\n",
       "      <td>0.113171</td>\n",
       "      <td>1.000000</td>\n",
       "    </tr>\n",
       "  </tbody>\n",
       "</table>\n",
       "</div>"
      ],
      "text/plain": [
       "                     last_price     rooms     floor  cityCenters_nearest  \\\n",
       "last_price             1.000000  0.384689  0.147363            -0.081951   \n",
       "rooms                  0.384689  1.000000 -0.095325            -0.035106   \n",
       "floor                  0.147363 -0.095325  1.000000             0.176031   \n",
       "cityCenters_nearest   -0.081951 -0.035106  0.176031             1.000000   \n",
       "price_square_meter     0.263317 -0.514464  0.191765            -0.018906   \n",
       "kitchen_area           0.333320  0.087194  0.114608             0.032702   \n",
       "living_area            0.540216  0.795159 -0.076466            -0.048576   \n",
       "total_area             0.620041  0.734093 -0.016604            -0.059847   \n",
       "floor_group            0.205992  0.037296  0.308941             0.118515   \n",
       "\n",
       "                     price_square_meter  kitchen_area  living_area  \\\n",
       "last_price                     0.263317      0.333320     0.540216   \n",
       "rooms                         -0.514464      0.087194     0.795159   \n",
       "floor                          0.191765      0.114608    -0.076466   \n",
       "cityCenters_nearest           -0.018906      0.032702    -0.048576   \n",
       "price_square_meter             1.000000     -0.148708    -0.535685   \n",
       "kitchen_area                  -0.148708      1.000000     0.215199   \n",
       "living_area                   -0.535685      0.215199     1.000000   \n",
       "total_area                    -0.510644      0.366243     0.902055   \n",
       "floor_group                    0.098390      0.097985     0.073913   \n",
       "\n",
       "                     total_area  floor_group  \n",
       "last_price             0.620041     0.205992  \n",
       "rooms                  0.734093     0.037296  \n",
       "floor                 -0.016604     0.308941  \n",
       "cityCenters_nearest   -0.059847     0.118515  \n",
       "price_square_meter    -0.510644     0.098390  \n",
       "kitchen_area           0.366243     0.097985  \n",
       "living_area            0.902055     0.073913  \n",
       "total_area             1.000000     0.113171  \n",
       "floor_group            0.113171     1.000000  "
      ]
     },
     "metadata": {},
     "output_type": "display_data"
    }
   ],
   "source": [
    "df_spb_cor=df_spb_center.loc[:,['last_price','rooms','floor','first_day_exposition','cityCenters_nearest','price_square_meter','kitchen_area','living_area','total_area','floor_group']]\n",
    "display(df_spb_cor.corr())"
   ]
  },
  {
   "cell_type": "markdown",
   "metadata": {},
   "source": [
    "Цена положительно кореелирует с количеством комнат, с этажом ,с площадью кухни и жилой зоны, общей площадью и отрицательно корелирует с расстоянием до центра. Больший коэффициент кореляции у общей площади. "
   ]
  },
  {
   "cell_type": "code",
   "execution_count": 82,
   "metadata": {},
   "outputs": [
    {
     "data": {
      "text/html": [
       "<div>\n",
       "<style scoped>\n",
       "    .dataframe tbody tr th:only-of-type {\n",
       "        vertical-align: middle;\n",
       "    }\n",
       "\n",
       "    .dataframe tbody tr th {\n",
       "        vertical-align: top;\n",
       "    }\n",
       "\n",
       "    .dataframe thead th {\n",
       "        text-align: right;\n",
       "    }\n",
       "</style>\n",
       "<table border=\"1\" class=\"dataframe\">\n",
       "  <thead>\n",
       "    <tr style=\"text-align: right;\">\n",
       "      <th></th>\n",
       "      <th>last_price</th>\n",
       "      <th>price_square_meter</th>\n",
       "    </tr>\n",
       "    <tr>\n",
       "      <th>floor_group</th>\n",
       "      <th></th>\n",
       "      <th></th>\n",
       "    </tr>\n",
       "  </thead>\n",
       "  <tbody>\n",
       "    <tr>\n",
       "      <td>1</td>\n",
       "      <td>6.257379e+06</td>\n",
       "      <td>105842.631550</td>\n",
       "    </tr>\n",
       "    <tr>\n",
       "      <td>2</td>\n",
       "      <td>7.109865e+06</td>\n",
       "      <td>106070.808462</td>\n",
       "    </tr>\n",
       "    <tr>\n",
       "      <td>3</td>\n",
       "      <td>7.241638e+06</td>\n",
       "      <td>111579.871168</td>\n",
       "    </tr>\n",
       "  </tbody>\n",
       "</table>\n",
       "</div>"
      ],
      "text/plain": [
       "               last_price  price_square_meter\n",
       "floor_group                                  \n",
       "1            6.257379e+06       105842.631550\n",
       "2            7.109865e+06       106070.808462\n",
       "3            7.241638e+06       111579.871168"
      ]
     },
     "metadata": {},
     "output_type": "display_data"
    },
    {
     "data": {
      "text/html": [
       "<div>\n",
       "<style scoped>\n",
       "    .dataframe tbody tr th:only-of-type {\n",
       "        vertical-align: middle;\n",
       "    }\n",
       "\n",
       "    .dataframe tbody tr th {\n",
       "        vertical-align: top;\n",
       "    }\n",
       "\n",
       "    .dataframe thead th {\n",
       "        text-align: right;\n",
       "    }\n",
       "</style>\n",
       "<table border=\"1\" class=\"dataframe\">\n",
       "  <thead>\n",
       "    <tr style=\"text-align: right;\">\n",
       "      <th></th>\n",
       "      <th>last_price</th>\n",
       "      <th>price_square_meter</th>\n",
       "    </tr>\n",
       "    <tr>\n",
       "      <th>weekday</th>\n",
       "      <th></th>\n",
       "      <th></th>\n",
       "    </tr>\n",
       "  </thead>\n",
       "  <tbody>\n",
       "    <tr>\n",
       "      <td>0</td>\n",
       "      <td>7.150200e+06</td>\n",
       "      <td>108974.323167</td>\n",
       "    </tr>\n",
       "    <tr>\n",
       "      <td>1</td>\n",
       "      <td>7.046097e+06</td>\n",
       "      <td>105344.325940</td>\n",
       "    </tr>\n",
       "    <tr>\n",
       "      <td>2</td>\n",
       "      <td>7.016843e+06</td>\n",
       "      <td>112351.756557</td>\n",
       "    </tr>\n",
       "    <tr>\n",
       "      <td>3</td>\n",
       "      <td>6.837772e+06</td>\n",
       "      <td>108162.482327</td>\n",
       "    </tr>\n",
       "    <tr>\n",
       "      <td>4</td>\n",
       "      <td>7.107186e+06</td>\n",
       "      <td>110482.075274</td>\n",
       "    </tr>\n",
       "    <tr>\n",
       "      <td>5</td>\n",
       "      <td>7.144346e+06</td>\n",
       "      <td>119465.353898</td>\n",
       "    </tr>\n",
       "    <tr>\n",
       "      <td>6</td>\n",
       "      <td>7.431735e+06</td>\n",
       "      <td>102365.315588</td>\n",
       "    </tr>\n",
       "  </tbody>\n",
       "</table>\n",
       "</div>"
      ],
      "text/plain": [
       "           last_price  price_square_meter\n",
       "weekday                                  \n",
       "0        7.150200e+06       108974.323167\n",
       "1        7.046097e+06       105344.325940\n",
       "2        7.016843e+06       112351.756557\n",
       "3        6.837772e+06       108162.482327\n",
       "4        7.107186e+06       110482.075274\n",
       "5        7.144346e+06       119465.353898\n",
       "6        7.431735e+06       102365.315588"
      ]
     },
     "metadata": {},
     "output_type": "display_data"
    },
    {
     "data": {
      "text/html": [
       "<div>\n",
       "<style scoped>\n",
       "    .dataframe tbody tr th:only-of-type {\n",
       "        vertical-align: middle;\n",
       "    }\n",
       "\n",
       "    .dataframe tbody tr th {\n",
       "        vertical-align: top;\n",
       "    }\n",
       "\n",
       "    .dataframe thead th {\n",
       "        text-align: right;\n",
       "    }\n",
       "</style>\n",
       "<table border=\"1\" class=\"dataframe\">\n",
       "  <thead>\n",
       "    <tr style=\"text-align: right;\">\n",
       "      <th></th>\n",
       "      <th>last_price</th>\n",
       "      <th>price_square_meter</th>\n",
       "    </tr>\n",
       "    <tr>\n",
       "      <th>month</th>\n",
       "      <th></th>\n",
       "      <th></th>\n",
       "    </tr>\n",
       "  </thead>\n",
       "  <tbody>\n",
       "    <tr>\n",
       "      <td>1</td>\n",
       "      <td>7.167400e+06</td>\n",
       "      <td>110212.824000</td>\n",
       "    </tr>\n",
       "    <tr>\n",
       "      <td>2</td>\n",
       "      <td>7.264066e+06</td>\n",
       "      <td>107403.157105</td>\n",
       "    </tr>\n",
       "    <tr>\n",
       "      <td>3</td>\n",
       "      <td>7.218739e+06</td>\n",
       "      <td>117991.293188</td>\n",
       "    </tr>\n",
       "    <tr>\n",
       "      <td>4</td>\n",
       "      <td>7.073594e+06</td>\n",
       "      <td>109399.521613</td>\n",
       "    </tr>\n",
       "    <tr>\n",
       "      <td>5</td>\n",
       "      <td>7.101986e+06</td>\n",
       "      <td>114821.239318</td>\n",
       "    </tr>\n",
       "    <tr>\n",
       "      <td>6</td>\n",
       "      <td>6.801047e+06</td>\n",
       "      <td>104921.963016</td>\n",
       "    </tr>\n",
       "    <tr>\n",
       "      <td>7</td>\n",
       "      <td>7.219803e+06</td>\n",
       "      <td>109460.034085</td>\n",
       "    </tr>\n",
       "    <tr>\n",
       "      <td>8</td>\n",
       "      <td>7.005535e+06</td>\n",
       "      <td>110011.462676</td>\n",
       "    </tr>\n",
       "    <tr>\n",
       "      <td>9</td>\n",
       "      <td>7.001574e+06</td>\n",
       "      <td>108250.840455</td>\n",
       "    </tr>\n",
       "    <tr>\n",
       "      <td>10</td>\n",
       "      <td>6.961483e+06</td>\n",
       "      <td>107527.529863</td>\n",
       "    </tr>\n",
       "    <tr>\n",
       "      <td>11</td>\n",
       "      <td>6.923575e+06</td>\n",
       "      <td>109111.566067</td>\n",
       "    </tr>\n",
       "    <tr>\n",
       "      <td>12</td>\n",
       "      <td>6.911733e+06</td>\n",
       "      <td>106625.469815</td>\n",
       "    </tr>\n",
       "  </tbody>\n",
       "</table>\n",
       "</div>"
      ],
      "text/plain": [
       "         last_price  price_square_meter\n",
       "month                                  \n",
       "1      7.167400e+06       110212.824000\n",
       "2      7.264066e+06       107403.157105\n",
       "3      7.218739e+06       117991.293188\n",
       "4      7.073594e+06       109399.521613\n",
       "5      7.101986e+06       114821.239318\n",
       "6      6.801047e+06       104921.963016\n",
       "7      7.219803e+06       109460.034085\n",
       "8      7.005535e+06       110011.462676\n",
       "9      7.001574e+06       108250.840455\n",
       "10     6.961483e+06       107527.529863\n",
       "11     6.923575e+06       109111.566067\n",
       "12     6.911733e+06       106625.469815"
      ]
     },
     "metadata": {},
     "output_type": "display_data"
    },
    {
     "data": {
      "text/html": [
       "<div>\n",
       "<style scoped>\n",
       "    .dataframe tbody tr th:only-of-type {\n",
       "        vertical-align: middle;\n",
       "    }\n",
       "\n",
       "    .dataframe tbody tr th {\n",
       "        vertical-align: top;\n",
       "    }\n",
       "\n",
       "    .dataframe thead th {\n",
       "        text-align: right;\n",
       "    }\n",
       "</style>\n",
       "<table border=\"1\" class=\"dataframe\">\n",
       "  <thead>\n",
       "    <tr style=\"text-align: right;\">\n",
       "      <th></th>\n",
       "      <th>last_price</th>\n",
       "      <th>price_square_meter</th>\n",
       "    </tr>\n",
       "    <tr>\n",
       "      <th>year</th>\n",
       "      <th></th>\n",
       "      <th></th>\n",
       "    </tr>\n",
       "  </thead>\n",
       "  <tbody>\n",
       "    <tr>\n",
       "      <td>2015</td>\n",
       "      <td>6.749537e+06</td>\n",
       "      <td>107580.500000</td>\n",
       "    </tr>\n",
       "    <tr>\n",
       "      <td>2016</td>\n",
       "      <td>7.079408e+06</td>\n",
       "      <td>104559.280654</td>\n",
       "    </tr>\n",
       "    <tr>\n",
       "      <td>2017</td>\n",
       "      <td>7.001674e+06</td>\n",
       "      <td>107795.067595</td>\n",
       "    </tr>\n",
       "    <tr>\n",
       "      <td>2018</td>\n",
       "      <td>7.046960e+06</td>\n",
       "      <td>111194.550077</td>\n",
       "    </tr>\n",
       "    <tr>\n",
       "      <td>2019</td>\n",
       "      <td>7.613550e+06</td>\n",
       "      <td>127732.004250</td>\n",
       "    </tr>\n",
       "  </tbody>\n",
       "</table>\n",
       "</div>"
      ],
      "text/plain": [
       "        last_price  price_square_meter\n",
       "year                                  \n",
       "2015  6.749537e+06       107580.500000\n",
       "2016  7.079408e+06       104559.280654\n",
       "2017  7.001674e+06       107795.067595\n",
       "2018  7.046960e+06       111194.550077\n",
       "2019  7.613550e+06       127732.004250"
      ]
     },
     "metadata": {},
     "output_type": "display_data"
    }
   ],
   "source": [
    "display(df_spb_center.pivot_table(index='floor_group',values=['last_price','price_square_meter']))\n",
    "display(df_spb_center.pivot_table(index='weekday',values=['last_price','price_square_meter']))\n",
    "display(df_spb_center.pivot_table(index='month',values=['last_price','price_square_meter']))\n",
    "display(df_spb_center.pivot_table(index='year',values=['last_price','price_square_meter']))"
   ]
  },
  {
   "cell_type": "markdown",
   "metadata": {},
   "source": [
    "По группе этажа мы видим, что большое значение цены в центре сосредоточно на других этажах.\n",
    "По месяцу самая высокая цена была в феврале, а самая низкая в декабре.\n",
    "По году самые дорогие квартиры в центра были в 2019 году, и с 2015 года квартиры в этой части города, как и во все анализируемой области росли каждый год.\n",
    "Самые дорогие квартиры в центре размещены в воскресенье, а самы дешёвые в четверг."
   ]
  },
  {
   "cell_type": "markdown",
   "metadata": {},
   "source": [
    "## Общий вывод"
   ]
  },
  {
   "cell_type": "markdown",
   "metadata": {},
   "source": [
    "В ходе анализа данного датасета исследовали зависимости стоимости квартир, от различных параметров, по уточненым данным выяснили район центра и проанализировали квартиры в нем. Самый дорогие квартиры оказались выставлены в ферале. По проанализированным данным, можно сказать, что с каждым годом цена на квартиры растет. Цена за квадратный метр, которая полность зависит от общей площади и стоимости квартиры, коррелирует, с растоянием до центра города, с количеством комнат, с площадью кухни и жилой зоны. а также завист от этажа квартиры. Высота потолков, тоже влияет на стоимость квартиры. Городом с самым большим количеством объявлений оказался Санкт-Петербург. Для получения ответов на поставленные вопросы, было необходимо изучить данные, найти в них ошибки и недочеты, \"причесать\" датачет(заполнить пропуски, привести столбцы к правильным типам данным), удалить некторрые пропущенные значения, проработать выбросы, чтобы слишком аномальные значения не мешали в расчетах, и гистограммах, после объеденить данные в группы по требуемым критериям и получить ответы на вопросы."
   ]
  }
 ],
 "metadata": {
  "ExecuteTimeLog": [
   {
    "duration": 563,
    "start_time": "2021-07-08T09:51:27.415Z"
   },
   {
    "duration": 937,
    "start_time": "2021-07-08T09:52:16.215Z"
   },
   {
    "duration": 28,
    "start_time": "2021-07-08T09:52:17.154Z"
   },
   {
    "duration": 28,
    "start_time": "2021-07-08T09:52:17.186Z"
   },
   {
    "duration": 11,
    "start_time": "2021-07-08T09:52:17.216Z"
   },
   {
    "duration": 7,
    "start_time": "2021-07-08T09:52:17.230Z"
   },
   {
    "duration": 9,
    "start_time": "2021-07-08T09:52:17.274Z"
   },
   {
    "duration": 9,
    "start_time": "2021-07-08T09:52:17.285Z"
   },
   {
    "duration": 10,
    "start_time": "2021-07-08T09:52:17.300Z"
   },
   {
    "duration": 11,
    "start_time": "2021-07-08T09:52:17.314Z"
   },
   {
    "duration": 51,
    "start_time": "2021-07-08T09:52:17.327Z"
   },
   {
    "duration": 8,
    "start_time": "2021-07-08T09:52:17.382Z"
   },
   {
    "duration": 11,
    "start_time": "2021-07-08T09:52:17.393Z"
   },
   {
    "duration": 17,
    "start_time": "2021-07-08T09:52:17.407Z"
   },
   {
    "duration": 55,
    "start_time": "2021-07-08T09:52:17.426Z"
   },
   {
    "duration": 9,
    "start_time": "2021-07-08T09:52:17.484Z"
   },
   {
    "duration": 9,
    "start_time": "2021-07-08T09:52:17.496Z"
   },
   {
    "duration": 10,
    "start_time": "2021-07-08T09:52:17.509Z"
   },
   {
    "duration": 49,
    "start_time": "2021-07-08T09:52:17.522Z"
   },
   {
    "duration": 9,
    "start_time": "2021-07-08T09:52:17.579Z"
   },
   {
    "duration": 12,
    "start_time": "2021-07-08T09:52:17.591Z"
   },
   {
    "duration": 10,
    "start_time": "2021-07-08T09:52:17.605Z"
   },
   {
    "duration": 8,
    "start_time": "2021-07-08T09:52:17.618Z"
   },
   {
    "duration": 16,
    "start_time": "2021-07-08T09:52:17.669Z"
   },
   {
    "duration": 24,
    "start_time": "2021-07-08T09:52:17.691Z"
   },
   {
    "duration": 9,
    "start_time": "2021-07-08T09:52:17.718Z"
   },
   {
    "duration": 49,
    "start_time": "2021-07-08T09:52:17.729Z"
   },
   {
    "duration": 21,
    "start_time": "2021-07-08T09:52:17.781Z"
   },
   {
    "duration": 26,
    "start_time": "2021-07-08T09:52:17.805Z"
   },
   {
    "duration": 9,
    "start_time": "2021-07-08T09:52:17.834Z"
   },
   {
    "duration": 2459,
    "start_time": "2021-07-08T09:52:17.866Z"
   },
   {
    "duration": 15,
    "start_time": "2021-07-08T09:52:20.328Z"
   },
   {
    "duration": 25,
    "start_time": "2021-07-08T09:52:20.347Z"
   },
   {
    "duration": 29,
    "start_time": "2021-07-08T09:52:20.375Z"
   },
   {
    "duration": 15,
    "start_time": "2021-07-08T09:52:20.407Z"
   },
   {
    "duration": 2364,
    "start_time": "2021-07-08T09:52:20.425Z"
   },
   {
    "duration": 15,
    "start_time": "2021-07-08T09:52:22.792Z"
   },
   {
    "duration": 1033,
    "start_time": "2021-07-08T09:52:22.809Z"
   },
   {
    "duration": 3,
    "start_time": "2021-07-08T09:52:23.845Z"
   },
   {
    "duration": 27,
    "start_time": "2021-07-08T09:52:23.850Z"
   },
   {
    "duration": 17,
    "start_time": "2021-07-08T09:52:23.882Z"
   },
   {
    "duration": 13,
    "start_time": "2021-07-08T09:52:23.902Z"
   },
   {
    "duration": 77,
    "start_time": "2021-07-08T09:52:23.918Z"
   },
   {
    "duration": 45,
    "start_time": "2021-07-08T09:52:23.998Z"
   },
   {
    "duration": 1131,
    "start_time": "2021-07-08T09:52:24.045Z"
   },
   {
    "duration": 43,
    "start_time": "2021-07-08T09:52:25.180Z"
   },
   {
    "duration": 790,
    "start_time": "2021-07-08T09:52:25.226Z"
   },
   {
    "duration": 629,
    "start_time": "2021-07-08T09:52:26.019Z"
   },
   {
    "duration": 6,
    "start_time": "2021-07-08T09:52:26.650Z"
   },
   {
    "duration": 729,
    "start_time": "2021-07-08T09:52:26.658Z"
   },
   {
    "duration": 658,
    "start_time": "2021-07-08T09:52:27.390Z"
   },
   {
    "duration": 669,
    "start_time": "2021-07-08T09:52:28.051Z"
   },
   {
    "duration": 627,
    "start_time": "2021-07-08T09:52:28.723Z"
   },
   {
    "duration": 577,
    "start_time": "2021-07-08T09:52:29.352Z"
   },
   {
    "duration": 770,
    "start_time": "2021-07-08T09:52:29.931Z"
   },
   {
    "duration": 11,
    "start_time": "2021-07-08T09:52:30.703Z"
   },
   {
    "duration": 865,
    "start_time": "2021-07-08T09:52:30.716Z"
   },
   {
    "duration": 195,
    "start_time": "2021-07-08T09:52:31.583Z"
   },
   {
    "duration": 265,
    "start_time": "2021-07-08T09:52:31.781Z"
   },
   {
    "duration": 278,
    "start_time": "2021-07-08T09:52:32.049Z"
   },
   {
    "duration": 263,
    "start_time": "2021-07-08T09:52:32.330Z"
   },
   {
    "duration": 282,
    "start_time": "2021-07-08T09:52:32.596Z"
   },
   {
    "duration": 668,
    "start_time": "2021-07-08T09:52:32.880Z"
   },
   {
    "duration": 506,
    "start_time": "2021-07-08T09:52:33.551Z"
   },
   {
    "duration": 670,
    "start_time": "2021-07-08T09:52:34.067Z"
   },
   {
    "duration": 164,
    "start_time": "2021-07-08T09:52:34.740Z"
   },
   {
    "duration": 200,
    "start_time": "2021-07-08T09:52:34.907Z"
   },
   {
    "duration": 32,
    "start_time": "2021-07-08T09:52:35.110Z"
   },
   {
    "duration": 659,
    "start_time": "2021-07-08T09:52:35.169Z"
   },
   {
    "duration": 58,
    "start_time": "2021-07-08T09:52:35.831Z"
   },
   {
    "duration": 27,
    "start_time": "2021-07-08T09:52:35.891Z"
   },
   {
    "duration": 30,
    "start_time": "2021-07-08T09:52:35.923Z"
   },
   {
    "duration": 33,
    "start_time": "2021-07-08T09:52:35.956Z"
   },
   {
    "duration": 3468,
    "start_time": "2021-07-08T09:52:35.992Z"
   },
   {
    "duration": 12,
    "start_time": "2021-07-08T09:52:39.462Z"
   },
   {
    "duration": 41,
    "start_time": "2021-07-08T09:52:39.476Z"
   },
   {
    "duration": 11,
    "start_time": "2021-07-08T09:52:39.519Z"
   },
   {
    "duration": 52,
    "start_time": "2021-07-08T09:52:39.568Z"
   },
   {
    "duration": 4,
    "start_time": "2021-07-08T09:52:39.624Z"
   },
   {
    "duration": 388,
    "start_time": "2021-07-08T09:52:39.631Z"
   },
   {
    "duration": 144,
    "start_time": "2021-07-08T09:52:40.021Z"
   },
   {
    "duration": 31,
    "start_time": "2021-07-08T09:52:40.171Z"
   },
   {
    "duration": 103,
    "start_time": "2021-07-08T09:52:40.205Z"
   },
   {
    "duration": 5,
    "start_time": "2021-07-08T09:52:40.310Z"
   },
   {
    "duration": 4094,
    "start_time": "2021-07-08T09:52:40.317Z"
   },
   {
    "duration": 894,
    "start_time": "2021-10-09T20:59:59.168Z"
   },
   {
    "duration": 17,
    "start_time": "2021-10-09T21:00:00.065Z"
   },
   {
    "duration": 19,
    "start_time": "2021-10-09T21:00:00.085Z"
   },
   {
    "duration": 6,
    "start_time": "2021-10-09T21:00:00.107Z"
   },
   {
    "duration": 10,
    "start_time": "2021-10-09T21:00:00.115Z"
   },
   {
    "duration": 7,
    "start_time": "2021-10-09T21:00:00.159Z"
   },
   {
    "duration": 17,
    "start_time": "2021-10-09T21:00:00.169Z"
   },
   {
    "duration": 13,
    "start_time": "2021-10-09T21:00:00.189Z"
   },
   {
    "duration": 10,
    "start_time": "2021-10-09T21:00:00.206Z"
   },
   {
    "duration": 14,
    "start_time": "2021-10-09T21:00:00.219Z"
   },
   {
    "duration": 8,
    "start_time": "2021-10-09T21:00:00.258Z"
   },
   {
    "duration": 12,
    "start_time": "2021-10-09T21:00:00.269Z"
   },
   {
    "duration": 20,
    "start_time": "2021-10-09T21:00:00.284Z"
   },
   {
    "duration": 20,
    "start_time": "2021-10-09T21:00:00.307Z"
   },
   {
    "duration": 33,
    "start_time": "2021-10-09T21:00:00.330Z"
   },
   {
    "duration": 9,
    "start_time": "2021-10-09T21:00:00.366Z"
   },
   {
    "duration": 10,
    "start_time": "2021-10-09T21:00:00.378Z"
   },
   {
    "duration": 8,
    "start_time": "2021-10-09T21:00:00.391Z"
   },
   {
    "duration": 57,
    "start_time": "2021-10-09T21:00:00.401Z"
   },
   {
    "duration": 7,
    "start_time": "2021-10-09T21:00:00.460Z"
   },
   {
    "duration": 14,
    "start_time": "2021-10-09T21:00:00.470Z"
   },
   {
    "duration": 14,
    "start_time": "2021-10-09T21:00:00.486Z"
   },
   {
    "duration": 16,
    "start_time": "2021-10-09T21:00:00.502Z"
   },
   {
    "duration": 52,
    "start_time": "2021-10-09T21:00:00.520Z"
   },
   {
    "duration": 10,
    "start_time": "2021-10-09T21:00:00.575Z"
   },
   {
    "duration": 16,
    "start_time": "2021-10-09T21:00:00.587Z"
   },
   {
    "duration": 14,
    "start_time": "2021-10-09T21:00:00.610Z"
   },
   {
    "duration": 45,
    "start_time": "2021-10-09T21:00:00.628Z"
   },
   {
    "duration": 10,
    "start_time": "2021-10-09T21:00:00.675Z"
   },
   {
    "duration": 1687,
    "start_time": "2021-10-09T21:00:00.687Z"
   },
   {
    "duration": 13,
    "start_time": "2021-10-09T21:00:02.376Z"
   },
   {
    "duration": 24,
    "start_time": "2021-10-09T21:00:02.391Z"
   },
   {
    "duration": 41,
    "start_time": "2021-10-09T21:00:02.418Z"
   },
   {
    "duration": 36,
    "start_time": "2021-10-09T21:00:02.462Z"
   },
   {
    "duration": 1630,
    "start_time": "2021-10-09T21:00:02.501Z"
   },
   {
    "duration": 29,
    "start_time": "2021-10-09T21:00:04.133Z"
   },
   {
    "duration": 862,
    "start_time": "2021-10-09T21:00:04.165Z"
   },
   {
    "duration": 3,
    "start_time": "2021-10-09T21:00:05.030Z"
   },
   {
    "duration": 32,
    "start_time": "2021-10-09T21:00:05.036Z"
   },
   {
    "duration": 30,
    "start_time": "2021-10-09T21:00:05.070Z"
   },
   {
    "duration": 22,
    "start_time": "2021-10-09T21:00:05.102Z"
   },
   {
    "duration": 45,
    "start_time": "2021-10-09T21:00:05.127Z"
   },
   {
    "duration": 42,
    "start_time": "2021-10-09T21:00:05.175Z"
   },
   {
    "duration": 966,
    "start_time": "2021-10-09T21:00:05.220Z"
   },
   {
    "duration": 38,
    "start_time": "2021-10-09T21:00:06.188Z"
   },
   {
    "duration": 698,
    "start_time": "2021-10-09T21:00:06.229Z"
   },
   {
    "duration": 578,
    "start_time": "2021-10-09T21:00:06.929Z"
   },
   {
    "duration": 6,
    "start_time": "2021-10-09T21:00:07.510Z"
   },
   {
    "duration": 653,
    "start_time": "2021-10-09T21:00:07.518Z"
   },
   {
    "duration": 592,
    "start_time": "2021-10-09T21:00:08.173Z"
   },
   {
    "duration": 595,
    "start_time": "2021-10-09T21:00:08.768Z"
   },
   {
    "duration": 554,
    "start_time": "2021-10-09T21:00:09.366Z"
   },
   {
    "duration": 537,
    "start_time": "2021-10-09T21:00:09.923Z"
   },
   {
    "duration": 640,
    "start_time": "2021-10-09T21:00:10.463Z"
   },
   {
    "duration": 13,
    "start_time": "2021-10-09T21:00:11.106Z"
   },
   {
    "duration": 700,
    "start_time": "2021-10-09T21:00:11.122Z"
   },
   {
    "duration": 143,
    "start_time": "2021-10-09T21:00:11.824Z"
   },
   {
    "duration": 238,
    "start_time": "2021-10-09T21:00:11.969Z"
   },
   {
    "duration": 257,
    "start_time": "2021-10-09T21:00:12.209Z"
   },
   {
    "duration": 239,
    "start_time": "2021-10-09T21:00:12.469Z"
   },
   {
    "duration": 259,
    "start_time": "2021-10-09T21:00:12.711Z"
   },
   {
    "duration": 593,
    "start_time": "2021-10-09T21:00:12.973Z"
   },
   {
    "duration": 450,
    "start_time": "2021-10-09T21:00:13.568Z"
   },
   {
    "duration": 470,
    "start_time": "2021-10-09T21:00:14.020Z"
   },
   {
    "duration": 138,
    "start_time": "2021-10-09T21:00:14.492Z"
   },
   {
    "duration": 161,
    "start_time": "2021-10-09T21:00:14.632Z"
   },
   {
    "duration": 29,
    "start_time": "2021-10-09T21:00:14.795Z"
   },
   {
    "duration": 572,
    "start_time": "2021-10-09T21:00:14.826Z"
   },
   {
    "duration": 61,
    "start_time": "2021-10-09T21:00:15.401Z"
   },
   {
    "duration": 30,
    "start_time": "2021-10-09T21:00:15.465Z"
   },
   {
    "duration": 25,
    "start_time": "2021-10-09T21:00:15.499Z"
   },
   {
    "duration": 49,
    "start_time": "2021-10-09T21:00:15.526Z"
   },
   {
    "duration": 2752,
    "start_time": "2021-10-09T21:00:15.577Z"
   },
   {
    "duration": 9,
    "start_time": "2021-10-09T21:00:18.331Z"
   },
   {
    "duration": 31,
    "start_time": "2021-10-09T21:00:18.358Z"
   },
   {
    "duration": 11,
    "start_time": "2021-10-09T21:00:18.391Z"
   },
   {
    "duration": 75,
    "start_time": "2021-10-09T21:00:18.404Z"
   },
   {
    "duration": 3,
    "start_time": "2021-10-09T21:00:18.482Z"
   },
   {
    "duration": 337,
    "start_time": "2021-10-09T21:00:18.487Z"
   },
   {
    "duration": 140,
    "start_time": "2021-10-09T21:00:18.828Z"
   },
   {
    "duration": 22,
    "start_time": "2021-10-09T21:00:18.979Z"
   },
   {
    "duration": 93,
    "start_time": "2021-10-09T21:00:19.003Z"
   },
   {
    "duration": 6,
    "start_time": "2021-10-09T21:00:19.098Z"
   },
   {
    "duration": 3682,
    "start_time": "2021-10-09T21:00:19.107Z"
   },
   {
    "duration": 1332,
    "start_time": "2021-10-23T21:05:42.477Z"
   },
   {
    "duration": 81,
    "start_time": "2021-10-23T21:05:46.918Z"
   },
   {
    "duration": 11,
    "start_time": "2021-10-23T21:05:47.001Z"
   },
   {
    "duration": 16,
    "start_time": "2021-10-23T21:05:47.014Z"
   },
   {
    "duration": 5,
    "start_time": "2021-10-23T21:05:47.032Z"
   },
   {
    "duration": 27,
    "start_time": "2021-10-23T21:05:47.039Z"
   },
   {
    "duration": 15,
    "start_time": "2021-10-23T21:05:47.068Z"
   },
   {
    "duration": 23,
    "start_time": "2021-10-23T21:05:47.085Z"
   },
   {
    "duration": 6,
    "start_time": "2021-10-23T21:05:47.111Z"
   },
   {
    "duration": 7,
    "start_time": "2021-10-23T21:05:47.119Z"
   },
   {
    "duration": 12,
    "start_time": "2021-10-23T21:05:47.127Z"
   },
   {
    "duration": 24,
    "start_time": "2021-10-23T21:05:47.141Z"
   },
   {
    "duration": 7,
    "start_time": "2021-10-23T21:05:47.167Z"
   },
   {
    "duration": 14,
    "start_time": "2021-10-23T21:05:47.175Z"
   },
   {
    "duration": 12,
    "start_time": "2021-10-23T21:05:47.191Z"
   },
   {
    "duration": 8,
    "start_time": "2021-10-23T21:05:47.205Z"
   },
   {
    "duration": 12,
    "start_time": "2021-10-23T21:05:47.215Z"
   },
   {
    "duration": 16,
    "start_time": "2021-10-23T21:05:47.229Z"
   },
   {
    "duration": 12,
    "start_time": "2021-10-23T21:05:47.246Z"
   },
   {
    "duration": 13,
    "start_time": "2021-10-23T21:05:47.260Z"
   },
   {
    "duration": 10,
    "start_time": "2021-10-23T21:05:47.274Z"
   },
   {
    "duration": 13,
    "start_time": "2021-10-23T21:05:47.285Z"
   },
   {
    "duration": 12,
    "start_time": "2021-10-23T21:05:47.300Z"
   },
   {
    "duration": 10,
    "start_time": "2021-10-23T21:05:47.315Z"
   },
   {
    "duration": 14,
    "start_time": "2021-10-23T21:05:47.327Z"
   },
   {
    "duration": 12,
    "start_time": "2021-10-23T21:05:47.342Z"
   },
   {
    "duration": 12,
    "start_time": "2021-10-23T21:05:47.355Z"
   },
   {
    "duration": 15,
    "start_time": "2021-10-23T21:05:47.368Z"
   },
   {
    "duration": 29,
    "start_time": "2021-10-23T21:05:47.385Z"
   },
   {
    "duration": 7,
    "start_time": "2021-10-23T21:05:47.416Z"
   },
   {
    "duration": 910,
    "start_time": "2021-10-23T21:05:47.424Z"
   },
   {
    "duration": 8,
    "start_time": "2021-10-23T21:05:48.335Z"
   },
   {
    "duration": 19,
    "start_time": "2021-10-23T21:05:48.345Z"
   },
   {
    "duration": 24,
    "start_time": "2021-10-23T21:05:48.365Z"
   },
   {
    "duration": 12,
    "start_time": "2021-10-23T21:05:48.391Z"
   },
   {
    "duration": 816,
    "start_time": "2021-10-23T21:05:48.405Z"
   },
   {
    "duration": 8,
    "start_time": "2021-10-23T21:05:49.222Z"
   },
   {
    "duration": 517,
    "start_time": "2021-10-23T21:05:49.232Z"
   },
   {
    "duration": 2,
    "start_time": "2021-10-23T21:05:49.751Z"
   },
   {
    "duration": 6,
    "start_time": "2021-10-23T21:05:49.763Z"
   },
   {
    "duration": 9,
    "start_time": "2021-10-23T21:05:49.770Z"
   },
   {
    "duration": 8,
    "start_time": "2021-10-23T21:05:49.781Z"
   },
   {
    "duration": 25,
    "start_time": "2021-10-23T21:05:49.791Z"
   },
   {
    "duration": 57,
    "start_time": "2021-10-23T21:05:49.817Z"
   },
   {
    "duration": 556,
    "start_time": "2021-10-23T21:05:49.875Z"
   },
   {
    "duration": 36,
    "start_time": "2021-10-23T21:05:50.433Z"
   },
   {
    "duration": 409,
    "start_time": "2021-10-23T21:05:50.471Z"
   },
   {
    "duration": 334,
    "start_time": "2021-10-23T21:05:50.882Z"
   },
   {
    "duration": 4,
    "start_time": "2021-10-23T21:05:51.218Z"
   },
   {
    "duration": 431,
    "start_time": "2021-10-23T21:05:51.224Z"
   },
   {
    "duration": 322,
    "start_time": "2021-10-23T21:05:51.657Z"
   },
   {
    "duration": 358,
    "start_time": "2021-10-23T21:05:51.980Z"
   },
   {
    "duration": 321,
    "start_time": "2021-10-23T21:05:52.340Z"
   },
   {
    "duration": 318,
    "start_time": "2021-10-23T21:05:52.662Z"
   },
   {
    "duration": 431,
    "start_time": "2021-10-23T21:05:52.982Z"
   },
   {
    "duration": 9,
    "start_time": "2021-10-23T21:05:53.415Z"
   },
   {
    "duration": 372,
    "start_time": "2021-10-23T21:05:53.425Z"
   },
   {
    "duration": 115,
    "start_time": "2021-10-23T21:05:53.799Z"
   },
   {
    "duration": 199,
    "start_time": "2021-10-23T21:05:53.916Z"
   },
   {
    "duration": 162,
    "start_time": "2021-10-23T21:05:54.117Z"
   },
   {
    "duration": 145,
    "start_time": "2021-10-23T21:05:54.281Z"
   },
   {
    "duration": 147,
    "start_time": "2021-10-23T21:05:54.427Z"
   },
   {
    "duration": 363,
    "start_time": "2021-10-23T21:05:54.576Z"
   },
   {
    "duration": 260,
    "start_time": "2021-10-23T21:05:54.941Z"
   },
   {
    "duration": 278,
    "start_time": "2021-10-23T21:05:55.202Z"
   },
   {
    "duration": 90,
    "start_time": "2021-10-23T21:05:55.482Z"
   },
   {
    "duration": 94,
    "start_time": "2021-10-23T21:05:55.573Z"
   },
   {
    "duration": 18,
    "start_time": "2021-10-23T21:05:55.670Z"
   },
   {
    "duration": 388,
    "start_time": "2021-10-23T21:05:55.693Z"
   },
   {
    "duration": 21,
    "start_time": "2021-10-23T21:05:56.083Z"
   },
   {
    "duration": 13,
    "start_time": "2021-10-23T21:05:56.106Z"
   },
   {
    "duration": 18,
    "start_time": "2021-10-23T21:05:56.121Z"
   },
   {
    "duration": 33,
    "start_time": "2021-10-23T21:05:56.141Z"
   },
   {
    "duration": 1520,
    "start_time": "2021-10-23T21:05:56.175Z"
   },
   {
    "duration": 5,
    "start_time": "2021-10-23T21:05:57.697Z"
   },
   {
    "duration": 33,
    "start_time": "2021-10-23T21:05:57.704Z"
   },
   {
    "duration": 7,
    "start_time": "2021-10-23T21:05:57.739Z"
   },
   {
    "duration": 51,
    "start_time": "2021-10-23T21:05:57.747Z"
   },
   {
    "duration": 2,
    "start_time": "2021-10-23T21:05:57.800Z"
   },
   {
    "duration": 202,
    "start_time": "2021-10-23T21:05:57.804Z"
   },
   {
    "duration": 86,
    "start_time": "2021-10-23T21:05:58.008Z"
   },
   {
    "duration": 18,
    "start_time": "2021-10-23T21:05:58.095Z"
   },
   {
    "duration": 83,
    "start_time": "2021-10-23T21:05:58.115Z"
   },
   {
    "duration": 4,
    "start_time": "2021-10-23T21:05:58.199Z"
   },
   {
    "duration": 2609,
    "start_time": "2021-10-23T21:05:58.205Z"
   },
   {
    "duration": 738,
    "start_time": "2021-10-24T21:43:38.238Z"
   },
   {
    "duration": 10,
    "start_time": "2021-10-24T21:43:38.978Z"
   },
   {
    "duration": 12,
    "start_time": "2021-10-24T21:43:38.990Z"
   },
   {
    "duration": 6,
    "start_time": "2021-10-24T21:43:39.004Z"
   },
   {
    "duration": 5,
    "start_time": "2021-10-24T21:43:39.011Z"
   },
   {
    "duration": 6,
    "start_time": "2021-10-24T21:43:39.017Z"
   },
   {
    "duration": 6,
    "start_time": "2021-10-24T21:43:39.025Z"
   },
   {
    "duration": 7,
    "start_time": "2021-10-24T21:43:39.033Z"
   },
   {
    "duration": 39,
    "start_time": "2021-10-24T21:43:39.042Z"
   },
   {
    "duration": 8,
    "start_time": "2021-10-24T21:43:39.083Z"
   },
   {
    "duration": 5,
    "start_time": "2021-10-24T21:43:39.093Z"
   },
   {
    "duration": 8,
    "start_time": "2021-10-24T21:43:39.099Z"
   },
   {
    "duration": 10,
    "start_time": "2021-10-24T21:43:39.109Z"
   },
   {
    "duration": 7,
    "start_time": "2021-10-24T21:43:39.121Z"
   },
   {
    "duration": 13,
    "start_time": "2021-10-24T21:43:39.130Z"
   },
   {
    "duration": 31,
    "start_time": "2021-10-24T21:43:39.145Z"
   },
   {
    "duration": 5,
    "start_time": "2021-10-24T21:43:39.178Z"
   },
   {
    "duration": 4,
    "start_time": "2021-10-24T21:43:39.185Z"
   },
   {
    "duration": 7,
    "start_time": "2021-10-24T21:43:39.191Z"
   },
   {
    "duration": 6,
    "start_time": "2021-10-24T21:43:39.199Z"
   },
   {
    "duration": 6,
    "start_time": "2021-10-24T21:43:39.207Z"
   },
   {
    "duration": 7,
    "start_time": "2021-10-24T21:43:39.215Z"
   },
   {
    "duration": 7,
    "start_time": "2021-10-24T21:43:39.226Z"
   },
   {
    "duration": 14,
    "start_time": "2021-10-24T21:43:39.277Z"
   },
   {
    "duration": 6,
    "start_time": "2021-10-24T21:43:39.293Z"
   },
   {
    "duration": 5,
    "start_time": "2021-10-24T21:43:39.300Z"
   },
   {
    "duration": 11,
    "start_time": "2021-10-24T21:43:39.307Z"
   },
   {
    "duration": 17,
    "start_time": "2021-10-24T21:43:39.320Z"
   },
   {
    "duration": 40,
    "start_time": "2021-10-24T21:43:39.339Z"
   },
   {
    "duration": 972,
    "start_time": "2021-10-24T21:43:39.380Z"
   },
   {
    "duration": 9,
    "start_time": "2021-10-24T21:43:40.353Z"
   },
   {
    "duration": 14,
    "start_time": "2021-10-24T21:43:40.364Z"
   },
   {
    "duration": 11,
    "start_time": "2021-10-24T21:43:40.379Z"
   },
   {
    "duration": 9,
    "start_time": "2021-10-24T21:43:40.391Z"
   },
   {
    "duration": 897,
    "start_time": "2021-10-24T21:43:40.401Z"
   },
   {
    "duration": 8,
    "start_time": "2021-10-24T21:43:41.300Z"
   },
   {
    "duration": 510,
    "start_time": "2021-10-24T21:43:41.310Z"
   },
   {
    "duration": 3,
    "start_time": "2021-10-24T21:43:41.822Z"
   },
   {
    "duration": 7,
    "start_time": "2021-10-24T21:43:41.827Z"
   },
   {
    "duration": 11,
    "start_time": "2021-10-24T21:43:41.836Z"
   },
   {
    "duration": 30,
    "start_time": "2021-10-24T21:43:41.849Z"
   },
   {
    "duration": 27,
    "start_time": "2021-10-24T21:43:41.881Z"
   },
   {
    "duration": 28,
    "start_time": "2021-10-24T21:43:41.909Z"
   },
   {
    "duration": 673,
    "start_time": "2021-10-24T21:43:41.938Z"
   },
   {
    "duration": 24,
    "start_time": "2021-10-24T21:43:42.613Z"
   },
   {
    "duration": 428,
    "start_time": "2021-10-24T21:43:42.639Z"
   },
   {
    "duration": 453,
    "start_time": "2021-10-24T21:43:43.069Z"
   },
   {
    "duration": 5,
    "start_time": "2021-10-24T21:43:43.524Z"
   },
   {
    "duration": 416,
    "start_time": "2021-10-24T21:43:43.531Z"
   },
   {
    "duration": 346,
    "start_time": "2021-10-24T21:43:43.949Z"
   },
   {
    "duration": 345,
    "start_time": "2021-10-24T21:43:44.297Z"
   },
   {
    "duration": 335,
    "start_time": "2021-10-24T21:43:44.644Z"
   },
   {
    "duration": 302,
    "start_time": "2021-10-24T21:43:44.981Z"
   },
   {
    "duration": 360,
    "start_time": "2021-10-24T21:43:45.285Z"
   },
   {
    "duration": 8,
    "start_time": "2021-10-24T21:43:45.647Z"
   },
   {
    "duration": 427,
    "start_time": "2021-10-24T21:43:45.657Z"
   },
   {
    "duration": 93,
    "start_time": "2021-10-24T21:43:46.085Z"
   },
   {
    "duration": 139,
    "start_time": "2021-10-24T21:43:46.179Z"
   },
   {
    "duration": 157,
    "start_time": "2021-10-24T21:43:46.319Z"
   },
   {
    "duration": 140,
    "start_time": "2021-10-24T21:43:46.478Z"
   },
   {
    "duration": 158,
    "start_time": "2021-10-24T21:43:46.620Z"
   },
   {
    "duration": 362,
    "start_time": "2021-10-24T21:43:46.780Z"
   },
   {
    "duration": 283,
    "start_time": "2021-10-24T21:43:47.144Z"
   },
   {
    "duration": 296,
    "start_time": "2021-10-24T21:43:47.429Z"
   },
   {
    "duration": 99,
    "start_time": "2021-10-24T21:43:47.727Z"
   },
   {
    "duration": 96,
    "start_time": "2021-10-24T21:43:47.828Z"
   },
   {
    "duration": 20,
    "start_time": "2021-10-24T21:43:47.925Z"
   },
   {
    "duration": 370,
    "start_time": "2021-10-24T21:43:47.950Z"
   },
   {
    "duration": 23,
    "start_time": "2021-10-24T21:43:48.321Z"
   },
   {
    "duration": 32,
    "start_time": "2021-10-24T21:43:48.346Z"
   },
   {
    "duration": 15,
    "start_time": "2021-10-24T21:43:48.379Z"
   },
   {
    "duration": 14,
    "start_time": "2021-10-24T21:43:48.395Z"
   },
   {
    "duration": 2023,
    "start_time": "2021-10-24T21:43:48.410Z"
   },
   {
    "duration": 6,
    "start_time": "2021-10-24T21:43:50.435Z"
   },
   {
    "duration": 38,
    "start_time": "2021-10-24T21:43:50.443Z"
   },
   {
    "duration": 7,
    "start_time": "2021-10-24T21:43:50.483Z"
   },
   {
    "duration": 38,
    "start_time": "2021-10-24T21:43:50.492Z"
   },
   {
    "duration": 2,
    "start_time": "2021-10-24T21:43:50.532Z"
   },
   {
    "duration": 211,
    "start_time": "2021-10-24T21:43:50.536Z"
   },
   {
    "duration": 83,
    "start_time": "2021-10-24T21:43:50.748Z"
   },
   {
    "duration": 12,
    "start_time": "2021-10-24T21:43:50.833Z"
   },
   {
    "duration": 61,
    "start_time": "2021-10-24T21:43:50.846Z"
   },
   {
    "duration": 4,
    "start_time": "2021-10-24T21:43:50.909Z"
   },
   {
    "duration": 2588,
    "start_time": "2021-10-24T21:43:50.914Z"
   },
   {
    "duration": 917,
    "start_time": "2021-10-26T12:41:53.243Z"
   },
   {
    "duration": 26,
    "start_time": "2021-10-26T12:41:54.163Z"
   },
   {
    "duration": 18,
    "start_time": "2021-10-26T12:41:54.194Z"
   },
   {
    "duration": 9,
    "start_time": "2021-10-26T12:41:54.216Z"
   },
   {
    "duration": 6,
    "start_time": "2021-10-26T12:41:54.227Z"
   },
   {
    "duration": 49,
    "start_time": "2021-10-26T12:41:54.235Z"
   },
   {
    "duration": 10,
    "start_time": "2021-10-26T12:41:54.286Z"
   },
   {
    "duration": 7,
    "start_time": "2021-10-26T12:41:54.299Z"
   },
   {
    "duration": 8,
    "start_time": "2021-10-26T12:41:54.309Z"
   },
   {
    "duration": 10,
    "start_time": "2021-10-26T12:41:54.319Z"
   },
   {
    "duration": 8,
    "start_time": "2021-10-26T12:41:54.331Z"
   },
   {
    "duration": 6,
    "start_time": "2021-10-26T12:41:54.383Z"
   },
   {
    "duration": 13,
    "start_time": "2021-10-26T12:41:54.392Z"
   },
   {
    "duration": 11,
    "start_time": "2021-10-26T12:41:54.407Z"
   },
   {
    "duration": 6,
    "start_time": "2021-10-26T12:41:54.420Z"
   },
   {
    "duration": 7,
    "start_time": "2021-10-26T12:41:54.429Z"
   },
   {
    "duration": 49,
    "start_time": "2021-10-26T12:41:54.438Z"
   },
   {
    "duration": 7,
    "start_time": "2021-10-26T12:41:54.489Z"
   },
   {
    "duration": 8,
    "start_time": "2021-10-26T12:41:54.498Z"
   },
   {
    "duration": 7,
    "start_time": "2021-10-26T12:41:54.508Z"
   },
   {
    "duration": 6,
    "start_time": "2021-10-26T12:41:54.518Z"
   },
   {
    "duration": 57,
    "start_time": "2021-10-26T12:41:54.527Z"
   },
   {
    "duration": 8,
    "start_time": "2021-10-26T12:41:54.590Z"
   },
   {
    "duration": 20,
    "start_time": "2021-10-26T12:41:54.602Z"
   },
   {
    "duration": 10,
    "start_time": "2021-10-26T12:41:54.624Z"
   },
   {
    "duration": 46,
    "start_time": "2021-10-26T12:41:54.637Z"
   },
   {
    "duration": 17,
    "start_time": "2021-10-26T12:41:54.686Z"
   },
   {
    "duration": 29,
    "start_time": "2021-10-26T12:41:54.706Z"
   },
   {
    "duration": 9,
    "start_time": "2021-10-26T12:41:54.737Z"
   },
   {
    "duration": 1660,
    "start_time": "2021-10-26T12:41:54.782Z"
   },
   {
    "duration": 11,
    "start_time": "2021-10-26T12:41:56.445Z"
   },
   {
    "duration": 23,
    "start_time": "2021-10-26T12:41:56.459Z"
   },
   {
    "duration": 17,
    "start_time": "2021-10-26T12:41:56.484Z"
   },
   {
    "duration": 12,
    "start_time": "2021-10-26T12:41:56.503Z"
   },
   {
    "duration": 1600,
    "start_time": "2021-10-26T12:41:56.517Z"
   },
   {
    "duration": 12,
    "start_time": "2021-10-26T12:41:58.119Z"
   },
   {
    "duration": 994,
    "start_time": "2021-10-26T12:41:58.133Z"
   },
   {
    "duration": 3,
    "start_time": "2021-10-26T12:41:59.130Z"
   },
   {
    "duration": 13,
    "start_time": "2021-10-26T12:41:59.135Z"
   },
   {
    "duration": 35,
    "start_time": "2021-10-26T12:41:59.151Z"
   },
   {
    "duration": 13,
    "start_time": "2021-10-26T12:41:59.188Z"
   },
   {
    "duration": 41,
    "start_time": "2021-10-26T12:41:59.203Z"
   },
   {
    "duration": 67,
    "start_time": "2021-10-26T12:41:59.247Z"
   },
   {
    "duration": 935,
    "start_time": "2021-10-26T12:41:59.316Z"
   },
   {
    "duration": 51,
    "start_time": "2021-10-26T12:42:00.253Z"
   },
   {
    "duration": 675,
    "start_time": "2021-10-26T12:42:00.307Z"
   },
   {
    "duration": 555,
    "start_time": "2021-10-26T12:42:00.984Z"
   },
   {
    "duration": 8,
    "start_time": "2021-10-26T12:42:01.541Z"
   },
   {
    "duration": 732,
    "start_time": "2021-10-26T12:42:01.552Z"
   },
   {
    "duration": 580,
    "start_time": "2021-10-26T12:42:02.287Z"
   },
   {
    "duration": 578,
    "start_time": "2021-10-26T12:42:02.870Z"
   },
   {
    "duration": 573,
    "start_time": "2021-10-26T12:42:03.450Z"
   },
   {
    "duration": 510,
    "start_time": "2021-10-26T12:42:04.026Z"
   },
   {
    "duration": 677,
    "start_time": "2021-10-26T12:42:04.539Z"
   },
   {
    "duration": 14,
    "start_time": "2021-10-26T12:42:05.219Z"
   },
   {
    "duration": 674,
    "start_time": "2021-10-26T12:42:05.236Z"
   },
   {
    "duration": 190,
    "start_time": "2021-10-26T12:42:05.913Z"
   },
   {
    "duration": 219,
    "start_time": "2021-10-26T12:42:06.106Z"
   },
   {
    "duration": 347,
    "start_time": "2021-10-26T12:42:06.328Z"
   },
   {
    "duration": 274,
    "start_time": "2021-10-26T12:42:06.677Z"
   },
   {
    "duration": 291,
    "start_time": "2021-10-26T12:42:06.954Z"
   },
   {
    "duration": 616,
    "start_time": "2021-10-26T12:42:07.247Z"
   },
   {
    "duration": 448,
    "start_time": "2021-10-26T12:42:07.865Z"
   },
   {
    "duration": 629,
    "start_time": "2021-10-26T12:42:08.315Z"
   },
   {
    "duration": 159,
    "start_time": "2021-10-26T12:42:08.946Z"
   },
   {
    "duration": 186,
    "start_time": "2021-10-26T12:42:09.108Z"
   },
   {
    "duration": 27,
    "start_time": "2021-10-26T12:42:09.296Z"
   },
   {
    "duration": 645,
    "start_time": "2021-10-26T12:42:09.330Z"
   },
   {
    "duration": 34,
    "start_time": "2021-10-26T12:42:09.981Z"
   },
   {
    "duration": 22,
    "start_time": "2021-10-26T12:42:10.017Z"
   },
   {
    "duration": 52,
    "start_time": "2021-10-26T12:42:10.041Z"
   },
   {
    "duration": 28,
    "start_time": "2021-10-26T12:42:10.095Z"
   },
   {
    "duration": 3256,
    "start_time": "2021-10-26T12:42:10.126Z"
   },
   {
    "duration": 10,
    "start_time": "2021-10-26T12:42:13.385Z"
   },
   {
    "duration": 45,
    "start_time": "2021-10-26T12:42:13.398Z"
   },
   {
    "duration": 38,
    "start_time": "2021-10-26T12:42:13.446Z"
   },
   {
    "duration": 46,
    "start_time": "2021-10-26T12:42:13.488Z"
   },
   {
    "duration": 3,
    "start_time": "2021-10-26T12:42:13.537Z"
   },
   {
    "duration": 343,
    "start_time": "2021-10-26T12:42:13.542Z"
   },
   {
    "duration": 141,
    "start_time": "2021-10-26T12:42:13.887Z"
   },
   {
    "duration": 19,
    "start_time": "2021-10-26T12:42:14.031Z"
   },
   {
    "duration": 78,
    "start_time": "2021-10-26T12:42:14.052Z"
   },
   {
    "duration": 5,
    "start_time": "2021-10-26T12:42:14.133Z"
   },
   {
    "duration": 3582,
    "start_time": "2021-10-26T12:42:14.141Z"
   },
   {
    "duration": 868,
    "start_time": "2021-11-05T11:52:15.656Z"
   },
   {
    "duration": 18,
    "start_time": "2021-11-05T11:52:16.526Z"
   },
   {
    "duration": 16,
    "start_time": "2021-11-05T11:52:16.546Z"
   },
   {
    "duration": 6,
    "start_time": "2021-11-05T11:52:16.583Z"
   },
   {
    "duration": 7,
    "start_time": "2021-11-05T11:52:16.591Z"
   },
   {
    "duration": 9,
    "start_time": "2021-11-05T11:52:16.600Z"
   },
   {
    "duration": 7,
    "start_time": "2021-11-05T11:52:16.612Z"
   },
   {
    "duration": 7,
    "start_time": "2021-11-05T11:52:16.622Z"
   },
   {
    "duration": 52,
    "start_time": "2021-11-05T11:52:16.632Z"
   },
   {
    "duration": 11,
    "start_time": "2021-11-05T11:52:16.687Z"
   },
   {
    "duration": 7,
    "start_time": "2021-11-05T11:52:16.700Z"
   },
   {
    "duration": 7,
    "start_time": "2021-11-05T11:52:16.710Z"
   },
   {
    "duration": 10,
    "start_time": "2021-11-05T11:52:16.720Z"
   },
   {
    "duration": 50,
    "start_time": "2021-11-05T11:52:16.732Z"
   },
   {
    "duration": 7,
    "start_time": "2021-11-05T11:52:16.785Z"
   },
   {
    "duration": 12,
    "start_time": "2021-11-05T11:52:16.795Z"
   },
   {
    "duration": 10,
    "start_time": "2021-11-05T11:52:16.809Z"
   },
   {
    "duration": 7,
    "start_time": "2021-11-05T11:52:16.822Z"
   },
   {
    "duration": 50,
    "start_time": "2021-11-05T11:52:16.832Z"
   },
   {
    "duration": 7,
    "start_time": "2021-11-05T11:52:16.885Z"
   },
   {
    "duration": 7,
    "start_time": "2021-11-05T11:52:16.894Z"
   },
   {
    "duration": 8,
    "start_time": "2021-11-05T11:52:16.904Z"
   },
   {
    "duration": 10,
    "start_time": "2021-11-05T11:52:16.919Z"
   },
   {
    "duration": 20,
    "start_time": "2021-11-05T11:52:16.981Z"
   },
   {
    "duration": 9,
    "start_time": "2021-11-05T11:52:17.004Z"
   },
   {
    "duration": 6,
    "start_time": "2021-11-05T11:52:17.015Z"
   },
   {
    "duration": 14,
    "start_time": "2021-11-05T11:52:17.024Z"
   },
   {
    "duration": 63,
    "start_time": "2021-11-05T11:52:17.040Z"
   },
   {
    "duration": 11,
    "start_time": "2021-11-05T11:52:17.105Z"
   },
   {
    "duration": 1784,
    "start_time": "2021-11-05T11:52:17.118Z"
   },
   {
    "duration": 14,
    "start_time": "2021-11-05T11:52:18.904Z"
   },
   {
    "duration": 6,
    "start_time": "2021-11-05T11:52:18.920Z"
   },
   {
    "duration": 16,
    "start_time": "2021-11-05T11:52:18.929Z"
   },
   {
    "duration": 42,
    "start_time": "2021-11-05T11:52:18.948Z"
   },
   {
    "duration": 1606,
    "start_time": "2021-11-05T11:52:18.993Z"
   },
   {
    "duration": 12,
    "start_time": "2021-11-05T11:52:20.602Z"
   },
   {
    "duration": 960,
    "start_time": "2021-11-05T11:52:20.617Z"
   },
   {
    "duration": 3,
    "start_time": "2021-11-05T11:52:21.580Z"
   },
   {
    "duration": 14,
    "start_time": "2021-11-05T11:52:21.586Z"
   },
   {
    "duration": 17,
    "start_time": "2021-11-05T11:52:21.603Z"
   },
   {
    "duration": 13,
    "start_time": "2021-11-05T11:52:21.622Z"
   },
   {
    "duration": 82,
    "start_time": "2021-11-05T11:52:21.637Z"
   },
   {
    "duration": 44,
    "start_time": "2021-11-05T11:52:21.721Z"
   },
   {
    "duration": 945,
    "start_time": "2021-11-05T11:52:21.782Z"
   },
   {
    "duration": 54,
    "start_time": "2021-11-05T11:52:22.730Z"
   },
   {
    "duration": 666,
    "start_time": "2021-11-05T11:52:22.787Z"
   },
   {
    "duration": 569,
    "start_time": "2021-11-05T11:52:23.455Z"
   },
   {
    "duration": 6,
    "start_time": "2021-11-05T11:52:24.026Z"
   },
   {
    "duration": 632,
    "start_time": "2021-11-05T11:52:24.034Z"
   },
   {
    "duration": 575,
    "start_time": "2021-11-05T11:52:24.668Z"
   },
   {
    "duration": 574,
    "start_time": "2021-11-05T11:52:25.246Z"
   },
   {
    "duration": 550,
    "start_time": "2021-11-05T11:52:25.823Z"
   },
   {
    "duration": 500,
    "start_time": "2021-11-05T11:52:26.382Z"
   },
   {
    "duration": 589,
    "start_time": "2021-11-05T11:52:26.884Z"
   },
   {
    "duration": 11,
    "start_time": "2021-11-05T11:52:27.482Z"
   },
   {
    "duration": 773,
    "start_time": "2021-11-05T11:52:27.495Z"
   },
   {
    "duration": 141,
    "start_time": "2021-11-05T11:52:28.271Z"
   },
   {
    "duration": 224,
    "start_time": "2021-11-05T11:52:28.415Z"
   },
   {
    "duration": 245,
    "start_time": "2021-11-05T11:52:28.641Z"
   },
   {
    "duration": 232,
    "start_time": "2021-11-05T11:52:28.888Z"
   },
   {
    "duration": 248,
    "start_time": "2021-11-05T11:52:29.122Z"
   },
   {
    "duration": 696,
    "start_time": "2021-11-05T11:52:29.372Z"
   },
   {
    "duration": 449,
    "start_time": "2021-11-05T11:52:30.071Z"
   },
   {
    "duration": 484,
    "start_time": "2021-11-05T11:52:30.522Z"
   },
   {
    "duration": 150,
    "start_time": "2021-11-05T11:52:31.009Z"
   },
   {
    "duration": 157,
    "start_time": "2021-11-05T11:52:31.161Z"
   },
   {
    "duration": 28,
    "start_time": "2021-11-05T11:52:31.320Z"
   },
   {
    "duration": 571,
    "start_time": "2021-11-05T11:52:31.356Z"
   },
   {
    "duration": 34,
    "start_time": "2021-11-05T11:52:31.929Z"
   },
   {
    "duration": 21,
    "start_time": "2021-11-05T11:52:31.983Z"
   },
   {
    "duration": 23,
    "start_time": "2021-11-05T11:52:32.006Z"
   },
   {
    "duration": 54,
    "start_time": "2021-11-05T11:52:32.032Z"
   },
   {
    "duration": 2914,
    "start_time": "2021-11-05T11:52:32.088Z"
   },
   {
    "duration": 8,
    "start_time": "2021-11-05T11:52:35.004Z"
   },
   {
    "duration": 34,
    "start_time": "2021-11-05T11:52:35.014Z"
   },
   {
    "duration": 39,
    "start_time": "2021-11-05T11:52:35.050Z"
   },
   {
    "duration": 57,
    "start_time": "2021-11-05T11:52:35.091Z"
   },
   {
    "duration": 2,
    "start_time": "2021-11-05T11:52:35.150Z"
   },
   {
    "duration": 332,
    "start_time": "2021-11-05T11:52:35.155Z"
   },
   {
    "duration": 139,
    "start_time": "2021-11-05T11:52:35.489Z"
   },
   {
    "duration": 20,
    "start_time": "2021-11-05T11:52:35.630Z"
   },
   {
    "duration": 87,
    "start_time": "2021-11-05T11:52:35.652Z"
   },
   {
    "duration": 6,
    "start_time": "2021-11-05T11:52:35.741Z"
   },
   {
    "duration": 3588,
    "start_time": "2021-11-05T11:52:35.750Z"
   }
  ],
  "kernelspec": {
   "display_name": "Python 3",
   "language": "python",
   "name": "python3"
  },
  "language_info": {
   "codemirror_mode": {
    "name": "ipython",
    "version": 3
   },
   "file_extension": ".py",
   "mimetype": "text/x-python",
   "name": "python",
   "nbconvert_exporter": "python",
   "pygments_lexer": "ipython3",
   "version": "3.8.5"
  },
  "toc": {
   "base_numbering": 1,
   "nav_menu": {},
   "number_sections": true,
   "sideBar": true,
   "skip_h1_title": true,
   "title_cell": "Содержание",
   "title_sidebar": "Contents",
   "toc_cell": true,
   "toc_position": {
    "height": "calc(100% - 180px)",
    "left": "10px",
    "top": "150px",
    "width": "164.988px"
   },
   "toc_section_display": true,
   "toc_window_display": true
  }
 },
 "nbformat": 4,
 "nbformat_minor": 2
}
