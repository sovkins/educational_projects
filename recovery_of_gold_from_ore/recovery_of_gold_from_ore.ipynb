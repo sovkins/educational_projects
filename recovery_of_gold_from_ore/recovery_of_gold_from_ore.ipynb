{
 "cells": [
  {
   "cell_type": "markdown",
   "metadata": {
    "toc": true
   },
   "source": [
    "<h1>Содержание<span class=\"tocSkip\"></span></h1>\n",
    "<div class=\"toc\"><ul class=\"toc-item\"><li><span><a href=\"#Подготовка-данных\" data-toc-modified-id=\"Подготовка-данных-1\"><span class=\"toc-item-num\">1&nbsp;&nbsp;</span>Подготовка данных</a></span></li><li><span><a href=\"#Анализ-данных\" data-toc-modified-id=\"Анализ-данных-2\"><span class=\"toc-item-num\">2&nbsp;&nbsp;</span>Анализ данных</a></span></li><li><span><a href=\"#Модель\" data-toc-modified-id=\"Модель-3\"><span class=\"toc-item-num\">3&nbsp;&nbsp;</span>Модель</a></span></li><li><span><a href=\"#вывод\" data-toc-modified-id=\"вывод-4\"><span class=\"toc-item-num\">4&nbsp;&nbsp;</span>вывод</a></span></li><li><span><a href=\"#Чек-лист-готовности-проекта\" data-toc-modified-id=\"Чек-лист-готовности-проекта-5\"><span class=\"toc-item-num\">5&nbsp;&nbsp;</span>Чек-лист готовности проекта</a></span></li></ul></div>"
   ]
  },
  {
   "cell_type": "code",
   "execution_count": 107,
   "metadata": {
    "cellId": "kf33vrkpm47rk81sk2krpc"
   },
   "outputs": [],
   "source": [
    "#%pip install --upgrade pip"
   ]
  },
  {
   "cell_type": "code",
   "execution_count": 108,
   "metadata": {
    "cellId": "kjdp8x6ebxddrows1okwn"
   },
   "outputs": [],
   "source": [
    "#%pip install -q -r requirements-ml.txt"
   ]
  },
  {
   "cell_type": "code",
   "execution_count": 109,
   "metadata": {
    "cellId": "32t8hp0dnyuyw3myvsopoe"
   },
   "outputs": [],
   "source": [
    "#%pip install scikit-learn==0.22.1"
   ]
  },
  {
   "cell_type": "markdown",
   "metadata": {
    "cellId": "pwxlmzbgh4ndimlrv8de"
   },
   "source": [
    "<h1>Содержание<span class=\"tocSkip\"></span></h1>\n",
    "<div class=\"toc\"><ul class=\"toc-item\"><li><span><a href=\"#Подготовка-данных\" data-toc-modified-id=\"Подготовка-данных-1\"><span class=\"toc-item-num\">1&nbsp;&nbsp;</span>Подготовка данных</a></span></li><li><span><a href=\"#Анализ-данных\" data-toc-modified-id=\"Анализ-данных-2\"><span class=\"toc-item-num\">2&nbsp;&nbsp;</span>Анализ данных</a></span></li><li><span><a href=\"#Модель\" data-toc-modified-id=\"Модель-3\"><span class=\"toc-item-num\">3&nbsp;&nbsp;</span>Модель</a></span></li><li><span><a href=\"#Чек-лист-готовности-проекта\" data-toc-modified-id=\"Чек-лист-готовности-проекта-4\"><span class=\"toc-item-num\">4&nbsp;&nbsp;</span>Чек-лист готовности проекта</a></span></li></ul></div>"
   ]
  },
  {
   "cell_type": "markdown",
   "metadata": {
    "cellId": "n8687cmbbvkqxak6vabmq"
   },
   "source": [
    "# Восстановление золота из руды"
   ]
  },
  {
   "cell_type": "markdown",
   "metadata": {
    "cellId": "5hr1i8alobhzeo93rkvkb"
   },
   "source": [
    "Подготовьте прототип модели машинного обучения для «Цифры». Компания разрабатывает решения для эффективной работы промышленных предприятий.\n",
    "\n",
    "Модель должна предсказать коэффициент восстановления золота из золотосодержащей руды. Используйте данные с параметрами добычи и очистки. \n",
    "\n",
    "Модель поможет оптимизировать производство, чтобы не запускать предприятие с убыточными характеристиками.\n",
    "\n",
    "Вам нужно:\n",
    "\n",
    "1. Подготовить данные;\n",
    "2. Провести исследовательский анализ данных;\n",
    "3. Построить и обучить модель.\n",
    "\n",
    "Чтобы выполнить проект, обращайтесь к библиотекам *pandas*, *matplotlib* и *sklearn.* Вам поможет их документация."
   ]
  },
  {
   "cell_type": "markdown",
   "metadata": {
    "cellId": "rxcmkj3n1najbbopsg7uc"
   },
   "source": [
    "## Подготовка данных"
   ]
  },
  {
   "cell_type": "code",
   "execution_count": 1,
   "metadata": {
    "cellId": "p7an8xy0s6qgzvmze9705"
   },
   "outputs": [],
   "source": [
    "import pandas as pd \n",
    "import matplotlib.pyplot as plt\n",
    "from sklearn.model_selection import train_test_split\n",
    "from sklearn.linear_model import LinearRegression\n",
    "from sklearn.metrics import make_scorer\n",
    "from sklearn.model_selection import cross_val_score\n",
    "from numpy.random import RandomState\n",
    "from sklearn.metrics import mean_absolute_error\n",
    "from scipy import stats as st\n",
    "from sklearn.tree import DecisionTreeRegressor\n",
    "from sklearn.ensemble import RandomForestRegressor\n",
    "import seaborn as sns\n",
    "from sklearn.dummy import DummyRegressor"
   ]
  },
  {
   "cell_type": "code",
   "execution_count": 2,
   "metadata": {
    "cellId": "two1lvl0zohz21vjq5ft7o",
    "scrolled": true
   },
   "outputs": [
    {
     "name": "stdout",
     "output_type": "stream",
     "text": [
      "<class 'pandas.core.frame.DataFrame'>\n",
      "RangeIndex: 19439 entries, 0 to 19438\n",
      "Data columns (total 87 columns):\n",
      "date                                                  19439 non-null object\n",
      "final.output.concentrate_ag                           19438 non-null float64\n",
      "final.output.concentrate_pb                           19438 non-null float64\n",
      "final.output.concentrate_sol                          19228 non-null float64\n",
      "final.output.concentrate_au                           19439 non-null float64\n",
      "final.output.recovery                                 19439 non-null float64\n",
      "final.output.tail_ag                                  19438 non-null float64\n",
      "final.output.tail_pb                                  19338 non-null float64\n",
      "final.output.tail_sol                                 19433 non-null float64\n",
      "final.output.tail_au                                  19439 non-null float64\n",
      "primary_cleaner.input.sulfate                         19415 non-null float64\n",
      "primary_cleaner.input.depressant                      19402 non-null float64\n",
      "primary_cleaner.input.feed_size                       19439 non-null float64\n",
      "primary_cleaner.input.xanthate                        19335 non-null float64\n",
      "primary_cleaner.output.concentrate_ag                 19439 non-null float64\n",
      "primary_cleaner.output.concentrate_pb                 19323 non-null float64\n",
      "primary_cleaner.output.concentrate_sol                19069 non-null float64\n",
      "primary_cleaner.output.concentrate_au                 19439 non-null float64\n",
      "primary_cleaner.output.tail_ag                        19435 non-null float64\n",
      "primary_cleaner.output.tail_pb                        19418 non-null float64\n",
      "primary_cleaner.output.tail_sol                       19377 non-null float64\n",
      "primary_cleaner.output.tail_au                        19439 non-null float64\n",
      "primary_cleaner.state.floatbank8_a_air                19435 non-null float64\n",
      "primary_cleaner.state.floatbank8_a_level              19438 non-null float64\n",
      "primary_cleaner.state.floatbank8_b_air                19435 non-null float64\n",
      "primary_cleaner.state.floatbank8_b_level              19438 non-null float64\n",
      "primary_cleaner.state.floatbank8_c_air                19437 non-null float64\n",
      "primary_cleaner.state.floatbank8_c_level              19438 non-null float64\n",
      "primary_cleaner.state.floatbank8_d_air                19436 non-null float64\n",
      "primary_cleaner.state.floatbank8_d_level              19438 non-null float64\n",
      "rougher.calculation.sulfate_to_au_concentrate         19437 non-null float64\n",
      "rougher.calculation.floatbank10_sulfate_to_au_feed    19437 non-null float64\n",
      "rougher.calculation.floatbank11_sulfate_to_au_feed    19437 non-null float64\n",
      "rougher.calculation.au_pb_ratio                       19439 non-null float64\n",
      "rougher.input.feed_ag                                 19439 non-null float64\n",
      "rougher.input.feed_pb                                 19339 non-null float64\n",
      "rougher.input.feed_rate                               19428 non-null float64\n",
      "rougher.input.feed_size                               19294 non-null float64\n",
      "rougher.input.feed_sol                                19340 non-null float64\n",
      "rougher.input.feed_au                                 19439 non-null float64\n",
      "rougher.input.floatbank10_sulfate                     19405 non-null float64\n",
      "rougher.input.floatbank10_xanthate                    19431 non-null float64\n",
      "rougher.input.floatbank11_sulfate                     19395 non-null float64\n",
      "rougher.input.floatbank11_xanthate                    18986 non-null float64\n",
      "rougher.output.concentrate_ag                         19439 non-null float64\n",
      "rougher.output.concentrate_pb                         19439 non-null float64\n",
      "rougher.output.concentrate_sol                        19416 non-null float64\n",
      "rougher.output.concentrate_au                         19439 non-null float64\n",
      "rougher.output.recovery                               19439 non-null float64\n",
      "rougher.output.tail_ag                                19438 non-null float64\n",
      "rougher.output.tail_pb                                19439 non-null float64\n",
      "rougher.output.tail_sol                               19439 non-null float64\n",
      "rougher.output.tail_au                                19439 non-null float64\n",
      "rougher.state.floatbank10_a_air                       19438 non-null float64\n",
      "rougher.state.floatbank10_a_level                     19438 non-null float64\n",
      "rougher.state.floatbank10_b_air                       19438 non-null float64\n",
      "rougher.state.floatbank10_b_level                     19438 non-null float64\n",
      "rougher.state.floatbank10_c_air                       19438 non-null float64\n",
      "rougher.state.floatbank10_c_level                     19438 non-null float64\n",
      "rougher.state.floatbank10_d_air                       19439 non-null float64\n",
      "rougher.state.floatbank10_d_level                     19439 non-null float64\n",
      "rougher.state.floatbank10_e_air                       19003 non-null float64\n",
      "rougher.state.floatbank10_e_level                     19439 non-null float64\n",
      "rougher.state.floatbank10_f_air                       19439 non-null float64\n",
      "rougher.state.floatbank10_f_level                     19439 non-null float64\n",
      "secondary_cleaner.output.tail_ag                      19437 non-null float64\n",
      "secondary_cleaner.output.tail_pb                      19427 non-null float64\n",
      "secondary_cleaner.output.tail_sol                     17691 non-null float64\n",
      "secondary_cleaner.output.tail_au                      19439 non-null float64\n",
      "secondary_cleaner.state.floatbank2_a_air              19219 non-null float64\n",
      "secondary_cleaner.state.floatbank2_a_level            19438 non-null float64\n",
      "secondary_cleaner.state.floatbank2_b_air              19416 non-null float64\n",
      "secondary_cleaner.state.floatbank2_b_level            19438 non-null float64\n",
      "secondary_cleaner.state.floatbank3_a_air              19426 non-null float64\n",
      "secondary_cleaner.state.floatbank3_a_level            19438 non-null float64\n",
      "secondary_cleaner.state.floatbank3_b_air              19438 non-null float64\n",
      "secondary_cleaner.state.floatbank3_b_level            19438 non-null float64\n",
      "secondary_cleaner.state.floatbank4_a_air              19433 non-null float64\n",
      "secondary_cleaner.state.floatbank4_a_level            19438 non-null float64\n",
      "secondary_cleaner.state.floatbank4_b_air              19438 non-null float64\n",
      "secondary_cleaner.state.floatbank4_b_level            19438 non-null float64\n",
      "secondary_cleaner.state.floatbank5_a_air              19438 non-null float64\n",
      "secondary_cleaner.state.floatbank5_a_level            19438 non-null float64\n",
      "secondary_cleaner.state.floatbank5_b_air              19438 non-null float64\n",
      "secondary_cleaner.state.floatbank5_b_level            19438 non-null float64\n",
      "secondary_cleaner.state.floatbank6_a_air              19437 non-null float64\n",
      "secondary_cleaner.state.floatbank6_a_level            19438 non-null float64\n",
      "dtypes: float64(86), object(1)\n",
      "memory usage: 12.9+ MB\n"
     ]
    }
   ],
   "source": [
    "df = pd.read_csv('/datasets/gold_recovery_full_new.csv')\n",
    "df.info()"
   ]
  },
  {
   "cell_type": "code",
   "execution_count": 3,
   "metadata": {
    "cellId": "x6vwrtqum7qbhsdstzfs",
    "scrolled": true
   },
   "outputs": [
    {
     "name": "stdout",
     "output_type": "stream",
     "text": [
      "<class 'pandas.core.frame.DataFrame'>\n",
      "RangeIndex: 14149 entries, 0 to 14148\n",
      "Data columns (total 87 columns):\n",
      "date                                                  14149 non-null object\n",
      "final.output.concentrate_ag                           14148 non-null float64\n",
      "final.output.concentrate_pb                           14148 non-null float64\n",
      "final.output.concentrate_sol                          13938 non-null float64\n",
      "final.output.concentrate_au                           14149 non-null float64\n",
      "final.output.recovery                                 14149 non-null float64\n",
      "final.output.tail_ag                                  14149 non-null float64\n",
      "final.output.tail_pb                                  14049 non-null float64\n",
      "final.output.tail_sol                                 14144 non-null float64\n",
      "final.output.tail_au                                  14149 non-null float64\n",
      "primary_cleaner.input.sulfate                         14129 non-null float64\n",
      "primary_cleaner.input.depressant                      14117 non-null float64\n",
      "primary_cleaner.input.feed_size                       14149 non-null float64\n",
      "primary_cleaner.input.xanthate                        14049 non-null float64\n",
      "primary_cleaner.output.concentrate_ag                 14149 non-null float64\n",
      "primary_cleaner.output.concentrate_pb                 14063 non-null float64\n",
      "primary_cleaner.output.concentrate_sol                13863 non-null float64\n",
      "primary_cleaner.output.concentrate_au                 14149 non-null float64\n",
      "primary_cleaner.output.tail_ag                        14148 non-null float64\n",
      "primary_cleaner.output.tail_pb                        14134 non-null float64\n",
      "primary_cleaner.output.tail_sol                       14103 non-null float64\n",
      "primary_cleaner.output.tail_au                        14149 non-null float64\n",
      "primary_cleaner.state.floatbank8_a_air                14145 non-null float64\n",
      "primary_cleaner.state.floatbank8_a_level              14148 non-null float64\n",
      "primary_cleaner.state.floatbank8_b_air                14145 non-null float64\n",
      "primary_cleaner.state.floatbank8_b_level              14148 non-null float64\n",
      "primary_cleaner.state.floatbank8_c_air                14147 non-null float64\n",
      "primary_cleaner.state.floatbank8_c_level              14148 non-null float64\n",
      "primary_cleaner.state.floatbank8_d_air                14146 non-null float64\n",
      "primary_cleaner.state.floatbank8_d_level              14148 non-null float64\n",
      "rougher.calculation.sulfate_to_au_concentrate         14148 non-null float64\n",
      "rougher.calculation.floatbank10_sulfate_to_au_feed    14148 non-null float64\n",
      "rougher.calculation.floatbank11_sulfate_to_au_feed    14148 non-null float64\n",
      "rougher.calculation.au_pb_ratio                       14149 non-null float64\n",
      "rougher.input.feed_ag                                 14149 non-null float64\n",
      "rougher.input.feed_pb                                 14049 non-null float64\n",
      "rougher.input.feed_rate                               14141 non-null float64\n",
      "rougher.input.feed_size                               14005 non-null float64\n",
      "rougher.input.feed_sol                                14071 non-null float64\n",
      "rougher.input.feed_au                                 14149 non-null float64\n",
      "rougher.input.floatbank10_sulfate                     14120 non-null float64\n",
      "rougher.input.floatbank10_xanthate                    14141 non-null float64\n",
      "rougher.input.floatbank11_sulfate                     14113 non-null float64\n",
      "rougher.input.floatbank11_xanthate                    13721 non-null float64\n",
      "rougher.output.concentrate_ag                         14149 non-null float64\n",
      "rougher.output.concentrate_pb                         14149 non-null float64\n",
      "rougher.output.concentrate_sol                        14127 non-null float64\n",
      "rougher.output.concentrate_au                         14149 non-null float64\n",
      "rougher.output.recovery                               14149 non-null float64\n",
      "rougher.output.tail_ag                                14148 non-null float64\n",
      "rougher.output.tail_pb                                14149 non-null float64\n",
      "rougher.output.tail_sol                               14149 non-null float64\n",
      "rougher.output.tail_au                                14149 non-null float64\n",
      "rougher.state.floatbank10_a_air                       14148 non-null float64\n",
      "rougher.state.floatbank10_a_level                     14148 non-null float64\n",
      "rougher.state.floatbank10_b_air                       14148 non-null float64\n",
      "rougher.state.floatbank10_b_level                     14148 non-null float64\n",
      "rougher.state.floatbank10_c_air                       14148 non-null float64\n",
      "rougher.state.floatbank10_c_level                     14148 non-null float64\n",
      "rougher.state.floatbank10_d_air                       14149 non-null float64\n",
      "rougher.state.floatbank10_d_level                     14149 non-null float64\n",
      "rougher.state.floatbank10_e_air                       13713 non-null float64\n",
      "rougher.state.floatbank10_e_level                     14149 non-null float64\n",
      "rougher.state.floatbank10_f_air                       14149 non-null float64\n",
      "rougher.state.floatbank10_f_level                     14149 non-null float64\n",
      "secondary_cleaner.output.tail_ag                      14147 non-null float64\n",
      "secondary_cleaner.output.tail_pb                      14139 non-null float64\n",
      "secondary_cleaner.output.tail_sol                     12544 non-null float64\n",
      "secondary_cleaner.output.tail_au                      14149 non-null float64\n",
      "secondary_cleaner.state.floatbank2_a_air              13932 non-null float64\n",
      "secondary_cleaner.state.floatbank2_a_level            14148 non-null float64\n",
      "secondary_cleaner.state.floatbank2_b_air              14128 non-null float64\n",
      "secondary_cleaner.state.floatbank2_b_level            14148 non-null float64\n",
      "secondary_cleaner.state.floatbank3_a_air              14145 non-null float64\n",
      "secondary_cleaner.state.floatbank3_a_level            14148 non-null float64\n",
      "secondary_cleaner.state.floatbank3_b_air              14148 non-null float64\n",
      "secondary_cleaner.state.floatbank3_b_level            14148 non-null float64\n",
      "secondary_cleaner.state.floatbank4_a_air              14143 non-null float64\n",
      "secondary_cleaner.state.floatbank4_a_level            14148 non-null float64\n",
      "secondary_cleaner.state.floatbank4_b_air              14148 non-null float64\n",
      "secondary_cleaner.state.floatbank4_b_level            14148 non-null float64\n",
      "secondary_cleaner.state.floatbank5_a_air              14148 non-null float64\n",
      "secondary_cleaner.state.floatbank5_a_level            14148 non-null float64\n",
      "secondary_cleaner.state.floatbank5_b_air              14148 non-null float64\n",
      "secondary_cleaner.state.floatbank5_b_level            14148 non-null float64\n",
      "secondary_cleaner.state.floatbank6_a_air              14147 non-null float64\n",
      "secondary_cleaner.state.floatbank6_a_level            14148 non-null float64\n",
      "dtypes: float64(86), object(1)\n",
      "memory usage: 9.4+ MB\n"
     ]
    }
   ],
   "source": [
    "train = pd.read_csv('/datasets/gold_recovery_train_new.csv')\n",
    "train.info()"
   ]
  },
  {
   "cell_type": "code",
   "execution_count": 4,
   "metadata": {
    "cellId": "7l3skwk17ltrv4eqbup8vc",
    "scrolled": true
   },
   "outputs": [
    {
     "name": "stdout",
     "output_type": "stream",
     "text": [
      "<class 'pandas.core.frame.DataFrame'>\n",
      "RangeIndex: 5290 entries, 0 to 5289\n",
      "Data columns (total 53 columns):\n",
      "date                                          5290 non-null object\n",
      "primary_cleaner.input.sulfate                 5286 non-null float64\n",
      "primary_cleaner.input.depressant              5285 non-null float64\n",
      "primary_cleaner.input.feed_size               5290 non-null float64\n",
      "primary_cleaner.input.xanthate                5286 non-null float64\n",
      "primary_cleaner.state.floatbank8_a_air        5290 non-null float64\n",
      "primary_cleaner.state.floatbank8_a_level      5290 non-null float64\n",
      "primary_cleaner.state.floatbank8_b_air        5290 non-null float64\n",
      "primary_cleaner.state.floatbank8_b_level      5290 non-null float64\n",
      "primary_cleaner.state.floatbank8_c_air        5290 non-null float64\n",
      "primary_cleaner.state.floatbank8_c_level      5290 non-null float64\n",
      "primary_cleaner.state.floatbank8_d_air        5290 non-null float64\n",
      "primary_cleaner.state.floatbank8_d_level      5290 non-null float64\n",
      "rougher.input.feed_ag                         5290 non-null float64\n",
      "rougher.input.feed_pb                         5290 non-null float64\n",
      "rougher.input.feed_rate                       5287 non-null float64\n",
      "rougher.input.feed_size                       5289 non-null float64\n",
      "rougher.input.feed_sol                        5269 non-null float64\n",
      "rougher.input.feed_au                         5290 non-null float64\n",
      "rougher.input.floatbank10_sulfate             5285 non-null float64\n",
      "rougher.input.floatbank10_xanthate            5290 non-null float64\n",
      "rougher.input.floatbank11_sulfate             5282 non-null float64\n",
      "rougher.input.floatbank11_xanthate            5265 non-null float64\n",
      "rougher.state.floatbank10_a_air               5290 non-null float64\n",
      "rougher.state.floatbank10_a_level             5290 non-null float64\n",
      "rougher.state.floatbank10_b_air               5290 non-null float64\n",
      "rougher.state.floatbank10_b_level             5290 non-null float64\n",
      "rougher.state.floatbank10_c_air               5290 non-null float64\n",
      "rougher.state.floatbank10_c_level             5290 non-null float64\n",
      "rougher.state.floatbank10_d_air               5290 non-null float64\n",
      "rougher.state.floatbank10_d_level             5290 non-null float64\n",
      "rougher.state.floatbank10_e_air               5290 non-null float64\n",
      "rougher.state.floatbank10_e_level             5290 non-null float64\n",
      "rougher.state.floatbank10_f_air               5290 non-null float64\n",
      "rougher.state.floatbank10_f_level             5290 non-null float64\n",
      "secondary_cleaner.state.floatbank2_a_air      5287 non-null float64\n",
      "secondary_cleaner.state.floatbank2_a_level    5290 non-null float64\n",
      "secondary_cleaner.state.floatbank2_b_air      5288 non-null float64\n",
      "secondary_cleaner.state.floatbank2_b_level    5290 non-null float64\n",
      "secondary_cleaner.state.floatbank3_a_air      5281 non-null float64\n",
      "secondary_cleaner.state.floatbank3_a_level    5290 non-null float64\n",
      "secondary_cleaner.state.floatbank3_b_air      5290 non-null float64\n",
      "secondary_cleaner.state.floatbank3_b_level    5290 non-null float64\n",
      "secondary_cleaner.state.floatbank4_a_air      5290 non-null float64\n",
      "secondary_cleaner.state.floatbank4_a_level    5290 non-null float64\n",
      "secondary_cleaner.state.floatbank4_b_air      5290 non-null float64\n",
      "secondary_cleaner.state.floatbank4_b_level    5290 non-null float64\n",
      "secondary_cleaner.state.floatbank5_a_air      5290 non-null float64\n",
      "secondary_cleaner.state.floatbank5_a_level    5290 non-null float64\n",
      "secondary_cleaner.state.floatbank5_b_air      5290 non-null float64\n",
      "secondary_cleaner.state.floatbank5_b_level    5290 non-null float64\n",
      "secondary_cleaner.state.floatbank6_a_air      5290 non-null float64\n",
      "secondary_cleaner.state.floatbank6_a_level    5290 non-null float64\n",
      "dtypes: float64(52), object(1)\n",
      "memory usage: 2.1+ MB\n"
     ]
    }
   ],
   "source": [
    "test = pd.read_csv('/datasets/gold_recovery_test_new.csv')\n",
    "test.info()"
   ]
  },
  {
   "cell_type": "code",
   "execution_count": 5,
   "metadata": {
    "scrolled": true
   },
   "outputs": [
    {
     "name": "stdout",
     "output_type": "stream",
     "text": [
      "<class 'pandas.core.frame.DataFrame'>\n",
      "RangeIndex: 14149 entries, 0 to 14148\n",
      "Data columns (total 87 columns):\n",
      "date                                                  14149 non-null object\n",
      "final.output.concentrate_ag                           14149 non-null float64\n",
      "final.output.concentrate_pb                           14149 non-null float64\n",
      "final.output.concentrate_sol                          14149 non-null float64\n",
      "final.output.concentrate_au                           14149 non-null float64\n",
      "final.output.recovery                                 14149 non-null float64\n",
      "final.output.tail_ag                                  14149 non-null float64\n",
      "final.output.tail_pb                                  14149 non-null float64\n",
      "final.output.tail_sol                                 14149 non-null float64\n",
      "final.output.tail_au                                  14149 non-null float64\n",
      "primary_cleaner.input.sulfate                         14149 non-null float64\n",
      "primary_cleaner.input.depressant                      14149 non-null float64\n",
      "primary_cleaner.input.feed_size                       14149 non-null float64\n",
      "primary_cleaner.input.xanthate                        14149 non-null float64\n",
      "primary_cleaner.output.concentrate_ag                 14149 non-null float64\n",
      "primary_cleaner.output.concentrate_pb                 14149 non-null float64\n",
      "primary_cleaner.output.concentrate_sol                14149 non-null float64\n",
      "primary_cleaner.output.concentrate_au                 14149 non-null float64\n",
      "primary_cleaner.output.tail_ag                        14149 non-null float64\n",
      "primary_cleaner.output.tail_pb                        14149 non-null float64\n",
      "primary_cleaner.output.tail_sol                       14149 non-null float64\n",
      "primary_cleaner.output.tail_au                        14149 non-null float64\n",
      "primary_cleaner.state.floatbank8_a_air                14149 non-null float64\n",
      "primary_cleaner.state.floatbank8_a_level              14149 non-null float64\n",
      "primary_cleaner.state.floatbank8_b_air                14149 non-null float64\n",
      "primary_cleaner.state.floatbank8_b_level              14149 non-null float64\n",
      "primary_cleaner.state.floatbank8_c_air                14149 non-null float64\n",
      "primary_cleaner.state.floatbank8_c_level              14149 non-null float64\n",
      "primary_cleaner.state.floatbank8_d_air                14149 non-null float64\n",
      "primary_cleaner.state.floatbank8_d_level              14149 non-null float64\n",
      "rougher.calculation.sulfate_to_au_concentrate         14149 non-null float64\n",
      "rougher.calculation.floatbank10_sulfate_to_au_feed    14149 non-null float64\n",
      "rougher.calculation.floatbank11_sulfate_to_au_feed    14149 non-null float64\n",
      "rougher.calculation.au_pb_ratio                       14149 non-null float64\n",
      "rougher.input.feed_ag                                 14149 non-null float64\n",
      "rougher.input.feed_pb                                 14149 non-null float64\n",
      "rougher.input.feed_rate                               14149 non-null float64\n",
      "rougher.input.feed_size                               14149 non-null float64\n",
      "rougher.input.feed_sol                                14149 non-null float64\n",
      "rougher.input.feed_au                                 14149 non-null float64\n",
      "rougher.input.floatbank10_sulfate                     14149 non-null float64\n",
      "rougher.input.floatbank10_xanthate                    14149 non-null float64\n",
      "rougher.input.floatbank11_sulfate                     14149 non-null float64\n",
      "rougher.input.floatbank11_xanthate                    14149 non-null float64\n",
      "rougher.output.concentrate_ag                         14149 non-null float64\n",
      "rougher.output.concentrate_pb                         14149 non-null float64\n",
      "rougher.output.concentrate_sol                        14149 non-null float64\n",
      "rougher.output.concentrate_au                         14149 non-null float64\n",
      "rougher.output.recovery                               14149 non-null float64\n",
      "rougher.output.tail_ag                                14149 non-null float64\n",
      "rougher.output.tail_pb                                14149 non-null float64\n",
      "rougher.output.tail_sol                               14149 non-null float64\n",
      "rougher.output.tail_au                                14149 non-null float64\n",
      "rougher.state.floatbank10_a_air                       14149 non-null float64\n",
      "rougher.state.floatbank10_a_level                     14149 non-null float64\n",
      "rougher.state.floatbank10_b_air                       14149 non-null float64\n",
      "rougher.state.floatbank10_b_level                     14149 non-null float64\n",
      "rougher.state.floatbank10_c_air                       14149 non-null float64\n",
      "rougher.state.floatbank10_c_level                     14149 non-null float64\n",
      "rougher.state.floatbank10_d_air                       14149 non-null float64\n",
      "rougher.state.floatbank10_d_level                     14149 non-null float64\n",
      "rougher.state.floatbank10_e_air                       14149 non-null float64\n",
      "rougher.state.floatbank10_e_level                     14149 non-null float64\n",
      "rougher.state.floatbank10_f_air                       14149 non-null float64\n",
      "rougher.state.floatbank10_f_level                     14149 non-null float64\n",
      "secondary_cleaner.output.tail_ag                      14149 non-null float64\n",
      "secondary_cleaner.output.tail_pb                      14149 non-null float64\n",
      "secondary_cleaner.output.tail_sol                     14149 non-null float64\n",
      "secondary_cleaner.output.tail_au                      14149 non-null float64\n",
      "secondary_cleaner.state.floatbank2_a_air              14149 non-null float64\n",
      "secondary_cleaner.state.floatbank2_a_level            14149 non-null float64\n",
      "secondary_cleaner.state.floatbank2_b_air              14149 non-null float64\n",
      "secondary_cleaner.state.floatbank2_b_level            14149 non-null float64\n",
      "secondary_cleaner.state.floatbank3_a_air              14149 non-null float64\n",
      "secondary_cleaner.state.floatbank3_a_level            14149 non-null float64\n",
      "secondary_cleaner.state.floatbank3_b_air              14149 non-null float64\n",
      "secondary_cleaner.state.floatbank3_b_level            14149 non-null float64\n",
      "secondary_cleaner.state.floatbank4_a_air              14149 non-null float64\n",
      "secondary_cleaner.state.floatbank4_a_level            14149 non-null float64\n",
      "secondary_cleaner.state.floatbank4_b_air              14149 non-null float64\n",
      "secondary_cleaner.state.floatbank4_b_level            14149 non-null float64\n",
      "secondary_cleaner.state.floatbank5_a_air              14149 non-null float64\n",
      "secondary_cleaner.state.floatbank5_a_level            14149 non-null float64\n",
      "secondary_cleaner.state.floatbank5_b_air              14149 non-null float64\n",
      "secondary_cleaner.state.floatbank5_b_level            14149 non-null float64\n",
      "secondary_cleaner.state.floatbank6_a_air              14149 non-null float64\n",
      "secondary_cleaner.state.floatbank6_a_level            14149 non-null float64\n",
      "dtypes: float64(86), object(1)\n",
      "memory usage: 9.4+ MB\n"
     ]
    }
   ],
   "source": [
    "def replace_nan(data):\n",
    "    for col in data.columns:\n",
    "        data[col] = data[col].fillna(method='ffill')\n",
    "    return data\n",
    "\n",
    "df = replace_nan(df)\n",
    "train = replace_nan(train)\n",
    "test = replace_nan(test)\n",
    "train.info()"
   ]
  },
  {
   "cell_type": "code",
   "execution_count": 6,
   "metadata": {},
   "outputs": [],
   "source": [
    "c = train['rougher.output.concentrate_au']\n",
    "f = train['rougher.input.feed_au']\n",
    "t = train['rougher.output.tail_au']\n",
    "train['recovery'] = c *(f-t) / (f*(c-t)) * 100"
   ]
  },
  {
   "cell_type": "code",
   "execution_count": 8,
   "metadata": {
    "cellId": "zzaol8mr61fwukw2ylobn"
   },
   "outputs": [
    {
     "data": {
      "text/plain": [
       "9.682896147825551e-15"
      ]
     },
     "execution_count": 8,
     "metadata": {},
     "output_type": "execute_result"
    }
   ],
   "source": [
    "mean_absolute_error(train['rougher.output.recovery'],train['recovery'] )"
   ]
  },
  {
   "cell_type": "markdown",
   "metadata": {
    "cellId": "1ztja1o0j3r1ng4pkbhogcg"
   },
   "source": [
    "Погрешность между расчитанным и имеющимся значениями, мала, примем её за 0."
   ]
  },
  {
   "cell_type": "markdown",
   "metadata": {
    "cellId": "u0emsc5k6da7q5cycecnm"
   },
   "source": [
    "## Анализ данных"
   ]
  },
  {
   "cell_type": "code",
   "execution_count": 14,
   "metadata": {},
   "outputs": [
    {
     "data": {
      "image/png": "[encoded data removed]",
      "text/plain": [
       "<Figure size 720x288 with 1 Axes>"
      ]
     },
     "metadata": {},
     "output_type": "display_data"
    }
   ],
   "source": [
    "sns.set(rc={'figure.figsize':(10,4)})\n",
    "ax = sns.kdeplot(df['rougher.output.concentrate_au'], shade=True, label='Флотация' )\n",
    "ax = sns.kdeplot(df['primary_cleaner.output.concentrate_au'], shade=True, label='Первичная очистка' )\n",
    "ax = sns.kdeplot(df['final.output.concentrate_au'], shade=True, label='Финальный продукт' )\n",
    "plt.title('Распределение концентрации золота (Au) на разных этапах очистки')\n",
    "plt.xlabel('процент вещества');"
   ]
  },
  {
   "cell_type": "code",
   "execution_count": 15,
   "metadata": {},
   "outputs": [
    {
     "data": {
      "image/png": "[encoded data removed]",
      "text/plain": [
       "<Figure size 720x288 with 1 Axes>"
      ]
     },
     "metadata": {},
     "output_type": "display_data"
    }
   ],
   "source": [
    "sns.set(rc={'figure.figsize':(10,4)})\n",
    "ax = sns.kdeplot(df['rougher.output.concentrate_pb'], shade=True, label='Флотация' )\n",
    "ax = sns.kdeplot(df['primary_cleaner.output.concentrate_pb'], shade=True, label='Первичная очистка' )\n",
    "ax = sns.kdeplot(df['final.output.concentrate_pb'], shade=True, label='Финальный продукт' )\n",
    "plt.title('Распределение концентрации свинца (Pb) на разных этапах очистки')\n",
    "plt.xlabel('процент вещества');"
   ]
  },
  {
   "cell_type": "code",
   "execution_count": 16,
   "metadata": {},
   "outputs": [
    {
     "data": {
      "image/png": "[encoded data removed]",
      "text/plain": [
       "<Figure size 720x288 with 1 Axes>"
      ]
     },
     "metadata": {},
     "output_type": "display_data"
    }
   ],
   "source": [
    "sns.set(rc={'figure.figsize':(10,4)})\n",
    "ax = sns.kdeplot(df['rougher.output.concentrate_ag'], shade=True, label='Флотация' )\n",
    "ax = sns.kdeplot(df['primary_cleaner.output.concentrate_ag'], shade=True, label='Первичная очистка' )\n",
    "ax = sns.kdeplot(df['final.output.concentrate_ag'], shade=True, label='Финальный продукт' )\n",
    "plt.title('Распределение концентрации серебра (Ag) на разных этапах очистки')\n",
    "plt.xlabel('процент вещества');"
   ]
  },
  {
   "cell_type": "markdown",
   "metadata": {
    "cellId": "1bml6u77oqdhc7upv9scge"
   },
   "source": [
    "С каждым этапом очистки концентрация золота растет, а примисей падает(от первого к финальному)."
   ]
  },
  {
   "cell_type": "code",
   "execution_count": 17,
   "metadata": {
    "cellId": "0xkf1nlun1llp3w8l8yuhba"
   },
   "outputs": [
    {
     "data": {
      "text/plain": [
       "<matplotlib.axes._subplots.AxesSubplot at 0x7f711f8d7c90>"
      ]
     },
     "execution_count": 17,
     "metadata": {},
     "output_type": "execute_result"
    },
    {
     "data": {
      "image/png": "[encoded data removed]",
      "text/plain": [
       "<Figure size 720x288 with 1 Axes>"
      ]
     },
     "metadata": {},
     "output_type": "display_data"
    }
   ],
   "source": [
    "train['primary_cleaner.input.feed_size'].plot(kind='hist',grid=True,title = 'Гистограмма распределнеия размеров гранул на обучающей выборке')"
   ]
  },
  {
   "cell_type": "code",
   "execution_count": 18,
   "metadata": {
    "cellId": "e684a09nq6bcsdqhs72vod"
   },
   "outputs": [
    {
     "data": {
      "text/plain": [
       "<matplotlib.axes._subplots.AxesSubplot at 0x7f711f828e50>"
      ]
     },
     "execution_count": 18,
     "metadata": {},
     "output_type": "execute_result"
    },
    {
     "data": {
      "image/png": "[encoded data removed]",
      "text/plain": [
       "<Figure size 720x288 with 1 Axes>"
      ]
     },
     "metadata": {},
     "output_type": "display_data"
    }
   ],
   "source": [
    "test['primary_cleaner.input.feed_size'].plot(kind='hist',grid=True,title = 'Гистограмма распределнеия размеров гранул на тестовой выборке')"
   ]
  },
  {
   "cell_type": "markdown",
   "metadata": {
    "cellId": "cf7lwotu7hces5zh8cb134"
   },
   "source": [
    "Мы видим, что границы размеров гранул лежат в одних пределах и на обучающей и на тестовой выборке.А также формы распределения похожи"
   ]
  },
  {
   "cell_type": "code",
   "execution_count": 19,
   "metadata": {
    "cellId": "ijhp06ls3fo5650xxcpozk"
   },
   "outputs": [
    {
     "data": {
      "text/plain": [
       "array([<matplotlib.axes._subplots.AxesSubplot object at 0x7f711f8ede10>,\n",
       "       <matplotlib.axes._subplots.AxesSubplot object at 0x7f711f8f7290>,\n",
       "       <matplotlib.axes._subplots.AxesSubplot object at 0x7f71a80a09d0>],\n",
       "      dtype=object)"
      ]
     },
     "execution_count": 19,
     "metadata": {},
     "output_type": "execute_result"
    },
    {
     "data": {
      "image/png": "[encoded data removed]",
      "text/plain": [
       "<Figure size 720x288 with 3 Axes>"
      ]
     },
     "metadata": {},
     "output_type": "display_data"
    }
   ],
   "source": [
    "df['primary_cleaner.output.concentrate_sum'] = df['primary_cleaner.output.concentrate_ag']+df['primary_cleaner.output.concentrate_pb']\n",
    "+df['primary_cleaner.output.concentrate_au']+df['primary_cleaner.output.concentrate_sol']\n",
    "df['final.output.concentrate_sum'] = df['final.output.concentrate_ag'] + df['final.output.concentrate_pb']\n",
    "+ df['final.output.concentrate_au'] + df['final.output.concentrate_sol']\n",
    "df['rougher.output.concentrate_sum'] = df['rougher.output.concentrate_ag'] \n",
    "+ df['rougher.output.concentrate_pb']+ df['rougher.output.concentrate_au'] + df['rougher.output.concentrate_sol']\n",
    "for col in ['final.output.concentrate_sum','primary_cleaner.output.concentrate_sum','rougher.output.concentrate_sum']:\n",
    "    df = df.drop(df[df[col]==0].index)\n",
    "df.loc[:,['final.output.concentrate_sum','primary_cleaner.output.concentrate_sum','rougher.output.concentrate_sum']].plot(subplots = True,\n",
    "                                                                                                                                 kind = 'hist')\n"
   ]
  },
  {
   "cell_type": "markdown",
   "metadata": {
    "cellId": "xjec7bjz5gly0yoacwzdks"
   },
   "source": [
    "Суммарная концентрация всех веществ смещается на разных этапах очистки."
   ]
  },
  {
   "cell_type": "markdown",
   "metadata": {
    "cellId": "45g58rf70vg4jbfwwuttfu"
   },
   "source": [
    "## Модель"
   ]
  },
  {
   "cell_type": "code",
   "execution_count": 20,
   "metadata": {
    "scrolled": true
   },
   "outputs": [],
   "source": [
    "test = test.merge(df[['date','final.output.recovery','rougher.output.recovery']],how = 'inner')\n"
   ]
  },
  {
   "cell_type": "code",
   "execution_count": 21,
   "metadata": {},
   "outputs": [
    {
     "data": {
      "text/plain": [
       "(5123, 55)"
      ]
     },
     "execution_count": 21,
     "metadata": {},
     "output_type": "execute_result"
    }
   ],
   "source": [
    "test.shape"
   ]
  },
  {
   "cell_type": "code",
   "execution_count": 30,
   "metadata": {
    "scrolled": true
   },
   "outputs": [],
   "source": [
    "features_train = train.drop(['final.output.recovery','rougher.output.recovery','recovery','date'], axis=1)\n",
    "features_test = test.drop(['final.output.recovery','rougher.output.recovery','date'], axis=1)\n",
    "targets_train = train[['final.output.recovery','rougher.output.recovery']]\n",
    "targets_test = test[['final.output.recovery','rougher.output.recovery']]\n"
   ]
  },
  {
   "cell_type": "code",
   "execution_count": 23,
   "metadata": {},
   "outputs": [
    {
     "data": {
      "text/plain": [
       "((14149, 84), (5123, 52))"
      ]
     },
     "execution_count": 23,
     "metadata": {},
     "output_type": "execute_result"
    }
   ],
   "source": [
    "features_train.shape, features_test.shape"
   ]
  },
  {
   "cell_type": "code",
   "execution_count": 31,
   "metadata": {},
   "outputs": [],
   "source": [
    "features_1 = features_test.columns\n",
    "features_train_1 = features_train[features_1].reset_index(drop=True)"
   ]
  },
  {
   "cell_type": "code",
   "execution_count": 25,
   "metadata": {},
   "outputs": [
    {
     "data": {
      "text/html": [
       "<div>\n",
       "<style scoped>\n",
       "    .dataframe tbody tr th:only-of-type {\n",
       "        vertical-align: middle;\n",
       "    }\n",
       "\n",
       "    .dataframe tbody tr th {\n",
       "        vertical-align: top;\n",
       "    }\n",
       "\n",
       "    .dataframe thead th {\n",
       "        text-align: right;\n",
       "    }\n",
       "</style>\n",
       "<table border=\"1\" class=\"dataframe\">\n",
       "  <thead>\n",
       "    <tr style=\"text-align: right;\">\n",
       "      <th></th>\n",
       "      <th>final.output.recovery</th>\n",
       "      <th>rougher.output.recovery</th>\n",
       "    </tr>\n",
       "  </thead>\n",
       "  <tbody>\n",
       "    <tr>\n",
       "      <td>0</td>\n",
       "      <td>70.273583</td>\n",
       "      <td>89.993421</td>\n",
       "    </tr>\n",
       "    <tr>\n",
       "      <td>1</td>\n",
       "      <td>68.910432</td>\n",
       "      <td>88.089657</td>\n",
       "    </tr>\n",
       "    <tr>\n",
       "      <td>2</td>\n",
       "      <td>68.143213</td>\n",
       "      <td>88.412756</td>\n",
       "    </tr>\n",
       "    <tr>\n",
       "      <td>3</td>\n",
       "      <td>67.776393</td>\n",
       "      <td>87.360133</td>\n",
       "    </tr>\n",
       "    <tr>\n",
       "      <td>4</td>\n",
       "      <td>61.467078</td>\n",
       "      <td>83.236367</td>\n",
       "    </tr>\n",
       "    <tr>\n",
       "      <td>...</td>\n",
       "      <td>...</td>\n",
       "      <td>...</td>\n",
       "    </tr>\n",
       "    <tr>\n",
       "      <td>5118</td>\n",
       "      <td>68.919891</td>\n",
       "      <td>95.172585</td>\n",
       "    </tr>\n",
       "    <tr>\n",
       "      <td>5119</td>\n",
       "      <td>68.440582</td>\n",
       "      <td>94.575036</td>\n",
       "    </tr>\n",
       "    <tr>\n",
       "      <td>5120</td>\n",
       "      <td>67.092759</td>\n",
       "      <td>93.018138</td>\n",
       "    </tr>\n",
       "    <tr>\n",
       "      <td>5121</td>\n",
       "      <td>68.061186</td>\n",
       "      <td>92.599042</td>\n",
       "    </tr>\n",
       "    <tr>\n",
       "      <td>5122</td>\n",
       "      <td>71.699976</td>\n",
       "      <td>91.177695</td>\n",
       "    </tr>\n",
       "  </tbody>\n",
       "</table>\n",
       "<p>5123 rows × 2 columns</p>\n",
       "</div>"
      ],
      "text/plain": [
       "      final.output.recovery  rougher.output.recovery\n",
       "0                 70.273583                89.993421\n",
       "1                 68.910432                88.089657\n",
       "2                 68.143213                88.412756\n",
       "3                 67.776393                87.360133\n",
       "4                 61.467078                83.236367\n",
       "...                     ...                      ...\n",
       "5118              68.919891                95.172585\n",
       "5119              68.440582                94.575036\n",
       "5120              67.092759                93.018138\n",
       "5121              68.061186                92.599042\n",
       "5122              71.699976                91.177695\n",
       "\n",
       "[5123 rows x 2 columns]"
      ]
     },
     "execution_count": 25,
     "metadata": {},
     "output_type": "execute_result"
    }
   ],
   "source": [
    "targets_test "
   ]
  },
  {
   "cell_type": "code",
   "execution_count": 26,
   "metadata": {},
   "outputs": [
    {
     "data": {
      "text/plain": [
       "((14149, 52), (5123, 52))"
      ]
     },
     "execution_count": 26,
     "metadata": {},
     "output_type": "execute_result"
    }
   ],
   "source": [
    "features_train_1.shape, features_test.shape"
   ]
  },
  {
   "cell_type": "code",
   "execution_count": 27,
   "metadata": {},
   "outputs": [
    {
     "data": {
      "text/plain": [
       "((14149, 2), (5123, 2))"
      ]
     },
     "execution_count": 27,
     "metadata": {},
     "output_type": "execute_result"
    }
   ],
   "source": [
    "targets_train.shape, targets_test.shape"
   ]
  },
  {
   "cell_type": "code",
   "execution_count": 138,
   "metadata": {},
   "outputs": [],
   "source": [
    "import warnings\n",
    "warnings.filterwarnings('ignore')"
   ]
  },
  {
   "cell_type": "code",
   "execution_count": 46,
   "metadata": {
    "scrolled": true
   },
   "outputs": [
    {
     "name": "stderr",
     "output_type": "stream",
     "text": [
      "/opt/conda/lib/python3.7/site-packages/ipykernel_launcher.py:8: RuntimeWarning: invalid value encountered in true_divide\n",
      "  \n",
      "/opt/conda/lib/python3.7/site-packages/ipykernel_launcher.py:8: RuntimeWarning: invalid value encountered in true_divide\n",
      "  \n",
      "/opt/conda/lib/python3.7/site-packages/ipykernel_launcher.py:8: RuntimeWarning: invalid value encountered in true_divide\n",
      "  \n",
      "/opt/conda/lib/python3.7/site-packages/ipykernel_launcher.py:8: RuntimeWarning: invalid value encountered in true_divide\n",
      "  \n",
      "/opt/conda/lib/python3.7/site-packages/ipykernel_launcher.py:8: RuntimeWarning: invalid value encountered in true_divide\n",
      "  \n",
      "/opt/conda/lib/python3.7/site-packages/sklearn/ensemble/forest.py:245: FutureWarning: The default value of n_estimators will change from 10 in version 0.20 to 100 in 0.22.\n",
      "  \"10 in version 0.20 to 100 in 0.22.\", FutureWarning)\n",
      "/opt/conda/lib/python3.7/site-packages/sklearn/model_selection/_validation.py:514: DataConversionWarning: A column-vector y was passed when a 1d array was expected. Please change the shape of y to (n_samples,), for example using ravel().\n",
      "  estimator.fit(X_train, y_train, **fit_params)\n",
      "/opt/conda/lib/python3.7/site-packages/sklearn/ensemble/forest.py:245: FutureWarning: The default value of n_estimators will change from 10 in version 0.20 to 100 in 0.22.\n",
      "  \"10 in version 0.20 to 100 in 0.22.\", FutureWarning)\n",
      "/opt/conda/lib/python3.7/site-packages/sklearn/model_selection/_validation.py:514: DataConversionWarning: A column-vector y was passed when a 1d array was expected. Please change the shape of y to (n_samples,), for example using ravel().\n",
      "  estimator.fit(X_train, y_train, **fit_params)\n",
      "/opt/conda/lib/python3.7/site-packages/sklearn/ensemble/forest.py:245: FutureWarning: The default value of n_estimators will change from 10 in version 0.20 to 100 in 0.22.\n",
      "  \"10 in version 0.20 to 100 in 0.22.\", FutureWarning)\n",
      "/opt/conda/lib/python3.7/site-packages/sklearn/model_selection/_validation.py:514: DataConversionWarning: A column-vector y was passed when a 1d array was expected. Please change the shape of y to (n_samples,), for example using ravel().\n",
      "  estimator.fit(X_train, y_train, **fit_params)\n",
      "/opt/conda/lib/python3.7/site-packages/sklearn/ensemble/forest.py:245: FutureWarning: The default value of n_estimators will change from 10 in version 0.20 to 100 in 0.22.\n",
      "  \"10 in version 0.20 to 100 in 0.22.\", FutureWarning)\n",
      "/opt/conda/lib/python3.7/site-packages/sklearn/model_selection/_validation.py:514: DataConversionWarning: A column-vector y was passed when a 1d array was expected. Please change the shape of y to (n_samples,), for example using ravel().\n",
      "  estimator.fit(X_train, y_train, **fit_params)\n",
      "/opt/conda/lib/python3.7/site-packages/sklearn/ensemble/forest.py:245: FutureWarning: The default value of n_estimators will change from 10 in version 0.20 to 100 in 0.22.\n",
      "  \"10 in version 0.20 to 100 in 0.22.\", FutureWarning)\n",
      "/opt/conda/lib/python3.7/site-packages/sklearn/model_selection/_validation.py:514: DataConversionWarning: A column-vector y was passed when a 1d array was expected. Please change the shape of y to (n_samples,), for example using ravel().\n",
      "  estimator.fit(X_train, y_train, **fit_params)\n",
      "/opt/conda/lib/python3.7/site-packages/sklearn/ensemble/forest.py:245: FutureWarning: The default value of n_estimators will change from 10 in version 0.20 to 100 in 0.22.\n",
      "  \"10 in version 0.20 to 100 in 0.22.\", FutureWarning)\n",
      "/opt/conda/lib/python3.7/site-packages/sklearn/model_selection/_validation.py:514: DataConversionWarning: A column-vector y was passed when a 1d array was expected. Please change the shape of y to (n_samples,), for example using ravel().\n",
      "  estimator.fit(X_train, y_train, **fit_params)\n",
      "/opt/conda/lib/python3.7/site-packages/sklearn/ensemble/forest.py:245: FutureWarning: The default value of n_estimators will change from 10 in version 0.20 to 100 in 0.22.\n",
      "  \"10 in version 0.20 to 100 in 0.22.\", FutureWarning)\n",
      "/opt/conda/lib/python3.7/site-packages/sklearn/model_selection/_validation.py:514: DataConversionWarning: A column-vector y was passed when a 1d array was expected. Please change the shape of y to (n_samples,), for example using ravel().\n",
      "  estimator.fit(X_train, y_train, **fit_params)\n",
      "/opt/conda/lib/python3.7/site-packages/sklearn/ensemble/forest.py:245: FutureWarning: The default value of n_estimators will change from 10 in version 0.20 to 100 in 0.22.\n",
      "  \"10 in version 0.20 to 100 in 0.22.\", FutureWarning)\n",
      "/opt/conda/lib/python3.7/site-packages/sklearn/model_selection/_validation.py:514: DataConversionWarning: A column-vector y was passed when a 1d array was expected. Please change the shape of y to (n_samples,), for example using ravel().\n",
      "  estimator.fit(X_train, y_train, **fit_params)\n",
      "/opt/conda/lib/python3.7/site-packages/sklearn/ensemble/forest.py:245: FutureWarning: The default value of n_estimators will change from 10 in version 0.20 to 100 in 0.22.\n",
      "  \"10 in version 0.20 to 100 in 0.22.\", FutureWarning)\n",
      "/opt/conda/lib/python3.7/site-packages/sklearn/model_selection/_validation.py:514: DataConversionWarning: A column-vector y was passed when a 1d array was expected. Please change the shape of y to (n_samples,), for example using ravel().\n",
      "  estimator.fit(X_train, y_train, **fit_params)\n",
      "/opt/conda/lib/python3.7/site-packages/sklearn/ensemble/forest.py:245: FutureWarning: The default value of n_estimators will change from 10 in version 0.20 to 100 in 0.22.\n",
      "  \"10 in version 0.20 to 100 in 0.22.\", FutureWarning)\n",
      "/opt/conda/lib/python3.7/site-packages/sklearn/model_selection/_validation.py:514: DataConversionWarning: A column-vector y was passed when a 1d array was expected. Please change the shape of y to (n_samples,), for example using ravel().\n",
      "  estimator.fit(X_train, y_train, **fit_params)\n"
     ]
    },
    {
     "data": {
      "text/html": [
       "<div>\n",
       "<style scoped>\n",
       "    .dataframe tbody tr th:only-of-type {\n",
       "        vertical-align: middle;\n",
       "    }\n",
       "\n",
       "    .dataframe tbody tr th {\n",
       "        vertical-align: top;\n",
       "    }\n",
       "\n",
       "    .dataframe thead th {\n",
       "        text-align: right;\n",
       "    }\n",
       "</style>\n",
       "<table border=\"1\" class=\"dataframe\">\n",
       "  <thead>\n",
       "    <tr style=\"text-align: right;\">\n",
       "      <th></th>\n",
       "      <th>model name</th>\n",
       "      <th>cross_val_score_rougher</th>\n",
       "      <th>cross_val_score_final</th>\n",
       "      <th>smaep</th>\n",
       "    </tr>\n",
       "  </thead>\n",
       "  <tbody>\n",
       "    <tr>\n",
       "      <td>0</td>\n",
       "      <td>DecisionTreeRegressor</td>\n",
       "      <td>NaN</td>\n",
       "      <td>NaN</td>\n",
       "      <td>NaN</td>\n",
       "    </tr>\n",
       "    <tr>\n",
       "      <td>1</td>\n",
       "      <td>RandomForestRegressor</td>\n",
       "      <td>-0.158482</td>\n",
       "      <td>-0.136110</td>\n",
       "      <td>-0.141703</td>\n",
       "    </tr>\n",
       "    <tr>\n",
       "      <td>2</td>\n",
       "      <td>LinearRegression</td>\n",
       "      <td>-0.128025</td>\n",
       "      <td>-0.122453</td>\n",
       "      <td>-0.123846</td>\n",
       "    </tr>\n",
       "  </tbody>\n",
       "</table>\n",
       "</div>"
      ],
      "text/plain": [
       "              model name  cross_val_score_rougher  cross_val_score_final  \\\n",
       "0  DecisionTreeRegressor                      NaN                    NaN   \n",
       "1  RandomForestRegressor                -0.158482              -0.136110   \n",
       "2       LinearRegression                -0.128025              -0.122453   \n",
       "\n",
       "      smaep  \n",
       "0       NaN  \n",
       "1 -0.141703  \n",
       "2 -0.123846  "
      ]
     },
     "execution_count": 46,
     "metadata": {},
     "output_type": "execute_result"
    }
   ],
   "source": [
    "def smape(y_true, y_pred):\n",
    "    y_pred = pd.DataFrame(data=y_pred)\n",
    "    error = abs(y_true.values - y_pred.values)\n",
    "        \n",
    "    scale = (abs(y_true.values) + abs(y_pred.values)) / 2\n",
    "    result = (error / scale).mean()\n",
    "    return result\n",
    "\n",
    "random_state = 123\n",
    "cv = 5\n",
    "models = [DecisionTreeRegressor(random_state = random_state), \n",
    "          RandomForestRegressor(random_state=random_state), \n",
    "          LinearRegression()]\n",
    "\n",
    "target_rougher_train = targets_train[['rougher.output.recovery']]\n",
    "target_final_train = targets_train[['final.output.recovery']]\n",
    "\n",
    "target_rougher_test = targets_test.drop('final.output.recovery',axis = 1)\n",
    "target_final_test = targets_test.drop('rougher.output.recovery',axis = 1)\n",
    "results_cross_val = []\n",
    "\n",
    "for model in models: \n",
    "    \n",
    "    scorer = make_scorer(smape, greater_is_better=False) \n",
    "    \n",
    "    cross_val_score_rougher = cross_val_score(model, \n",
    "                                              features_train_1, \n",
    "                                              target_rougher_train, \n",
    "                                              cv=cv, scoring=scorer).mean()\n",
    "    cross_val_score_final = cross_val_score(model, \n",
    "                                            features_train_1, \n",
    "                                            target_final_train, \n",
    "                                            cv=cv, scoring=scorer).mean()\n",
    "\n",
    "    results_cross_val.append({'model name': model.__class__.__name__, \n",
    "                              'cross_val_score_rougher': cross_val_score_rougher, \n",
    "                              'cross_val_score_final': cross_val_score_final}) \n",
    "              \n",
    "result_cross_val = pd.DataFrame(results_cross_val)\n",
    "result_cross_val['smaep'] = 0.25 *result_cross_val['cross_val_score_rougher'] + 0.75 *result_cross_val['cross_val_score_final'] \n",
    "result_cross_val"
   ]
  },
  {
   "cell_type": "markdown",
   "metadata": {},
   "source": [
    "******************"
   ]
  },
  {
   "cell_type": "code",
   "execution_count": 47,
   "metadata": {},
   "outputs": [
    {
     "name": "stdout",
     "output_type": "stream",
     "text": [
      "Метрика для DummyRegressor :  0.07409094662189526\n"
     ]
    }
   ],
   "source": [
    "dummy_regressor_rougher = DummyRegressor(strategy=\"median\")\n",
    "dummy_regressor_rougher.fit(features_train_1, target_rougher_train)\n",
    "dummy_rougher_pred = dummy_regressor_rougher.predict(features_test)\n",
    "smape_dummy_rougher = smape(target_rougher_test, dummy_rougher_pred)\n",
    "dummy_regressor_final = DummyRegressor(strategy=\"median\")\n",
    "dummy_regressor_final.fit(features_train_1, target_final_train)\n",
    "dummy_final_pred = dummy_regressor_final.predict(features_test)\n",
    "smape_dummy_final = smape(target_final_test, dummy_final_pred)\n",
    "print('Метрика для DummyRegressor : ', 0.25 * smape_dummy_rougher + 0.75 * smape_dummy_final )\n"
   ]
  },
  {
   "cell_type": "markdown",
   "metadata": {},
   "source": [
    "Оценили полученную метрика на модели DummyRegressor, на построенных нами моделями значени метрики ниже, среди моделей метрика нижу у Линейной регрессии"
   ]
  },
  {
   "cell_type": "markdown",
   "metadata": {},
   "source": [
    "## вывод"
   ]
  },
  {
   "cell_type": "markdown",
   "metadata": {},
   "source": [
    "Для построения модели было необходимо :\n",
    "- Познакомиться с данными;\n",
    "- Провести исследовательский анализ, так мы обнаружили отличие между реальными и расчетными значениями эффективности;\n",
    "- ЗАполнить пропуски в данных;\n",
    "- Провести построение модели и рассчитать заданную метрику.\n",
    "Метрика на построенной нами модели оказалась ниже, чем на модели с контсантой. Самое малое значени метрики получаем при построении модели Линейной регрессией.\n"
   ]
  }
 ],
 "metadata": {
  "ExecuteTimeLog": [
   {
    "duration": 3,
    "start_time": "2021-12-19T08:40:22.172Z"
   },
   {
    "duration": 6,
    "start_time": "2021-12-19T08:40:22.177Z"
   },
   {
    "duration": 8,
    "start_time": "2021-12-19T08:40:22.185Z"
   },
   {
    "duration": 1095,
    "start_time": "2021-12-19T08:40:22.195Z"
   },
   {
    "duration": 433,
    "start_time": "2021-12-19T08:40:23.292Z"
   },
   {
    "duration": 293,
    "start_time": "2021-12-19T08:40:23.727Z"
   },
   {
    "duration": 90,
    "start_time": "2021-12-19T08:40:24.022Z"
   },
   {
    "duration": 7,
    "start_time": "2021-12-19T08:40:24.114Z"
   },
   {
    "duration": 7,
    "start_time": "2021-12-19T08:40:24.124Z"
   },
   {
    "duration": 426,
    "start_time": "2021-12-19T08:40:24.133Z"
   },
   {
    "duration": 419,
    "start_time": "2021-12-19T08:40:24.563Z"
   },
   {
    "duration": 432,
    "start_time": "2021-12-19T08:40:24.984Z"
   },
   {
    "duration": 191,
    "start_time": "2021-12-19T08:40:25.418Z"
   },
   {
    "duration": 199,
    "start_time": "2021-12-19T08:40:25.611Z"
   },
   {
    "duration": 669,
    "start_time": "2021-12-19T08:40:25.812Z"
   },
   {
    "duration": 3,
    "start_time": "2021-12-19T08:44:19.481Z"
   },
   {
    "duration": 4,
    "start_time": "2021-12-21T11:36:28.918Z"
   },
   {
    "duration": 4,
    "start_time": "2021-12-21T11:36:28.953Z"
   },
   {
    "duration": 5,
    "start_time": "2021-12-21T11:36:28.959Z"
   },
   {
    "duration": 2075,
    "start_time": "2021-12-21T11:36:28.967Z"
   },
   {
    "duration": 492,
    "start_time": "2021-12-21T11:36:31.045Z"
   },
   {
    "duration": 377,
    "start_time": "2021-12-21T11:36:31.541Z"
   },
   {
    "duration": 174,
    "start_time": "2021-12-21T11:36:31.922Z"
   },
   {
    "duration": 14,
    "start_time": "2021-12-21T11:36:32.098Z"
   },
   {
    "duration": 11,
    "start_time": "2021-12-21T11:36:32.115Z"
   },
   {
    "duration": 685,
    "start_time": "2021-12-21T11:36:32.129Z"
   },
   {
    "duration": 665,
    "start_time": "2021-12-21T11:36:32.820Z"
   },
   {
    "duration": 921,
    "start_time": "2021-12-21T11:36:33.488Z"
   },
   {
    "duration": 416,
    "start_time": "2021-12-21T11:36:34.412Z"
   },
   {
    "duration": 465,
    "start_time": "2021-12-21T11:36:34.831Z"
   },
   {
    "duration": 1511,
    "start_time": "2021-12-21T11:36:35.300Z"
   },
   {
    "duration": 49885,
    "start_time": "2021-12-21T11:36:36.814Z"
   },
   {
    "duration": 7,
    "start_time": "2021-12-21T11:37:26.702Z"
   },
   {
    "duration": 12916,
    "start_time": "2021-12-21T11:37:26.712Z"
   },
   {
    "duration": 50252,
    "start_time": "2021-12-21T13:28:22.283Z"
   },
   {
    "duration": 4,
    "start_time": "2021-12-21T13:29:19.974Z"
   },
   {
    "duration": 8,
    "start_time": "2021-12-21T13:29:19.981Z"
   },
   {
    "duration": 4,
    "start_time": "2021-12-21T13:29:19.992Z"
   },
   {
    "duration": 6,
    "start_time": "2021-12-21T13:29:19.999Z"
   },
   {
    "duration": 542,
    "start_time": "2021-12-21T13:29:20.007Z"
   },
   {
    "duration": 394,
    "start_time": "2021-12-21T13:29:20.552Z"
   },
   {
    "duration": 140,
    "start_time": "2021-12-21T13:29:20.948Z"
   },
   {
    "duration": 7,
    "start_time": "2021-12-21T13:29:21.090Z"
   },
   {
    "duration": 7,
    "start_time": "2021-12-21T13:29:21.101Z"
   },
   {
    "duration": 842,
    "start_time": "2021-12-21T13:29:21.111Z"
   },
   {
    "duration": 999,
    "start_time": "2021-12-21T13:29:21.956Z"
   },
   {
    "duration": 1137,
    "start_time": "2021-12-21T13:29:22.959Z"
   },
   {
    "duration": 543,
    "start_time": "2021-12-21T13:29:24.100Z"
   },
   {
    "duration": 492,
    "start_time": "2021-12-21T13:29:24.645Z"
   },
   {
    "duration": 1671,
    "start_time": "2021-12-21T13:29:25.140Z"
   },
   {
    "duration": 48793,
    "start_time": "2021-12-21T13:29:26.813Z"
   },
   {
    "duration": 5,
    "start_time": "2021-12-21T13:30:15.609Z"
   },
   {
    "duration": 17444,
    "start_time": "2021-12-21T13:30:15.617Z"
   },
   {
    "duration": 4,
    "start_time": "2021-12-21T13:37:55.712Z"
   },
   {
    "duration": 11,
    "start_time": "2021-12-21T13:37:55.719Z"
   },
   {
    "duration": 4,
    "start_time": "2021-12-21T13:37:55.734Z"
   },
   {
    "duration": 5,
    "start_time": "2021-12-21T13:37:55.741Z"
   },
   {
    "duration": 487,
    "start_time": "2021-12-21T13:37:55.749Z"
   },
   {
    "duration": 537,
    "start_time": "2021-12-21T13:37:56.239Z"
   },
   {
    "duration": 106,
    "start_time": "2021-12-21T13:37:56.778Z"
   },
   {
    "duration": 8,
    "start_time": "2021-12-21T13:37:56.886Z"
   },
   {
    "duration": 8,
    "start_time": "2021-12-21T13:37:56.899Z"
   },
   {
    "duration": 693,
    "start_time": "2021-12-21T13:37:56.909Z"
   },
   {
    "duration": 675,
    "start_time": "2021-12-21T13:37:57.605Z"
   },
   {
    "duration": 939,
    "start_time": "2021-12-21T13:37:58.282Z"
   },
   {
    "duration": 438,
    "start_time": "2021-12-21T13:37:59.224Z"
   },
   {
    "duration": 334,
    "start_time": "2021-12-21T13:37:59.665Z"
   },
   {
    "duration": 1189,
    "start_time": "2021-12-21T13:38:00.002Z"
   },
   {
    "duration": 42051,
    "start_time": "2021-12-21T13:38:01.195Z"
   },
   {
    "duration": 14,
    "start_time": "2021-12-21T13:38:43.248Z"
   },
   {
    "duration": 10685,
    "start_time": "2021-12-21T13:38:43.265Z"
   },
   {
    "duration": 14,
    "start_time": "2021-12-21T13:42:49.038Z"
   },
   {
    "duration": 399,
    "start_time": "2021-12-21T21:46:10.454Z"
   },
   {
    "duration": 3,
    "start_time": "2021-12-21T21:46:14.753Z"
   },
   {
    "duration": 5,
    "start_time": "2021-12-21T21:46:14.759Z"
   },
   {
    "duration": 5,
    "start_time": "2021-12-21T21:46:14.768Z"
   },
   {
    "duration": 1547,
    "start_time": "2021-12-21T21:46:14.777Z"
   },
   {
    "duration": 527,
    "start_time": "2021-12-21T21:46:16.327Z"
   },
   {
    "duration": 401,
    "start_time": "2021-12-21T21:46:16.857Z"
   },
   {
    "duration": 125,
    "start_time": "2021-12-21T21:46:17.264Z"
   },
   {
    "duration": 13,
    "start_time": "2021-12-21T21:46:17.392Z"
   },
   {
    "duration": 22,
    "start_time": "2021-12-21T21:46:17.408Z"
   },
   {
    "duration": 708,
    "start_time": "2021-12-21T21:46:17.432Z"
   },
   {
    "duration": 706,
    "start_time": "2021-12-21T21:46:18.143Z"
   },
   {
    "duration": 714,
    "start_time": "2021-12-21T21:46:18.851Z"
   },
   {
    "duration": 368,
    "start_time": "2021-12-21T21:46:19.568Z"
   },
   {
    "duration": 369,
    "start_time": "2021-12-21T21:46:19.939Z"
   },
   {
    "duration": 1400,
    "start_time": "2021-12-21T21:46:20.311Z"
   },
   {
    "duration": 54240,
    "start_time": "2021-12-21T21:46:21.713Z"
   },
   {
    "duration": 10,
    "start_time": "2021-12-21T21:47:15.965Z"
   },
   {
    "duration": 30,
    "start_time": "2021-12-21T21:47:15.978Z"
   },
   {
    "duration": 1029,
    "start_time": "2021-12-21T21:47:16.011Z"
   },
   {
    "duration": 925,
    "start_time": "2021-12-21T21:48:39.885Z"
   },
   {
    "duration": 921,
    "start_time": "2021-12-21T21:49:03.838Z"
   },
   {
    "duration": 1029,
    "start_time": "2021-12-21T21:49:20.649Z"
   },
   {
    "duration": 3,
    "start_time": "2021-12-21T21:50:13.453Z"
   },
   {
    "duration": 5,
    "start_time": "2021-12-21T21:50:13.459Z"
   },
   {
    "duration": 4,
    "start_time": "2021-12-21T21:50:13.469Z"
   },
   {
    "duration": 5,
    "start_time": "2021-12-21T21:50:13.476Z"
   },
   {
    "duration": 553,
    "start_time": "2021-12-21T21:50:13.483Z"
   },
   {
    "duration": 414,
    "start_time": "2021-12-21T21:50:14.039Z"
   },
   {
    "duration": 117,
    "start_time": "2021-12-21T21:50:14.463Z"
   },
   {
    "duration": 6,
    "start_time": "2021-12-21T21:50:14.583Z"
   },
   {
    "duration": 20,
    "start_time": "2021-12-21T21:50:14.593Z"
   },
   {
    "duration": 794,
    "start_time": "2021-12-21T21:50:14.616Z"
   },
   {
    "duration": 703,
    "start_time": "2021-12-21T21:50:15.413Z"
   },
   {
    "duration": 701,
    "start_time": "2021-12-21T21:50:16.118Z"
   },
   {
    "duration": 363,
    "start_time": "2021-12-21T21:50:16.822Z"
   },
   {
    "duration": 340,
    "start_time": "2021-12-21T21:50:17.188Z"
   },
   {
    "duration": 1260,
    "start_time": "2021-12-21T21:50:17.531Z"
   },
   {
    "duration": 45306,
    "start_time": "2021-12-21T21:50:18.793Z"
   },
   {
    "duration": 5,
    "start_time": "2021-12-21T21:51:04.102Z"
   },
   {
    "duration": 22,
    "start_time": "2021-12-21T21:51:04.110Z"
   },
   {
    "duration": 1043,
    "start_time": "2021-12-21T21:51:04.135Z"
   },
   {
    "duration": 36,
    "start_time": "2021-12-21T21:54:36.829Z"
   },
   {
    "duration": 336,
    "start_time": "2021-12-21T21:54:39.129Z"
   },
   {
    "duration": 302,
    "start_time": "2021-12-21T21:55:34.553Z"
   },
   {
    "duration": 406,
    "start_time": "2021-12-21T21:55:35.001Z"
   },
   {
    "duration": 304,
    "start_time": "2021-12-21T21:56:26.693Z"
   },
   {
    "duration": 292,
    "start_time": "2021-12-21T21:56:27.274Z"
   },
   {
    "duration": 2,
    "start_time": "2021-12-21T21:57:29.007Z"
   },
   {
    "duration": 19,
    "start_time": "2021-12-21T21:57:29.012Z"
   },
   {
    "duration": 12,
    "start_time": "2021-12-21T21:57:29.034Z"
   },
   {
    "duration": 19,
    "start_time": "2021-12-21T21:57:29.048Z"
   },
   {
    "duration": 531,
    "start_time": "2021-12-21T21:57:29.070Z"
   },
   {
    "duration": 406,
    "start_time": "2021-12-21T21:57:29.603Z"
   },
   {
    "duration": 121,
    "start_time": "2021-12-21T21:57:30.012Z"
   },
   {
    "duration": 7,
    "start_time": "2021-12-21T21:57:30.136Z"
   },
   {
    "duration": 29,
    "start_time": "2021-12-21T21:57:30.147Z"
   },
   {
    "duration": 786,
    "start_time": "2021-12-21T21:57:30.180Z"
   },
   {
    "duration": 698,
    "start_time": "2021-12-21T21:57:30.969Z"
   },
   {
    "duration": 1013,
    "start_time": "2021-12-21T21:57:31.670Z"
   },
   {
    "duration": 521,
    "start_time": "2021-12-21T21:57:32.686Z"
   },
   {
    "duration": 641,
    "start_time": "2021-12-21T21:57:33.210Z"
   },
   {
    "duration": 1256,
    "start_time": "2021-12-21T21:57:33.862Z"
   },
   {
    "duration": 49044,
    "start_time": "2021-12-21T21:57:35.122Z"
   },
   {
    "duration": 6,
    "start_time": "2021-12-21T21:58:24.168Z"
   },
   {
    "duration": 21,
    "start_time": "2021-12-21T21:58:24.177Z"
   },
   {
    "duration": 86,
    "start_time": "2021-12-21T21:58:24.201Z"
   },
   {
    "duration": 682,
    "start_time": "2021-12-21T21:58:24.290Z"
   },
   {
    "duration": 3,
    "start_time": "2021-12-21T22:11:57.573Z"
   },
   {
    "duration": 9,
    "start_time": "2021-12-21T22:11:57.581Z"
   },
   {
    "duration": 5,
    "start_time": "2021-12-21T22:11:57.593Z"
   },
   {
    "duration": 6,
    "start_time": "2021-12-21T22:11:57.601Z"
   },
   {
    "duration": 495,
    "start_time": "2021-12-21T22:11:57.609Z"
   },
   {
    "duration": 383,
    "start_time": "2021-12-21T22:11:58.106Z"
   },
   {
    "duration": 119,
    "start_time": "2021-12-21T22:11:58.492Z"
   },
   {
    "duration": 295,
    "start_time": "2021-12-21T22:11:58.615Z"
   },
   {
    "duration": -290,
    "start_time": "2021-12-21T22:11:59.202Z"
   },
   {
    "duration": -290,
    "start_time": "2021-12-21T22:11:59.204Z"
   },
   {
    "duration": -290,
    "start_time": "2021-12-21T22:11:59.205Z"
   },
   {
    "duration": -294,
    "start_time": "2021-12-21T22:11:59.210Z"
   },
   {
    "duration": -293,
    "start_time": "2021-12-21T22:11:59.211Z"
   },
   {
    "duration": -293,
    "start_time": "2021-12-21T22:11:59.213Z"
   },
   {
    "duration": -293,
    "start_time": "2021-12-21T22:11:59.214Z"
   },
   {
    "duration": -292,
    "start_time": "2021-12-21T22:11:59.215Z"
   },
   {
    "duration": -296,
    "start_time": "2021-12-21T22:11:59.220Z"
   },
   {
    "duration": -296,
    "start_time": "2021-12-21T22:11:59.222Z"
   },
   {
    "duration": -298,
    "start_time": "2021-12-21T22:11:59.225Z"
   },
   {
    "duration": -297,
    "start_time": "2021-12-21T22:11:59.226Z"
   },
   {
    "duration": -298,
    "start_time": "2021-12-21T22:11:59.228Z"
   },
   {
    "duration": 1225,
    "start_time": "2021-12-21T22:12:14.339Z"
   },
   {
    "duration": 8,
    "start_time": "2021-12-21T22:12:15.675Z"
   },
   {
    "duration": 7,
    "start_time": "2021-12-21T22:12:16.105Z"
   },
   {
    "duration": 666,
    "start_time": "2021-12-21T22:12:17.904Z"
   },
   {
    "duration": 731,
    "start_time": "2021-12-21T22:12:18.573Z"
   },
   {
    "duration": 705,
    "start_time": "2021-12-21T22:12:19.308Z"
   },
   {
    "duration": 378,
    "start_time": "2021-12-21T22:12:20.016Z"
   },
   {
    "duration": 506,
    "start_time": "2021-12-21T22:12:20.397Z"
   },
   {
    "duration": 1949,
    "start_time": "2021-12-21T22:12:20.906Z"
   },
   {
    "duration": 58062,
    "start_time": "2021-12-21T22:12:22.863Z"
   },
   {
    "duration": 6,
    "start_time": "2021-12-21T22:13:20.929Z"
   },
   {
    "duration": 53,
    "start_time": "2021-12-21T22:13:20.938Z"
   },
   {
    "duration": 50,
    "start_time": "2021-12-21T22:13:20.994Z"
   },
   {
    "duration": 896,
    "start_time": "2021-12-21T22:13:21.046Z"
   },
   {
    "duration": 263,
    "start_time": "2021-12-21T22:13:41.339Z"
   },
   {
    "duration": 4,
    "start_time": "2021-12-21T22:13:48.167Z"
   },
   {
    "duration": 8,
    "start_time": "2021-12-21T22:13:48.174Z"
   },
   {
    "duration": 7,
    "start_time": "2021-12-21T22:13:48.185Z"
   },
   {
    "duration": 7,
    "start_time": "2021-12-21T22:13:48.196Z"
   },
   {
    "duration": 529,
    "start_time": "2021-12-21T22:13:48.206Z"
   },
   {
    "duration": 380,
    "start_time": "2021-12-21T22:13:48.738Z"
   },
   {
    "duration": 113,
    "start_time": "2021-12-21T22:13:49.120Z"
   },
   {
    "duration": 230,
    "start_time": "2021-12-21T22:13:49.237Z"
   },
   {
    "duration": 9,
    "start_time": "2021-12-21T22:13:49.472Z"
   },
   {
    "duration": 7,
    "start_time": "2021-12-21T22:13:49.485Z"
   },
   {
    "duration": 690,
    "start_time": "2021-12-21T22:13:49.494Z"
   },
   {
    "duration": 1000,
    "start_time": "2021-12-21T22:13:50.187Z"
   },
   {
    "duration": 1158,
    "start_time": "2021-12-21T22:13:51.190Z"
   },
   {
    "duration": 529,
    "start_time": "2021-12-21T22:13:52.352Z"
   },
   {
    "duration": 350,
    "start_time": "2021-12-21T22:13:52.884Z"
   },
   {
    "duration": 1242,
    "start_time": "2021-12-21T22:13:53.236Z"
   },
   {
    "duration": 49767,
    "start_time": "2021-12-21T22:13:54.480Z"
   },
   {
    "duration": 5,
    "start_time": "2021-12-21T22:14:44.249Z"
   },
   {
    "duration": 342,
    "start_time": "2021-12-21T22:14:44.264Z"
   },
   {
    "duration": -308,
    "start_time": "2021-12-21T22:14:44.916Z"
   },
   {
    "duration": -308,
    "start_time": "2021-12-21T22:14:44.917Z"
   },
   {
    "duration": 22,
    "start_time": "2021-12-21T22:15:03.392Z"
   },
   {
    "duration": 52,
    "start_time": "2021-12-21T22:15:03.992Z"
   },
   {
    "duration": 1499,
    "start_time": "2021-12-21T22:15:04.396Z"
   },
   {
    "duration": 382,
    "start_time": "2021-12-21T22:22:12.372Z"
   },
   {
    "duration": 4,
    "start_time": "2021-12-21T22:22:16.670Z"
   },
   {
    "duration": 4,
    "start_time": "2021-12-21T22:22:16.677Z"
   },
   {
    "duration": 4,
    "start_time": "2021-12-21T22:22:16.684Z"
   },
   {
    "duration": 7,
    "start_time": "2021-12-21T22:22:16.691Z"
   },
   {
    "duration": 496,
    "start_time": "2021-12-21T22:22:16.701Z"
   },
   {
    "duration": 381,
    "start_time": "2021-12-21T22:22:17.199Z"
   },
   {
    "duration": 108,
    "start_time": "2021-12-21T22:22:17.585Z"
   },
   {
    "duration": 226,
    "start_time": "2021-12-21T22:22:17.696Z"
   },
   {
    "duration": 7,
    "start_time": "2021-12-21T22:22:17.924Z"
   },
   {
    "duration": 11,
    "start_time": "2021-12-21T22:22:17.933Z"
   },
   {
    "duration": 979,
    "start_time": "2021-12-21T22:22:17.964Z"
   },
   {
    "duration": 927,
    "start_time": "2021-12-21T22:22:18.947Z"
   },
   {
    "duration": 726,
    "start_time": "2021-12-21T22:22:19.878Z"
   },
   {
    "duration": 348,
    "start_time": "2021-12-21T22:22:20.607Z"
   },
   {
    "duration": 336,
    "start_time": "2021-12-21T22:22:20.962Z"
   },
   {
    "duration": 1341,
    "start_time": "2021-12-21T22:22:21.300Z"
   },
   {
    "duration": 44407,
    "start_time": "2021-12-21T22:22:22.643Z"
   },
   {
    "duration": 8,
    "start_time": "2021-12-21T22:23:07.055Z"
   },
   {
    "duration": 27,
    "start_time": "2021-12-21T22:23:07.066Z"
   },
   {
    "duration": 364,
    "start_time": "2021-12-21T22:23:07.096Z"
   },
   {
    "duration": -310,
    "start_time": "2021-12-21T22:23:07.774Z"
   },
   {
    "duration": 3,
    "start_time": "2021-12-21T22:24:38.961Z"
   },
   {
    "duration": 4,
    "start_time": "2021-12-21T22:24:38.967Z"
   },
   {
    "duration": 3,
    "start_time": "2021-12-21T22:24:38.975Z"
   },
   {
    "duration": 5,
    "start_time": "2021-12-21T22:24:38.981Z"
   },
   {
    "duration": 558,
    "start_time": "2021-12-21T22:24:38.988Z"
   },
   {
    "duration": 424,
    "start_time": "2021-12-21T22:24:39.548Z"
   },
   {
    "duration": 106,
    "start_time": "2021-12-21T22:24:39.974Z"
   },
   {
    "duration": 245,
    "start_time": "2021-12-21T22:24:40.084Z"
   },
   {
    "duration": 7,
    "start_time": "2021-12-21T22:24:40.332Z"
   },
   {
    "duration": 21,
    "start_time": "2021-12-21T22:24:40.342Z"
   },
   {
    "duration": 711,
    "start_time": "2021-12-21T22:24:40.366Z"
   },
   {
    "duration": 687,
    "start_time": "2021-12-21T22:24:41.080Z"
   },
   {
    "duration": 1019,
    "start_time": "2021-12-21T22:24:41.769Z"
   },
   {
    "duration": 705,
    "start_time": "2021-12-21T22:24:42.791Z"
   },
   {
    "duration": 499,
    "start_time": "2021-12-21T22:24:43.499Z"
   },
   {
    "duration": 1943,
    "start_time": "2021-12-21T22:24:44.001Z"
   },
   {
    "duration": 51465,
    "start_time": "2021-12-21T22:24:45.947Z"
   },
   {
    "duration": 6,
    "start_time": "2021-12-21T22:25:37.415Z"
   },
   {
    "duration": 40,
    "start_time": "2021-12-21T22:25:37.423Z"
   },
   {
    "duration": 465,
    "start_time": "2021-12-21T22:25:37.466Z"
   },
   {
    "duration": -305,
    "start_time": "2021-12-21T22:25:38.239Z"
   },
   {
    "duration": 9572,
    "start_time": "2021-12-21T22:25:53.245Z"
   },
   {
    "duration": 5,
    "start_time": "2021-12-21T22:29:42.599Z"
   },
   {
    "duration": 15,
    "start_time": "2021-12-21T22:29:44.066Z"
   },
   {
    "duration": 1126,
    "start_time": "2021-12-21T22:29:44.601Z"
   },
   {
    "duration": 7,
    "start_time": "2021-12-21T22:32:00.016Z"
   },
   {
    "duration": 13,
    "start_time": "2021-12-21T22:32:01.176Z"
   },
   {
    "duration": 1106,
    "start_time": "2021-12-21T22:32:01.391Z"
   },
   {
    "duration": 6,
    "start_time": "2021-12-21T22:32:47.885Z"
   },
   {
    "duration": 14,
    "start_time": "2021-12-21T22:32:48.251Z"
   },
   {
    "duration": 26789,
    "start_time": "2021-12-21T22:32:48.516Z"
   },
   {
    "duration": 7,
    "start_time": "2021-12-21T22:42:06.488Z"
   },
   {
    "duration": 15,
    "start_time": "2021-12-21T22:42:06.498Z"
   },
   {
    "duration": 981,
    "start_time": "2021-12-21T22:42:06.701Z"
   },
   {
    "duration": 7,
    "start_time": "2021-12-21T22:42:52.376Z"
   },
   {
    "duration": 14,
    "start_time": "2021-12-21T22:42:52.808Z"
   },
   {
    "duration": 1571,
    "start_time": "2021-12-21T22:42:53.063Z"
   },
   {
    "duration": 7,
    "start_time": "2021-12-21T22:43:52.034Z"
   },
   {
    "duration": 15,
    "start_time": "2021-12-21T22:43:52.867Z"
   },
   {
    "duration": 966,
    "start_time": "2021-12-21T22:43:53.059Z"
   },
   {
    "duration": 7,
    "start_time": "2021-12-21T22:48:05.460Z"
   },
   {
    "duration": 19,
    "start_time": "2021-12-21T22:48:05.471Z"
   },
   {
    "duration": 1087,
    "start_time": "2021-12-21T22:48:05.494Z"
   },
   {
    "duration": 7,
    "start_time": "2021-12-21T22:49:22.311Z"
   },
   {
    "duration": 13,
    "start_time": "2021-12-21T22:49:22.705Z"
   },
   {
    "duration": 1581,
    "start_time": "2021-12-21T22:49:22.969Z"
   },
   {
    "duration": 4,
    "start_time": "2021-12-22T23:30:23.590Z"
   },
   {
    "duration": 5,
    "start_time": "2021-12-22T23:30:23.597Z"
   },
   {
    "duration": 3,
    "start_time": "2021-12-22T23:30:23.605Z"
   },
   {
    "duration": 1558,
    "start_time": "2021-12-22T23:30:23.611Z"
   },
   {
    "duration": 3461,
    "start_time": "2021-12-22T23:30:25.171Z"
   },
   {
    "duration": 1304,
    "start_time": "2021-12-22T23:30:28.634Z"
   },
   {
    "duration": 605,
    "start_time": "2021-12-22T23:30:29.941Z"
   },
   {
    "duration": 210,
    "start_time": "2021-12-22T23:30:30.549Z"
   },
   {
    "duration": 13,
    "start_time": "2021-12-22T23:30:30.765Z"
   },
   {
    "duration": 416,
    "start_time": "2021-12-22T23:30:30.781Z"
   },
   {
    "duration": -1220,
    "start_time": "2021-12-22T23:30:32.419Z"
   },
   {
    "duration": -1220,
    "start_time": "2021-12-22T23:30:32.421Z"
   },
   {
    "duration": -1223,
    "start_time": "2021-12-22T23:30:32.425Z"
   },
   {
    "duration": -1223,
    "start_time": "2021-12-22T23:30:32.427Z"
   },
   {
    "duration": -1223,
    "start_time": "2021-12-22T23:30:32.428Z"
   },
   {
    "duration": -1228,
    "start_time": "2021-12-22T23:30:32.435Z"
   },
   {
    "duration": -1227,
    "start_time": "2021-12-22T23:30:32.436Z"
   },
   {
    "duration": -1239,
    "start_time": "2021-12-22T23:30:32.449Z"
   },
   {
    "duration": -1238,
    "start_time": "2021-12-22T23:30:32.450Z"
   },
   {
    "duration": -1238,
    "start_time": "2021-12-22T23:30:32.451Z"
   },
   {
    "duration": -1238,
    "start_time": "2021-12-22T23:30:32.452Z"
   },
   {
    "duration": 3,
    "start_time": "2021-12-22T23:33:33.520Z"
   },
   {
    "duration": 5,
    "start_time": "2021-12-22T23:33:33.526Z"
   },
   {
    "duration": 4,
    "start_time": "2021-12-22T23:33:33.533Z"
   },
   {
    "duration": 4,
    "start_time": "2021-12-22T23:33:33.540Z"
   },
   {
    "duration": 517,
    "start_time": "2021-12-22T23:33:33.546Z"
   },
   {
    "duration": 372,
    "start_time": "2021-12-22T23:33:34.065Z"
   },
   {
    "duration": 98,
    "start_time": "2021-12-22T23:33:34.440Z"
   },
   {
    "duration": 216,
    "start_time": "2021-12-22T23:33:34.541Z"
   },
   {
    "duration": 6,
    "start_time": "2021-12-22T23:33:34.764Z"
   },
   {
    "duration": 282,
    "start_time": "2021-12-22T23:33:34.773Z"
   },
   {
    "duration": -1222,
    "start_time": "2021-12-22T23:33:36.279Z"
   },
   {
    "duration": -1223,
    "start_time": "2021-12-22T23:33:36.282Z"
   },
   {
    "duration": -1223,
    "start_time": "2021-12-22T23:33:36.283Z"
   },
   {
    "duration": -1223,
    "start_time": "2021-12-22T23:33:36.285Z"
   },
   {
    "duration": -1224,
    "start_time": "2021-12-22T23:33:36.287Z"
   },
   {
    "duration": -1224,
    "start_time": "2021-12-22T23:33:36.288Z"
   },
   {
    "duration": -1226,
    "start_time": "2021-12-22T23:33:36.291Z"
   },
   {
    "duration": -1226,
    "start_time": "2021-12-22T23:33:36.292Z"
   },
   {
    "duration": -1226,
    "start_time": "2021-12-22T23:33:36.294Z"
   },
   {
    "duration": -1227,
    "start_time": "2021-12-22T23:33:36.296Z"
   },
   {
    "duration": -1231,
    "start_time": "2021-12-22T23:33:36.301Z"
   },
   {
    "duration": 3,
    "start_time": "2021-12-22T23:34:31.809Z"
   },
   {
    "duration": 4,
    "start_time": "2021-12-22T23:34:31.815Z"
   },
   {
    "duration": 4,
    "start_time": "2021-12-22T23:34:31.822Z"
   },
   {
    "duration": 5,
    "start_time": "2021-12-22T23:34:31.828Z"
   },
   {
    "duration": 490,
    "start_time": "2021-12-22T23:34:31.835Z"
   },
   {
    "duration": 346,
    "start_time": "2021-12-22T23:34:32.328Z"
   },
   {
    "duration": 101,
    "start_time": "2021-12-22T23:34:32.677Z"
   },
   {
    "duration": 205,
    "start_time": "2021-12-22T23:34:32.780Z"
   },
   {
    "duration": 7,
    "start_time": "2021-12-22T23:34:32.988Z"
   },
   {
    "duration": 16,
    "start_time": "2021-12-22T23:34:32.997Z"
   },
   {
    "duration": 646,
    "start_time": "2021-12-22T23:34:33.016Z"
   },
   {
    "duration": 640,
    "start_time": "2021-12-22T23:34:33.665Z"
   },
   {
    "duration": 668,
    "start_time": "2021-12-22T23:34:34.308Z"
   },
   {
    "duration": 340,
    "start_time": "2021-12-22T23:34:34.980Z"
   },
   {
    "duration": 313,
    "start_time": "2021-12-22T23:34:35.323Z"
   },
   {
    "duration": 1213,
    "start_time": "2021-12-22T23:34:35.638Z"
   },
   {
    "duration": 40186,
    "start_time": "2021-12-22T23:34:36.853Z"
   },
   {
    "duration": 6,
    "start_time": "2021-12-22T23:35:17.042Z"
   },
   {
    "duration": 33,
    "start_time": "2021-12-22T23:35:17.051Z"
   },
   {
    "duration": 871,
    "start_time": "2021-12-22T23:35:17.086Z"
   },
   {
    "duration": -1253,
    "start_time": "2021-12-22T23:35:19.213Z"
   },
   {
    "duration": 7,
    "start_time": "2021-12-22T23:36:35.000Z"
   },
   {
    "duration": 13,
    "start_time": "2021-12-22T23:36:35.556Z"
   },
   {
    "duration": 764,
    "start_time": "2021-12-22T23:36:35.994Z"
   },
   {
    "duration": 7,
    "start_time": "2021-12-22T23:38:22.167Z"
   },
   {
    "duration": 13,
    "start_time": "2021-12-22T23:38:22.651Z"
   },
   {
    "duration": 735,
    "start_time": "2021-12-22T23:38:22.995Z"
   },
   {
    "duration": 6,
    "start_time": "2021-12-22T23:40:23.989Z"
   },
   {
    "duration": 14,
    "start_time": "2021-12-22T23:40:24.461Z"
   },
   {
    "duration": 773,
    "start_time": "2021-12-22T23:40:24.993Z"
   },
   {
    "duration": 6,
    "start_time": "2021-12-22T23:41:04.159Z"
   },
   {
    "duration": 12,
    "start_time": "2021-12-22T23:41:04.865Z"
   },
   {
    "duration": 951,
    "start_time": "2021-12-22T23:41:05.091Z"
   },
   {
    "duration": 277,
    "start_time": "2021-12-22T23:46:22.229Z"
   },
   {
    "duration": 717,
    "start_time": "2021-12-22T23:46:36.720Z"
   },
   {
    "duration": 5,
    "start_time": "2021-12-22T23:57:26.369Z"
   },
   {
    "duration": 4,
    "start_time": "2021-12-22T23:57:26.377Z"
   },
   {
    "duration": 4,
    "start_time": "2021-12-22T23:57:26.385Z"
   },
   {
    "duration": 6,
    "start_time": "2021-12-22T23:57:26.393Z"
   },
   {
    "duration": 524,
    "start_time": "2021-12-22T23:57:26.402Z"
   },
   {
    "duration": 367,
    "start_time": "2021-12-22T23:57:26.929Z"
   },
   {
    "duration": 103,
    "start_time": "2021-12-22T23:57:27.299Z"
   },
   {
    "duration": 226,
    "start_time": "2021-12-22T23:57:27.405Z"
   },
   {
    "duration": 26,
    "start_time": "2021-12-22T23:57:27.637Z"
   },
   {
    "duration": 9,
    "start_time": "2021-12-22T23:57:27.666Z"
   },
   {
    "duration": 642,
    "start_time": "2021-12-22T23:57:27.678Z"
   },
   {
    "duration": 660,
    "start_time": "2021-12-22T23:57:28.322Z"
   },
   {
    "duration": 680,
    "start_time": "2021-12-22T23:57:28.984Z"
   },
   {
    "duration": 336,
    "start_time": "2021-12-22T23:57:29.667Z"
   },
   {
    "duration": 335,
    "start_time": "2021-12-22T23:57:30.006Z"
   },
   {
    "duration": 1203,
    "start_time": "2021-12-22T23:57:30.344Z"
   },
   {
    "duration": 40545,
    "start_time": "2021-12-22T23:57:31.551Z"
   },
   {
    "duration": 7,
    "start_time": "2021-12-22T23:58:12.099Z"
   },
   {
    "duration": 24,
    "start_time": "2021-12-22T23:58:12.108Z"
   },
   {
    "duration": 799,
    "start_time": "2021-12-22T23:58:12.135Z"
   },
   {
    "duration": -1262,
    "start_time": "2021-12-22T23:58:14.198Z"
   },
   {
    "duration": 27,
    "start_time": "2021-12-22T23:58:59.094Z"
   },
   {
    "duration": 30,
    "start_time": "2021-12-22T23:59:16.318Z"
   },
   {
    "duration": 31,
    "start_time": "2021-12-23T00:01:34.614Z"
   },
   {
    "duration": 897,
    "start_time": "2021-12-23T00:01:51.054Z"
   },
   {
    "duration": 235,
    "start_time": "2021-12-23T00:02:21.235Z"
   },
   {
    "duration": 431,
    "start_time": "2021-12-23T00:24:57.936Z"
   },
   {
    "duration": 7,
    "start_time": "2021-12-23T00:26:08.766Z"
   },
   {
    "duration": 31,
    "start_time": "2021-12-23T00:26:10.045Z"
   },
   {
    "duration": 7606,
    "start_time": "2021-12-23T00:26:26.716Z"
   },
   {
    "duration": 8,
    "start_time": "2021-12-23T00:28:16.510Z"
   },
   {
    "duration": 30,
    "start_time": "2021-12-23T00:28:17.481Z"
   },
   {
    "duration": 21674,
    "start_time": "2021-12-23T00:28:20.088Z"
   },
   {
    "duration": 9,
    "start_time": "2021-12-23T00:31:27.038Z"
   },
   {
    "duration": 38,
    "start_time": "2021-12-23T00:31:27.729Z"
   },
   {
    "duration": 24873,
    "start_time": "2021-12-23T00:31:28.183Z"
   },
   {
    "duration": 8,
    "start_time": "2021-12-23T00:33:56.941Z"
   },
   {
    "duration": 24472,
    "start_time": "2021-12-23T00:34:01.554Z"
   },
   {
    "duration": 7,
    "start_time": "2021-12-23T00:37:28.168Z"
   },
   {
    "duration": 32267,
    "start_time": "2021-12-23T00:37:34.108Z"
   },
   {
    "duration": 4,
    "start_time": "2021-12-23T00:40:47.489Z"
   },
   {
    "duration": 5,
    "start_time": "2021-12-23T00:40:47.496Z"
   },
   {
    "duration": 3,
    "start_time": "2021-12-23T00:40:47.504Z"
   },
   {
    "duration": 8,
    "start_time": "2021-12-23T00:40:47.510Z"
   },
   {
    "duration": 485,
    "start_time": "2021-12-23T00:40:47.520Z"
   },
   {
    "duration": 366,
    "start_time": "2021-12-23T00:40:48.008Z"
   },
   {
    "duration": 102,
    "start_time": "2021-12-23T00:40:48.376Z"
   },
   {
    "duration": 212,
    "start_time": "2021-12-23T00:40:48.481Z"
   },
   {
    "duration": 7,
    "start_time": "2021-12-23T00:40:48.697Z"
   },
   {
    "duration": 10,
    "start_time": "2021-12-23T00:40:48.707Z"
   },
   {
    "duration": 652,
    "start_time": "2021-12-23T00:40:48.719Z"
   },
   {
    "duration": 645,
    "start_time": "2021-12-23T00:40:49.374Z"
   },
   {
    "duration": 752,
    "start_time": "2021-12-23T00:40:50.022Z"
   },
   {
    "duration": 330,
    "start_time": "2021-12-23T00:40:50.776Z"
   },
   {
    "duration": 316,
    "start_time": "2021-12-23T00:40:51.109Z"
   },
   {
    "duration": 1182,
    "start_time": "2021-12-23T00:40:51.427Z"
   },
   {
    "duration": 39315,
    "start_time": "2021-12-23T00:40:52.612Z"
   },
   {
    "duration": 8,
    "start_time": "2021-12-23T00:41:31.930Z"
   },
   {
    "duration": 52,
    "start_time": "2021-12-23T00:41:31.940Z"
   },
   {
    "duration": 32621,
    "start_time": "2021-12-23T00:41:31.995Z"
   },
   {
    "duration": -85,
    "start_time": "2021-12-23T00:42:04.704Z"
   },
   {
    "duration": 499,
    "start_time": "2021-12-24T00:11:39.938Z"
   },
   {
    "duration": 3,
    "start_time": "2021-12-24T00:11:44.346Z"
   },
   {
    "duration": 4,
    "start_time": "2021-12-24T00:11:44.352Z"
   },
   {
    "duration": 3,
    "start_time": "2021-12-24T00:11:44.360Z"
   },
   {
    "duration": 1637,
    "start_time": "2021-12-24T00:11:44.366Z"
   },
   {
    "duration": 3248,
    "start_time": "2021-12-24T00:11:46.006Z"
   },
   {
    "duration": 1333,
    "start_time": "2021-12-24T00:11:49.263Z"
   },
   {
    "duration": 612,
    "start_time": "2021-12-24T00:11:50.598Z"
   },
   {
    "duration": 222,
    "start_time": "2021-12-24T00:11:51.213Z"
   },
   {
    "duration": 24,
    "start_time": "2021-12-24T00:11:51.439Z"
   },
   {
    "duration": 11,
    "start_time": "2021-12-24T00:11:51.466Z"
   },
   {
    "duration": 690,
    "start_time": "2021-12-24T00:11:51.480Z"
   },
   {
    "duration": 676,
    "start_time": "2021-12-24T00:11:52.173Z"
   },
   {
    "duration": 793,
    "start_time": "2021-12-24T00:11:52.852Z"
   },
   {
    "duration": 436,
    "start_time": "2021-12-24T00:11:53.649Z"
   },
   {
    "duration": 352,
    "start_time": "2021-12-24T00:11:54.087Z"
   },
   {
    "duration": 1284,
    "start_time": "2021-12-24T00:11:54.441Z"
   },
   {
    "duration": 44016,
    "start_time": "2021-12-24T00:11:55.728Z"
   },
   {
    "duration": 16,
    "start_time": "2021-12-24T00:12:39.747Z"
   },
   {
    "duration": 38,
    "start_time": "2021-12-24T00:12:39.766Z"
   },
   {
    "duration": 383,
    "start_time": "2021-12-24T00:12:39.807Z"
   },
   {
    "duration": -909,
    "start_time": "2021-12-24T00:12:41.101Z"
   },
   {
    "duration": 306,
    "start_time": "2021-12-24T00:13:00.599Z"
   },
   {
    "duration": 14,
    "start_time": "2021-12-24T00:13:42.741Z"
   },
   {
    "duration": 9,
    "start_time": "2021-12-24T00:14:09.171Z"
   },
   {
    "duration": 8,
    "start_time": "2021-12-24T00:18:03.622Z"
   },
   {
    "duration": 7,
    "start_time": "2021-12-24T00:18:54.608Z"
   },
   {
    "duration": 18899,
    "start_time": "2021-12-24T00:19:10.866Z"
   },
   {
    "duration": 344,
    "start_time": "2021-12-24T00:26:52.525Z"
   },
   {
    "duration": 4,
    "start_time": "2021-12-24T00:28:08.569Z"
   },
   {
    "duration": 3,
    "start_time": "2021-12-24T00:28:08.635Z"
   },
   {
    "duration": 6,
    "start_time": "2021-12-24T00:28:08.642Z"
   },
   {
    "duration": 6,
    "start_time": "2021-12-24T00:28:08.652Z"
   },
   {
    "duration": 492,
    "start_time": "2021-12-24T00:28:08.661Z"
   },
   {
    "duration": 452,
    "start_time": "2021-12-24T00:28:09.155Z"
   },
   {
    "duration": 113,
    "start_time": "2021-12-24T00:28:09.610Z"
   },
   {
    "duration": 214,
    "start_time": "2021-12-24T00:28:09.726Z"
   },
   {
    "duration": 7,
    "start_time": "2021-12-24T00:28:09.942Z"
   },
   {
    "duration": 6,
    "start_time": "2021-12-24T00:28:09.965Z"
   },
   {
    "duration": 781,
    "start_time": "2021-12-24T00:28:09.974Z"
   },
   {
    "duration": 659,
    "start_time": "2021-12-24T00:28:10.758Z"
   },
   {
    "duration": 714,
    "start_time": "2021-12-24T00:28:11.420Z"
   },
   {
    "duration": 334,
    "start_time": "2021-12-24T00:28:12.136Z"
   },
   {
    "duration": 347,
    "start_time": "2021-12-24T00:28:12.473Z"
   },
   {
    "duration": 1304,
    "start_time": "2021-12-24T00:28:12.823Z"
   },
   {
    "duration": 45412,
    "start_time": "2021-12-24T00:28:14.130Z"
   },
   {
    "duration": 17,
    "start_time": "2021-12-24T00:28:59.546Z"
   },
   {
    "duration": 41,
    "start_time": "2021-12-24T00:28:59.566Z"
   },
   {
    "duration": 311,
    "start_time": "2021-12-24T00:28:59.610Z"
   },
   {
    "duration": -920,
    "start_time": "2021-12-24T00:29:00.843Z"
   },
   {
    "duration": 26,
    "start_time": "2021-12-24T00:29:57.537Z"
   },
   {
    "duration": 342,
    "start_time": "2021-12-24T00:30:03.928Z"
   },
   {
    "duration": 4,
    "start_time": "2021-12-24T00:35:03.751Z"
   },
   {
    "duration": 4,
    "start_time": "2021-12-24T00:35:03.760Z"
   },
   {
    "duration": 3,
    "start_time": "2021-12-24T00:35:03.768Z"
   },
   {
    "duration": 306,
    "start_time": "2021-12-24T00:35:03.774Z"
   },
   {
    "duration": -932,
    "start_time": "2021-12-24T00:35:05.015Z"
   },
   {
    "duration": -934,
    "start_time": "2021-12-24T00:35:05.018Z"
   },
   {
    "duration": -935,
    "start_time": "2021-12-24T00:35:05.021Z"
   },
   {
    "duration": -937,
    "start_time": "2021-12-24T00:35:05.024Z"
   },
   {
    "duration": -937,
    "start_time": "2021-12-24T00:35:05.025Z"
   },
   {
    "duration": -948,
    "start_time": "2021-12-24T00:35:05.038Z"
   },
   {
    "duration": -948,
    "start_time": "2021-12-24T00:35:05.039Z"
   },
   {
    "duration": -947,
    "start_time": "2021-12-24T00:35:05.040Z"
   },
   {
    "duration": -947,
    "start_time": "2021-12-24T00:35:05.041Z"
   },
   {
    "duration": -947,
    "start_time": "2021-12-24T00:35:05.042Z"
   },
   {
    "duration": -947,
    "start_time": "2021-12-24T00:35:05.043Z"
   },
   {
    "duration": -947,
    "start_time": "2021-12-24T00:35:05.045Z"
   },
   {
    "duration": -949,
    "start_time": "2021-12-24T00:35:05.049Z"
   },
   {
    "duration": -953,
    "start_time": "2021-12-24T00:35:05.054Z"
   },
   {
    "duration": -954,
    "start_time": "2021-12-24T00:35:05.056Z"
   },
   {
    "duration": -952,
    "start_time": "2021-12-24T00:35:05.056Z"
   },
   {
    "duration": -952,
    "start_time": "2021-12-24T00:35:05.057Z"
   },
   {
    "duration": 3,
    "start_time": "2021-12-24T00:37:02.668Z"
   },
   {
    "duration": 6,
    "start_time": "2021-12-24T00:37:02.673Z"
   },
   {
    "duration": 7,
    "start_time": "2021-12-24T00:37:02.682Z"
   },
   {
    "duration": 8,
    "start_time": "2021-12-24T00:37:02.692Z"
   },
   {
    "duration": 511,
    "start_time": "2021-12-24T00:37:02.703Z"
   },
   {
    "duration": 370,
    "start_time": "2021-12-24T00:37:03.217Z"
   },
   {
    "duration": 103,
    "start_time": "2021-12-24T00:37:03.589Z"
   },
   {
    "duration": 220,
    "start_time": "2021-12-24T00:37:03.694Z"
   },
   {
    "duration": 7,
    "start_time": "2021-12-24T00:37:03.918Z"
   },
   {
    "duration": 9,
    "start_time": "2021-12-24T00:37:03.927Z"
   },
   {
    "duration": 669,
    "start_time": "2021-12-24T00:37:03.940Z"
   },
   {
    "duration": 665,
    "start_time": "2021-12-24T00:37:04.612Z"
   },
   {
    "duration": 761,
    "start_time": "2021-12-24T00:37:05.279Z"
   },
   {
    "duration": 453,
    "start_time": "2021-12-24T00:37:06.043Z"
   },
   {
    "duration": 335,
    "start_time": "2021-12-24T00:37:06.500Z"
   },
   {
    "duration": 1253,
    "start_time": "2021-12-24T00:37:06.838Z"
   },
   {
    "duration": 40743,
    "start_time": "2021-12-24T00:37:08.094Z"
   },
   {
    "duration": 8,
    "start_time": "2021-12-24T00:37:48.839Z"
   },
   {
    "duration": 45,
    "start_time": "2021-12-24T00:37:48.849Z"
   },
   {
    "duration": 19531,
    "start_time": "2021-12-24T00:37:48.896Z"
   },
   {
    "duration": 3,
    "start_time": "2021-12-24T00:38:08.429Z"
   },
   {
    "duration": 151420,
    "start_time": "2021-12-24T00:44:28.271Z"
   },
   {
    "duration": 62589,
    "start_time": "2021-12-24T00:50:38.882Z"
   },
   {
    "duration": 8,
    "start_time": "2021-12-24T00:55:27.540Z"
   },
   {
    "duration": 8975,
    "start_time": "2021-12-24T00:56:33.055Z"
   },
   {
    "duration": 6955,
    "start_time": "2021-12-24T00:57:19.776Z"
   },
   {
    "duration": 7618,
    "start_time": "2021-12-24T00:57:43.875Z"
   },
   {
    "duration": 8,
    "start_time": "2021-12-24T01:01:06.447Z"
   },
   {
    "duration": 1082,
    "start_time": "2021-12-24T01:01:12.090Z"
   },
   {
    "duration": 102,
    "start_time": "2021-12-24T01:02:30.792Z"
   },
   {
    "duration": 7,
    "start_time": "2021-12-24T01:02:47.033Z"
   },
   {
    "duration": 31,
    "start_time": "2021-12-24T01:02:48.077Z"
   },
   {
    "duration": 7075,
    "start_time": "2021-12-24T01:02:48.528Z"
   },
   {
    "duration": 8,
    "start_time": "2021-12-24T01:04:25.100Z"
   },
   {
    "duration": 12531,
    "start_time": "2021-12-24T01:04:29.140Z"
   },
   {
    "duration": 11,
    "start_time": "2021-12-24T01:05:48.486Z"
   },
   {
    "duration": 7343,
    "start_time": "2021-12-24T01:05:53.040Z"
   },
   {
    "duration": 383,
    "start_time": "2021-12-24T01:09:52.050Z"
   },
   {
    "duration": 3,
    "start_time": "2021-12-24T01:10:17.646Z"
   },
   {
    "duration": 6,
    "start_time": "2021-12-24T01:10:17.652Z"
   },
   {
    "duration": 4,
    "start_time": "2021-12-24T01:10:17.660Z"
   },
   {
    "duration": 15,
    "start_time": "2021-12-24T01:10:17.667Z"
   },
   {
    "duration": 490,
    "start_time": "2021-12-24T01:10:17.684Z"
   },
   {
    "duration": 366,
    "start_time": "2021-12-24T01:10:18.177Z"
   },
   {
    "duration": 102,
    "start_time": "2021-12-24T01:10:18.545Z"
   },
   {
    "duration": 220,
    "start_time": "2021-12-24T01:10:18.650Z"
   },
   {
    "duration": 7,
    "start_time": "2021-12-24T01:10:18.873Z"
   },
   {
    "duration": 6,
    "start_time": "2021-12-24T01:10:18.882Z"
   },
   {
    "duration": 655,
    "start_time": "2021-12-24T01:10:18.891Z"
   },
   {
    "duration": 652,
    "start_time": "2021-12-24T01:10:19.549Z"
   },
   {
    "duration": 666,
    "start_time": "2021-12-24T01:10:20.204Z"
   },
   {
    "duration": 340,
    "start_time": "2021-12-24T01:10:20.872Z"
   },
   {
    "duration": 315,
    "start_time": "2021-12-24T01:10:21.214Z"
   },
   {
    "duration": 1379,
    "start_time": "2021-12-24T01:10:21.533Z"
   },
   {
    "duration": 39694,
    "start_time": "2021-12-24T01:10:22.914Z"
   },
   {
    "duration": 9,
    "start_time": "2021-12-24T01:11:02.612Z"
   },
   {
    "duration": 58,
    "start_time": "2021-12-24T01:11:02.624Z"
   },
   {
    "duration": 5,
    "start_time": "2021-12-24T01:16:14.365Z"
   },
   {
    "duration": 6,
    "start_time": "2021-12-24T01:16:14.373Z"
   },
   {
    "duration": 4,
    "start_time": "2021-12-24T01:16:14.383Z"
   },
   {
    "duration": 1508,
    "start_time": "2021-12-24T01:16:14.390Z"
   },
   {
    "duration": 495,
    "start_time": "2021-12-24T01:16:15.901Z"
   },
   {
    "duration": 366,
    "start_time": "2021-12-24T01:16:16.399Z"
   },
   {
    "duration": 114,
    "start_time": "2021-12-24T01:16:16.768Z"
   },
   {
    "duration": 214,
    "start_time": "2021-12-24T01:16:16.885Z"
   },
   {
    "duration": 12,
    "start_time": "2021-12-24T01:16:17.103Z"
   },
   {
    "duration": 9,
    "start_time": "2021-12-24T01:16:17.117Z"
   },
   {
    "duration": 657,
    "start_time": "2021-12-24T01:16:17.128Z"
   },
   {
    "duration": 646,
    "start_time": "2021-12-24T01:16:17.787Z"
   },
   {
    "duration": 658,
    "start_time": "2021-12-24T01:16:18.435Z"
   },
   {
    "duration": 341,
    "start_time": "2021-12-24T01:16:19.095Z"
   },
   {
    "duration": 320,
    "start_time": "2021-12-24T01:16:19.438Z"
   },
   {
    "duration": 1233,
    "start_time": "2021-12-24T01:16:19.762Z"
   },
   {
    "duration": 40370,
    "start_time": "2021-12-24T01:16:20.997Z"
   },
   {
    "duration": 7,
    "start_time": "2021-12-24T01:17:01.370Z"
   },
   {
    "duration": 49,
    "start_time": "2021-12-24T01:17:01.379Z"
   },
   {
    "duration": 422,
    "start_time": "2021-12-24T01:17:01.430Z"
   },
   {
    "duration": 15018,
    "start_time": "2021-12-24T01:20:17.736Z"
   },
   {
    "duration": 8669,
    "start_time": "2021-12-24T01:22:04.171Z"
   },
   {
    "duration": 14680,
    "start_time": "2021-12-24T01:23:25.939Z"
   },
   {
    "duration": 2349,
    "start_time": "2021-12-24T01:24:01.446Z"
   },
   {
    "duration": 8887,
    "start_time": "2021-12-24T01:24:24.808Z"
   },
   {
    "duration": 3,
    "start_time": "2021-12-24T01:24:39.908Z"
   },
   {
    "duration": 9,
    "start_time": "2021-12-24T01:24:39.914Z"
   },
   {
    "duration": 9,
    "start_time": "2021-12-24T01:24:39.926Z"
   },
   {
    "duration": 6,
    "start_time": "2021-12-24T01:24:39.938Z"
   },
   {
    "duration": 503,
    "start_time": "2021-12-24T01:24:39.946Z"
   },
   {
    "duration": 374,
    "start_time": "2021-12-24T01:24:40.451Z"
   },
   {
    "duration": 102,
    "start_time": "2021-12-24T01:24:40.827Z"
   },
   {
    "duration": 219,
    "start_time": "2021-12-24T01:24:40.931Z"
   },
   {
    "duration": 12,
    "start_time": "2021-12-24T01:24:41.154Z"
   },
   {
    "duration": 7,
    "start_time": "2021-12-24T01:24:41.168Z"
   },
   {
    "duration": 653,
    "start_time": "2021-12-24T01:24:41.177Z"
   },
   {
    "duration": 641,
    "start_time": "2021-12-24T01:24:41.833Z"
   },
   {
    "duration": 662,
    "start_time": "2021-12-24T01:24:42.477Z"
   },
   {
    "duration": 334,
    "start_time": "2021-12-24T01:24:43.141Z"
   },
   {
    "duration": 311,
    "start_time": "2021-12-24T01:24:43.477Z"
   },
   {
    "duration": 1253,
    "start_time": "2021-12-24T01:24:43.791Z"
   },
   {
    "duration": 40096,
    "start_time": "2021-12-24T01:24:45.047Z"
   },
   {
    "duration": 8,
    "start_time": "2021-12-24T01:25:25.145Z"
   },
   {
    "duration": 39,
    "start_time": "2021-12-24T01:25:25.164Z"
   },
   {
    "duration": 8656,
    "start_time": "2021-12-24T01:25:25.206Z"
   },
   {
    "duration": 9178,
    "start_time": "2021-12-24T01:26:21.261Z"
   },
   {
    "duration": 8777,
    "start_time": "2021-12-24T01:26:45.535Z"
   },
   {
    "duration": 8669,
    "start_time": "2021-12-24T01:27:27.908Z"
   },
   {
    "duration": 4,
    "start_time": "2021-12-24T01:27:38.315Z"
   },
   {
    "duration": 4,
    "start_time": "2021-12-24T01:27:38.322Z"
   },
   {
    "duration": 4,
    "start_time": "2021-12-24T01:27:38.329Z"
   },
   {
    "duration": 5,
    "start_time": "2021-12-24T01:27:38.336Z"
   },
   {
    "duration": 486,
    "start_time": "2021-12-24T01:27:38.343Z"
   },
   {
    "duration": 385,
    "start_time": "2021-12-24T01:27:38.831Z"
   },
   {
    "duration": 109,
    "start_time": "2021-12-24T01:27:39.218Z"
   },
   {
    "duration": 219,
    "start_time": "2021-12-24T01:27:39.330Z"
   },
   {
    "duration": 12,
    "start_time": "2021-12-24T01:27:39.553Z"
   },
   {
    "duration": 7,
    "start_time": "2021-12-24T01:27:39.568Z"
   },
   {
    "duration": 652,
    "start_time": "2021-12-24T01:27:39.577Z"
   },
   {
    "duration": 642,
    "start_time": "2021-12-24T01:27:40.231Z"
   },
   {
    "duration": 795,
    "start_time": "2021-12-24T01:27:40.875Z"
   },
   {
    "duration": 329,
    "start_time": "2021-12-24T01:27:41.672Z"
   },
   {
    "duration": 368,
    "start_time": "2021-12-24T01:27:42.003Z"
   },
   {
    "duration": 1170,
    "start_time": "2021-12-24T01:27:42.373Z"
   },
   {
    "duration": 40643,
    "start_time": "2021-12-24T01:27:43.546Z"
   },
   {
    "duration": 9,
    "start_time": "2021-12-24T01:28:24.193Z"
   },
   {
    "duration": 62,
    "start_time": "2021-12-24T01:28:24.205Z"
   },
   {
    "duration": 8910,
    "start_time": "2021-12-24T01:28:24.270Z"
   },
   {
    "duration": 8671,
    "start_time": "2021-12-24T01:28:48.720Z"
   },
   {
    "duration": 8735,
    "start_time": "2021-12-24T01:28:59.886Z"
   },
   {
    "duration": 8931,
    "start_time": "2021-12-24T01:29:34.868Z"
   },
   {
    "duration": 6669,
    "start_time": "2021-12-24T01:30:15.318Z"
   },
   {
    "duration": 7387,
    "start_time": "2021-12-24T01:30:28.748Z"
   },
   {
    "duration": 1111,
    "start_time": "2021-12-24T05:15:34.766Z"
   },
   {
    "duration": 361,
    "start_time": "2021-12-24T05:15:35.879Z"
   },
   {
    "duration": 274,
    "start_time": "2021-12-24T05:15:36.242Z"
   },
   {
    "duration": 85,
    "start_time": "2021-12-24T05:15:36.518Z"
   },
   {
    "duration": 167,
    "start_time": "2021-12-24T05:15:36.871Z"
   },
   {
    "duration": 9,
    "start_time": "2021-12-24T05:15:38.636Z"
   },
   {
    "duration": 7,
    "start_time": "2021-12-24T05:15:41.148Z"
   },
   {
    "duration": 398,
    "start_time": "2021-12-24T05:20:07.951Z"
   },
   {
    "duration": 406,
    "start_time": "2021-12-24T05:20:09.560Z"
   },
   {
    "duration": 421,
    "start_time": "2021-12-24T05:20:10.224Z"
   },
   {
    "duration": 180,
    "start_time": "2021-12-24T05:21:06.376Z"
   },
   {
    "duration": 177,
    "start_time": "2021-12-24T05:21:06.983Z"
   },
   {
    "duration": 716,
    "start_time": "2021-12-24T05:21:09.444Z"
   },
   {
    "duration": 20316,
    "start_time": "2021-12-24T05:22:57.081Z"
   },
   {
    "duration": 3,
    "start_time": "2021-12-24T05:23:41.404Z"
   },
   {
    "duration": 5,
    "start_time": "2021-12-24T11:48:59.557Z"
   },
   {
    "duration": 5,
    "start_time": "2021-12-24T11:48:59.565Z"
   },
   {
    "duration": 4,
    "start_time": "2021-12-24T11:48:59.572Z"
   },
   {
    "duration": 1537,
    "start_time": "2021-12-24T11:48:59.578Z"
   },
   {
    "duration": 494,
    "start_time": "2021-12-24T11:49:01.117Z"
   },
   {
    "duration": 352,
    "start_time": "2021-12-24T11:49:01.614Z"
   },
   {
    "duration": 110,
    "start_time": "2021-12-24T11:49:01.968Z"
   },
   {
    "duration": 221,
    "start_time": "2021-12-24T11:49:02.080Z"
   },
   {
    "duration": 14,
    "start_time": "2021-12-24T11:49:02.306Z"
   },
   {
    "duration": 9,
    "start_time": "2021-12-24T11:49:02.323Z"
   },
   {
    "duration": 661,
    "start_time": "2021-12-24T11:49:02.334Z"
   },
   {
    "duration": 668,
    "start_time": "2021-12-24T11:49:02.997Z"
   },
   {
    "duration": 746,
    "start_time": "2021-12-24T11:49:03.668Z"
   },
   {
    "duration": 364,
    "start_time": "2021-12-24T11:49:04.417Z"
   },
   {
    "duration": 332,
    "start_time": "2021-12-24T11:49:04.784Z"
   },
   {
    "duration": 1274,
    "start_time": "2021-12-24T11:49:05.118Z"
   },
   {
    "duration": 42318,
    "start_time": "2021-12-24T11:49:06.395Z"
   },
   {
    "duration": 6,
    "start_time": "2021-12-24T11:49:48.715Z"
   },
   {
    "duration": 8,
    "start_time": "2021-12-24T11:49:48.723Z"
   },
   {
    "duration": 65,
    "start_time": "2021-12-24T11:49:48.734Z"
   },
   {
    "duration": 7764,
    "start_time": "2021-12-24T11:49:48.801Z"
   },
   {
    "duration": 638,
    "start_time": "2021-12-24T13:47:12.023Z"
   },
   {
    "duration": 3,
    "start_time": "2021-12-24T13:47:20.515Z"
   },
   {
    "duration": 9,
    "start_time": "2021-12-24T13:47:20.521Z"
   },
   {
    "duration": 6,
    "start_time": "2021-12-24T13:47:20.533Z"
   },
   {
    "duration": 13,
    "start_time": "2021-12-24T13:47:20.541Z"
   },
   {
    "duration": 487,
    "start_time": "2021-12-24T13:47:20.556Z"
   },
   {
    "duration": 358,
    "start_time": "2021-12-24T13:47:21.045Z"
   },
   {
    "duration": 105,
    "start_time": "2021-12-24T13:47:21.405Z"
   },
   {
    "duration": 178,
    "start_time": "2021-12-24T13:47:21.513Z"
   },
   {
    "duration": 7,
    "start_time": "2021-12-24T13:47:21.695Z"
   },
   {
    "duration": 8,
    "start_time": "2021-12-24T13:47:21.705Z"
   },
   {
    "duration": 655,
    "start_time": "2021-12-24T13:47:21.716Z"
   },
   {
    "duration": 669,
    "start_time": "2021-12-24T13:47:22.373Z"
   },
   {
    "duration": 674,
    "start_time": "2021-12-24T13:47:23.045Z"
   },
   {
    "duration": 340,
    "start_time": "2021-12-24T13:47:23.722Z"
   },
   {
    "duration": 329,
    "start_time": "2021-12-24T13:47:24.065Z"
   },
   {
    "duration": 1182,
    "start_time": "2021-12-24T13:47:24.397Z"
   },
   {
    "duration": 42059,
    "start_time": "2021-12-24T13:47:25.582Z"
   },
   {
    "duration": 20,
    "start_time": "2021-12-24T13:48:07.645Z"
   },
   {
    "duration": 19,
    "start_time": "2021-12-24T13:48:07.668Z"
   },
   {
    "duration": 51,
    "start_time": "2021-12-24T13:48:07.689Z"
   },
   {
    "duration": 7412,
    "start_time": "2021-12-24T13:48:07.743Z"
   },
   {
    "duration": 305,
    "start_time": "2021-12-24T13:56:34.475Z"
   },
   {
    "duration": 7,
    "start_time": "2021-12-24T13:56:40.501Z"
   },
   {
    "duration": 8,
    "start_time": "2021-12-24T13:56:43.255Z"
   },
   {
    "duration": 96,
    "start_time": "2021-12-24T14:45:41.091Z"
   },
   {
    "duration": 377,
    "start_time": "2021-12-24T14:54:01.900Z"
   },
   {
    "duration": 535,
    "start_time": "2021-12-24T14:54:14.360Z"
   },
   {
    "duration": 628,
    "start_time": "2021-12-24T14:54:33.179Z"
   },
   {
    "duration": 4,
    "start_time": "2021-12-24T14:54:48.103Z"
   },
   {
    "duration": 6,
    "start_time": "2021-12-24T14:54:48.109Z"
   },
   {
    "duration": 3,
    "start_time": "2021-12-24T14:54:48.151Z"
   },
   {
    "duration": 7,
    "start_time": "2021-12-24T14:54:48.157Z"
   },
   {
    "duration": 467,
    "start_time": "2021-12-24T14:54:48.166Z"
   },
   {
    "duration": 355,
    "start_time": "2021-12-24T14:54:48.637Z"
   },
   {
    "duration": 104,
    "start_time": "2021-12-24T14:54:48.995Z"
   },
   {
    "duration": 162,
    "start_time": "2021-12-24T14:54:49.103Z"
   },
   {
    "duration": 8,
    "start_time": "2021-12-24T14:54:49.268Z"
   },
   {
    "duration": 4,
    "start_time": "2021-12-24T14:54:49.278Z"
   },
   {
    "duration": 10,
    "start_time": "2021-12-24T14:54:49.284Z"
   },
   {
    "duration": 674,
    "start_time": "2021-12-24T14:54:49.297Z"
   },
   {
    "duration": 530,
    "start_time": "2021-12-24T14:54:49.974Z"
   },
   {
    "duration": -1038,
    "start_time": "2021-12-24T14:54:51.544Z"
   },
   {
    "duration": -1043,
    "start_time": "2021-12-24T14:54:51.551Z"
   },
   {
    "duration": -1044,
    "start_time": "2021-12-24T14:54:51.553Z"
   },
   {
    "duration": -1048,
    "start_time": "2021-12-24T14:54:51.558Z"
   },
   {
    "duration": -1049,
    "start_time": "2021-12-24T14:54:51.561Z"
   },
   {
    "duration": -1049,
    "start_time": "2021-12-24T14:54:51.562Z"
   },
   {
    "duration": -1055,
    "start_time": "2021-12-24T14:54:51.569Z"
   },
   {
    "duration": -1057,
    "start_time": "2021-12-24T14:54:51.573Z"
   },
   {
    "duration": -1070,
    "start_time": "2021-12-24T14:54:51.587Z"
   },
   {
    "duration": -1072,
    "start_time": "2021-12-24T14:54:51.590Z"
   },
   {
    "duration": 521,
    "start_time": "2021-12-24T14:57:20.419Z"
   },
   {
    "duration": 684,
    "start_time": "2021-12-24T14:59:52.879Z"
   },
   {
    "duration": 363,
    "start_time": "2021-12-24T15:01:42.372Z"
   },
   {
    "duration": 366,
    "start_time": "2021-12-24T15:01:57.291Z"
   },
   {
    "duration": 577,
    "start_time": "2021-12-24T15:03:02.451Z"
   },
   {
    "duration": 763,
    "start_time": "2021-12-24T15:03:15.275Z"
   },
   {
    "duration": 541,
    "start_time": "2021-12-24T15:07:02.512Z"
   },
   {
    "duration": 631,
    "start_time": "2021-12-24T15:10:38.076Z"
   },
   {
    "duration": 657,
    "start_time": "2021-12-24T15:10:59.496Z"
   },
   {
    "duration": 278,
    "start_time": "2021-12-24T15:17:31.520Z"
   },
   {
    "duration": 95,
    "start_time": "2021-12-24T15:17:41.214Z"
   },
   {
    "duration": 525,
    "start_time": "2021-12-24T15:17:53.095Z"
   },
   {
    "duration": 3,
    "start_time": "2021-12-24T15:19:11.591Z"
   },
   {
    "duration": 656,
    "start_time": "2021-12-24T15:19:14.757Z"
   },
   {
    "duration": 748,
    "start_time": "2021-12-24T15:19:18.740Z"
   },
   {
    "duration": 584,
    "start_time": "2021-12-24T15:22:11.023Z"
   },
   {
    "duration": 686,
    "start_time": "2021-12-24T15:25:15.906Z"
   },
   {
    "duration": 702,
    "start_time": "2021-12-24T15:26:33.525Z"
   },
   {
    "duration": 595,
    "start_time": "2021-12-24T15:27:33.547Z"
   },
   {
    "duration": 17,
    "start_time": "2021-12-24T15:35:15.899Z"
   },
   {
    "duration": 1001,
    "start_time": "2021-12-24T15:35:18.136Z"
   },
   {
    "duration": 4,
    "start_time": "2021-12-24T15:39:54.434Z"
   },
   {
    "duration": 6,
    "start_time": "2021-12-24T15:39:54.440Z"
   },
   {
    "duration": 5,
    "start_time": "2021-12-24T15:39:54.449Z"
   },
   {
    "duration": 12,
    "start_time": "2021-12-24T15:39:54.456Z"
   },
   {
    "duration": 521,
    "start_time": "2021-12-24T15:39:54.471Z"
   },
   {
    "duration": 411,
    "start_time": "2021-12-24T15:39:54.996Z"
   },
   {
    "duration": 113,
    "start_time": "2021-12-24T15:39:55.411Z"
   },
   {
    "duration": 186,
    "start_time": "2021-12-24T15:39:55.526Z"
   },
   {
    "duration": 8,
    "start_time": "2021-12-24T15:39:55.718Z"
   },
   {
    "duration": 3,
    "start_time": "2021-12-24T15:39:55.730Z"
   },
   {
    "duration": 31,
    "start_time": "2021-12-24T15:39:55.736Z"
   },
   {
    "duration": 650,
    "start_time": "2021-12-24T15:39:55.769Z"
   },
   {
    "duration": 3,
    "start_time": "2021-12-24T15:39:56.422Z"
   },
   {
    "duration": 782,
    "start_time": "2021-12-24T15:39:56.428Z"
   },
   {
    "duration": 666,
    "start_time": "2021-12-24T15:39:57.213Z"
   },
   {
    "duration": 3,
    "start_time": "2021-12-24T15:39:57.881Z"
   },
   {
    "duration": 337,
    "start_time": "2021-12-24T15:39:57.887Z"
   },
   {
    "duration": 322,
    "start_time": "2021-12-24T15:39:58.227Z"
   },
   {
    "duration": 1203,
    "start_time": "2021-12-24T15:39:58.552Z"
   },
   {
    "duration": 41779,
    "start_time": "2021-12-24T15:39:59.762Z"
   },
   {
    "duration": 7,
    "start_time": "2021-12-24T15:40:41.543Z"
   },
   {
    "duration": 10,
    "start_time": "2021-12-24T15:40:41.564Z"
   },
   {
    "duration": 38,
    "start_time": "2021-12-24T15:40:41.577Z"
   },
   {
    "duration": 8362,
    "start_time": "2021-12-24T15:40:41.618Z"
   },
   {
    "duration": 1770,
    "start_time": "2021-12-24T20:17:01.354Z"
   },
   {
    "duration": 1151,
    "start_time": "2021-12-24T20:43:46.932Z"
   },
   {
    "duration": 3,
    "start_time": "2021-12-24T21:09:51.255Z"
   },
   {
    "duration": 11,
    "start_time": "2021-12-24T21:09:51.260Z"
   },
   {
    "duration": 5,
    "start_time": "2021-12-24T21:09:51.275Z"
   },
   {
    "duration": 7,
    "start_time": "2021-12-24T21:09:51.284Z"
   },
   {
    "duration": 679,
    "start_time": "2021-12-24T21:09:51.294Z"
   },
   {
    "duration": 503,
    "start_time": "2021-12-24T21:09:51.976Z"
   },
   {
    "duration": 148,
    "start_time": "2021-12-24T21:09:52.482Z"
   },
   {
    "duration": 236,
    "start_time": "2021-12-24T21:09:52.633Z"
   },
   {
    "duration": 9,
    "start_time": "2021-12-24T21:09:52.875Z"
   },
   {
    "duration": 7,
    "start_time": "2021-12-24T21:09:52.887Z"
   },
   {
    "duration": 9,
    "start_time": "2021-12-24T21:09:52.896Z"
   },
   {
    "duration": 669,
    "start_time": "2021-12-24T21:09:52.908Z"
   },
   {
    "duration": 2,
    "start_time": "2021-12-24T21:09:53.581Z"
   },
   {
    "duration": 677,
    "start_time": "2021-12-24T21:09:53.586Z"
   },
   {
    "duration": 788,
    "start_time": "2021-12-24T21:09:54.265Z"
   },
   {
    "duration": 3,
    "start_time": "2021-12-24T21:09:55.063Z"
   },
   {
    "duration": 333,
    "start_time": "2021-12-24T21:09:55.068Z"
   },
   {
    "duration": 332,
    "start_time": "2021-12-24T21:09:55.403Z"
   },
   {
    "duration": 1207,
    "start_time": "2021-12-24T21:09:55.737Z"
   },
   {
    "duration": 107,
    "start_time": "2021-12-24T21:09:56.946Z"
   },
   {
    "duration": -1551,
    "start_time": "2021-12-24T21:09:58.606Z"
   },
   {
    "duration": -1556,
    "start_time": "2021-12-24T21:09:58.613Z"
   },
   {
    "duration": -1557,
    "start_time": "2021-12-24T21:09:58.615Z"
   },
   {
    "duration": -1557,
    "start_time": "2021-12-24T21:09:58.617Z"
   },
   {
    "duration": 6,
    "start_time": "2021-12-24T21:11:54.051Z"
   },
   {
    "duration": 4,
    "start_time": "2021-12-24T21:26:17.248Z"
   },
   {
    "duration": 4,
    "start_time": "2021-12-24T21:26:17.256Z"
   },
   {
    "duration": 4,
    "start_time": "2021-12-24T21:26:17.282Z"
   },
   {
    "duration": 8,
    "start_time": "2021-12-24T21:26:17.305Z"
   },
   {
    "duration": 454,
    "start_time": "2021-12-24T21:26:17.316Z"
   },
   {
    "duration": 331,
    "start_time": "2021-12-24T21:26:17.773Z"
   },
   {
    "duration": 102,
    "start_time": "2021-12-24T21:26:18.107Z"
   },
   {
    "duration": 236,
    "start_time": "2021-12-24T21:26:18.212Z"
   },
   {
    "duration": 20,
    "start_time": "2021-12-24T21:26:18.451Z"
   },
   {
    "duration": 3,
    "start_time": "2021-12-24T21:26:18.475Z"
   },
   {
    "duration": 11,
    "start_time": "2021-12-24T21:26:18.481Z"
   },
   {
    "duration": 672,
    "start_time": "2021-12-24T21:26:18.495Z"
   },
   {
    "duration": 4,
    "start_time": "2021-12-24T21:26:19.169Z"
   },
   {
    "duration": 678,
    "start_time": "2021-12-24T21:26:19.176Z"
   },
   {
    "duration": 672,
    "start_time": "2021-12-24T21:26:19.857Z"
   },
   {
    "duration": 2,
    "start_time": "2021-12-24T21:26:20.532Z"
   },
   {
    "duration": 343,
    "start_time": "2021-12-24T21:26:20.537Z"
   },
   {
    "duration": 328,
    "start_time": "2021-12-24T21:26:20.882Z"
   },
   {
    "duration": 1233,
    "start_time": "2021-12-24T21:26:21.213Z"
   },
   {
    "duration": 115,
    "start_time": "2021-12-24T21:26:22.448Z"
   },
   {
    "duration": -1579,
    "start_time": "2021-12-24T21:26:24.145Z"
   },
   {
    "duration": -1579,
    "start_time": "2021-12-24T21:26:24.146Z"
   },
   {
    "duration": -1579,
    "start_time": "2021-12-24T21:26:24.148Z"
   },
   {
    "duration": -1585,
    "start_time": "2021-12-24T21:26:24.155Z"
   },
   {
    "duration": 4,
    "start_time": "2021-12-24T21:27:23.643Z"
   },
   {
    "duration": 5,
    "start_time": "2021-12-24T21:27:23.650Z"
   },
   {
    "duration": 6,
    "start_time": "2021-12-24T21:27:23.658Z"
   },
   {
    "duration": 1478,
    "start_time": "2021-12-24T21:27:23.667Z"
   },
   {
    "duration": 497,
    "start_time": "2021-12-24T21:27:25.148Z"
   },
   {
    "duration": 367,
    "start_time": "2021-12-24T21:27:25.647Z"
   },
   {
    "duration": 115,
    "start_time": "2021-12-24T21:27:26.016Z"
   },
   {
    "duration": 168,
    "start_time": "2021-12-24T21:27:26.134Z"
   },
   {
    "duration": 14,
    "start_time": "2021-12-24T21:27:26.306Z"
   },
   {
    "duration": 4,
    "start_time": "2021-12-24T21:27:26.322Z"
   },
   {
    "duration": 34,
    "start_time": "2021-12-24T21:27:26.328Z"
   },
   {
    "duration": 658,
    "start_time": "2021-12-24T21:27:26.365Z"
   },
   {
    "duration": 4,
    "start_time": "2021-12-24T21:27:27.025Z"
   },
   {
    "duration": 706,
    "start_time": "2021-12-24T21:27:27.031Z"
   },
   {
    "duration": 867,
    "start_time": "2021-12-24T21:27:27.739Z"
   },
   {
    "duration": 4,
    "start_time": "2021-12-24T21:27:28.609Z"
   },
   {
    "duration": 371,
    "start_time": "2021-12-24T21:27:28.616Z"
   },
   {
    "duration": 338,
    "start_time": "2021-12-24T21:27:28.990Z"
   },
   {
    "duration": 1303,
    "start_time": "2021-12-24T21:27:29.330Z"
   },
   {
    "duration": 39345,
    "start_time": "2021-12-24T21:27:30.636Z"
   },
   {
    "duration": -1606,
    "start_time": "2021-12-24T21:28:11.590Z"
   },
   {
    "duration": -1606,
    "start_time": "2021-12-24T21:28:11.592Z"
   },
   {
    "duration": -1606,
    "start_time": "2021-12-24T21:28:11.593Z"
   },
   {
    "duration": -1605,
    "start_time": "2021-12-24T21:28:11.594Z"
   },
   {
    "duration": 39437,
    "start_time": "2021-12-24T21:29:10.398Z"
   },
   {
    "duration": 41298,
    "start_time": "2021-12-24T21:30:15.598Z"
   },
   {
    "duration": 41432,
    "start_time": "2021-12-24T21:31:29.963Z"
   },
   {
    "duration": 51935,
    "start_time": "2021-12-24T21:32:30.796Z"
   },
   {
    "duration": 41385,
    "start_time": "2021-12-24T21:33:55.277Z"
   },
   {
    "duration": 290,
    "start_time": "2021-12-24T21:38:05.867Z"
   },
   {
    "duration": 309,
    "start_time": "2021-12-24T21:38:14.351Z"
   },
   {
    "duration": 287,
    "start_time": "2021-12-24T21:39:25.817Z"
   },
   {
    "duration": 3,
    "start_time": "2021-12-24T21:39:43.157Z"
   },
   {
    "duration": 6,
    "start_time": "2021-12-24T21:39:51.934Z"
   },
   {
    "duration": 7,
    "start_time": "2021-12-24T21:42:16.790Z"
   },
   {
    "duration": 46947,
    "start_time": "2021-12-24T21:43:09.300Z"
   },
   {
    "duration": 49519,
    "start_time": "2021-12-24T21:45:03.584Z"
   },
   {
    "duration": 48779,
    "start_time": "2021-12-24T21:46:19.872Z"
   },
   {
    "duration": 50314,
    "start_time": "2021-12-24T21:47:42.021Z"
   },
   {
    "duration": 307,
    "start_time": "2021-12-24T21:54:00.577Z"
   },
   {
    "duration": 46165,
    "start_time": "2021-12-24T21:56:10.328Z"
   },
   {
    "duration": 4,
    "start_time": "2021-12-24T21:58:04.272Z"
   },
   {
    "duration": 5,
    "start_time": "2021-12-24T21:58:20.668Z"
   },
   {
    "duration": 292,
    "start_time": "2021-12-24T21:58:46.089Z"
   },
   {
    "duration": 5,
    "start_time": "2021-12-24T21:59:18.308Z"
   },
   {
    "duration": 6,
    "start_time": "2021-12-24T21:59:34.775Z"
   },
   {
    "duration": 4,
    "start_time": "2021-12-24T21:59:38.626Z"
   },
   {
    "duration": 6,
    "start_time": "2021-12-24T21:59:38.634Z"
   },
   {
    "duration": 10,
    "start_time": "2021-12-24T21:59:38.643Z"
   },
   {
    "duration": 6,
    "start_time": "2021-12-24T21:59:38.655Z"
   },
   {
    "duration": 505,
    "start_time": "2021-12-24T21:59:38.663Z"
   },
   {
    "duration": 353,
    "start_time": "2021-12-24T21:59:39.173Z"
   },
   {
    "duration": 101,
    "start_time": "2021-12-24T21:59:39.529Z"
   },
   {
    "duration": 172,
    "start_time": "2021-12-24T21:59:39.633Z"
   },
   {
    "duration": 7,
    "start_time": "2021-12-24T21:59:39.808Z"
   },
   {
    "duration": 11,
    "start_time": "2021-12-24T21:59:39.818Z"
   },
   {
    "duration": 9,
    "start_time": "2021-12-24T21:59:39.832Z"
   },
   {
    "duration": 664,
    "start_time": "2021-12-24T21:59:39.843Z"
   },
   {
    "duration": 3,
    "start_time": "2021-12-24T21:59:40.510Z"
   },
   {
    "duration": 673,
    "start_time": "2021-12-24T21:59:40.516Z"
   },
   {
    "duration": 671,
    "start_time": "2021-12-24T21:59:41.192Z"
   },
   {
    "duration": 3,
    "start_time": "2021-12-24T21:59:41.866Z"
   },
   {
    "duration": 344,
    "start_time": "2021-12-24T21:59:41.872Z"
   },
   {
    "duration": 347,
    "start_time": "2021-12-24T21:59:42.219Z"
   },
   {
    "duration": 1907,
    "start_time": "2021-12-24T21:59:42.569Z"
   },
   {
    "duration": 6,
    "start_time": "2021-12-24T21:59:44.479Z"
   },
   {
    "duration": 7,
    "start_time": "2021-12-24T21:59:44.487Z"
   },
   {
    "duration": 8,
    "start_time": "2021-12-24T21:59:44.499Z"
   },
   {
    "duration": 346,
    "start_time": "2021-12-24T21:59:44.511Z"
   },
   {
    "duration": -1657,
    "start_time": "2021-12-24T21:59:46.517Z"
   },
   {
    "duration": 6,
    "start_time": "2021-12-24T22:00:58.371Z"
   },
   {
    "duration": 5,
    "start_time": "2021-12-24T22:01:14.401Z"
   },
   {
    "duration": 5,
    "start_time": "2021-12-24T22:01:14.408Z"
   },
   {
    "duration": 5,
    "start_time": "2021-12-24T22:01:14.416Z"
   },
   {
    "duration": 6,
    "start_time": "2021-12-24T22:01:14.424Z"
   },
   {
    "duration": 522,
    "start_time": "2021-12-24T22:01:14.433Z"
   },
   {
    "duration": 377,
    "start_time": "2021-12-24T22:01:14.958Z"
   },
   {
    "duration": 120,
    "start_time": "2021-12-24T22:01:15.339Z"
   },
   {
    "duration": 167,
    "start_time": "2021-12-24T22:01:15.463Z"
   },
   {
    "duration": 7,
    "start_time": "2021-12-24T22:01:15.636Z"
   },
   {
    "duration": 18,
    "start_time": "2021-12-24T22:01:15.646Z"
   },
   {
    "duration": 8,
    "start_time": "2021-12-24T22:01:15.666Z"
   },
   {
    "duration": 656,
    "start_time": "2021-12-24T22:01:15.677Z"
   },
   {
    "duration": 3,
    "start_time": "2021-12-24T22:01:16.336Z"
   },
   {
    "duration": 675,
    "start_time": "2021-12-24T22:01:16.342Z"
   },
   {
    "duration": 807,
    "start_time": "2021-12-24T22:01:17.020Z"
   },
   {
    "duration": 4,
    "start_time": "2021-12-24T22:01:17.830Z"
   },
   {
    "duration": 349,
    "start_time": "2021-12-24T22:01:17.836Z"
   },
   {
    "duration": 344,
    "start_time": "2021-12-24T22:01:18.187Z"
   },
   {
    "duration": 1228,
    "start_time": "2021-12-24T22:01:18.533Z"
   },
   {
    "duration": 7,
    "start_time": "2021-12-24T22:01:19.763Z"
   },
   {
    "duration": 7,
    "start_time": "2021-12-24T22:01:19.772Z"
   },
   {
    "duration": 7,
    "start_time": "2021-12-24T22:01:19.782Z"
   },
   {
    "duration": 366,
    "start_time": "2021-12-24T22:01:19.792Z"
   },
   {
    "duration": -1658,
    "start_time": "2021-12-24T22:01:21.819Z"
   },
   {
    "duration": 6,
    "start_time": "2021-12-24T22:01:41.746Z"
   },
   {
    "duration": 44764,
    "start_time": "2021-12-24T22:02:04.071Z"
   },
   {
    "duration": 44407,
    "start_time": "2021-12-24T22:05:03.788Z"
   },
   {
    "duration": 4,
    "start_time": "2021-12-25T11:14:50.768Z"
   },
   {
    "duration": 6,
    "start_time": "2021-12-25T11:14:50.775Z"
   },
   {
    "duration": 7,
    "start_time": "2021-12-25T11:14:50.784Z"
   },
   {
    "duration": 1604,
    "start_time": "2021-12-25T11:14:50.794Z"
   },
   {
    "duration": 479,
    "start_time": "2021-12-25T11:14:52.401Z"
   },
   {
    "duration": 362,
    "start_time": "2021-12-25T11:14:52.883Z"
   },
   {
    "duration": 108,
    "start_time": "2021-12-25T11:14:53.248Z"
   },
   {
    "duration": 158,
    "start_time": "2021-12-25T11:14:53.363Z"
   },
   {
    "duration": 14,
    "start_time": "2021-12-25T11:14:53.525Z"
   },
   {
    "duration": 3,
    "start_time": "2021-12-25T11:14:53.542Z"
   },
   {
    "duration": 10,
    "start_time": "2021-12-25T11:14:53.563Z"
   },
   {
    "duration": 653,
    "start_time": "2021-12-25T11:14:53.575Z"
   },
   {
    "duration": 4,
    "start_time": "2021-12-25T11:14:54.231Z"
   },
   {
    "duration": 676,
    "start_time": "2021-12-25T11:14:54.238Z"
   },
   {
    "duration": 671,
    "start_time": "2021-12-25T11:14:54.916Z"
   },
   {
    "duration": 3,
    "start_time": "2021-12-25T11:14:55.589Z"
   },
   {
    "duration": 343,
    "start_time": "2021-12-25T11:14:55.595Z"
   },
   {
    "duration": 334,
    "start_time": "2021-12-25T11:14:55.941Z"
   },
   {
    "duration": 1271,
    "start_time": "2021-12-25T11:14:56.278Z"
   },
   {
    "duration": 42539,
    "start_time": "2021-12-25T11:14:57.553Z"
   },
   {
    "duration": -1440,
    "start_time": "2021-12-25T11:15:41.535Z"
   },
   {
    "duration": -1441,
    "start_time": "2021-12-25T11:15:41.537Z"
   },
   {
    "duration": -1440,
    "start_time": "2021-12-25T11:15:41.538Z"
   },
   {
    "duration": -1444,
    "start_time": "2021-12-25T11:15:41.543Z"
   },
   {
    "duration": 42534,
    "start_time": "2021-12-25T11:19:36.422Z"
   },
   {
    "duration": 3,
    "start_time": "2021-12-25T15:28:56.741Z"
   },
   {
    "duration": 6,
    "start_time": "2021-12-25T15:28:56.746Z"
   },
   {
    "duration": 4,
    "start_time": "2021-12-25T15:28:56.755Z"
   },
   {
    "duration": 6,
    "start_time": "2021-12-25T15:28:56.763Z"
   },
   {
    "duration": 474,
    "start_time": "2021-12-25T15:28:56.771Z"
   },
   {
    "duration": 348,
    "start_time": "2021-12-25T15:28:57.247Z"
   },
   {
    "duration": 113,
    "start_time": "2021-12-25T15:28:57.598Z"
   },
   {
    "duration": 158,
    "start_time": "2021-12-25T15:28:57.715Z"
   },
   {
    "duration": 7,
    "start_time": "2021-12-25T15:28:57.878Z"
   },
   {
    "duration": 10,
    "start_time": "2021-12-25T15:28:57.889Z"
   },
   {
    "duration": 11,
    "start_time": "2021-12-25T15:28:57.902Z"
   },
   {
    "duration": 679,
    "start_time": "2021-12-25T15:28:57.916Z"
   },
   {
    "duration": 3,
    "start_time": "2021-12-25T15:28:58.598Z"
   },
   {
    "duration": 721,
    "start_time": "2021-12-25T15:28:58.604Z"
   },
   {
    "duration": 692,
    "start_time": "2021-12-25T15:28:59.329Z"
   },
   {
    "duration": 4,
    "start_time": "2021-12-25T15:29:00.023Z"
   },
   {
    "duration": 358,
    "start_time": "2021-12-25T15:29:00.030Z"
   },
   {
    "duration": 330,
    "start_time": "2021-12-25T15:29:00.390Z"
   },
   {
    "duration": 1222,
    "start_time": "2021-12-25T15:29:00.722Z"
   },
   {
    "duration": 42,
    "start_time": "2021-12-25T15:29:01.946Z"
   },
   {
    "duration": 5,
    "start_time": "2021-12-25T15:29:01.991Z"
   },
   {
    "duration": 9,
    "start_time": "2021-12-25T15:29:01.998Z"
   },
   {
    "duration": 412,
    "start_time": "2021-12-25T15:29:02.010Z"
   },
   {
    "duration": -965,
    "start_time": "2021-12-25T15:29:03.390Z"
   },
   {
    "duration": 38,
    "start_time": "2021-12-25T15:35:48.295Z"
   },
   {
    "duration": 7122,
    "start_time": "2021-12-25T15:35:51.799Z"
   },
   {
    "duration": 88,
    "start_time": "2021-12-25T18:58:13.089Z"
   },
   {
    "duration": 4,
    "start_time": "2021-12-25T20:25:01.143Z"
   },
   {
    "duration": 22,
    "start_time": "2021-12-25T20:25:01.150Z"
   },
   {
    "duration": 24,
    "start_time": "2021-12-25T20:25:01.175Z"
   },
   {
    "duration": 1492,
    "start_time": "2021-12-25T20:25:01.202Z"
   },
   {
    "duration": 479,
    "start_time": "2021-12-25T20:25:02.697Z"
   },
   {
    "duration": 366,
    "start_time": "2021-12-25T20:25:03.179Z"
   },
   {
    "duration": 113,
    "start_time": "2021-12-25T20:25:03.547Z"
   },
   {
    "duration": 166,
    "start_time": "2021-12-25T20:25:03.666Z"
   },
   {
    "duration": 13,
    "start_time": "2021-12-25T20:25:03.836Z"
   },
   {
    "duration": 16,
    "start_time": "2021-12-25T20:25:03.851Z"
   },
   {
    "duration": 18,
    "start_time": "2021-12-25T20:25:03.869Z"
   },
   {
    "duration": 696,
    "start_time": "2021-12-25T20:25:03.890Z"
   },
   {
    "duration": 3,
    "start_time": "2021-12-25T20:25:04.588Z"
   },
   {
    "duration": 703,
    "start_time": "2021-12-25T20:25:04.594Z"
   },
   {
    "duration": 705,
    "start_time": "2021-12-25T20:25:05.300Z"
   },
   {
    "duration": 3,
    "start_time": "2021-12-25T20:25:06.007Z"
   },
   {
    "duration": 359,
    "start_time": "2021-12-25T20:25:06.013Z"
   },
   {
    "duration": 394,
    "start_time": "2021-12-25T20:25:06.375Z"
   },
   {
    "duration": 1353,
    "start_time": "2021-12-25T20:25:06.772Z"
   },
   {
    "duration": 20,
    "start_time": "2021-12-25T20:25:08.127Z"
   },
   {
    "duration": 21,
    "start_time": "2021-12-25T20:25:08.150Z"
   },
   {
    "duration": 8,
    "start_time": "2021-12-25T20:25:08.173Z"
   },
   {
    "duration": 31,
    "start_time": "2021-12-25T20:25:08.183Z"
   },
   {
    "duration": 6584,
    "start_time": "2021-12-25T20:25:08.216Z"
   },
   {
    "duration": 932,
    "start_time": "2021-12-25T20:25:14.803Z"
   },
   {
    "duration": 282,
    "start_time": "2021-12-25T20:33:38.770Z"
   },
   {
    "duration": 339,
    "start_time": "2021-12-25T20:48:15.111Z"
   },
   {
    "duration": 2517,
    "start_time": "2021-12-25T20:49:00.926Z"
   },
   {
    "duration": 4,
    "start_time": "2021-12-25T21:06:27.013Z"
   },
   {
    "duration": 10,
    "start_time": "2021-12-25T21:06:27.020Z"
   },
   {
    "duration": 5,
    "start_time": "2021-12-25T21:06:27.032Z"
   },
   {
    "duration": 1591,
    "start_time": "2021-12-25T21:06:27.040Z"
   },
   {
    "duration": 533,
    "start_time": "2021-12-25T21:06:28.634Z"
   },
   {
    "duration": 398,
    "start_time": "2021-12-25T21:06:29.169Z"
   },
   {
    "duration": 128,
    "start_time": "2021-12-25T21:06:29.569Z"
   },
   {
    "duration": 159,
    "start_time": "2021-12-25T21:06:29.700Z"
   },
   {
    "duration": 14,
    "start_time": "2021-12-25T21:06:29.864Z"
   },
   {
    "duration": 5,
    "start_time": "2021-12-25T21:06:29.882Z"
   },
   {
    "duration": 13,
    "start_time": "2021-12-25T21:06:29.890Z"
   },
   {
    "duration": 798,
    "start_time": "2021-12-25T21:06:29.906Z"
   },
   {
    "duration": 3,
    "start_time": "2021-12-25T21:06:30.707Z"
   },
   {
    "duration": 751,
    "start_time": "2021-12-25T21:06:30.712Z"
   },
   {
    "duration": 760,
    "start_time": "2021-12-25T21:06:31.469Z"
   },
   {
    "duration": 3,
    "start_time": "2021-12-25T21:06:32.231Z"
   },
   {
    "duration": 390,
    "start_time": "2021-12-25T21:06:32.236Z"
   },
   {
    "duration": 370,
    "start_time": "2021-12-25T21:06:32.629Z"
   },
   {
    "duration": 1393,
    "start_time": "2021-12-25T21:06:33.001Z"
   },
   {
    "duration": 20,
    "start_time": "2021-12-25T21:06:34.397Z"
   },
   {
    "duration": 6,
    "start_time": "2021-12-25T21:06:34.420Z"
   },
   {
    "duration": 48,
    "start_time": "2021-12-25T21:06:34.428Z"
   },
   {
    "duration": 28,
    "start_time": "2021-12-25T21:06:34.480Z"
   },
   {
    "duration": 7425,
    "start_time": "2021-12-25T21:06:34.510Z"
   },
   {
    "duration": 2403,
    "start_time": "2021-12-25T21:06:41.938Z"
   },
   {
    "duration": 8544,
    "start_time": "2021-12-25T21:15:33.320Z"
   },
   {
    "duration": 2166,
    "start_time": "2021-12-25T21:16:09.183Z"
   },
   {
    "duration": 2134,
    "start_time": "2021-12-25T21:17:08.103Z"
   },
   {
    "duration": 1950,
    "start_time": "2021-12-25T21:17:54.391Z"
   },
   {
    "duration": 2102,
    "start_time": "2021-12-25T21:25:46.657Z"
   },
   {
    "duration": 1880,
    "start_time": "2021-12-25T21:26:08.333Z"
   },
   {
    "duration": 3,
    "start_time": "2021-12-25T21:31:38.839Z"
   },
   {
    "duration": 7,
    "start_time": "2021-12-25T21:31:38.845Z"
   },
   {
    "duration": 6,
    "start_time": "2021-12-25T21:31:38.856Z"
   },
   {
    "duration": 7,
    "start_time": "2021-12-25T21:31:38.864Z"
   },
   {
    "duration": 542,
    "start_time": "2021-12-25T21:31:38.874Z"
   },
   {
    "duration": 398,
    "start_time": "2021-12-25T21:31:39.420Z"
   },
   {
    "duration": 117,
    "start_time": "2021-12-25T21:31:39.821Z"
   },
   {
    "duration": 160,
    "start_time": "2021-12-25T21:31:39.941Z"
   },
   {
    "duration": 7,
    "start_time": "2021-12-25T21:31:40.105Z"
   },
   {
    "duration": 3,
    "start_time": "2021-12-25T21:31:40.115Z"
   },
   {
    "duration": 9,
    "start_time": "2021-12-25T21:31:40.120Z"
   },
   {
    "duration": 706,
    "start_time": "2021-12-25T21:31:40.132Z"
   },
   {
    "duration": 3,
    "start_time": "2021-12-25T21:31:40.841Z"
   },
   {
    "duration": 680,
    "start_time": "2021-12-25T21:31:40.847Z"
   },
   {
    "duration": 695,
    "start_time": "2021-12-25T21:31:41.529Z"
   },
   {
    "duration": 3,
    "start_time": "2021-12-25T21:31:42.227Z"
   },
   {
    "duration": 354,
    "start_time": "2021-12-25T21:31:42.233Z"
   },
   {
    "duration": 355,
    "start_time": "2021-12-25T21:31:42.591Z"
   },
   {
    "duration": 1221,
    "start_time": "2021-12-25T21:31:42.949Z"
   },
   {
    "duration": 21,
    "start_time": "2021-12-25T21:31:44.173Z"
   },
   {
    "duration": 5,
    "start_time": "2021-12-25T21:31:44.196Z"
   },
   {
    "duration": 9,
    "start_time": "2021-12-25T21:31:44.205Z"
   },
   {
    "duration": 62,
    "start_time": "2021-12-25T21:31:44.216Z"
   },
   {
    "duration": 6674,
    "start_time": "2021-12-25T21:31:44.280Z"
   },
   {
    "duration": 99,
    "start_time": "2021-12-25T21:31:50.958Z"
   },
   {
    "duration": -1228,
    "start_time": "2021-12-25T21:31:52.288Z"
   },
   {
    "duration": 3,
    "start_time": "2021-12-25T21:31:59.730Z"
   },
   {
    "duration": 5,
    "start_time": "2021-12-25T21:31:59.736Z"
   },
   {
    "duration": 6,
    "start_time": "2021-12-25T21:31:59.744Z"
   },
   {
    "duration": 5,
    "start_time": "2021-12-25T21:31:59.753Z"
   },
   {
    "duration": 506,
    "start_time": "2021-12-25T21:31:59.761Z"
   },
   {
    "duration": 353,
    "start_time": "2021-12-25T21:32:00.270Z"
   },
   {
    "duration": 100,
    "start_time": "2021-12-25T21:32:00.625Z"
   },
   {
    "duration": 153,
    "start_time": "2021-12-25T21:32:00.729Z"
   },
   {
    "duration": 7,
    "start_time": "2021-12-25T21:32:00.886Z"
   },
   {
    "duration": 10,
    "start_time": "2021-12-25T21:32:00.896Z"
   },
   {
    "duration": 21,
    "start_time": "2021-12-25T21:32:00.908Z"
   },
   {
    "duration": 680,
    "start_time": "2021-12-25T21:32:00.931Z"
   },
   {
    "duration": 4,
    "start_time": "2021-12-25T21:32:01.613Z"
   },
   {
    "duration": 699,
    "start_time": "2021-12-25T21:32:01.619Z"
   },
   {
    "duration": 688,
    "start_time": "2021-12-25T21:32:02.321Z"
   },
   {
    "duration": 3,
    "start_time": "2021-12-25T21:32:03.012Z"
   },
   {
    "duration": 445,
    "start_time": "2021-12-25T21:32:03.017Z"
   },
   {
    "duration": 326,
    "start_time": "2021-12-25T21:32:03.467Z"
   },
   {
    "duration": 1207,
    "start_time": "2021-12-25T21:32:03.796Z"
   },
   {
    "duration": 21,
    "start_time": "2021-12-25T21:32:05.006Z"
   },
   {
    "duration": 5,
    "start_time": "2021-12-25T21:32:05.030Z"
   },
   {
    "duration": 33,
    "start_time": "2021-12-25T21:32:05.039Z"
   },
   {
    "duration": 44,
    "start_time": "2021-12-25T21:32:05.075Z"
   },
   {
    "duration": 7005,
    "start_time": "2021-12-25T21:32:05.121Z"
   },
   {
    "duration": 2770,
    "start_time": "2021-12-25T21:32:12.129Z"
   },
   {
    "duration": 3004,
    "start_time": "2021-12-25T21:33:37.551Z"
   },
   {
    "duration": 1440,
    "start_time": "2021-12-26T07:32:52.391Z"
   },
   {
    "duration": 454,
    "start_time": "2021-12-26T07:32:53.833Z"
   },
   {
    "duration": 553,
    "start_time": "2021-12-26T07:32:54.290Z"
   },
   {
    "duration": 98,
    "start_time": "2021-12-26T07:32:54.846Z"
   },
   {
    "duration": 149,
    "start_time": "2021-12-26T07:32:54.946Z"
   },
   {
    "duration": 13,
    "start_time": "2021-12-26T07:32:56.025Z"
   },
   {
    "duration": 3,
    "start_time": "2021-12-26T07:32:56.200Z"
   },
   {
    "duration": 10,
    "start_time": "2021-12-26T07:32:56.630Z"
   },
   {
    "duration": 614,
    "start_time": "2021-12-26T07:32:58.573Z"
   },
   {
    "duration": 3,
    "start_time": "2021-12-26T07:32:59.190Z"
   },
   {
    "duration": 636,
    "start_time": "2021-12-26T07:32:59.196Z"
   },
   {
    "duration": 706,
    "start_time": "2021-12-26T07:32:59.834Z"
   },
   {
    "duration": 3,
    "start_time": "2021-12-26T07:33:00.542Z"
   },
   {
    "duration": 331,
    "start_time": "2021-12-26T07:33:00.549Z"
   },
   {
    "duration": 310,
    "start_time": "2021-12-26T07:33:00.883Z"
   },
   {
    "duration": 1219,
    "start_time": "2021-12-26T07:33:02.843Z"
   },
   {
    "duration": 19,
    "start_time": "2021-12-26T07:33:04.065Z"
   },
   {
    "duration": 7,
    "start_time": "2021-12-26T07:33:04.172Z"
   },
   {
    "duration": 7,
    "start_time": "2021-12-26T07:33:05.519Z"
   },
   {
    "duration": 21,
    "start_time": "2021-12-26T07:33:11.386Z"
   },
   {
    "duration": 6,
    "start_time": "2021-12-26T07:33:43.294Z"
   },
   {
    "duration": 15,
    "start_time": "2021-12-26T07:34:03.971Z"
   },
   {
    "duration": 14,
    "start_time": "2021-12-26T07:43:20.615Z"
   },
   {
    "duration": 13,
    "start_time": "2021-12-26T07:44:40.996Z"
   },
   {
    "duration": 576,
    "start_time": "2021-12-26T07:44:45.068Z"
   },
   {
    "duration": 388,
    "start_time": "2021-12-26T07:45:42.773Z"
   },
   {
    "duration": 11,
    "start_time": "2021-12-26T07:46:07.520Z"
   },
   {
    "duration": 2464,
    "start_time": "2021-12-26T07:46:12.781Z"
   },
   {
    "duration": 12,
    "start_time": "2021-12-26T07:47:42.293Z"
   },
   {
    "duration": 12,
    "start_time": "2021-12-26T07:47:52.033Z"
   },
   {
    "duration": 10,
    "start_time": "2021-12-26T07:47:59.657Z"
   },
   {
    "duration": 11,
    "start_time": "2021-12-26T07:48:08.018Z"
   },
   {
    "duration": 2451,
    "start_time": "2021-12-26T07:50:42.903Z"
   },
   {
    "duration": 1571,
    "start_time": "2021-12-26T07:52:00.763Z"
   },
   {
    "duration": 1617,
    "start_time": "2021-12-26T07:57:05.991Z"
   },
   {
    "duration": 4,
    "start_time": "2021-12-26T08:00:37.714Z"
   },
   {
    "duration": 4,
    "start_time": "2021-12-26T08:23:48.181Z"
   },
   {
    "duration": 5,
    "start_time": "2021-12-26T08:23:48.186Z"
   },
   {
    "duration": 5,
    "start_time": "2021-12-26T08:23:48.193Z"
   },
   {
    "duration": 1105,
    "start_time": "2021-12-26T08:23:48.200Z"
   },
   {
    "duration": 359,
    "start_time": "2021-12-26T08:23:49.306Z"
   },
   {
    "duration": 268,
    "start_time": "2021-12-26T08:23:49.667Z"
   },
   {
    "duration": 84,
    "start_time": "2021-12-26T08:23:49.937Z"
   },
   {
    "duration": 92,
    "start_time": "2021-12-26T08:23:50.024Z"
   },
   {
    "duration": 6,
    "start_time": "2021-12-26T08:23:50.118Z"
   },
   {
    "duration": 3,
    "start_time": "2021-12-26T08:23:50.125Z"
   },
   {
    "duration": 10,
    "start_time": "2021-12-26T08:23:50.130Z"
   },
   {
    "duration": 444,
    "start_time": "2021-12-26T08:23:50.142Z"
   },
   {
    "duration": 3,
    "start_time": "2021-12-26T08:23:50.591Z"
   },
   {
    "duration": 438,
    "start_time": "2021-12-26T08:23:50.595Z"
   },
   {
    "duration": 450,
    "start_time": "2021-12-26T08:23:51.034Z"
   },
   {
    "duration": 2,
    "start_time": "2021-12-26T08:23:51.485Z"
   },
   {
    "duration": 216,
    "start_time": "2021-12-26T08:23:51.491Z"
   },
   {
    "duration": 208,
    "start_time": "2021-12-26T08:23:51.709Z"
   },
   {
    "duration": 829,
    "start_time": "2021-12-26T08:23:51.918Z"
   },
   {
    "duration": 13,
    "start_time": "2021-12-26T08:23:52.749Z"
   },
   {
    "duration": 4,
    "start_time": "2021-12-26T08:23:52.763Z"
   },
   {
    "duration": 5,
    "start_time": "2021-12-26T08:23:52.768Z"
   },
   {
    "duration": 17,
    "start_time": "2021-12-26T08:23:52.792Z"
   },
   {
    "duration": 3,
    "start_time": "2021-12-26T08:23:52.811Z"
   },
   {
    "duration": 282,
    "start_time": "2021-12-26T08:23:52.816Z"
   },
   {
    "duration": -845,
    "start_time": "2021-12-26T08:23:53.945Z"
   },
   {
    "duration": -845,
    "start_time": "2021-12-26T08:23:53.946Z"
   },
   {
    "duration": -857,
    "start_time": "2021-12-26T08:23:53.958Z"
   },
   {
    "duration": -858,
    "start_time": "2021-12-26T08:23:53.960Z"
   },
   {
    "duration": -859,
    "start_time": "2021-12-26T08:23:53.962Z"
   },
   {
    "duration": 10,
    "start_time": "2021-12-26T08:27:55.033Z"
   },
   {
    "duration": 10,
    "start_time": "2021-12-26T08:27:58.355Z"
   },
   {
    "duration": 4,
    "start_time": "2021-12-26T08:27:58.733Z"
   },
   {
    "duration": 4,
    "start_time": "2021-12-26T08:28:08.978Z"
   },
   {
    "duration": 3558,
    "start_time": "2021-12-26T08:28:20.998Z"
   },
   {
    "duration": 5,
    "start_time": "2021-12-26T08:29:19.366Z"
   },
   {
    "duration": 64,
    "start_time": "2021-12-26T08:30:35.954Z"
   },
   {
    "duration": 60,
    "start_time": "2021-12-26T08:31:44.445Z"
   },
   {
    "duration": 65,
    "start_time": "2021-12-26T08:33:52.297Z"
   },
   {
    "duration": 1058,
    "start_time": "2021-12-26T08:34:05.410Z"
   },
   {
    "duration": 1058,
    "start_time": "2021-12-26T08:36:55.317Z"
   },
   {
    "duration": 1076,
    "start_time": "2021-12-26T08:37:24.487Z"
   },
   {
    "duration": 1199,
    "start_time": "2021-12-26T08:37:47.176Z"
   },
   {
    "duration": 1056,
    "start_time": "2021-12-26T08:38:15.970Z"
   },
   {
    "duration": 1086,
    "start_time": "2021-12-26T08:39:20.953Z"
   },
   {
    "duration": 1094,
    "start_time": "2021-12-26T08:39:57.089Z"
   },
   {
    "duration": 1371,
    "start_time": "2021-12-26T08:42:07.476Z"
   },
   {
    "duration": 1098,
    "start_time": "2021-12-26T08:44:04.577Z"
   },
   {
    "duration": 1093,
    "start_time": "2021-12-26T08:44:38.277Z"
   },
   {
    "duration": 1128,
    "start_time": "2021-12-26T08:44:59.490Z"
   },
   {
    "duration": 1079,
    "start_time": "2021-12-26T08:45:12.800Z"
   },
   {
    "duration": 1084,
    "start_time": "2021-12-26T08:45:25.042Z"
   },
   {
    "duration": 1191,
    "start_time": "2021-12-26T08:45:56.931Z"
   },
   {
    "duration": 1191,
    "start_time": "2021-12-26T08:46:17.977Z"
   },
   {
    "duration": 1064,
    "start_time": "2021-12-26T08:46:36.184Z"
   },
   {
    "duration": 74095,
    "start_time": "2021-12-26T10:16:03.910Z"
   },
   {
    "duration": 75311,
    "start_time": "2021-12-26T10:18:43.206Z"
   },
   {
    "duration": 1171,
    "start_time": "2021-12-27T00:39:06.965Z"
   },
   {
    "duration": 2458,
    "start_time": "2021-12-27T00:39:08.138Z"
   },
   {
    "duration": 1571,
    "start_time": "2021-12-27T00:39:10.598Z"
   },
   {
    "duration": 489,
    "start_time": "2021-12-27T00:39:12.171Z"
   },
   {
    "duration": 84,
    "start_time": "2021-12-27T00:39:12.662Z"
   },
   {
    "duration": 6,
    "start_time": "2021-12-27T00:39:12.748Z"
   },
   {
    "duration": 3,
    "start_time": "2021-12-27T00:39:12.755Z"
   },
   {
    "duration": 7,
    "start_time": "2021-12-27T00:39:12.761Z"
   },
   {
    "duration": 432,
    "start_time": "2021-12-27T00:39:12.881Z"
   },
   {
    "duration": 2,
    "start_time": "2021-12-27T00:39:13.315Z"
   },
   {
    "duration": 445,
    "start_time": "2021-12-27T00:39:13.319Z"
   },
   {
    "duration": 455,
    "start_time": "2021-12-27T00:39:13.766Z"
   },
   {
    "duration": 2,
    "start_time": "2021-12-27T00:39:14.223Z"
   },
   {
    "duration": 211,
    "start_time": "2021-12-27T00:39:14.751Z"
   },
   {
    "duration": 221,
    "start_time": "2021-12-27T00:39:14.965Z"
   },
   {
    "duration": 830,
    "start_time": "2021-12-27T00:39:15.774Z"
   },
   {
    "duration": 14,
    "start_time": "2021-12-27T00:39:17.071Z"
   },
   {
    "duration": 4,
    "start_time": "2021-12-27T00:39:17.385Z"
   },
   {
    "duration": 5,
    "start_time": "2021-12-27T00:39:18.451Z"
   },
   {
    "duration": 20,
    "start_time": "2021-12-27T00:39:28.684Z"
   },
   {
    "duration": 4,
    "start_time": "2021-12-27T00:39:29.174Z"
   },
   {
    "duration": 10,
    "start_time": "2021-12-27T00:39:30.281Z"
   },
   {
    "duration": 12,
    "start_time": "2021-12-27T00:39:31.212Z"
   },
   {
    "duration": 4,
    "start_time": "2021-12-27T00:39:32.329Z"
   },
   {
    "duration": 4,
    "start_time": "2021-12-27T00:39:33.279Z"
   },
   {
    "duration": 3379,
    "start_time": "2021-12-27T00:39:33.959Z"
   },
   {
    "duration": 3293,
    "start_time": "2021-12-27T00:40:24.580Z"
   },
   {
    "duration": 3,
    "start_time": "2021-12-27T00:42:30.812Z"
   },
   {
    "duration": 711,
    "start_time": "2021-12-27T00:42:31.790Z"
   },
   {
    "duration": 6,
    "start_time": "2021-12-27T00:43:09.117Z"
   },
   {
    "duration": 3289,
    "start_time": "2021-12-27T00:43:14.267Z"
   },
   {
    "duration": 208,
    "start_time": "2021-12-27T00:43:45.648Z"
   },
   {
    "duration": 4,
    "start_time": "2021-12-27T00:43:49.027Z"
   },
   {
    "duration": 602,
    "start_time": "2021-12-27T00:43:52.291Z"
   },
   {
    "duration": 67,
    "start_time": "2021-12-27T00:44:29.198Z"
   },
   {
    "duration": 3,
    "start_time": "2021-12-27T00:44:35.538Z"
   },
   {
    "duration": 2068,
    "start_time": "2021-12-27T00:44:43.593Z"
   },
   {
    "duration": 67524,
    "start_time": "2021-12-27T00:45:35.469Z"
   },
   {
    "duration": 173,
    "start_time": "2021-12-27T00:51:25.128Z"
   },
   {
    "duration": 6,
    "start_time": "2021-12-27T00:52:50.672Z"
   },
   {
    "duration": 5,
    "start_time": "2021-12-27T10:30:50.036Z"
   },
   {
    "duration": 7,
    "start_time": "2021-12-27T10:30:50.044Z"
   },
   {
    "duration": 5,
    "start_time": "2021-12-27T10:30:50.055Z"
   },
   {
    "duration": 1535,
    "start_time": "2021-12-27T10:30:50.062Z"
   },
   {
    "duration": 467,
    "start_time": "2021-12-27T10:30:51.600Z"
   },
   {
    "duration": 350,
    "start_time": "2021-12-27T10:30:52.070Z"
   },
   {
    "duration": 107,
    "start_time": "2021-12-27T10:30:52.422Z"
   },
   {
    "duration": 159,
    "start_time": "2021-12-27T10:30:52.532Z"
   },
   {
    "duration": 14,
    "start_time": "2021-12-27T10:30:52.695Z"
   },
   {
    "duration": 3,
    "start_time": "2021-12-27T10:30:52.712Z"
   },
   {
    "duration": 12,
    "start_time": "2021-12-27T10:30:52.717Z"
   },
   {
    "duration": 659,
    "start_time": "2021-12-27T10:30:52.731Z"
   },
   {
    "duration": 4,
    "start_time": "2021-12-27T10:30:53.392Z"
   },
   {
    "duration": 786,
    "start_time": "2021-12-27T10:30:53.398Z"
   },
   {
    "duration": 768,
    "start_time": "2021-12-27T10:30:54.188Z"
   },
   {
    "duration": 3,
    "start_time": "2021-12-27T10:30:54.964Z"
   },
   {
    "duration": 557,
    "start_time": "2021-12-27T10:30:54.970Z"
   },
   {
    "duration": 508,
    "start_time": "2021-12-27T10:30:55.531Z"
   },
   {
    "duration": 555,
    "start_time": "2021-12-27T10:30:56.041Z"
   },
   {
    "duration": 1448,
    "start_time": "2021-12-27T10:30:56.599Z"
   },
   {
    "duration": 27,
    "start_time": "2021-12-27T10:30:58.050Z"
   },
   {
    "duration": 6,
    "start_time": "2021-12-27T10:30:58.079Z"
   },
   {
    "duration": 10,
    "start_time": "2021-12-27T10:30:58.087Z"
   },
   {
    "duration": 28,
    "start_time": "2021-12-27T10:30:58.099Z"
   },
   {
    "duration": 33,
    "start_time": "2021-12-27T10:30:58.130Z"
   },
   {
    "duration": 13,
    "start_time": "2021-12-27T10:30:58.165Z"
   },
   {
    "duration": 14,
    "start_time": "2021-12-27T10:30:58.183Z"
   },
   {
    "duration": 6,
    "start_time": "2021-12-27T10:30:58.200Z"
   },
   {
    "duration": 7,
    "start_time": "2021-12-27T10:30:58.209Z"
   },
   {
    "duration": 50,
    "start_time": "2021-12-27T10:30:58.219Z"
   },
   {
    "duration": 7078,
    "start_time": "2021-12-27T10:30:58.272Z"
   },
   {
    "duration": 718,
    "start_time": "2021-12-27T10:31:05.352Z"
   },
   {
    "duration": 107,
    "start_time": "2021-12-27T10:31:06.073Z"
   },
   {
    "duration": 21,
    "start_time": "2021-12-27T10:31:06.161Z"
   },
   {
    "duration": 20,
    "start_time": "2021-12-27T10:31:06.163Z"
   },
   {
    "duration": 592,
    "start_time": "2021-12-27T10:40:22.791Z"
   },
   {
    "duration": 555,
    "start_time": "2021-12-27T10:47:47.734Z"
   },
   {
    "duration": 4,
    "start_time": "2021-12-27T11:06:48.635Z"
   },
   {
    "duration": 4,
    "start_time": "2021-12-27T11:06:48.643Z"
   },
   {
    "duration": 4,
    "start_time": "2021-12-27T11:06:48.651Z"
   },
   {
    "duration": 6,
    "start_time": "2021-12-27T11:06:48.659Z"
   },
   {
    "duration": 527,
    "start_time": "2021-12-27T11:06:48.668Z"
   },
   {
    "duration": 420,
    "start_time": "2021-12-27T11:06:49.200Z"
   },
   {
    "duration": 139,
    "start_time": "2021-12-27T11:06:49.623Z"
   },
   {
    "duration": 241,
    "start_time": "2021-12-27T11:06:49.767Z"
   },
   {
    "duration": 11,
    "start_time": "2021-12-27T11:06:50.014Z"
   },
   {
    "duration": 4,
    "start_time": "2021-12-27T11:06:50.030Z"
   },
   {
    "duration": 34,
    "start_time": "2021-12-27T11:06:50.037Z"
   },
   {
    "duration": 8,
    "start_time": "2021-12-27T11:06:50.074Z"
   },
   {
    "duration": 5,
    "start_time": "2021-12-27T11:06:50.086Z"
   },
   {
    "duration": 4,
    "start_time": "2021-12-27T11:06:50.094Z"
   },
   {
    "duration": 4,
    "start_time": "2021-12-27T11:06:50.102Z"
   },
   {
    "duration": 5,
    "start_time": "2021-12-27T11:06:50.110Z"
   },
   {
    "duration": 792,
    "start_time": "2021-12-27T11:06:50.163Z"
   },
   {
    "duration": 757,
    "start_time": "2021-12-27T11:06:50.958Z"
   },
   {
    "duration": 733,
    "start_time": "2021-12-27T11:06:51.718Z"
   },
   {
    "duration": 608,
    "start_time": "2021-12-27T11:06:52.454Z"
   },
   {
    "duration": 610,
    "start_time": "2021-12-27T11:06:53.065Z"
   },
   {
    "duration": 1903,
    "start_time": "2021-12-27T11:06:53.678Z"
   },
   {
    "duration": 26,
    "start_time": "2021-12-27T11:06:55.584Z"
   },
   {
    "duration": 7,
    "start_time": "2021-12-27T11:06:55.613Z"
   },
   {
    "duration": 52,
    "start_time": "2021-12-27T11:06:55.623Z"
   },
   {
    "duration": 5,
    "start_time": "2021-12-27T11:06:55.678Z"
   },
   {
    "duration": 15,
    "start_time": "2021-12-27T11:06:55.691Z"
   },
   {
    "duration": 55,
    "start_time": "2021-12-27T11:06:55.710Z"
   },
   {
    "duration": 6,
    "start_time": "2021-12-27T11:06:55.768Z"
   },
   {
    "duration": 6,
    "start_time": "2021-12-27T11:06:55.777Z"
   },
   {
    "duration": 7,
    "start_time": "2021-12-27T11:06:55.786Z"
   },
   {
    "duration": 104787,
    "start_time": "2021-12-27T11:06:55.796Z"
   },
   {
    "duration": 5,
    "start_time": "2021-12-27T11:08:40.662Z"
   },
   {
    "duration": 730,
    "start_time": "2021-12-27T11:21:59.639Z"
   },
   {
    "duration": 4,
    "start_time": "2021-12-27T11:22:03.887Z"
   },
   {
    "duration": 5,
    "start_time": "2021-12-27T11:22:03.894Z"
   },
   {
    "duration": 4,
    "start_time": "2021-12-27T11:22:03.903Z"
   },
   {
    "duration": 5,
    "start_time": "2021-12-27T11:22:03.910Z"
   },
   {
    "duration": 522,
    "start_time": "2021-12-27T11:22:03.917Z"
   },
   {
    "duration": 382,
    "start_time": "2021-12-27T11:22:04.441Z"
   },
   {
    "duration": 112,
    "start_time": "2021-12-27T11:22:04.826Z"
   },
   {
    "duration": 166,
    "start_time": "2021-12-27T11:22:04.941Z"
   },
   {
    "duration": 10,
    "start_time": "2021-12-27T11:22:05.113Z"
   },
   {
    "duration": 17,
    "start_time": "2021-12-27T11:22:05.126Z"
   },
   {
    "duration": 20,
    "start_time": "2021-12-27T11:22:05.147Z"
   },
   {
    "duration": 8,
    "start_time": "2021-12-27T11:22:05.170Z"
   },
   {
    "duration": 15,
    "start_time": "2021-12-27T11:22:05.181Z"
   },
   {
    "duration": 14,
    "start_time": "2021-12-27T11:22:05.199Z"
   },
   {
    "duration": 17,
    "start_time": "2021-12-27T11:22:05.216Z"
   },
   {
    "duration": 11,
    "start_time": "2021-12-27T11:22:05.236Z"
   },
   {
    "duration": 577,
    "start_time": "2021-12-27T11:22:05.250Z"
   },
   {
    "duration": 695,
    "start_time": "2021-12-27T11:22:05.830Z"
   },
   {
    "duration": 635,
    "start_time": "2021-12-27T11:22:06.528Z"
   },
   {
    "duration": 503,
    "start_time": "2021-12-27T11:22:07.166Z"
   },
   {
    "duration": 714,
    "start_time": "2021-12-27T11:22:07.672Z"
   },
   {
    "duration": 1695,
    "start_time": "2021-12-27T11:22:08.403Z"
   },
   {
    "duration": 21,
    "start_time": "2021-12-27T11:22:10.101Z"
   },
   {
    "duration": 8,
    "start_time": "2021-12-27T11:22:10.124Z"
   },
   {
    "duration": 18,
    "start_time": "2021-12-27T11:22:10.165Z"
   },
   {
    "duration": 5,
    "start_time": "2021-12-27T11:22:10.186Z"
   },
   {
    "duration": 10,
    "start_time": "2021-12-27T11:22:10.194Z"
   },
   {
    "duration": 56,
    "start_time": "2021-12-27T11:22:10.207Z"
   },
   {
    "duration": 5,
    "start_time": "2021-12-27T11:22:10.266Z"
   },
   {
    "duration": 8,
    "start_time": "2021-12-27T11:22:10.274Z"
   },
   {
    "duration": 9,
    "start_time": "2021-12-27T11:22:10.285Z"
   },
   {
    "duration": 4,
    "start_time": "2021-12-27T11:22:10.297Z"
   },
   {
    "duration": 96459,
    "start_time": "2021-12-27T11:22:10.304Z"
   },
   {
    "duration": 10,
    "start_time": "2021-12-27T11:23:46.766Z"
   },
   {
    "duration": 392,
    "start_time": "2021-12-27T11:26:35.377Z"
   },
   {
    "duration": 12,
    "start_time": "2021-12-27T11:27:23.088Z"
   },
   {
    "duration": 14,
    "start_time": "2021-12-27T11:29:15.270Z"
   },
   {
    "duration": 4,
    "start_time": "2021-12-27T11:33:46.540Z"
   },
   {
    "duration": 3,
    "start_time": "2021-12-27T11:33:46.554Z"
   },
   {
    "duration": 5,
    "start_time": "2021-12-27T11:33:46.559Z"
   },
   {
    "duration": 8,
    "start_time": "2021-12-27T11:33:46.568Z"
   },
   {
    "duration": 518,
    "start_time": "2021-12-27T11:33:46.580Z"
   },
   {
    "duration": 413,
    "start_time": "2021-12-27T11:33:47.101Z"
   },
   {
    "duration": 132,
    "start_time": "2021-12-27T11:33:47.517Z"
   },
   {
    "duration": 177,
    "start_time": "2021-12-27T11:33:47.652Z"
   },
   {
    "duration": 7,
    "start_time": "2021-12-27T11:33:47.832Z"
   },
   {
    "duration": 20,
    "start_time": "2021-12-27T11:33:47.843Z"
   },
   {
    "duration": 13,
    "start_time": "2021-12-27T11:33:47.866Z"
   },
   {
    "duration": 3,
    "start_time": "2021-12-27T11:33:47.881Z"
   },
   {
    "duration": 4,
    "start_time": "2021-12-27T11:33:47.887Z"
   },
   {
    "duration": 4,
    "start_time": "2021-12-27T11:33:47.894Z"
   },
   {
    "duration": 5,
    "start_time": "2021-12-27T11:33:47.901Z"
   },
   {
    "duration": 4,
    "start_time": "2021-12-27T11:33:47.909Z"
   },
   {
    "duration": 742,
    "start_time": "2021-12-27T11:33:47.916Z"
   },
   {
    "duration": 601,
    "start_time": "2021-12-27T11:33:48.663Z"
   },
   {
    "duration": 610,
    "start_time": "2021-12-27T11:33:49.267Z"
   },
   {
    "duration": 594,
    "start_time": "2021-12-27T11:33:49.880Z"
   },
   {
    "duration": 507,
    "start_time": "2021-12-27T11:33:50.478Z"
   },
   {
    "duration": 1658,
    "start_time": "2021-12-27T11:33:50.988Z"
   },
   {
    "duration": 32,
    "start_time": "2021-12-27T11:33:52.648Z"
   },
   {
    "duration": 8,
    "start_time": "2021-12-27T11:33:52.683Z"
   },
   {
    "duration": 23,
    "start_time": "2021-12-27T11:33:52.694Z"
   },
   {
    "duration": 6,
    "start_time": "2021-12-27T11:33:52.720Z"
   },
   {
    "duration": 10,
    "start_time": "2021-12-27T11:33:52.768Z"
   },
   {
    "duration": 19,
    "start_time": "2021-12-27T11:33:52.782Z"
   },
   {
    "duration": 7,
    "start_time": "2021-12-27T11:33:52.803Z"
   },
   {
    "duration": 51,
    "start_time": "2021-12-27T11:33:52.812Z"
   },
   {
    "duration": 6,
    "start_time": "2021-12-27T11:33:52.865Z"
   },
   {
    "duration": 9,
    "start_time": "2021-12-27T11:33:52.874Z"
   },
   {
    "duration": 99184,
    "start_time": "2021-12-27T11:33:52.886Z"
   },
   {
    "duration": 89,
    "start_time": "2021-12-27T11:35:32.074Z"
   },
   {
    "duration": 1171,
    "start_time": "2021-12-27T12:33:58.522Z"
   },
   {
    "duration": 443,
    "start_time": "2021-12-27T12:33:59.695Z"
   },
   {
    "duration": 255,
    "start_time": "2021-12-27T12:34:00.141Z"
   },
   {
    "duration": 78,
    "start_time": "2021-12-27T12:34:00.398Z"
   },
   {
    "duration": 87,
    "start_time": "2021-12-27T12:34:00.478Z"
   },
   {
    "duration": 9,
    "start_time": "2021-12-27T12:34:00.591Z"
   },
   {
    "duration": 3,
    "start_time": "2021-12-27T12:34:00.752Z"
   },
   {
    "duration": 6,
    "start_time": "2021-12-27T12:34:01.042Z"
   },
   {
    "duration": 3,
    "start_time": "2021-12-27T12:34:02.439Z"
   },
   {
    "duration": 3,
    "start_time": "2021-12-27T12:34:02.602Z"
   },
   {
    "duration": 2,
    "start_time": "2021-12-27T12:34:02.748Z"
   },
   {
    "duration": 2,
    "start_time": "2021-12-27T12:34:02.903Z"
   },
   {
    "duration": 2,
    "start_time": "2021-12-27T12:34:03.373Z"
   },
   {
    "duration": 304,
    "start_time": "2021-12-27T12:34:03.838Z"
   },
   {
    "duration": 317,
    "start_time": "2021-12-27T12:34:04.144Z"
   },
   {
    "duration": 485,
    "start_time": "2021-12-27T12:34:04.463Z"
   },
   {
    "duration": 448,
    "start_time": "2021-12-27T12:34:04.950Z"
   },
   {
    "duration": 326,
    "start_time": "2021-12-27T12:34:05.401Z"
   },
   {
    "duration": 793,
    "start_time": "2021-12-27T12:34:05.730Z"
   },
   {
    "duration": 13,
    "start_time": "2021-12-27T12:34:06.604Z"
   },
   {
    "duration": 4,
    "start_time": "2021-12-27T12:34:06.767Z"
   },
   {
    "duration": 15,
    "start_time": "2021-12-27T12:34:08.283Z"
   },
   {
    "duration": 4,
    "start_time": "2021-12-27T12:34:08.456Z"
   },
   {
    "duration": 9,
    "start_time": "2021-12-27T12:34:08.794Z"
   },
   {
    "duration": 10,
    "start_time": "2021-12-27T12:34:08.968Z"
   },
   {
    "duration": 4,
    "start_time": "2021-12-27T12:34:09.127Z"
   },
   {
    "duration": 4,
    "start_time": "2021-12-27T12:34:10.282Z"
   },
   {
    "duration": 4,
    "start_time": "2021-12-27T12:34:10.714Z"
   },
   {
    "duration": 329,
    "start_time": "2021-12-27T12:34:39.108Z"
   },
   {
    "duration": 11,
    "start_time": "2021-12-27T12:34:57.740Z"
   },
   {
    "duration": 7,
    "start_time": "2021-12-27T12:35:01.573Z"
   },
   {
    "duration": 6,
    "start_time": "2021-12-27T12:35:20.457Z"
   },
   {
    "duration": 498,
    "start_time": "2021-12-27T12:35:21.441Z"
   },
   {
    "duration": 540,
    "start_time": "2021-12-27T12:35:59.239Z"
   },
   {
    "duration": 4,
    "start_time": "2021-12-27T12:36:16.811Z"
   },
   {
    "duration": 6,
    "start_time": "2021-12-27T12:36:17.723Z"
   },
   {
    "duration": 7,
    "start_time": "2021-12-27T12:36:29.128Z"
   },
   {
    "duration": 9,
    "start_time": "2021-12-27T12:36:56.220Z"
   },
   {
    "duration": 8,
    "start_time": "2021-12-27T12:45:27.611Z"
   },
   {
    "duration": 5,
    "start_time": "2021-12-27T12:47:22.359Z"
   },
   {
    "duration": 7,
    "start_time": "2021-12-27T12:48:34.898Z"
   },
   {
    "duration": 8,
    "start_time": "2021-12-27T12:49:30.145Z"
   },
   {
    "duration": 9,
    "start_time": "2021-12-27T12:50:02.644Z"
   },
   {
    "duration": 8,
    "start_time": "2021-12-27T12:50:09.372Z"
   },
   {
    "duration": 10,
    "start_time": "2021-12-27T12:50:24.090Z"
   },
   {
    "duration": 66875,
    "start_time": "2021-12-27T12:52:08.373Z"
   },
   {
    "duration": 8,
    "start_time": "2021-12-27T12:53:15.250Z"
   },
   {
    "duration": 3,
    "start_time": "2021-12-27T12:54:43.152Z"
   },
   {
    "duration": 4,
    "start_time": "2021-12-27T12:56:03.834Z"
   },
   {
    "duration": 4,
    "start_time": "2021-12-27T12:56:33.711Z"
   },
   {
    "duration": 756,
    "start_time": "2021-12-27T12:56:34.885Z"
   }
  ],
  "kernelspec": {
   "display_name": "Python 3",
   "language": "python",
   "name": "python3"
  },
  "language_info": {
   "codemirror_mode": {
    "name": "ipython",
    "version": 3
   },
   "file_extension": ".py",
   "mimetype": "text/x-python",
   "name": "python",
   "nbconvert_exporter": "python",
   "pygments_lexer": "ipython3",
   "version": "3.8.5"
  },
  "notebookId": "60e54fd3-be5b-4417-983d-e7d35c894a8f",
  "notebookPath": "ds-integrated-2.ipynb",
  "toc": {
   "base_numbering": 1,
   "nav_menu": {},
   "number_sections": true,
   "sideBar": true,
   "skip_h1_title": true,
   "title_cell": "Содержание",
   "title_sidebar": "Contents",
   "toc_cell": true,
   "toc_position": {
    "height": "calc(100% - 180px)",
    "left": "10px",
    "top": "150px",
    "width": "165px"
   },
   "toc_section_display": true,
   "toc_window_display": true
  }
 },
 "nbformat": 4,
 "nbformat_minor": 4
}
